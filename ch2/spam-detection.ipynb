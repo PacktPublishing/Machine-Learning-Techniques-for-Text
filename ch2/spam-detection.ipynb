{
 "cells": [
  {
   "cell_type": "markdown",
   "metadata": {},
   "source": [
    "# <u>Chapter 2</u> - Spam Detection\n",
    "\n",
    "A `spam detector` of a company’s email server does tens, hundreds, or even thousands of checks per day to decide whether an incoming email is spam or not. Without its assistance, irrelevant and possibly dangerous correspondence can flood our inbox. In this exercise, we implement a spam detector from scratch and present various techniques related to natural language processing and text mining:\n",
    "\n",
    "* **Exploratory data analysis**\n",
    "    * Word clouds\n",
    "* **Text preprocessing**\n",
    "    * Tokenization\n",
    "    * Stop words removal\n",
    "    * Stemming\n",
    "    * Lemmatization\n",
    "    * Regular expressions\n",
    "* **Text representations**\n",
    "    * Label encoding\n",
    "    * One-hot encoding\n",
    "    * Token count encoding\n",
    "    * Tf-idf encoding\n",
    "* **Classification**\n",
    "    * Supervised learning\n",
    "    * Creating train and test sets\n",
    "    * Feature engineering\n",
    "    * Overfit vs. Underfit\n",
    "* **Classification algorithms**\n",
    "    * Support Vector Machines\n",
    "    * Naïve Bayes\n",
    "* **Performance**\n",
    "    * Accuracy\n",
    "    * Precision\n",
    "    * Recall\n",
    "    * F-score\n",
    "    * ROC and AUC\n",
    "\n",
    "We will be using a subset of the annotated email corpus found here: <https://spamassassin.apache.org/old/publiccorpus/>"
   ]
  },
  {
   "cell_type": "markdown",
   "metadata": {},
   "source": [
    "For Windows users download and install \"Microsoft C++ Build Tools\" from: https://visualstudio.microsoft.com/visual-cpp-build-tools/"
   ]
  },
  {
   "cell_type": "code",
   "execution_count": 2,
   "metadata": {},
   "outputs": [
    {
     "name": "stdout",
     "output_type": "stream",
     "text": [
      "Requirement already satisfied: matplotlib in c:\\users\\tsouraki\\appdata\\local\\programs\\python\\python39\\lib\\site-packages (3.4.3)\n",
      "Requirement already satisfied: numpy>=1.16 in c:\\users\\tsouraki\\appdata\\local\\programs\\python\\python39\\lib\\site-packages (from matplotlib) (1.20.0)\n",
      "Requirement already satisfied: cycler>=0.10 in c:\\users\\tsouraki\\appdata\\local\\programs\\python\\python39\\lib\\site-packages (from matplotlib) (0.10.0)\n",
      "Requirement already satisfied: python-dateutil>=2.7 in c:\\users\\tsouraki\\appdata\\local\\programs\\python\\python39\\lib\\site-packages (from matplotlib) (2.8.2)\n",
      "Requirement already satisfied: pyparsing>=2.2.1 in c:\\users\\tsouraki\\appdata\\local\\programs\\python\\python39\\lib\\site-packages (from matplotlib) (2.4.7)\n",
      "Requirement already satisfied: kiwisolver>=1.0.1 in c:\\users\\tsouraki\\appdata\\local\\programs\\python\\python39\\lib\\site-packages (from matplotlib) (1.3.2)\n",
      "Requirement already satisfied: pillow>=6.2.0 in c:\\users\\tsouraki\\appdata\\local\\programs\\python\\python39\\lib\\site-packages (from matplotlib) (8.3.2)\n",
      "Requirement already satisfied: six in c:\\users\\tsouraki\\appdata\\local\\programs\\python\\python39\\lib\\site-packages (from cycler>=0.10->matplotlib) (1.15.0)\n",
      "Note: you may need to restart the kernel to use updated packages.\n"
     ]
    },
    {
     "name": "stderr",
     "output_type": "stream",
     "text": [
      "WARNING: You are using pip version 21.2.4; however, version 22.0.3 is available.\n",
      "You should consider upgrading via the 'C:\\Users\\tsouraki\\AppData\\Local\\Programs\\Python\\Python39\\python.exe -m pip install --upgrade pip' command.\n"
     ]
    },
    {
     "name": "stdout",
     "output_type": "stream",
     "text": [
      "Requirement already satisfied: wordcloud in c:\\users\\tsouraki\\appdata\\local\\programs\\python\\python39\\lib\\site-packages (1.8.1)\n",
      "Requirement already satisfied: numpy>=1.6.1 in c:\\users\\tsouraki\\appdata\\local\\programs\\python\\python39\\lib\\site-packages (from wordcloud) (1.20.0)\n",
      "Requirement already satisfied: matplotlib in c:\\users\\tsouraki\\appdata\\local\\programs\\python\\python39\\lib\\site-packages (from wordcloud) (3.4.3)\n",
      "Requirement already satisfied: pillow in c:\\users\\tsouraki\\appdata\\local\\programs\\python\\python39\\lib\\site-packages (from wordcloud) (8.3.2)\n",
      "Requirement already satisfied: pyparsing>=2.2.1 in c:\\users\\tsouraki\\appdata\\local\\programs\\python\\python39\\lib\\site-packages (from matplotlib->wordcloud) (2.4.7)\n",
      "Requirement already satisfied: cycler>=0.10 in c:\\users\\tsouraki\\appdata\\local\\programs\\python\\python39\\lib\\site-packages (from matplotlib->wordcloud) (0.10.0)\n",
      "Requirement already satisfied: kiwisolver>=1.0.1 in c:\\users\\tsouraki\\appdata\\local\\programs\\python\\python39\\lib\\site-packages (from matplotlib->wordcloud) (1.3.2)\n",
      "Requirement already satisfied: python-dateutil>=2.7 in c:\\users\\tsouraki\\appdata\\local\\programs\\python\\python39\\lib\\site-packages (from matplotlib->wordcloud) (2.8.2)\n",
      "Requirement already satisfied: six in c:\\users\\tsouraki\\appdata\\local\\programs\\python\\python39\\lib\\site-packages (from cycler>=0.10->matplotlib->wordcloud) (1.15.0)\n",
      "Note: you may need to restart the kernel to use updated packages.\n"
     ]
    },
    {
     "name": "stderr",
     "output_type": "stream",
     "text": [
      "WARNING: You are using pip version 21.2.4; however, version 22.0.3 is available.\n",
      "You should consider upgrading via the 'C:\\Users\\tsouraki\\AppData\\Local\\Programs\\Python\\Python39\\python.exe -m pip install --upgrade pip' command.\n"
     ]
    },
    {
     "name": "stdout",
     "output_type": "stream",
     "text": [
      "Requirement already satisfied: sklearn in c:\\users\\tsouraki\\appdata\\local\\programs\\python\\python39\\lib\\site-packages (0.0)\n",
      "Requirement already satisfied: scikit-learn in c:\\users\\tsouraki\\appdata\\local\\programs\\python\\python39\\lib\\site-packages (from sklearn) (0.24.2)\n",
      "Requirement already satisfied: joblib>=0.11 in c:\\users\\tsouraki\\appdata\\local\\programs\\python\\python39\\lib\\site-packages (from scikit-learn->sklearn) (1.0.1)\n",
      "Requirement already satisfied: scipy>=0.19.1 in c:\\users\\tsouraki\\appdata\\local\\programs\\python\\python39\\lib\\site-packages (from scikit-learn->sklearn) (1.7.1)\n",
      "Requirement already satisfied: numpy>=1.13.3 in c:\\users\\tsouraki\\appdata\\local\\programs\\python\\python39\\lib\\site-packages (from scikit-learn->sklearn) (1.20.0)\n",
      "Requirement already satisfied: threadpoolctl>=2.0.0 in c:\\users\\tsouraki\\appdata\\local\\programs\\python\\python39\\lib\\site-packages (from scikit-learn->sklearn) (2.2.0)\n",
      "Note: you may need to restart the kernel to use updated packages.\n"
     ]
    },
    {
     "name": "stderr",
     "output_type": "stream",
     "text": [
      "WARNING: You are using pip version 21.2.4; however, version 22.0.3 is available.\n",
      "You should consider upgrading via the 'C:\\Users\\tsouraki\\AppData\\Local\\Programs\\Python\\Python39\\python.exe -m pip install --upgrade pip' command.\n"
     ]
    },
    {
     "name": "stdout",
     "output_type": "stream",
     "text": [
      "Requirement already satisfied: nltk in c:\\users\\tsouraki\\appdata\\local\\programs\\python\\python39\\lib\\site-packages (3.6.2)\n",
      "Requirement already satisfied: tqdm in c:\\users\\tsouraki\\appdata\\local\\programs\\python\\python39\\lib\\site-packages (from nltk) (4.62.2)\n",
      "Requirement already satisfied: joblib in c:\\users\\tsouraki\\appdata\\local\\programs\\python\\python39\\lib\\site-packages (from nltk) (1.0.1)\n",
      "Requirement already satisfied: click in c:\\users\\tsouraki\\appdata\\local\\programs\\python\\python39\\lib\\site-packages (from nltk) (7.1.2)\n",
      "Requirement already satisfied: regex in c:\\users\\tsouraki\\appdata\\local\\programs\\python\\python39\\lib\\site-packages (from nltk) (2021.8.28)\n",
      "Requirement already satisfied: colorama in c:\\users\\tsouraki\\appdata\\local\\programs\\python\\python39\\lib\\site-packages (from tqdm->nltk) (0.4.4)\n",
      "Note: you may need to restart the kernel to use updated packages.\n"
     ]
    },
    {
     "name": "stderr",
     "output_type": "stream",
     "text": [
      "WARNING: You are using pip version 21.2.4; however, version 22.0.3 is available.\n",
      "You should consider upgrading via the 'C:\\Users\\tsouraki\\AppData\\Local\\Programs\\Python\\Python39\\python.exe -m pip install --upgrade pip' command.\n"
     ]
    }
   ],
   "source": [
    "# Install the necessary modules.\n",
    "%pip install matplotlib\n",
    "%pip install wordcloud\n",
    "%pip install sklearn\n",
    "%pip install nltk"
   ]
  },
  {
   "cell_type": "markdown",
   "metadata": {},
   "source": [
    "## Word clouds\n",
    "\n",
    "One possible idea is to examine the corpus and check whether certain words appear more often in each category. Intuitively, those words can serve as a way to separate the two types of emails. An easy way to perform this task is to visualize the body of the message using a technique called `word clouds` (also known as tag clouds). Each word appears with different font sizes according to their frequency in the dataset (recurring words appear larger than infrequent ones). One possible implementation of word clouds in Python is the module `word_cloud`. \n",
    "\n",
    "The image suggests that the most common word in our spam message is *“virus”*."
   ]
  },
  {
   "cell_type": "code",
   "execution_count": 3,
   "metadata": {},
   "outputs": [
    {
     "data": {
      "image/png": "[encoded data removed]",
      "text/plain": [
       "<Figure size 432x288 with 1 Axes>"
      ]
     },
     "metadata": {
      "needs_background": "light"
     },
     "output_type": "display_data"
    }
   ],
   "source": [
    "%matplotlib inline\n",
    "# Import the necessary modules.\n",
    "import matplotlib.pyplot as plt\n",
    "from wordcloud import WordCloud\n",
    "\n",
    "# Read the text from the file spam.txt.\n",
    "text = open('./data/spam.txt').read()\n",
    "\n",
    "# Create and configure the word cloud object.\n",
    "wc = WordCloud(background_color=\"white\", max_words=2000)\n",
    "\n",
    "# Generate the word cloud image from the text.\n",
    "wordcloud = wc.generate(text.lower())\n",
    "\n",
    "# Display the generated image.\n",
    "plt.imshow(wordcloud, interpolation='bilinear')\n",
    "plt.axis(\"off\")\n",
    "plt.show()"
   ]
  },
  {
   "cell_type": "markdown",
   "metadata": {},
   "source": [
    "## Label encoding\n",
    "\n",
    "There are various ways to represent words in machine learning problems; the simplest form is called `label encoding`. For example, consider this quote from Aristotle *\"a friend to all is a friend to none.\"* Using this encoding scheme, we can produce the mapping shown below; a numerical sequence replaces the words in the sentence. E.g., the word *\"friend\"* maps to number *2*. "
   ]
  },
  {
   "cell_type": "code",
   "execution_count": 4,
   "metadata": {},
   "outputs": [
    {
     "name": "stdout",
     "output_type": "stream",
     "text": [
      "[0 2 5 1 3 0 2 5 4]\n"
     ]
    }
   ],
   "source": [
    "from sklearn.preprocessing import LabelEncoder\n",
    "\n",
    "# Create the label encoder and fit it with data.\n",
    "labelencoder = LabelEncoder()\n",
    "labelencoder.fit([\"a\", \"all\", \"friend\", \"is\", \"none\", \"to\"])\n",
    "\n",
    "# Transform an input sentence.\n",
    "x = labelencoder.transform([\"a\", \"friend\", \"to\", \"all\", \"is\", \"a\", \"friend\", \"to\", \"none\"])\n",
    "print(x)"
   ]
  },
  {
   "cell_type": "markdown",
   "metadata": {},
   "source": [
    "## One-hot encoding\n",
    "\n",
    "Another well-known word representation technique is the `one-hot encoding`, which codifies every word as a vector with zeros and ones. Each of the one-hot vectors is unique and identifies a specific word.  Consequently, no two words exist with the same vector. "
   ]
  },
  {
   "cell_type": "code",
   "execution_count": 5,
   "metadata": {},
   "outputs": [
    {
     "name": "stdout",
     "output_type": "stream",
     "text": [
      "[[1. 0. 0. 0. 0. 1. 0. 0. 0.]\n",
      " [0. 0. 0. 1. 0. 0. 0. 0. 0.]\n",
      " [0. 1. 0. 0. 0. 0. 1. 0. 0.]\n",
      " [0. 0. 0. 0. 1. 0. 0. 0. 0.]\n",
      " [0. 0. 0. 0. 0. 0. 0. 0. 1.]\n",
      " [0. 0. 1. 0. 0. 0. 0. 1. 0.]]\n"
     ]
    }
   ],
   "source": [
    "from sklearn.preprocessing import OneHotEncoder\n",
    "\n",
    "# The input.\n",
    "x = [['a'], ['friend'], ['to'], ['all'], ['is'], ['a'], ['friend'], ['to'], ['none']]\n",
    "\n",
    "# Create the one-hot encoder.\n",
    "onehotencoder = OneHotEncoder()\n",
    "\n",
    "# Fit and transform.\n",
    "enc = onehotencoder.fit_transform(x).toarray()  \n",
    "print(enc.T)"
   ]
  },
  {
   "cell_type": "markdown",
   "metadata": {},
   "source": [
    "## Token count encoding\n",
    "\n",
    "The `bag-of-words` (BoW) representation counts the absolute frequency of each word within the input. Next, we create a table to calculate the number of times a word from the vocabulary appears in Aristotle's quote, referred to as the `Term Document Matrix` (TDM). Notice that when no such word is present, the corresponding cell equals *\"0\"*."
   ]
  },
  {
   "cell_type": "code",
   "execution_count": 6,
   "metadata": {},
   "outputs": [
    {
     "name": "stdout",
     "output_type": "stream",
     "text": [
      "{'a': 0, 'friend': 2, 'to': 5, 'all': 1, 'is': 3, 'none': 4}\n"
     ]
    }
   ],
   "source": [
    "from sklearn.feature_extraction.text import CountVectorizer\n",
    "\n",
    "# The input.\n",
    "X = [\"a friend to all is a friend to none\"]\n",
    "\n",
    "# Create the count vectorizer.\n",
    "vectorizer = CountVectorizer(token_pattern='[a-zA-Z]+')\n",
    "\n",
    "# Fit and transform.\n",
    "x = vectorizer.fit_transform(X)\n",
    "print(vectorizer.vocabulary_)"
   ]
  },
  {
   "cell_type": "code",
   "execution_count": 7,
   "metadata": {},
   "outputs": [
    {
     "name": "stdout",
     "output_type": "stream",
     "text": [
      "[2 1 2 1 1 2]\n"
     ]
    }
   ],
   "source": [
    "print(x.toarray()[0])"
   ]
  },
  {
   "cell_type": "markdown",
   "metadata": {},
   "source": [
    "Now use `bigrams` to do the same task."
   ]
  },
  {
   "cell_type": "code",
   "execution_count": 8,
   "metadata": {},
   "outputs": [
    {
     "name": "stdout",
     "output_type": "stream",
     "text": [
      "{'a friend': 0, 'friend to': 2, 'to all': 4, 'all is': 1, 'is a': 3, 'to none': 5}\n"
     ]
    }
   ],
   "source": [
    "from sklearn.feature_extraction.text import CountVectorizer\n",
    "\n",
    "# The input.\n",
    "X = [\"a friend to all is a friend to none\"]\n",
    "\n",
    "# Create the count vectorizer using bi-grams.\n",
    "vectorizer = CountVectorizer(ngram_range=(2,2), token_pattern='[a-zA-Z]+')\n",
    "\n",
    "# Fit and transform.\n",
    "x = vectorizer.fit_transform(X)\n",
    "print(vectorizer.vocabulary_)"
   ]
  },
  {
   "cell_type": "code",
   "execution_count": 9,
   "metadata": {},
   "outputs": [
    {
     "name": "stdout",
     "output_type": "stream",
     "text": [
      "[2 1 2 1 1 1]\n"
     ]
    }
   ],
   "source": [
    "print(x.toarray()[0])"
   ]
  },
  {
   "cell_type": "markdown",
   "metadata": {},
   "source": [
    "## Tf-idf encoding\n",
    "\n",
    "One limitation of the BoW representations is that they do not consider the importance of words inside the corpus. If simply frequency were of prime importance, articles like *\"a\"* or *\"the\"* would provide the most information for a document. Therefore, we need a representation that \"penalizes\" these frequent words. The remedy is the `term frequency-inverse document frequency` (tf-idf) encoding that allows weighing the importance of each word in the text."
   ]
  },
  {
   "cell_type": "code",
   "execution_count": 10,
   "metadata": {},
   "outputs": [
    {
     "name": "stdout",
     "output_type": "stream",
     "text": [
      "[[0.31901032 0.31901032 0.         0.         0.         0.\n",
      "  0.         0.         0.31901032 0.         0.40462414 0.\n",
      "  0.31901032 0.40462414 0.31901032 0.40462414 0.        ]\n",
      " [0.3889911  0.3889911  0.         0.         0.         0.\n",
      "  0.         0.49338588 0.3889911  0.         0.         0.\n",
      "  0.3889911  0.         0.3889911  0.         0.        ]\n",
      " [0.         0.         0.37222485 0.         0.47212003 0.47212003\n",
      "  0.         0.         0.         0.37222485 0.         0.37222485\n",
      "  0.         0.         0.         0.         0.37222485]\n",
      " [0.         0.         0.37222485 0.47212003 0.         0.\n",
      "  0.47212003 0.         0.         0.37222485 0.         0.37222485\n",
      "  0.         0.         0.         0.         0.37222485]]\n"
     ]
    }
   ],
   "source": [
    "from sklearn.feature_extraction.text import TfidfVectorizer\n",
    "\n",
    "# Create a dummy corpus.\n",
    "corpus = [\n",
    "        'We need to meet tomorrow at the cafeteria.',\n",
    "        'Meet me tomorrow at the cafeteria.',\n",
    "        'You have inherited millions of dollars.',\n",
    "        'Millions of dollars just for you.']\n",
    "\n",
    "# Create the tf-idf vectorizer.\n",
    "vectorizer = TfidfVectorizer()\n",
    "\n",
    "# Generate the tf-idf matrix.\n",
    "tfidf = vectorizer.fit_transform(corpus)\n",
    "\n",
    "# Print the result as an array.\n",
    "print(tfidf.toarray())\n"
   ]
  },
  {
   "cell_type": "markdown",
   "metadata": {},
   "source": [
    "In the code below, we calculate the cosine similarity of the tf-idf vectors between the corpus's first and second examples. As expected, the value is high and equal to *0.62*. "
   ]
  },
  {
   "cell_type": "code",
   "execution_count": 11,
   "metadata": {},
   "outputs": [
    {
     "name": "stdout",
     "output_type": "stream",
     "text": [
      "[[0.62046087]]\n"
     ]
    }
   ],
   "source": [
    "from sklearn.metrics.pairwise import cosine_similarity\n",
    "\n",
    "# Convert the matrix to an array.\n",
    "tfidf_array = tfidf.toarray()\n",
    "\n",
    "# Calculate the cosine similarity between the first amd second example.\n",
    "print(cosine_similarity([tfidf_array[0]], [tfidf_array[1]]))"
   ]
  },
  {
   "cell_type": "markdown",
   "metadata": {},
   "source": [
    "We also repeat the same calculation among all tf-idf vectors. This time cosine similarity is *0* between the first and the third example, *0.55* between the third and the fourth, etc."
   ]
  },
  {
   "cell_type": "code",
   "execution_count": 12,
   "metadata": {},
   "outputs": [
    {
     "name": "stdout",
     "output_type": "stream",
     "text": [
      "[[1.         0.62046087 0.         0.        ]\n",
      " [0.62046087 1.         0.         0.        ]\n",
      " [0.         0.         1.         0.55420536]\n",
      " [0.         0.         0.55420536 1.        ]]\n"
     ]
    }
   ],
   "source": [
    "# Calculate the cosine similarity among all examples.\n",
    "print(cosine_similarity(tfidf_array))"
   ]
  },
  {
   "cell_type": "markdown",
   "metadata": {},
   "source": [
    "## Tokenization\n",
    "\n",
    "`Tokenization` is a more general process where we split textual data into smaller components (tokens). These can be words, phrases, symbols, or other meaningful elements. "
   ]
  },
  {
   "cell_type": "code",
   "execution_count": 13,
   "metadata": {},
   "outputs": [
    {
     "name": "stdout",
     "output_type": "stream",
     "text": [
      "['a', 'friend', 'to', 'all', 'is', 'a', 'friend', 'to', 'none']\n"
     ]
    },
    {
     "name": "stderr",
     "output_type": "stream",
     "text": [
      "[nltk_data] Downloading package punkt to\n",
      "[nltk_data]     C:\\Users\\tsouraki\\AppData\\Roaming\\nltk_data...\n",
      "[nltk_data]   Package punkt is already up-to-date!\n"
     ]
    }
   ],
   "source": [
    "# Import the toolkit.\n",
    "import nltk\n",
    "nltk.download('punkt')\n",
    "\n",
    "# Tokenize the input text.\n",
    "wordTokens = nltk.word_tokenize(\"a friend to all is a friend to none\")\n",
    "\n",
    "print(wordTokens)"
   ]
  },
  {
   "cell_type": "markdown",
   "metadata": {},
   "source": [
    "As words are tokens of a sentence, sentences are tokens of paragraphs. "
   ]
  },
  {
   "cell_type": "code",
   "execution_count": 14,
   "metadata": {},
   "outputs": [
    {
     "name": "stdout",
     "output_type": "stream",
     "text": [
      "['A friend to all is a friend to none.', 'A friend to none is a friend to all.', 'A friend is a friend.']\n"
     ]
    }
   ],
   "source": [
    "# Tokenize the input paragraph.\n",
    "sentenceTokens = nltk.sent_tokenize(\"A friend to all is a friend to none. \\\n",
    "                                    A friend to none is a friend to all. \\\n",
    "                                    A friend is a friend.\")\n",
    "\n",
    "print(sentenceTokens)"
   ]
  },
  {
   "cell_type": "markdown",
   "metadata": {},
   "source": [
    "We can even create our tokenizer by incorporating different search patterns called `regular expressions` (regexp). The code for tokenizing email addresses is shown below."
   ]
  },
  {
   "cell_type": "code",
   "execution_count": 15,
   "metadata": {},
   "outputs": [
    {
     "name": "stdout",
     "output_type": "stream",
     "text": [
      "[('john', 'doe', 'com')]\n"
     ]
    }
   ],
   "source": [
    "# Create the Regexp tokenizer.\n",
    "tokenizer = nltk.tokenize.RegexpTokenizer(pattern='^([a-z0-9_\\.-]+)@([a-z0-9_\\.-]+)\\.([a-z\\.]{2,6})$')\n",
    "\n",
    "# Tokenize a valid email.\n",
    "tokens = tokenizer.tokenize(\"john@doe.com\")\n",
    "\n",
    "print(tokens)"
   ]
  },
  {
   "cell_type": "code",
   "execution_count": 16,
   "metadata": {},
   "outputs": [
    {
     "name": "stdout",
     "output_type": "stream",
     "text": [
      "[]\n"
     ]
    }
   ],
   "source": [
    "# Tokenize a no valid email.\n",
    "tokens = tokenizer.tokenize(\"john-AT-doe.com\")\n",
    "\n",
    "print(tokens)"
   ]
  },
  {
   "cell_type": "markdown",
   "metadata": {},
   "source": [
    "## Stop words removal\n",
    "\n",
    "A typical step during the preprocessing phase is to remove all the words that cannot possibly add value during the analysis phase. These are called `stop words`, and there is no universal list in English or any other language. In practice, you can use your own according to the specific task, as we have done in this example by adding three words to the list."
   ]
  },
  {
   "cell_type": "code",
   "execution_count": 17,
   "metadata": {},
   "outputs": [
    {
     "data": {
      "image/png": "[encoded data removed]",
      "text/plain": [
       "<Figure size 432x288 with 1 Axes>"
      ]
     },
     "metadata": {
      "needs_background": "light"
     },
     "output_type": "display_data"
    }
   ],
   "source": [
    "from wordcloud import WordCloud, STOPWORDS\n",
    "\n",
    "# Read the text from the file data.txt.\n",
    "text = open('./data/spam.txt').read()\n",
    "\n",
    "# Get all stopwords and update with few others.\n",
    "sw = set(STOPWORDS) \n",
    "sw.update([\"dear\", \"virus\", \"mr\"])\n",
    "\n",
    "# Create and configure the word cloud object.\n",
    "wc = WordCloud(background_color=\"white\", stopwords=sw, max_words=2000)\n",
    "\n",
    "# Generate the word cloud image from the text.\n",
    "wordcloud = wc.generate(text.lower())\n",
    "\n",
    "# Display the generated image.\n",
    "plt.imshow(wordcloud, interpolation='bilinear')\n",
    "plt.axis(\"off\")\n",
    "plt.show()"
   ]
  },
  {
   "cell_type": "markdown",
   "metadata": {},
   "source": [
    "## Stemming\n",
    "\n",
    "`Stemming` is the process of cutting off the end (suffix) or the beginning (prefix) of an inflected word, ending up with its stem (root word). "
   ]
  },
  {
   "cell_type": "code",
   "execution_count": 18,
   "metadata": {},
   "outputs": [
    {
     "data": {
      "text/plain": [
       "'play'"
      ]
     },
     "execution_count": 18,
     "metadata": {},
     "output_type": "execute_result"
    }
   ],
   "source": [
    "# Import the Porter stemmer.\n",
    "from nltk.stem import PorterStemmer\n",
    "\n",
    "# Create the stemmer.\n",
    "stemmer = PorterStemmer()\n",
    "\n",
    "# Stem the words 'playing', 'plays', 'played'.\n",
    "stemmer.stem('playing')"
   ]
  },
  {
   "cell_type": "code",
   "execution_count": 19,
   "metadata": {},
   "outputs": [
    {
     "data": {
      "text/plain": [
       "'play'"
      ]
     },
     "execution_count": 19,
     "metadata": {},
     "output_type": "execute_result"
    }
   ],
   "source": [
    "stemmer.stem('plays')"
   ]
  },
  {
   "cell_type": "code",
   "execution_count": 20,
   "metadata": {},
   "outputs": [
    {
     "data": {
      "text/plain": [
       "'play'"
      ]
     },
     "execution_count": 20,
     "metadata": {},
     "output_type": "execute_result"
    }
   ],
   "source": [
    "stemmer.stem('played')"
   ]
  },
  {
   "cell_type": "markdown",
   "metadata": {},
   "source": [
    "Notice that the output of stemming doesn't need to be a valid word."
   ]
  },
  {
   "cell_type": "code",
   "execution_count": 21,
   "metadata": {},
   "outputs": [
    {
     "data": {
      "text/plain": [
       "'braveri'"
      ]
     },
     "execution_count": 21,
     "metadata": {},
     "output_type": "execute_result"
    }
   ],
   "source": [
    "# Stem the word 'bravery'\n",
    "stemmer.stem('bravery')"
   ]
  },
  {
   "cell_type": "markdown",
   "metadata": {},
   "source": [
    "We can even create our stemmer using regular expressions."
   ]
  },
  {
   "cell_type": "code",
   "execution_count": 22,
   "metadata": {},
   "outputs": [
    {
     "data": {
      "text/plain": [
       "'playing'"
      ]
     },
     "execution_count": 22,
     "metadata": {},
     "output_type": "execute_result"
    }
   ],
   "source": [
    "from nltk.stem import RegexpStemmer\n",
    "\n",
    "# Create the stemmer matching words ending with 'ed'.\n",
    "stemmer = RegexpStemmer('ed')\n",
    "\n",
    "# Stem the verbs 'playing', 'plays', 'played'.\n",
    "stemmer.stem('playing')"
   ]
  },
  {
   "cell_type": "code",
   "execution_count": 23,
   "metadata": {},
   "outputs": [
    {
     "data": {
      "text/plain": [
       "'plays'"
      ]
     },
     "execution_count": 23,
     "metadata": {},
     "output_type": "execute_result"
    }
   ],
   "source": [
    "stemmer.stem('plays')"
   ]
  },
  {
   "cell_type": "code",
   "execution_count": 24,
   "metadata": {},
   "outputs": [
    {
     "data": {
      "text/plain": [
       "'play'"
      ]
     },
     "execution_count": 24,
     "metadata": {},
     "output_type": "execute_result"
    }
   ],
   "source": [
    "stemmer.stem('played')"
   ]
  },
  {
   "cell_type": "markdown",
   "metadata": {},
   "source": [
    "## Lemmatization\n",
    "\n",
    "`Lemmatization` is another sophisticated approach for reducing the inflectional forms of a word to a base root. The method performs morphological analysis of the word and obtains its proper lemma (the base form under which it appears in a dictionary). "
   ]
  },
  {
   "cell_type": "code",
   "execution_count": 25,
   "metadata": {},
   "outputs": [
    {
     "name": "stderr",
     "output_type": "stream",
     "text": [
      "[nltk_data] Downloading package wordnet to\n",
      "[nltk_data]     C:\\Users\\tsouraki\\AppData\\Roaming\\nltk_data...\n",
      "[nltk_data]   Package wordnet is already up-to-date!\n",
      "[nltk_data] Downloading package omw-1.4 to\n",
      "[nltk_data]     C:\\Users\\tsouraki\\AppData\\Roaming\\nltk_data...\n",
      "[nltk_data]   Package omw-1.4 is already up-to-date!\n"
     ]
    },
    {
     "data": {
      "text/plain": [
       "'C:\\\\Users\\\\tsouraki\\\\AppData\\\\Roaming\\\\nltk_data'"
      ]
     },
     "execution_count": 25,
     "metadata": {},
     "output_type": "execute_result"
    }
   ],
   "source": [
    "# Import the WordNet Lemmatizer.\n",
    "from nltk.stem import WordNetLemmatizer\n",
    "nltk.download('wordnet')\n",
    "nltk.download('omw-1.4')\n",
    "\n",
    "# Create the lemmatizer.\n",
    "lemmatizer = WordNetLemmatizer()\n",
    "\n",
    "# Lemmatize the verb 'played'.\n",
    "lemmatizer.lemmatize('played', pos='v')\n",
    "nltk.data.path\n",
    "\n",
    "import os\n",
    "next(p for p in nltk.data.path if os.path.exists(p))"
   ]
  },
  {
   "cell_type": "code",
   "execution_count": 26,
   "metadata": {},
   "outputs": [
    {
     "data": {
      "text/plain": [
       "'lead'"
      ]
     },
     "execution_count": 26,
     "metadata": {},
     "output_type": "execute_result"
    }
   ],
   "source": [
    "# Lemmatize the verb 'led'.\n",
    "lemmatizer.lemmatize('led', pos='v')"
   ]
  },
  {
   "cell_type": "code",
   "execution_count": 27,
   "metadata": {},
   "outputs": [
    {
     "data": {
      "text/plain": [
       "'good'"
      ]
     },
     "execution_count": 27,
     "metadata": {},
     "output_type": "execute_result"
    }
   ],
   "source": [
    "# Lemmatize the adjective 'better'.\n",
    "lemmatizer.lemmatize('better', pos='a')"
   ]
  },
  {
   "cell_type": "markdown",
   "metadata": {},
   "source": [
    "## Classification\n",
    "\n",
    "The [SpamAssassin public mail corpus](https://spamassassin.apache.org/old/publiccorpus/) public mail corpus  is a selection of email messages suitable for developing spam filtering systems. It offers two variants for the messages, either in plain text or HTML. Notice that for this exercise, we use the first type only. The term coined to describe the opposite of spam emails is ham, and the two words refer to meat products (spam refers to canned ham). In this exercise, we use a subset of the corpus. \n",
    "\n",
    "The primary task in the code below is to read the messages for the two categories and split them into two groups, namely one for training and one for testing. As a rule of thumb, we can choose an 75:25 split between the two sets, attributing the more significant proportion to the training data. "
   ]
  },
  {
   "cell_type": "code",
   "execution_count": 28,
   "metadata": {},
   "outputs": [],
   "source": [
    "import email\n",
    "import glob\n",
    "import numpy as np\n",
    "from operator import is_not\n",
    "from functools import partial\n",
    "from sklearn.model_selection import train_test_split\n",
    "\n",
    "# Load the path for each email file for both categories.\n",
    "ham_files = train_test_split(glob.glob('./data/20030228_hard_ham/hard_ham/*'), random_state=123)\n",
    "spam_files = train_test_split(glob.glob('./data/20050311_spam_2/spam_2/*'), random_state=123)\n",
    "\n",
    "# Method for getting the content of an email.\n",
    "def get_content(filepath):\n",
    "    file = open(filepath, encoding='latin1')\n",
    "    message = email.message_from_file(file)\n",
    "    \n",
    "    for msg_part in message.walk():\n",
    "        # Keep only messages with text/plain content.\n",
    "        if msg_part.get_content_type() == 'text/plain':\n",
    "            return msg_part.get_payload()\n",
    "\n",
    "# Get the training and testing data.\n",
    "ham_train_data = [get_content(i) for i in ham_files[0]]\n",
    "ham_test_data = [get_content(i) for i in ham_files[1]]\n",
    "spam_train_data = [get_content(i) for i in spam_files[0]]\n",
    "spam_test_data = [get_content(i) for i in spam_files[1]]\n",
    "\n",
    "# Keep emails with non-empty content.\n",
    "ham_train_data = list(filter(None, ham_train_data))\n",
    "ham_test_data = list(filter(None, ham_test_data))\n",
    "spam_train_data = list(filter(None, spam_train_data))\n",
    "spam_test_data = list(filter(None, spam_test_data))\n",
    "\n",
    "# Merge the train/test files for both categories.\n",
    "train_data = np.concatenate((ham_train_data, spam_train_data))\n",
    "test_data = np.concatenate((ham_test_data, spam_test_data))\n",
    "\n",
    "# Assign a class for each email (ham = 0, spam = 1).\n",
    "ham_train_class = [0]*len(ham_train_data)\n",
    "ham_test_class = [0]*len(ham_test_data)\n",
    "spam_train_class = [1]*len(spam_train_data)\n",
    "spam_test_class = [1]*len(spam_test_data)\n",
    "\n",
    "# Merge the train/test classes for both categories.\n",
    "train_class = np.concatenate((ham_train_class, spam_train_class))\n",
    "test_class = np.concatenate((ham_test_class, spam_test_class))"
   ]
  },
  {
   "cell_type": "markdown",
   "metadata": {},
   "source": [
    "The next step is to preprocess the data using the techniques we learned. In the code that follows, we remove all stop words. "
   ]
  },
  {
   "cell_type": "code",
   "execution_count": 29,
   "metadata": {},
   "outputs": [],
   "source": [
    "from nltk.stem import WordNetLemmatizer\n",
    "from nltk.tokenize import word_tokenize\n",
    "from sklearn.feature_extraction.text import ENGLISH_STOP_WORDS\n",
    "\n",
    "# Tokenize the train/test data.\n",
    "train_data = [word_tokenize(i) for i in train_data]\n",
    "test_data = [word_tokenize(i) for i in test_data]\n",
    "\n",
    "\n",
    "# Method for removing the stop words.\n",
    "def remove_stop_words(input):\n",
    "    result = [i for i in input if i not in ENGLISH_STOP_WORDS]\n",
    "    return result\n",
    "\n",
    "# Remove the stop words.\n",
    "train_data = [remove_stop_words(i) for i in train_data]\n",
    "test_data = [remove_stop_words(i) for i in test_data]"
   ]
  },
  {
   "cell_type": "markdown",
   "metadata": {},
   "source": [
    "Now we lemmatize the words."
   ]
  },
  {
   "cell_type": "code",
   "execution_count": 30,
   "metadata": {},
   "outputs": [],
   "source": [
    "# Create the lemmatizer.\n",
    "lemmatizer = WordNetLemmatizer()\n",
    "\n",
    "# Method for lemmatizing the text.\n",
    "def lemmatize_text(input):\n",
    "    return [lemmatizer.lemmatize(i) for i in input]\n",
    "\n",
    "# Lemmatize the text.\n",
    "train_data = [lemmatize_text(i) for i in train_data]\n",
    "test_data = [lemmatize_text(i) for i in test_data]\n",
    "\n",
    "# Reconstruct the data.\n",
    "train_data = [\" \".join(i) for i in train_data]\n",
    "test_data = [\" \".join(i) for i in test_data]"
   ]
  },
  {
   "cell_type": "markdown",
   "metadata": {},
   "source": [
    "We continue with the extraction of the features of each sentence in the two sets. This step uses tf-idf vectorization after training the vectorizer on the training data. "
   ]
  },
  {
   "cell_type": "code",
   "execution_count": 31,
   "metadata": {},
   "outputs": [],
   "source": [
    "from sklearn.feature_extraction.text import TfidfVectorizer\n",
    "\n",
    "# Create the vectorizer.\n",
    "vectorizer = TfidfVectorizer()\n",
    "\n",
    "# Fit with the train data.\n",
    "vectorizer.fit(train_data)\n",
    "\n",
    "# Transform the test/train data into features.\n",
    "train_data_features = vectorizer.transform(train_data)\n",
    "test_data_features = vectorizer.transform(test_data)"
   ]
  },
  {
   "cell_type": "markdown",
   "metadata": {},
   "source": [
    "Each of the *670* emails in the training set is represented with a feature vector of size *28337*. "
   ]
  },
  {
   "cell_type": "code",
   "execution_count": 32,
   "metadata": {},
   "outputs": [
    {
     "name": "stdout",
     "output_type": "stream",
     "text": [
      "(670, 28337)\n"
     ]
    }
   ],
   "source": [
    "print(train_data_features.shape)"
   ]
  },
  {
   "cell_type": "markdown",
   "metadata": {},
   "source": [
    "## Support Vector Machines\n",
    "\n",
    "One of the most well-known supervised learning algorithms is `Support Vector Machines` (SVM).\n",
    "\n",
    "We evaluate its performance in both the test and training sets. We are primarily interested in the first result, as it quantifies the accuracy of our model on unseen data; essentially, how well it generalizes. On the other hand, the performance on the training set indicates how well our model learned from the training data. As you can observe, the accuracy, in the latter case, is not *100%* as one might expect. In practical problems, it is almost always much less than *99%*. "
   ]
  },
  {
   "cell_type": "code",
   "execution_count": 33,
   "metadata": {},
   "outputs": [
    {
     "data": {
      "text/plain": [
       "0.8755760368663594"
      ]
     },
     "execution_count": 33,
     "metadata": {},
     "output_type": "execute_result"
    }
   ],
   "source": [
    "from sklearn import svm\n",
    "\n",
    "# Create the classifier.\n",
    "svm_classifier = svm.SVC(kernel=\"rbf\", C=1.0, gamma=1.0, probability=True)\n",
    "\n",
    "# Fit the classifier with the train data.\n",
    "svm_classifier.fit(train_data_features.toarray(), train_class)\n",
    "\n",
    "# Get the classification score of the test data.\n",
    "svm_classifier.score(test_data_features.toarray(), test_class)"
   ]
  },
  {
   "cell_type": "code",
   "execution_count": 34,
   "metadata": {},
   "outputs": [
    {
     "data": {
      "text/plain": [
       "0.9970149253731343"
      ]
     },
     "execution_count": 34,
     "metadata": {},
     "output_type": "execute_result"
    }
   ],
   "source": [
    "# Get the classification score of the train data.\n",
    "svm_classifier.score(train_data_features.toarray(), train_class)"
   ]
  },
  {
   "cell_type": "markdown",
   "metadata": {},
   "source": [
    "## Naïve Bayes\n",
    "\n",
    "`Naïve Bayes` is a classification algorithm based on the `Bayes Theorem`. \n",
    "\n",
    "The outcome suggests that the performance of this classifier is inferior. Also, notice the performance on the actual training set, which is low and very close to the performance on the test set. This is another indication that the created model is not working very well."
   ]
  },
  {
   "cell_type": "code",
   "execution_count": 35,
   "metadata": {},
   "outputs": [
    {
     "data": {
      "text/plain": [
       "0.8571428571428571"
      ]
     },
     "execution_count": 35,
     "metadata": {},
     "output_type": "execute_result"
    }
   ],
   "source": [
    "from sklearn import naive_bayes\n",
    "\n",
    "# Create the classifier.\n",
    "nb_classifier = naive_bayes.MultinomialNB(alpha=1.0)\n",
    "\n",
    "# Fit the classifier with the train data.\n",
    "nb_classifier.fit(train_data_features.toarray(), train_class)\n",
    "\n",
    "# Get the classification score of the test data.\n",
    "nb_classifier.score(test_data_features.toarray(), test_class)"
   ]
  },
  {
   "cell_type": "code",
   "execution_count": 36,
   "metadata": {},
   "outputs": [
    {
     "data": {
      "text/plain": [
       "0.8641791044776119"
      ]
     },
     "execution_count": 36,
     "metadata": {},
     "output_type": "execute_result"
    }
   ],
   "source": [
    "# Get the classification score of the train data.\n",
    "nb_classifier.score(train_data_features.toarray(), train_class)"
   ]
  },
  {
   "cell_type": "markdown",
   "metadata": {},
   "source": [
    "## Accuracy\n",
    "\n",
    "In practical problems, we test different classification algorithms and see which one works best. Therefore there is always a need to compare different models in terms of theirperformance.\n",
    "\n",
    "`Accuracy` is the percentage of correctly classified examples by an algorithm divided by the total number of examples. The code below calculates accuracy on the same data, and of course, its value is the same as the previous one."
   ]
  },
  {
   "cell_type": "code",
   "execution_count": 37,
   "metadata": {},
   "outputs": [
    {
     "data": {
      "text/plain": [
       "0.8571428571428571"
      ]
     },
     "execution_count": 37,
     "metadata": {},
     "output_type": "execute_result"
    }
   ],
   "source": [
    "from sklearn import metrics\n",
    " \n",
    "# Get the predicted classes.\n",
    "test_class_pred = nb_classifier.predict(test_data_features.toarray())\n",
    "\n",
    "# Calculate the accuracy on the test set.\n",
    "metrics.accuracy_score(test_class, test_class_pred)\n"
   ]
  },
  {
   "cell_type": "markdown",
   "metadata": {},
   "source": [
    "## Precision and Recall\n",
    "\n",
    "`Precision` tells us the proportion of positive identifications that were, in reality, correct, and `Recall` tells us the proportion of the actual positives that were identified correctly."
   ]
  },
  {
   "cell_type": "code",
   "execution_count": 38,
   "metadata": {},
   "outputs": [
    {
     "data": {
      "text/plain": [
       "0.8564814814814815"
      ]
     },
     "execution_count": 38,
     "metadata": {},
     "output_type": "execute_result"
    }
   ],
   "source": [
    "# Calculate the precision on the test set.\n",
    "metrics.precision_score(test_class, test_class_pred)"
   ]
  },
  {
   "cell_type": "code",
   "execution_count": 39,
   "metadata": {},
   "outputs": [
    {
     "data": {
      "text/plain": [
       "1.0"
      ]
     },
     "execution_count": 39,
     "metadata": {},
     "output_type": "execute_result"
    }
   ],
   "source": [
    "# Calculate the recall on the test set.\n",
    "metrics.recall_score(test_class, test_class_pred)"
   ]
  },
  {
   "cell_type": "markdown",
   "metadata": {},
   "source": [
    "## F-score\n",
    "\n",
    "`F-score`, is the harmonic mean of precision and recall. When precision and recall reach their perfect score (equal to *1*), F-score becomes *1*."
   ]
  },
  {
   "cell_type": "code",
   "execution_count": 40,
   "metadata": {},
   "outputs": [
    {
     "data": {
      "text/plain": [
       "0.9226932668329177"
      ]
     },
     "execution_count": 40,
     "metadata": {},
     "output_type": "execute_result"
    }
   ],
   "source": [
    "# Calculate the F-score on the test set.\n",
    "metrics.f1_score(test_class, test_class_pred)"
   ]
  },
  {
   "cell_type": "markdown",
   "metadata": {},
   "source": [
    "## ROC and AUC\n",
    "\n",
    "When the classifier returns some kind of confidence score for each prediction, we can use another technique for evaluating performance called `receiver operator characteristic` (ROC) curve. The greyed area in these plots, called the `area under the ROC curve` (AUC), is related to the quality of our model; the higher its surface, the better it is. \n",
    "\n",
    "First, we calculate the ROC curves for both classifiers, as shown below. AUC is *0.98* for SVM and *0.87* for Naïve Bayes, so the SVM classifier is a better choice for our spam detection problem."
   ]
  },
  {
   "cell_type": "code",
   "execution_count": 41,
   "metadata": {},
   "outputs": [
    {
     "data": {
      "image/png": "[encoded data removed]",
      "text/plain": [
       "<Figure size 432x288 with 1 Axes>"
      ]
     },
     "metadata": {
      "needs_background": "light"
     },
     "output_type": "display_data"
    }
   ],
   "source": [
    "# Create and plot the ROC curves.\n",
    "nb_disp = metrics.plot_roc_curve(nb_classifier, test_data_features.toarray(), test_class)\n",
    "svm_disp = metrics.plot_roc_curve(svm_classifier, test_data_features.toarray(), test_class, ax=nb_disp.ax_)\n",
    "svm_disp.figure_.suptitle(\"ROC curve comparison\")\n",
    "plt.show()"
   ]
  },
  {
   "cell_type": "markdown",
   "metadata": {},
   "source": [
    "Finally, we calculate the ROC curve along with the precision recall curve for the Naïve Bayes model."
   ]
  },
  {
   "cell_type": "code",
   "execution_count": 42,
   "metadata": {},
   "outputs": [
    {
     "data": {
      "image/png": "[encoded data removed]",
      "text/plain": [
       "<Figure size 864x576 with 2 Axes>"
      ]
     },
     "metadata": {
      "needs_background": "light"
     },
     "output_type": "display_data"
    }
   ],
   "source": [
    "# Obtain the scores for each prediction.\n",
    "probs = nb_classifier.predict_proba(test_data_features.toarray())\n",
    "test_score = probs[:, 1]\n",
    "\n",
    "# Compute the Receiver Operating Characteristic.\n",
    "fpr, tpr, thresholds = metrics.roc_curve(test_class, test_score)\n",
    "\n",
    "# Compute Area Under the Curve.\n",
    "roc_auc = metrics.auc(fpr, tpr)\n",
    "\n",
    "# Create the ROC curve.\n",
    "rc_display = metrics.RocCurveDisplay(fpr=fpr, tpr=tpr, roc_auc=roc_auc, estimator_name='MultinomialNB')\n",
    "\n",
    "# Create the precision recall curves.\n",
    "precision, recall, thresholds = metrics.precision_recall_curve(test_class, test_score)\n",
    "pr_display = metrics.PrecisionRecallDisplay(precision=precision, recall=recall, estimator_name='MultinomialNB')\n",
    "\n",
    "# Plot the curves.\n",
    "fig, (ax1, ax2) = plt.subplots(1, 2, figsize=(12, 8))\n",
    "rc_display.plot(ax=ax1)\n",
    "pr_display.plot(ax=ax2)\n",
    "plt.show()"
   ]
  },
  {
   "cell_type": "markdown",
   "metadata": {},
   "source": [
    "### Machine Learning Techniques for Text \n",
    "&copy;2021&ndash;2022, Nikos Tsourakis, <nikos@tsourakis.net>, Packt Publications. All Rights Reserved."
   ]
  }
 ],
 "metadata": {
  "interpreter": {
   "hash": "5ec7f24bccdc5982815fc9e679db841794fd8b692b70ffe03fd828d6ea20f1fe"
  },
  "kernelspec": {
   "display_name": "Python 3.7.7 64-bit",
   "language": "python",
   "name": "python3"
  },
  "language_info": {
   "codemirror_mode": {
    "name": "ipython",
    "version": 3
   },
   "file_extension": ".py",
   "mimetype": "text/x-python",
   "name": "python",
   "nbconvert_exporter": "python",
   "pygments_lexer": "ipython3",
   "version": "3.9.7"
  },
  "orig_nbformat": 2
 },
 "nbformat": 4,
 "nbformat_minor": 2
}
