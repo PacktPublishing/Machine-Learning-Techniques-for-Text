{
 "cells": [
  {
   "cell_type": "markdown",
   "metadata": {},
   "source": [
    "# <u>Chapter 6</u>: Machine Translation"
   ]
  },
  {
   "cell_type": "code",
   "execution_count": 6,
   "metadata": {},
   "outputs": [
    {
     "data": {
      "text/html": [
       "<div>\n",
       "<style scoped>\n",
       "    .dataframe tbody tr th:only-of-type {\n",
       "        vertical-align: middle;\n",
       "    }\n",
       "\n",
       "    .dataframe tbody tr th {\n",
       "        vertical-align: top;\n",
       "    }\n",
       "\n",
       "    .dataframe thead th {\n",
       "        text-align: right;\n",
       "    }\n",
       "</style>\n",
       "<table border=\"1\" class=\"dataframe\">\n",
       "  <thead>\n",
       "    <tr style=\"text-align: right;\">\n",
       "      <th></th>\n",
       "      <th>source</th>\n",
       "      <th>target</th>\n",
       "    </tr>\n",
       "  </thead>\n",
       "  <tbody>\n",
       "    <tr>\n",
       "      <th>5676</th>\n",
       "      <td>Tom is loyal.</td>\n",
       "      <td>Tom est fidèle.</td>\n",
       "    </tr>\n",
       "    <tr>\n",
       "      <th>617</th>\n",
       "      <td>I'm game.</td>\n",
       "      <td>J'en suis.</td>\n",
       "    </tr>\n",
       "    <tr>\n",
       "      <th>415</th>\n",
       "      <td>Back off!</td>\n",
       "      <td>Cassez-vous.</td>\n",
       "    </tr>\n",
       "    <tr>\n",
       "      <th>7687</th>\n",
       "      <td>Life is crazy.</td>\n",
       "      <td>La vie est dingue.</td>\n",
       "    </tr>\n",
       "    <tr>\n",
       "      <th>6708</th>\n",
       "      <td>I caused this.</td>\n",
       "      <td>J'ai causé ceci.</td>\n",
       "    </tr>\n",
       "  </tbody>\n",
       "</table>\n",
       "</div>"
      ],
      "text/plain": [
       "              source              target\n",
       "5676   Tom is loyal.     Tom est fidèle.\n",
       "617        I'm game.          J'en suis.\n",
       "415        Back off!        Cassez-vous.\n",
       "7687  Life is crazy.  La vie est dingue.\n",
       "6708  I caused this.    J'ai causé ceci."
      ]
     },
     "execution_count": 6,
     "metadata": {},
     "output_type": "execute_result"
    }
   ],
   "source": [
    "from numpy.random import seed\n",
    "seed(1)\n",
    "import tensorflow\n",
    "tensorflow.random.set_seed(2)\n",
    "\n",
    "import pandas as pd\n",
    "import re\n",
    "\n",
    "# Read the first 8K pairs in the dataset.\n",
    "# Reduce the nrows parameter if there is a memory allocation problem.\n",
    "data = pd.read_table('./data/fra.txt',  usecols=range(2), names=['source', 'target'], nrows=8000)\n",
    "\n",
    "# Replace no-break and thin spaces in the target sentences.\n",
    "data.target = data.target.apply(lambda x: re.sub(u'\\xa0|\\u202f|\\u2009', u' ', x))\n",
    "data.sample(5, random_state=123)"
   ]
  },
  {
   "cell_type": "code",
   "execution_count": 7,
   "metadata": {},
   "outputs": [
    {
     "data": {
      "text/plain": [
       "'<sos> Je payai. <eos>'"
      ]
     },
     "execution_count": 7,
     "metadata": {},
     "output_type": "execute_result"
    }
   ],
   "source": [
    "# Add two special tokens in the target sentences (start_of_stream/end_of_stream).\n",
    "data['target'] = '<sos> ' + data['target'] + ' <eos>'\n",
    "data.target[100]"
   ]
  },
  {
   "cell_type": "code",
   "execution_count": 8,
   "metadata": {},
   "outputs": [
    {
     "name": "stdout",
     "output_type": "stream",
     "text": [
      "Vocabulary size of the source sentences: 2504\n",
      "Vocabulary size of the target sentences: 4818\n"
     ]
    }
   ],
   "source": [
    "# Extract the vocabulary of the source/target sentences.\n",
    "src_voc = sorted(list(data['source'].str.split(' ', expand=True).stack().unique()))\n",
    "trg_voc = sorted(list(data['target'].str.split(' ', expand=True).stack().unique()))\n",
    "\n",
    "# Get the vocabulary size for the source/target sentences.\n",
    "# Increase by one for the padding token.\n",
    "src_voc_size = len(src_voc) + 1\n",
    "trg_voc_size = len(trg_voc) + 1\n",
    "\n",
    "print(\"Vocabulary size of the source sentences:\", src_voc_size)\n",
    "print(\"Vocabulary size of the target sentences:\", trg_voc_size)"
   ]
  },
  {
   "cell_type": "code",
   "execution_count": 9,
   "metadata": {},
   "outputs": [
    {
     "name": "stdout",
     "output_type": "stream",
     "text": [
      "Maximum length of the source sentences: 5\n",
      "Maximum length of the target sentences:: 12\n"
     ]
    }
   ],
   "source": [
    "# Extract the maximum sentence length in the source/target sentences.\n",
    "max_src_len = max([(len(s.split(' '))) for s in data['source']])\n",
    "max_trg_len = max([(len(s.split(' '))) for s in data['target']])\n",
    "\n",
    "print(\"Maximum length of the source sentences:\", max_src_len)\n",
    "print(\"Maximum length of the target sentences::\", max_trg_len)"
   ]
  },
  {
   "cell_type": "code",
   "execution_count": 10,
   "metadata": {},
   "outputs": [
    {
     "name": "stdout",
     "output_type": "stream",
     "text": [
      "675\n"
     ]
    }
   ],
   "source": [
    "# Create the word-to-index dictionary for the source/target tokens.\n",
    "# Zero index reserved for the padding token.\n",
    "src_word2idx = dict([(word, idx+1) for idx, word in enumerate(src_voc)])\n",
    "trg_word2idx = dict([(word, idx+1) for idx, word in enumerate(trg_voc)])\n",
    "\n",
    "print(trg_word2idx['Non'])"
   ]
  },
  {
   "cell_type": "code",
   "execution_count": 11,
   "metadata": {},
   "outputs": [
    {
     "name": "stdout",
     "output_type": "stream",
     "text": [
      "Personne\n"
     ]
    }
   ],
   "source": [
    "# Create the index-to-word dictionary for the source/target tokens.\n",
    "src_idx2word = dict([(idx, word) for word, idx in src_word2idx.items()])\n",
    "trg_idx2word = dict([(idx, word) for word, idx in trg_word2idx.items()])\n",
    "\n",
    "print(trg_idx2word[735])"
   ]
  },
  {
   "cell_type": "code",
   "execution_count": 12,
   "metadata": {},
   "outputs": [],
   "source": [
    "import numpy as np\n",
    "\n",
    "# The input/output data of the model.\n",
    "enc_input_data = np.zeros((len(data['source']), max_src_len), dtype='float32')\n",
    "dec_input_data = np.zeros((len(data['source']), max_trg_len), dtype='float32')\n",
    "dec_output_data = np.zeros((len(data['source']), max_trg_len, trg_voc_size), dtype='float32')\n",
    "\n",
    "# Iterate over the whole dataset.\n",
    "for i, (src_sentence, trg_sentence) in enumerate(zip(data['source'], data['target'])):\n",
    "    \n",
    "    # Create the input for the endoder.\n",
    "    for j, word in enumerate(src_sentence.split()):\n",
    "        enc_input_data[i, j] = src_word2idx[word]\n",
    " \n",
    "    # Create the input/output for the decoder.\n",
    "    for j, word in enumerate(trg_sentence.split()):\n",
    "        # Skip the '<eos>' word in the decoder input.\n",
    "        if j < len(trg_sentence.split())-1:\n",
    "            dec_input_data[i, j] = trg_word2idx[word]\n",
    "        # Skip the '<sos>' word in the decoder output.\n",
    "        if j > 0:\n",
    "            dec_output_data[i, j-1, trg_word2idx[word]] = 1.0"
   ]
  },
  {
   "cell_type": "code",
   "execution_count": 13,
   "metadata": {},
   "outputs": [],
   "source": [
    "from keras.layers import Input, LSTM, Embedding, Dense\n",
    "from keras.models import Model\n",
    "\n",
    "# Create the input layers for the encoder/decoder.\n",
    "enc_input = Input(shape=(None,), dtype='float32',)\n",
    "dec_input = Input(shape=(None,), dtype='float32',)\n",
    "\n",
    "# Create the embedding layers for the encoder/decoder.\n",
    "embed_layer = Embedding(src_voc_size, 256, mask_zero=True)\n",
    "enc_embed = embed_layer(enc_input)\n",
    "embed_layer = Embedding(trg_voc_size, 256, mask_zero=True)\n",
    "dec_embed = embed_layer(dec_input)\n",
    "\n",
    "# Create the LSTM layers for the encoder/decoder.\n",
    "enc_LSTM = LSTM(256, return_state=True)\n",
    "_, state_h, state_c = enc_LSTM(enc_embed)\n",
    "dec_LSTM = LSTM(256, return_state=True, return_sequences=True)\n",
    "# The initial states of the decoder are the output from the encoder.\n",
    "dec_output, _, _ = dec_LSTM(dec_embed, initial_state=[state_h, state_c])\n",
    "\n",
    "# Create the output layer for the decoder.\n",
    "dec_dense = Dense(trg_voc_size, activation='softmax')\n",
    "dec_output = dec_dense(dec_output)"
   ]
  },
  {
   "cell_type": "code",
   "execution_count": 14,
   "metadata": {},
   "outputs": [
    {
     "name": "stdout",
     "output_type": "stream",
     "text": [
      "Number of trainable parameters: 4163282\n"
     ]
    }
   ],
   "source": [
    "# Create and compile the model.\n",
    "model = Model([enc_input, dec_input], dec_output)\n",
    "model.compile(optimizer='rmsprop', loss='categorical_crossentropy', metrics=['accuracy'])\n",
    "#model.summary()\n",
    "model_params = np.sum([np.prod(v.get_shape()) for v in model.trainable_weights])\n",
    "print(\"Number of trainable parameters:\", model_params)"
   ]
  },
  {
   "cell_type": "code",
   "execution_count": 15,
   "metadata": {},
   "outputs": [
    {
     "data": {
      "image/png": "[encoded data removed]",
      "text/plain": [
       "<IPython.core.display.Image object>"
      ]
     },
     "execution_count": 15,
     "metadata": {},
     "output_type": "execute_result"
    }
   ],
   "source": [
    "from keras.utils.vis_utils import plot_model\n",
    "\n",
    "# Plot the model.\n",
    "plot_model(model, to_file='./images/model_plot.png', show_shapes=True, show_layer_names=True, dpi=100)"
   ]
  },
  {
   "cell_type": "code",
   "execution_count": 16,
   "metadata": {},
   "outputs": [
    {
     "name": "stdout",
     "output_type": "stream",
     "text": [
      "Epoch 1/100\n",
      "50/50 [==============================] - 27s 178ms/step - loss: 2.0813 - accuracy: 0.2364 - val_loss: 2.1181 - val_accuracy: 0.2200\n",
      "Epoch 2/100\n",
      "50/50 [==============================] - 6s 114ms/step - loss: 1.7052 - accuracy: 0.2732 - val_loss: 2.0120 - val_accuracy: 0.2877\n",
      "Epoch 3/100\n",
      "50/50 [==============================] - 5s 109ms/step - loss: 1.5774 - accuracy: 0.2883 - val_loss: 1.9714 - val_accuracy: 0.3064.539\n",
      "Epoch 4/100\n",
      "50/50 [==============================] - 7s 132ms/step - loss: 1.4770 - accuracy: 0.3019 - val_loss: 1.9326 - val_accuracy: 0.3075\n",
      "Epoch 5/100\n",
      "50/50 [==============================] - 6s 124ms/step - loss: 1.4016 - accuracy: 0.3198 - val_loss: 1.9060 - val_accuracy: 0.3115\n",
      "Epoch 6/100\n",
      "50/50 [==============================] - 6s 111ms/step - loss: 1.3449 - accuracy: 0.3479 - val_loss: 1.9046 - val_accuracy: 0.3006\n",
      "Epoch 7/100\n",
      "50/50 [==============================] - 6s 111ms/step - loss: 1.2949 - accuracy: 0.3722 - val_loss: 1.8852 - val_accuracy: 0.3282\n",
      "Epoch 8/100\n",
      "50/50 [==============================] - 6s 117ms/step - loss: 1.2460 - accuracy: 0.3950 - val_loss: 1.8906 - val_accuracy: 0.3196\n",
      "Epoch 9/100\n",
      "50/50 [==============================] - 6s 112ms/step - loss: 1.2023 - accuracy: 0.4108 - val_loss: 1.8781 - val_accuracy: 0.3234\n",
      "Epoch 10/100\n",
      "50/50 [==============================] - 6s 113ms/step - loss: 1.1593 - accuracy: 0.4238 - val_loss: 1.8990 - val_accuracy: 0.3133\n",
      "Epoch 11/100\n",
      "50/50 [==============================] - 6s 120ms/step - loss: 1.1221 - accuracy: 0.4344 - val_loss: 1.8879 - val_accuracy: 0.3179\n",
      "Epoch 12/100\n",
      "50/50 [==============================] - 6s 116ms/step - loss: 1.0886 - accuracy: 0.4436 - val_loss: 1.9002 - val_accuracy: 0.3138\n",
      "Epoch 13/100\n",
      "50/50 [==============================] - 6s 123ms/step - loss: 1.0556 - accuracy: 0.4577 - val_loss: 1.9113 - val_accuracy: 0.3174\n",
      "Epoch 14/100\n",
      "50/50 [==============================] - 6s 123ms/step - loss: 1.0236 - accuracy: 0.4703 - val_loss: 1.9173 - val_accuracy: 0.3302\n",
      "Epoch 15/100\n",
      "50/50 [==============================] - 6s 119ms/step - loss: 0.9960 - accuracy: 0.4813 - val_loss: 1.9250 - val_accuracy: 0.3317\n",
      "Epoch 16/100\n",
      "50/50 [==============================] - 6s 122ms/step - loss: 0.9673 - accuracy: 0.4890 - val_loss: 1.9285 - val_accuracy: 0.3358\n",
      "Epoch 17/100\n",
      "50/50 [==============================] - 6s 121ms/step - loss: 0.9385 - accuracy: 0.4978 - val_loss: 1.9411 - val_accuracy: 0.3420\n",
      "Epoch 18/100\n",
      "50/50 [==============================] - 6s 112ms/step - loss: 0.9154 - accuracy: 0.5056 - val_loss: 1.9488 - val_accuracy: 0.3465\n",
      "Epoch 19/100\n",
      "50/50 [==============================] - 6s 114ms/step - loss: 0.8895 - accuracy: 0.5159 - val_loss: 1.9294 - val_accuracy: 0.3500\n",
      "Epoch 20/100\n",
      "50/50 [==============================] - 7s 134ms/step - loss: 0.8661 - accuracy: 0.5241 - val_loss: 1.9335 - val_accuracy: 0.3566\n",
      "Epoch 21/100\n",
      "50/50 [==============================] - 7s 143ms/step - loss: 0.8439 - accuracy: 0.5305 - val_loss: 1.9277 - val_accuracy: 0.3566\n",
      "Epoch 22/100\n",
      "50/50 [==============================] - 7s 135ms/step - loss: 0.8197 - accuracy: 0.5399 - val_loss: 1.9283 - val_accuracy: 0.3628\n",
      "Epoch 23/100\n",
      "50/50 [==============================] - 6s 111ms/step - loss: 0.7971 - accuracy: 0.5464 - val_loss: 1.9523 - val_accuracy: 0.3615\n",
      "Epoch 24/100\n",
      "50/50 [==============================] - 6s 111ms/step - loss: 0.7740 - accuracy: 0.5539 - val_loss: 1.9425 - val_accuracy: 0.3654\n",
      "Epoch 25/100\n",
      "50/50 [==============================] - 6s 112ms/step - loss: 0.7522 - accuracy: 0.5612 - val_loss: 1.9288 - val_accuracy: 0.3663\n",
      "Epoch 26/100\n",
      "50/50 [==============================] - 8s 157ms/step - loss: 0.7315 - accuracy: 0.5690 - val_loss: 1.9362 - val_accuracy: 0.3738\n",
      "Epoch 27/100\n",
      "50/50 [==============================] - 8s 151ms/step - loss: 0.7107 - accuracy: 0.5774 - val_loss: 1.9315 - val_accuracy: 0.3722\n",
      "Epoch 28/100\n",
      "50/50 [==============================] - 6s 123ms/step - loss: 0.6899 - accuracy: 0.5844 - val_loss: 1.9480 - val_accuracy: 0.3720\n",
      "Epoch 29/100\n",
      "50/50 [==============================] - 6s 119ms/step - loss: 0.6680 - accuracy: 0.5956 - val_loss: 1.9344 - val_accuracy: 0.3769\n",
      "Epoch 30/100\n",
      "50/50 [==============================] - 6s 120ms/step - loss: 0.6505 - accuracy: 0.6033 - val_loss: 1.9240 - val_accuracy: 0.3768\n",
      "Epoch 31/100\n",
      "50/50 [==============================] - 7s 138ms/step - loss: 0.6283 - accuracy: 0.6116 - val_loss: 1.9251 - val_accuracy: 0.3791\n",
      "Epoch 32/100\n",
      "50/50 [==============================] - 7s 135ms/step - loss: 0.6090 - accuracy: 0.6200 - val_loss: 1.9316 - val_accuracy: 0.3835\n",
      "Epoch 33/100\n",
      "50/50 [==============================] - 6s 126ms/step - loss: 0.5917 - accuracy: 0.6262 - val_loss: 1.9444 - val_accuracy: 0.3795\n",
      "Epoch 34/100\n",
      "50/50 [==============================] - 6s 128ms/step - loss: 0.5714 - accuracy: 0.6382 - val_loss: 1.9352 - val_accuracy: 0.3857\n",
      "Epoch 35/100\n",
      "50/50 [==============================] - 6s 119ms/step - loss: 0.5535 - accuracy: 0.6459 - val_loss: 1.9365 - val_accuracy: 0.3875\n",
      "Epoch 36/100\n",
      "50/50 [==============================] - 5s 109ms/step - loss: 0.5353 - accuracy: 0.6547 - val_loss: 1.9189 - val_accuracy: 0.3871\n",
      "Epoch 37/100\n",
      "50/50 [==============================] - 5s 108ms/step - loss: 0.5206 - accuracy: 0.6618 - val_loss: 1.9522 - val_accuracy: 0.3846\n",
      "Epoch 38/100\n",
      "50/50 [==============================] - 5s 110ms/step - loss: 0.5027 - accuracy: 0.6720 - val_loss: 1.9398 - val_accuracy: 0.3892\n",
      "Epoch 39/100\n",
      "50/50 [==============================] - 5s 109ms/step - loss: 0.4849 - accuracy: 0.6822 - val_loss: 1.9398 - val_accuracy: 0.3926\n",
      "Epoch 40/100\n",
      "50/50 [==============================] - 5s 109ms/step - loss: 0.4692 - accuracy: 0.6899 - val_loss: 1.9609 - val_accuracy: 0.3929\n",
      "Epoch 41/100\n",
      "50/50 [==============================] - 5s 109ms/step - loss: 0.4530 - accuracy: 0.6983 - val_loss: 1.9344 - val_accuracy: 0.3914\n",
      "Epoch 42/100\n",
      "50/50 [==============================] - 5s 110ms/step - loss: 0.4387 - accuracy: 0.7044 - val_loss: 1.9559 - val_accuracy: 0.3930\n",
      "Epoch 43/100\n",
      "50/50 [==============================] - 5s 108ms/step - loss: 0.4235 - accuracy: 0.7148 - val_loss: 1.9391 - val_accuracy: 0.3974\n",
      "Epoch 44/100\n",
      "50/50 [==============================] - 5s 109ms/step - loss: 0.4094 - accuracy: 0.7197 - val_loss: 1.9545 - val_accuracy: 0.3967\n",
      "Epoch 45/100\n",
      "50/50 [==============================] - 5s 109ms/step - loss: 0.3934 - accuracy: 0.7312 - val_loss: 1.9469 - val_accuracy: 0.3989\n",
      "Epoch 46/100\n",
      "50/50 [==============================] - 6s 111ms/step - loss: 0.3800 - accuracy: 0.7377 - val_loss: 1.9652 - val_accuracy: 0.3956\n",
      "Epoch 47/100\n",
      "50/50 [==============================] - 5s 108ms/step - loss: 0.3648 - accuracy: 0.7474 - val_loss: 1.9585 - val_accuracy: 0.3959\n",
      "Epoch 48/100\n",
      "50/50 [==============================] - 5s 110ms/step - loss: 0.3553 - accuracy: 0.7503 - val_loss: 1.9584 - val_accuracy: 0.3991\n",
      "Epoch 49/100\n",
      "50/50 [==============================] - 6s 111ms/step - loss: 0.3401 - accuracy: 0.7595 - val_loss: 1.9833 - val_accuracy: 0.3988\n",
      "Epoch 50/100\n",
      "50/50 [==============================] - 5s 109ms/step - loss: 0.3286 - accuracy: 0.7661 - val_loss: 1.9805 - val_accuracy: 0.3996\n",
      "Epoch 51/100\n",
      "50/50 [==============================] - 5s 107ms/step - loss: 0.3164 - accuracy: 0.7722 - val_loss: 1.9773 - val_accuracy: 0.4017\n",
      "Epoch 52/100\n",
      "50/50 [==============================] - 5s 107ms/step - loss: 0.3058 - accuracy: 0.7783 - val_loss: 1.9938 - val_accuracy: 0.3977\n",
      "Epoch 53/100\n",
      "50/50 [==============================] - 5s 107ms/step - loss: 0.2948 - accuracy: 0.7836 - val_loss: 2.0033 - val_accuracy: 0.3991\n",
      "Epoch 54/100\n",
      "50/50 [==============================] - 5s 109ms/step - loss: 0.2812 - accuracy: 0.7916 - val_loss: 1.9901 - val_accuracy: 0.3967\n",
      "Epoch 55/100\n",
      "50/50 [==============================] - 5s 108ms/step - loss: 0.2720 - accuracy: 0.7972 - val_loss: 2.0119 - val_accuracy: 0.3985\n",
      "Epoch 56/100\n",
      "50/50 [==============================] - 5s 106ms/step - loss: 0.2635 - accuracy: 0.8014 - val_loss: 2.0106 - val_accuracy: 0.3963\n",
      "Epoch 57/100\n",
      "50/50 [==============================] - 5s 107ms/step - loss: 0.2527 - accuracy: 0.8083 - val_loss: 2.0253 - val_accuracy: 0.3980\n",
      "Epoch 58/100\n",
      "50/50 [==============================] - 6s 112ms/step - loss: 0.2436 - accuracy: 0.8115 - val_loss: 2.0210 - val_accuracy: 0.3995\n",
      "Epoch 59/100\n",
      "50/50 [==============================] - 5s 110ms/step - loss: 0.2340 - accuracy: 0.8165 - val_loss: 2.0484 - val_accuracy: 0.3982\n",
      "Epoch 60/100\n",
      "50/50 [==============================] - 6s 113ms/step - loss: 0.2262 - accuracy: 0.8202 - val_loss: 2.0567 - val_accuracy: 0.3981\n",
      "Epoch 61/100\n",
      "50/50 [==============================] - 6s 113ms/step - loss: 0.2173 - accuracy: 0.8248 - val_loss: 2.0440 - val_accuracy: 0.3893\n",
      "Epoch 62/100\n",
      "50/50 [==============================] - 6s 111ms/step - loss: 0.2083 - accuracy: 0.8304 - val_loss: 2.0518 - val_accuracy: 0.3982\n",
      "Epoch 63/100\n",
      "50/50 [==============================] - 5s 109ms/step - loss: 0.2013 - accuracy: 0.8332 - val_loss: 2.0796 - val_accuracy: 0.3998\n",
      "Epoch 64/100\n",
      "50/50 [==============================] - 5s 107ms/step - loss: 0.1945 - accuracy: 0.8382 - val_loss: 2.0391 - val_accuracy: 0.4017\n",
      "Epoch 65/100\n",
      "50/50 [==============================] - 5s 105ms/step - loss: 0.1881 - accuracy: 0.8407 - val_loss: 2.0692 - val_accuracy: 0.3947\n",
      "Epoch 66/100\n",
      "50/50 [==============================] - 5s 107ms/step - loss: 0.1803 - accuracy: 0.8457 - val_loss: 2.0609 - val_accuracy: 0.3927\n",
      "Epoch 67/100\n",
      "50/50 [==============================] - 5s 106ms/step - loss: 0.1765 - accuracy: 0.8453 - val_loss: 2.0805 - val_accuracy: 0.3992\n",
      "Epoch 68/100\n",
      "50/50 [==============================] - 5s 107ms/step - loss: 0.1689 - accuracy: 0.8515 - val_loss: 2.0771 - val_accuracy: 0.4009\n",
      "Epoch 69/100\n",
      "50/50 [==============================] - 5s 109ms/step - loss: 0.1639 - accuracy: 0.8522 - val_loss: 2.0814 - val_accuracy: 0.3877\n",
      "Epoch 70/100\n",
      "50/50 [==============================] - 5s 108ms/step - loss: 0.1580 - accuracy: 0.8553 - val_loss: 2.0887 - val_accuracy: 0.4000\n",
      "Epoch 71/100\n",
      "50/50 [==============================] - 5s 107ms/step - loss: 0.1535 - accuracy: 0.8573 - val_loss: 2.0846 - val_accuracy: 0.3963\n",
      "Epoch 72/100\n",
      "50/50 [==============================] - 5s 108ms/step - loss: 0.1491 - accuracy: 0.8588 - val_loss: 2.0983 - val_accuracy: 0.4007\n",
      "Epoch 73/100\n",
      "50/50 [==============================] - 5s 108ms/step - loss: 0.1441 - accuracy: 0.8613 - val_loss: 2.1047 - val_accuracy: 0.3980\n",
      "Epoch 74/100\n",
      "50/50 [==============================] - 5s 106ms/step - loss: 0.1397 - accuracy: 0.8633 - val_loss: 2.0925 - val_accuracy: 0.3930\n",
      "Epoch 75/100\n",
      "50/50 [==============================] - 5s 109ms/step - loss: 0.1356 - accuracy: 0.8645 - val_loss: 2.1136 - val_accuracy: 0.3976\n",
      "Epoch 76/100\n",
      "50/50 [==============================] - 5s 107ms/step - loss: 0.1317 - accuracy: 0.8663 - val_loss: 2.1007 - val_accuracy: 0.3918\n",
      "Epoch 77/100\n",
      "50/50 [==============================] - 5s 107ms/step - loss: 0.1289 - accuracy: 0.8656 - val_loss: 2.1135 - val_accuracy: 0.3943\n",
      "Epoch 78/100\n",
      "50/50 [==============================] - 5s 107ms/step - loss: 0.1249 - accuracy: 0.8684 - val_loss: 2.1383 - val_accuracy: 0.3978\n",
      "Epoch 79/100\n",
      "50/50 [==============================] - 5s 106ms/step - loss: 0.1225 - accuracy: 0.8681 - val_loss: 2.1154 - val_accuracy: 0.3985\n",
      "Epoch 80/100\n",
      "50/50 [==============================] - 5s 106ms/step - loss: 0.1193 - accuracy: 0.8696 - val_loss: 2.1530 - val_accuracy: 0.3974\n",
      "Epoch 81/100\n",
      "50/50 [==============================] - 5s 106ms/step - loss: 0.1159 - accuracy: 0.8704 - val_loss: 2.1185 - val_accuracy: 0.3988\n",
      "Epoch 82/100\n",
      "50/50 [==============================] - 5s 108ms/step - loss: 0.1154 - accuracy: 0.8702 - val_loss: 2.1245 - val_accuracy: 0.3927\n",
      "Epoch 83/100\n",
      "50/50 [==============================] - 5s 106ms/step - loss: 0.1110 - accuracy: 0.8725 - val_loss: 2.1352 - val_accuracy: 0.3949\n",
      "Epoch 84/100\n",
      "50/50 [==============================] - 5s 106ms/step - loss: 0.1096 - accuracy: 0.8723 - val_loss: 2.1374 - val_accuracy: 0.3925\n",
      "Epoch 85/100\n",
      "50/50 [==============================] - 5s 107ms/step - loss: 0.1075 - accuracy: 0.8731 - val_loss: 2.1374 - val_accuracy: 0.3944\n",
      "Epoch 86/100\n",
      "50/50 [==============================] - 5s 107ms/step - loss: 0.1049 - accuracy: 0.8739 - val_loss: 2.1604 - val_accuracy: 0.3937\n",
      "Epoch 87/100\n",
      "50/50 [==============================] - 5s 108ms/step - loss: 0.1031 - accuracy: 0.8743 - val_loss: 2.1453 - val_accuracy: 0.3988\n",
      "Epoch 88/100\n",
      "50/50 [==============================] - 6s 116ms/step - loss: 0.1026 - accuracy: 0.8735 - val_loss: 2.1679 - val_accuracy: 0.4003\n",
      "Epoch 89/100\n",
      "50/50 [==============================] - 6s 129ms/step - loss: 0.1008 - accuracy: 0.8750 - val_loss: 2.1550 - val_accuracy: 0.3962\n",
      "Epoch 90/100\n",
      "50/50 [==============================] - 6s 126ms/step - loss: 0.0988 - accuracy: 0.8749 - val_loss: 2.1593 - val_accuracy: 0.4031\n",
      "Epoch 91/100\n",
      "50/50 [==============================] - 5s 108ms/step - loss: 0.0973 - accuracy: 0.8750 - val_loss: 2.1668 - val_accuracy: 0.3951\n",
      "Epoch 92/100\n",
      "50/50 [==============================] - 5s 108ms/step - loss: 0.0967 - accuracy: 0.8746 - val_loss: 2.1757 - val_accuracy: 0.4046\n",
      "Epoch 93/100\n",
      "50/50 [==============================] - 5s 108ms/step - loss: 0.0957 - accuracy: 0.8756 - val_loss: 2.1681 - val_accuracy: 0.3956\n",
      "Epoch 94/100\n",
      "50/50 [==============================] - 5s 109ms/step - loss: 0.0939 - accuracy: 0.8753 - val_loss: 2.1908 - val_accuracy: 0.4028\n",
      "Epoch 95/100\n",
      "50/50 [==============================] - 5s 107ms/step - loss: 0.0933 - accuracy: 0.8756 - val_loss: 2.1731 - val_accuracy: 0.3976\n",
      "Epoch 96/100\n",
      "50/50 [==============================] - 5s 106ms/step - loss: 0.0922 - accuracy: 0.8755 - val_loss: 2.1939 - val_accuracy: 0.4037\n",
      "Epoch 97/100\n",
      "50/50 [==============================] - 5s 107ms/step - loss: 0.0914 - accuracy: 0.8758 - val_loss: 2.1875 - val_accuracy: 0.4062\n",
      "Epoch 98/100\n",
      "50/50 [==============================] - 5s 107ms/step - loss: 0.0912 - accuracy: 0.8748 - val_loss: 2.1833 - val_accuracy: 0.3949\n",
      "Epoch 99/100\n",
      "50/50 [==============================] - 5s 107ms/step - loss: 0.0899 - accuracy: 0.8764 - val_loss: 2.1968 - val_accuracy: 0.4014\n",
      "Epoch 100/100\n",
      "50/50 [==============================] - 5s 108ms/step - loss: 0.0895 - accuracy: 0.8759 - val_loss: 2.2074 - val_accuracy: 0.4051\n"
     ]
    },
    {
     "data": {
      "text/plain": [
       "<keras.callbacks.History at 0x1b75e2abbe0>"
      ]
     },
     "execution_count": 16,
     "metadata": {},
     "output_type": "execute_result"
    }
   ],
   "source": [
    "# Fit the data to the model.\n",
    "model.fit([enc_input_data, dec_input_data], dec_output_data,\n",
    "            batch_size=128, epochs=100, validation_split=0.2, shuffle=False)"
   ]
  },
  {
   "cell_type": "markdown",
   "metadata": {},
   "source": [
    "Inference phase"
   ]
  },
  {
   "cell_type": "code",
   "execution_count": 17,
   "metadata": {},
   "outputs": [],
   "source": [
    "# Model to encode the input.\n",
    "enc_model = Model(enc_input, [state_h, state_c])\n",
    "\n",
    "# The hidden and cell states of the decoder at each step.\n",
    "dec_state_in_h = Input(shape=(256,))\n",
    "dec_state_in_c = Input(shape=(256,))\n",
    "\n",
    "# Set the embedding layer.\n",
    "dec_embed_2 = embed_layer(dec_input)\n",
    "\n",
    "# Set the LSTM layer.\n",
    "dec_output_2, dec_state_out_h, dec_state_out_c = dec_LSTM(dec_embed_2, initial_state=[dec_state_in_h, dec_state_in_c])\n",
    "\n",
    "# Set the output layer for the decoder.\n",
    "dec_output_2 = dec_dense(dec_output_2)\n",
    "\n",
    "# Create the decoder model.\n",
    "decoder_model = Model([dec_input] + [dec_state_in_h, dec_state_in_c],\n",
    "                        [dec_output_2] + [dec_state_out_h, dec_state_out_c])"
   ]
  },
  {
   "cell_type": "code",
   "execution_count": 18,
   "metadata": {},
   "outputs": [
    {
     "data": {
      "image/png": "[encoded data removed]",
      "text/plain": [
       "<IPython.core.display.Image object>"
      ]
     },
     "execution_count": 18,
     "metadata": {},
     "output_type": "execute_result"
    }
   ],
   "source": [
    "# Plot the model.\n",
    "plot_model(decoder_model, to_file='./images/inference_model_plot.png', show_shapes=True, show_layer_names=True, dpi=100)"
   ]
  },
  {
   "cell_type": "code",
   "execution_count": 19,
   "metadata": {},
   "outputs": [],
   "source": [
    "# Translate an input sentence.\n",
    "def getTranslation(index):\n",
    "\n",
    "    translation = word = ''\n",
    "\n",
    "    # Choose randomly a sequence from the data set.\n",
    "    #i = np.random.choice(len(data['source']))\n",
    "\n",
    "    # Choose a sequence from the data set.\n",
    "    source_seq = enc_input_data[index:index+1]\n",
    "\n",
    "    # Get the initial input states for the decoder.\n",
    "    states_h_c = enc_model.predict(source_seq)\n",
    "\n",
    "    # The first input token to the decoder is start_of_stream.\n",
    "    token = np.zeros((1,1))\n",
    "    token[0, 0] = trg_word2idx['<sos>']\n",
    "\n",
    "    # Start the decoding process.\n",
    "    while (word != '<eos>' and len(translation) <= 100):\n",
    "\n",
    "        # Predict the next token and states.\n",
    "        output, state_h, state_c = decoder_model.predict([token] + states_h_c)\n",
    "        \n",
    "        # Store the emitted token and the states for the next iteration.\n",
    "        idx = np.argmax(output[0, -1, :])\n",
    "        token[0, 0] = idx\n",
    "        states_h_c = [state_h, state_c]\n",
    "\n",
    "        # Extract the emitted word.\n",
    "        word = trg_idx2word[idx]\n",
    "        translation += ' ' + word\n",
    "\n",
    "    return translation"
   ]
  },
  {
   "cell_type": "code",
   "execution_count": 20,
   "metadata": {},
   "outputs": [
    {
     "name": "stdout",
     "output_type": "stream",
     "text": [
      "Input sentence: Seriously?\n",
      "Reference translation:  C'est vrai ? \n",
      "Hypothesis:  Vraiment ?\n"
     ]
    }
   ],
   "source": [
    "print(\"Input sentence:\", data['source'][1308])\n",
    "print(\"Reference translation:\", data['target'][1308].replace(\"<sos>\",\"\").replace(\"<eos>\",\"\"))\n",
    "print(\"Hypothesis:\", getTranslation(1308)[:-6])"
   ]
  },
  {
   "cell_type": "code",
   "execution_count": 21,
   "metadata": {},
   "outputs": [
    {
     "name": "stdout",
     "output_type": "stream",
     "text": [
      "Input sentence: I relaxed.\n",
      "Reference translation: ['Je', 'me', 'suis', 'détendue.']\n",
      "Hypothesis: ['Je', 'me', 'suis', 'détendu.']\n",
      "BLUE score: 0.25\n"
     ]
    }
   ],
   "source": [
    "from nltk.translate.bleu_score import sentence_bleu\n",
    "\n",
    "hypothesis = getTranslation(1006)[:-6].split()\n",
    "reference = data['target'][1006].replace(\"<sos>\",\"\").replace(\"<eos>\",\"\").split()\n",
    "\n",
    "# Calculate the BLUE score.\n",
    "bleu = sentence_bleu([reference], hypothesis, weights=(1, 1, 1))\n",
    "\n",
    "print(\"Input sentence:\", data['source'][1006])\n",
    "print(\"Reference translation:\", reference)\n",
    "print(\"Hypothesis:\", hypothesis)\n",
    "print(\"BLUE score:\", bleu)"
   ]
  },
  {
   "cell_type": "markdown",
   "metadata": {},
   "source": [
    "### Machine Learning Techniques for Text \n",
    "&copy;2021&ndash;2022, Nikos Tsourakis, <nikos@tsourakis.net>, Packt Publications. All Rights Reserved."
   ]
  }
 ],
 "metadata": {
  "interpreter": {
   "hash": "8f1e200aa4e9598f1b1017d8bb6526388dc3fae44f5def43455ba665e800f8e8"
  },
  "kernelspec": {
   "display_name": "Python 3.9.7 64-bit",
   "language": "python",
   "name": "python3"
  },
  "language_info": {
   "codemirror_mode": {
    "name": "ipython",
    "version": 3
   },
   "file_extension": ".py",
   "mimetype": "text/x-python",
   "name": "python",
   "nbconvert_exporter": "python",
   "pygments_lexer": "ipython3",
   "version": "3.9.7"
  },
  "metadata": {
   "interpreter": {
    "hash": "5ec7f24bccdc5982815fc9e679db841794fd8b692b70ffe03fd828d6ea20f1fe"
   }
  },
  "orig_nbformat": 2
 },
 "nbformat": 4,
 "nbformat_minor": 2
}
