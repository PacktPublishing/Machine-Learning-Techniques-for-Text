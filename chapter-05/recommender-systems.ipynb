{
 "cells": [
  {
   "cell_type": "markdown",
   "metadata": {},
   "source": [
    "# <u>Chapter 5</u>: Recommending Music Titles\n",
    "\n",
    "Consumer choices and how they can be influenced are critical factors for every business. For instance, most people are interested in specific music genres, have favorite authors, or engage in particular hobbies. This information can be extracted from their purchase history or product reviews, and when utilized correctly, it can drastically increase the company’s profit. We have all encountered similar functionality on different online platforms that suggest products to buy, news to watch, friends to connect with, jobs to apply to, or restaurants to eat at. These systems fall under the general category of `recommender systems`, which is the topic of this exercise.\n",
    "\n",
    "\n",
    "We focus on two categories, namely __content-based__ and __collaborative-filtering__ types for creating different music title recommenders using [Snap](https://snap.stanford.edu/data/web-Amazon-links.html).\n"
   ]
  },
  {
   "cell_type": "code",
   "execution_count": 6,
   "metadata": {},
   "outputs": [],
   "source": [
    "import sys\n",
    "import subprocess\n",
    "import pkg_resources\n",
    "\n",
    "# Find out which packages are missing.\n",
    "installed_packages = {dist.key for dist in pkg_resources.working_set}\n",
    "required_packages = {'wget', 'pandas', 'surprise', 'nltk', 'numpy', 'sklearn', 'matplotlib', 'seaborn'}\n",
    "missing_packages = required_packages - installed_packages\n",
    "\n",
    "# If there are missing packages install them.\n",
    "if missing_packages:\n",
    "    print('Installing the following packages: ' + str(missing_packages))\n",
    "    python = sys.executable\n",
    "    subprocess.check_call([python, '-m', 'pip', 'install', *missing_packages], stdout=subprocess.DEVNULL)"
   ]
  },
  {
   "cell_type": "markdown",
   "metadata": {},
   "source": [
    "The dataset can be downloaded automatically using the following code."
   ]
  },
  {
   "cell_type": "code",
   "execution_count": 7,
   "metadata": {},
   "outputs": [],
   "source": [
    "import os\n",
    "import sys\n",
    "import wget\n",
    "\n",
    "# Progress bar for wget.\n",
    "def progress_bar(current, total, width=80):\n",
    "  msg = \"Downloading: %d%% [%d / %d] bytes\" % (current/total*100, current, total)\n",
    "  sys.stdout.write(\"\\r\" + msg)\n",
    "  sys.stdout.flush()\n",
    "\n",
    "# Check whether the data file exists (~2GB) and if not download it.\n",
    "file_exists = os.path.exists(\"./data/Music.txt.gz\")\n",
    "if not file_exists:\n",
    "    url = 'https://snap.stanford.edu/data/amazon/Music.txt.gz'\n",
    "    # The download will take several minutes.\n",
    "    filename = wget.download(url, out='./data', bar=progress_bar)"
   ]
  },
  {
   "cell_type": "markdown",
   "metadata": {},
   "source": [
    "## Exploratory data analysis\n",
    "\n",
    "We start with an exploratory data analysis, as in every machine learning problem. Before we start an in-depth analysis, we extract some basic information from the corpus. We generate different plots to shed some light on the dataset and avoid possible pitfalls in the subsequent analysis.\n",
    "\n",
    "First, we create the method to obtain the product categories from a file."
   ]
  },
  {
   "cell_type": "code",
   "execution_count": 8,
   "metadata": {},
   "outputs": [],
   "source": [
    "import gzip\n",
    "import pandas as pd\n",
    "\n",
    "pd.options.mode.chained_assignment = None\n",
    "\n",
    "# Method for reading the categories file.\n",
    "def readCategories(filename):\n",
    "  i, productId, d = 0, '', {}\n",
    "  f = gzip.open(filename, 'rb')\n",
    "\n",
    "  # Iterate over all lines in the file.\n",
    "  for l in f:\n",
    "    spacesPos = l.find(b' ')\n",
    "    l = l.strip().decode(\"latin-1\")\n",
    "    \n",
    "    # Check whether we are reading a product id or a product category.\n",
    "    if spacesPos != -1:\n",
    "      # The categories are separated by a comma.\n",
    "      for c in l.split(','):\n",
    "        # Store the category for a specific product.\n",
    "        d[i] = {'product/productId':productId, 'category':c}\n",
    "        i += 1\n",
    "    else:\n",
    "      productId = l # Store the product id.\n",
    "\n",
    "  return pd.DataFrame.from_dict(d, columns=['product/productId', 'category'],  orient='index')"
   ]
  },
  {
   "cell_type": "markdown",
   "metadata": {},
   "source": [
    "We can now call the `readCategories` method for the `categories.txt.gz` file and obtain its data."
   ]
  },
  {
   "cell_type": "code",
   "execution_count": 9,
   "metadata": {},
   "outputs": [
    {
     "data": {
      "text/html": [
       "<div>\n",
       "<style scoped>\n",
       "    .dataframe tbody tr th:only-of-type {\n",
       "        vertical-align: middle;\n",
       "    }\n",
       "\n",
       "    .dataframe tbody tr th {\n",
       "        vertical-align: top;\n",
       "    }\n",
       "\n",
       "    .dataframe thead th {\n",
       "        text-align: right;\n",
       "    }\n",
       "</style>\n",
       "<table border=\"1\" class=\"dataframe\">\n",
       "  <thead>\n",
       "    <tr style=\"text-align: right;\">\n",
       "      <th></th>\n",
       "      <th>product/productId</th>\n",
       "      <th>category</th>\n",
       "    </tr>\n",
       "  </thead>\n",
       "  <tbody>\n",
       "    <tr>\n",
       "      <th>0</th>\n",
       "      <td>B0027DQHA0</td>\n",
       "      <td>Movies &amp; TV</td>\n",
       "    </tr>\n",
       "    <tr>\n",
       "      <th>1</th>\n",
       "      <td>B0027DQHA0</td>\n",
       "      <td>TV</td>\n",
       "    </tr>\n",
       "    <tr>\n",
       "      <th>2</th>\n",
       "      <td>B0027DQHA0</td>\n",
       "      <td>Music</td>\n",
       "    </tr>\n",
       "    <tr>\n",
       "      <th>3</th>\n",
       "      <td>B0027DQHA0</td>\n",
       "      <td>Classical</td>\n",
       "    </tr>\n",
       "    <tr>\n",
       "      <th>4</th>\n",
       "      <td>0756400120</td>\n",
       "      <td>Books</td>\n",
       "    </tr>\n",
       "  </tbody>\n",
       "</table>\n",
       "</div>"
      ],
      "text/plain": [
       "  product/productId     category\n",
       "0        B0027DQHA0  Movies & TV\n",
       "1        B0027DQHA0           TV\n",
       "2        B0027DQHA0        Music\n",
       "3        B0027DQHA0    Classical\n",
       "4        0756400120        Books"
      ]
     },
     "execution_count": 9,
     "metadata": {},
     "output_type": "execute_result"
    }
   ],
   "source": [
    "df = readCategories('./data/categories.txt.gz')\n",
    "\n",
    "# Remove duplicate categories for each product.\n",
    "df = df.drop_duplicates(subset=['product/productId', 'category'], keep='first')\n",
    "\n",
    "df.head()"
   ]
  },
  {
   "cell_type": "code",
   "execution_count": 10,
   "metadata": {},
   "outputs": [
    {
     "data": {
      "text/html": [
       "<div>\n",
       "<style scoped>\n",
       "    .dataframe tbody tr th:only-of-type {\n",
       "        vertical-align: middle;\n",
       "    }\n",
       "\n",
       "    .dataframe tbody tr th {\n",
       "        vertical-align: top;\n",
       "    }\n",
       "\n",
       "    .dataframe thead th {\n",
       "        text-align: right;\n",
       "    }\n",
       "</style>\n",
       "<table border=\"1\" class=\"dataframe\">\n",
       "  <thead>\n",
       "    <tr style=\"text-align: right;\">\n",
       "      <th></th>\n",
       "      <th>productId</th>\n",
       "      <th>category</th>\n",
       "    </tr>\n",
       "  </thead>\n",
       "  <tbody>\n",
       "    <tr>\n",
       "      <th>0</th>\n",
       "      <td>0000000868</td>\n",
       "      <td>Books| New| Used &amp; Rental Textbooks| Science &amp;...</td>\n",
       "    </tr>\n",
       "    <tr>\n",
       "      <th>1</th>\n",
       "      <td>0000020214</td>\n",
       "      <td>Books</td>\n",
       "    </tr>\n",
       "    <tr>\n",
       "      <th>2</th>\n",
       "      <td>0000024341</td>\n",
       "      <td>Books</td>\n",
       "    </tr>\n",
       "    <tr>\n",
       "      <th>3</th>\n",
       "      <td>0000025240</td>\n",
       "      <td>Books| New| Used &amp; Rental Textbooks| Social Sc...</td>\n",
       "    </tr>\n",
       "    <tr>\n",
       "      <th>4</th>\n",
       "      <td>0000038504</td>\n",
       "      <td>Books</td>\n",
       "    </tr>\n",
       "  </tbody>\n",
       "</table>\n",
       "</div>"
      ],
      "text/plain": [
       "    productId                                           category\n",
       "0  0000000868  Books| New| Used & Rental Textbooks| Science &...\n",
       "1  0000020214                                              Books\n",
       "2  0000024341                                              Books\n",
       "3  0000025240  Books| New| Used & Rental Textbooks| Social Sc...\n",
       "4  0000038504                                              Books"
      ]
     },
     "execution_count": 10,
     "metadata": {},
     "output_type": "execute_result"
    }
   ],
   "source": [
    "# Merge the categories for each product.\n",
    "merged = pd.DataFrame(df.groupby('product/productId', as_index=False)['category'].apply(lambda x: \"%s\" % '|'.join(x)))\n",
    "merged.columns = ['productId', 'category']\n",
    "\n",
    "merged.head(5)"
   ]
  },
  {
   "cell_type": "code",
   "execution_count": 11,
   "metadata": {},
   "outputs": [],
   "source": [
    "# Method for reading the keys/values in the file.\n",
    "def parseKeysValues(filename):\n",
    "  f = gzip.open(filename, 'rb')\n",
    "  entry = {}\n",
    "  \n",
    "  # Iterate over all lines in the file.\n",
    "  for l in f:\n",
    "    l = l.strip()\n",
    "    # The key/value are separated by a colon.\n",
    "    colonPos = l.find(b':')\n",
    "    if colonPos == -1:\n",
    "      yield entry\n",
    "      entry = {}\n",
    "      continue\n",
    "    key = l[:colonPos].decode(\"latin-1\")\n",
    "    value = l[colonPos+2:].decode(\"latin-1\")\n",
    "    entry[key] = value\n",
    "  yield entry"
   ]
  },
  {
   "cell_type": "code",
   "execution_count": 12,
   "metadata": {},
   "outputs": [],
   "source": [
    "# Method for reading the reviews file.\n",
    "def readReviews(path, num=-1):\n",
    "  i = 0\n",
    "  df = {}\n",
    "  for d in parseKeysValues(path):\n",
    "    df[i] = d\n",
    "    i += 1\n",
    "    if i == num:\n",
    "      break\n",
    "  return pd.DataFrame.from_dict(df, orient='index')"
   ]
  },
  {
   "cell_type": "markdown",
   "metadata": {},
   "source": [
    "The analysis begins by loading the data from the corpus. Calling the _readReviews_ method, we extract 250000 samples from the dataset."
   ]
  },
  {
   "cell_type": "code",
   "execution_count": 13,
   "metadata": {},
   "outputs": [
    {
     "data": {
      "text/plain": [
       "(250000, 10)"
      ]
     },
     "execution_count": 13,
     "metadata": {},
     "output_type": "execute_result"
    }
   ],
   "source": [
    "# Read the reviews from the data.\n",
    "reviews = readReviews('./data/Music.txt.gz', 250000)\n",
    "reviews.shape"
   ]
  },
  {
   "cell_type": "markdown",
   "metadata": {},
   "source": [
    "Next, we will perform a couple of transformations on the data to facilitate the analysis."
   ]
  },
  {
   "cell_type": "code",
   "execution_count": 14,
   "metadata": {},
   "outputs": [
    {
     "data": {
      "text/html": [
       "<div>\n",
       "<style scoped>\n",
       "    .dataframe tbody tr th:only-of-type {\n",
       "        vertical-align: middle;\n",
       "    }\n",
       "\n",
       "    .dataframe tbody tr th {\n",
       "        vertical-align: top;\n",
       "    }\n",
       "\n",
       "    .dataframe thead th {\n",
       "        text-align: right;\n",
       "    }\n",
       "</style>\n",
       "<table border=\"1\" class=\"dataframe\">\n",
       "  <thead>\n",
       "    <tr style=\"text-align: right;\">\n",
       "      <th></th>\n",
       "      <th>productId</th>\n",
       "      <th>userId</th>\n",
       "      <th>score</th>\n",
       "      <th>text</th>\n",
       "    </tr>\n",
       "  </thead>\n",
       "  <tbody>\n",
       "    <tr>\n",
       "      <th>0</th>\n",
       "      <td>B00002066I</td>\n",
       "      <td>unknown</td>\n",
       "      <td>5.0</td>\n",
       "      <td>I hope a lot of people hear this cd. We need m...</td>\n",
       "    </tr>\n",
       "    <tr>\n",
       "      <th>1</th>\n",
       "      <td>B00002066I</td>\n",
       "      <td>A2KLYVAS0MIBMQ</td>\n",
       "      <td>5.0</td>\n",
       "      <td>My lovely Pat has one of the GREAT voices of h...</td>\n",
       "    </tr>\n",
       "    <tr>\n",
       "      <th>2</th>\n",
       "      <td>B000058A81</td>\n",
       "      <td>A18C9SNLZWVBIE</td>\n",
       "      <td>5.0</td>\n",
       "      <td>We've come a long way since the days of Ninete...</td>\n",
       "    </tr>\n",
       "    <tr>\n",
       "      <th>3</th>\n",
       "      <td>B000058A81</td>\n",
       "      <td>A38QSOKE2DD8JD</td>\n",
       "      <td>5.0</td>\n",
       "      <td>Final fantasy fans may be at first skeptical o...</td>\n",
       "    </tr>\n",
       "    <tr>\n",
       "      <th>4</th>\n",
       "      <td>B000058A81</td>\n",
       "      <td>AKZLIIH3AP4RU</td>\n",
       "      <td>5.0</td>\n",
       "      <td>This has got to be one of the best video game ...</td>\n",
       "    </tr>\n",
       "  </tbody>\n",
       "</table>\n",
       "</div>"
      ],
      "text/plain": [
       "    productId          userId  score  \\\n",
       "0  B00002066I         unknown    5.0   \n",
       "1  B00002066I  A2KLYVAS0MIBMQ    5.0   \n",
       "2  B000058A81  A18C9SNLZWVBIE    5.0   \n",
       "3  B000058A81  A38QSOKE2DD8JD    5.0   \n",
       "4  B000058A81   AKZLIIH3AP4RU    5.0   \n",
       "\n",
       "                                                text  \n",
       "0  I hope a lot of people hear this cd. We need m...  \n",
       "1  My lovely Pat has one of the GREAT voices of h...  \n",
       "2  We've come a long way since the days of Ninete...  \n",
       "3  Final fantasy fans may be at first skeptical o...  \n",
       "4  This has got to be one of the best video game ...  "
      ]
     },
     "execution_count": 14,
     "metadata": {},
     "output_type": "execute_result"
    }
   ],
   "source": [
    "# Rename the columns for convenience.\n",
    "reviews.columns = ['productId', 'title', 'price', 'userId', 'profileName', 'helpfulness', 'score', 'time', 'summary', 'text']\n",
    "\n",
    "# Make the scores float values.\n",
    "reviews['score'] = reviews['score'].astype(float)\n",
    "\n",
    "reviews[['productId', 'userId', 'score', 'text']].head(5)"
   ]
  },
  {
   "cell_type": "markdown",
   "metadata": {},
   "source": [
    "The cleaning phase starts with the removal of samples, including the unknown identifier, according to the following code."
   ]
  },
  {
   "cell_type": "code",
   "execution_count": 15,
   "metadata": {},
   "outputs": [
    {
     "data": {
      "text/plain": [
       "(202111, 10)"
      ]
     },
     "execution_count": 15,
     "metadata": {},
     "output_type": "execute_result"
    }
   ],
   "source": [
    "# Remove reviews for unknown profiles.\n",
    "reviews = reviews[reviews['userId'] != 'unknown']\n",
    "reviews.shape"
   ]
  },
  {
   "cell_type": "markdown",
   "metadata": {},
   "source": [
    "The result suggests that a large portion of the samples included this generic identifier. Also, for a small subset of the samples, there isn’t a title for the product."
   ]
  },
  {
   "cell_type": "code",
   "execution_count": 16,
   "metadata": {},
   "outputs": [
    {
     "data": {
      "text/plain": [
       "(202066, 10)"
      ]
     },
     "execution_count": 16,
     "metadata": {},
     "output_type": "execute_result"
    }
   ],
   "source": [
    "# Remove reviews with empty titles.\n",
    "reviews = reviews[reviews['title'] != '']\n",
    "reviews.shape"
   ]
  },
  {
   "cell_type": "markdown",
   "metadata": {},
   "source": [
    "Next, we decide to keep only one review for a specific product and user."
   ]
  },
  {
   "cell_type": "code",
   "execution_count": 17,
   "metadata": {},
   "outputs": [
    {
     "data": {
      "text/plain": [
       "(197596, 10)"
      ]
     },
     "execution_count": 17,
     "metadata": {},
     "output_type": "execute_result"
    }
   ],
   "source": [
    "# Remove multiple reviews from the same user and product.\n",
    "reviews = reviews.drop_duplicates(subset=['productId', 'userId'], keep='first')\n",
    "reviews.shape"
   ]
  },
  {
   "cell_type": "markdown",
   "metadata": {},
   "source": [
    "We will keep one review for a specific title and user."
   ]
  },
  {
   "cell_type": "code",
   "execution_count": 18,
   "metadata": {},
   "outputs": [
    {
     "data": {
      "text/plain": [
       "(188837, 10)"
      ]
     },
     "execution_count": 18,
     "metadata": {},
     "output_type": "execute_result"
    }
   ],
   "source": [
    "# Remove multiple reviews from the same user and title.\n",
    "reviews = reviews.drop_duplicates(subset=['title', 'userId'], keep='first')\n",
    "reviews.shape"
   ]
  },
  {
   "cell_type": "markdown",
   "metadata": {},
   "source": [
    "Another annoying situation is when a product appears with more than one identifier. In this case, we will keep just one _productId_ per item."
   ]
  },
  {
   "cell_type": "code",
   "execution_count": 19,
   "metadata": {},
   "outputs": [
    {
     "data": {
      "text/plain": [
       "(178058, 10)"
      ]
     },
     "execution_count": 19,
     "metadata": {},
     "output_type": "execute_result"
    }
   ],
   "source": [
    "# Keep one product id for titles with multiple ones.\n",
    "unique_ids = reviews[~reviews.duplicated(['productId', 'title'])]\n",
    "unique_ids = unique_ids.drop_duplicates(subset=['title'], keep='first')\n",
    "reviews = reviews[reviews['productId'].isin(unique_ids['productId'])]\n",
    "\n",
    "reviews.shape"
   ]
  },
  {
   "cell_type": "markdown",
   "metadata": {},
   "source": [
    "The names of several titles appear as slightly different versions, as the following example demonstrates."
   ]
  },
  {
   "cell_type": "code",
   "execution_count": 20,
   "metadata": {},
   "outputs": [
    {
     "data": {
      "text/html": [
       "<div>\n",
       "<style scoped>\n",
       "    .dataframe tbody tr th:only-of-type {\n",
       "        vertical-align: middle;\n",
       "    }\n",
       "\n",
       "    .dataframe tbody tr th {\n",
       "        vertical-align: top;\n",
       "    }\n",
       "\n",
       "    .dataframe thead th {\n",
       "        text-align: right;\n",
       "    }\n",
       "</style>\n",
       "<table border=\"1\" class=\"dataframe\">\n",
       "  <thead>\n",
       "    <tr style=\"text-align: right;\">\n",
       "      <th></th>\n",
       "      <th>productId</th>\n",
       "      <th>title</th>\n",
       "      <th>price</th>\n",
       "      <th>userId</th>\n",
       "      <th>profileName</th>\n",
       "      <th>helpfulness</th>\n",
       "      <th>score</th>\n",
       "      <th>time</th>\n",
       "      <th>summary</th>\n",
       "      <th>text</th>\n",
       "    </tr>\n",
       "  </thead>\n",
       "  <tbody>\n",
       "    <tr>\n",
       "      <th>84481</th>\n",
       "      <td>B000I26XF6</td>\n",
       "      <td>Sgt. Pepper's Lonely Hearts Club Band</td>\n",
       "      <td>unknown</td>\n",
       "      <td>A17CF6FWOLGIQY</td>\n",
       "      <td>GREG WALLACE \"GW\"</td>\n",
       "      <td>3/3</td>\n",
       "      <td>5.0</td>\n",
       "      <td>1125360000</td>\n",
       "      <td>The Ultimate Psychedelic Sunshine Album</td>\n",
       "      <td>I started collecting Beatle records around the...</td>\n",
       "    </tr>\n",
       "    <tr>\n",
       "      <th>198901</th>\n",
       "      <td>B000MU2LJG</td>\n",
       "      <td>Sgt. Peppers Lonely Hearts Club Band</td>\n",
       "      <td>unknown</td>\n",
       "      <td>A1AED3TF9SPA9B</td>\n",
       "      <td>John D.</td>\n",
       "      <td>7/8</td>\n",
       "      <td>1.0</td>\n",
       "      <td>1353628800</td>\n",
       "      <td>Sgt Peppers Lonely Hearts Club Band 2012 Vinyl...</td>\n",
       "      <td>I am sure that a perfectly pressed copy of thi...</td>\n",
       "    </tr>\n",
       "  </tbody>\n",
       "</table>\n",
       "</div>"
      ],
      "text/plain": [
       "         productId                                  title    price  \\\n",
       "84481   B000I26XF6  Sgt. Pepper's Lonely Hearts Club Band  unknown   \n",
       "198901  B000MU2LJG   Sgt. Peppers Lonely Hearts Club Band  unknown   \n",
       "\n",
       "                userId        profileName helpfulness  score        time  \\\n",
       "84481   A17CF6FWOLGIQY  GREG WALLACE \"GW\"         3/3    5.0  1125360000   \n",
       "198901  A1AED3TF9SPA9B            John D.         7/8    1.0  1353628800   \n",
       "\n",
       "                                                  summary  \\\n",
       "84481             The Ultimate Psychedelic Sunshine Album   \n",
       "198901  Sgt Peppers Lonely Hearts Club Band 2012 Vinyl...   \n",
       "\n",
       "                                                     text  \n",
       "84481   I started collecting Beatle records around the...  \n",
       "198901  I am sure that a perfectly pressed copy of thi...  "
      ]
     },
     "execution_count": 20,
     "metadata": {},
     "output_type": "execute_result"
    }
   ],
   "source": [
    "reviews[reviews['title'].str.contains('Lonely Heart')].drop_duplicates(subset=['title'], keep='first')"
   ]
  },
  {
   "cell_type": "markdown",
   "metadata": {},
   "source": [
    "We can now filter the titles in the dataset."
   ]
  },
  {
   "cell_type": "code",
   "execution_count": 21,
   "metadata": {},
   "outputs": [
    {
     "data": {
      "text/plain": [
       "(172160, 10)"
      ]
     },
     "execution_count": 21,
     "metadata": {},
     "output_type": "execute_result"
    }
   ],
   "source": [
    "# Load music items with similar titles.\n",
    "similar_titles = pd.read_csv(\"./data/similar_titles.csv\", sep='\\t')\n",
    "\n",
    "# Remove similar titles from the dataset.\n",
    "reviews = reviews[~reviews['title'].isin(similar_titles['title2'])]\n",
    "\n",
    "reviews.shape"
   ]
  },
  {
   "cell_type": "markdown",
   "metadata": {},
   "source": [
    "The dataset needs to be augmented with a category column."
   ]
  },
  {
   "cell_type": "code",
   "execution_count": 22,
   "metadata": {},
   "outputs": [
    {
     "data": {
      "text/html": [
       "<div>\n",
       "<style scoped>\n",
       "    .dataframe tbody tr th:only-of-type {\n",
       "        vertical-align: middle;\n",
       "    }\n",
       "\n",
       "    .dataframe tbody tr th {\n",
       "        vertical-align: top;\n",
       "    }\n",
       "\n",
       "    .dataframe thead th {\n",
       "        text-align: right;\n",
       "    }\n",
       "</style>\n",
       "<table border=\"1\" class=\"dataframe\">\n",
       "  <thead>\n",
       "    <tr style=\"text-align: right;\">\n",
       "      <th></th>\n",
       "      <th>productId</th>\n",
       "      <th>userId</th>\n",
       "      <th>score</th>\n",
       "      <th>text</th>\n",
       "      <th>category</th>\n",
       "    </tr>\n",
       "  </thead>\n",
       "  <tbody>\n",
       "    <tr>\n",
       "      <th>0</th>\n",
       "      <td>B00002066I</td>\n",
       "      <td>A2KLYVAS0MIBMQ</td>\n",
       "      <td>5.0</td>\n",
       "      <td>My lovely Pat has one of the GREAT voices of h...</td>\n",
       "      <td>Music| Pop| Rock</td>\n",
       "    </tr>\n",
       "    <tr>\n",
       "      <th>1</th>\n",
       "      <td>B000058A81</td>\n",
       "      <td>A18C9SNLZWVBIE</td>\n",
       "      <td>5.0</td>\n",
       "      <td>We've come a long way since the days of Ninete...</td>\n",
       "      <td>Music| Pop| Soundtracks</td>\n",
       "    </tr>\n",
       "    <tr>\n",
       "      <th>2</th>\n",
       "      <td>B000058A81</td>\n",
       "      <td>A38QSOKE2DD8JD</td>\n",
       "      <td>5.0</td>\n",
       "      <td>Final fantasy fans may be at first skeptical o...</td>\n",
       "      <td>Music| Pop| Soundtracks</td>\n",
       "    </tr>\n",
       "    <tr>\n",
       "      <th>3</th>\n",
       "      <td>B000058A81</td>\n",
       "      <td>AKZLIIH3AP4RU</td>\n",
       "      <td>5.0</td>\n",
       "      <td>This has got to be one of the best video game ...</td>\n",
       "      <td>Music| Pop| Soundtracks</td>\n",
       "    </tr>\n",
       "    <tr>\n",
       "      <th>4</th>\n",
       "      <td>B000058A81</td>\n",
       "      <td>A1FELZOGR5DEOM</td>\n",
       "      <td>5.0</td>\n",
       "      <td>I used to find myself starting Chrono Cross ov...</td>\n",
       "      <td>Music| Pop| Soundtracks</td>\n",
       "    </tr>\n",
       "  </tbody>\n",
       "</table>\n",
       "</div>"
      ],
      "text/plain": [
       "    productId          userId  score  \\\n",
       "0  B00002066I  A2KLYVAS0MIBMQ    5.0   \n",
       "1  B000058A81  A18C9SNLZWVBIE    5.0   \n",
       "2  B000058A81  A38QSOKE2DD8JD    5.0   \n",
       "3  B000058A81   AKZLIIH3AP4RU    5.0   \n",
       "4  B000058A81  A1FELZOGR5DEOM    5.0   \n",
       "\n",
       "                                                text                 category  \n",
       "0  My lovely Pat has one of the GREAT voices of h...         Music| Pop| Rock  \n",
       "1  We've come a long way since the days of Ninete...  Music| Pop| Soundtracks  \n",
       "2  Final fantasy fans may be at first skeptical o...  Music| Pop| Soundtracks  \n",
       "3  This has got to be one of the best video game ...  Music| Pop| Soundtracks  \n",
       "4  I used to find myself starting Chrono Cross ov...  Music| Pop| Soundtracks  "
      ]
     },
     "execution_count": 22,
     "metadata": {},
     "output_type": "execute_result"
    }
   ],
   "source": [
    "# Add the category for each item.\n",
    "reviews = pd.merge(reviews, merged, on='productId', how='left')\n",
    "\n",
    "reviews[['productId', 'userId', 'score', 'text', 'category']].head()"
   ]
  },
  {
   "cell_type": "markdown",
   "metadata": {},
   "source": [
    "There is a portion of the products that are not strictly music-oriented, as we can identify with the following code snippet."
   ]
  },
  {
   "cell_type": "code",
   "execution_count": 23,
   "metadata": {},
   "outputs": [
    {
     "data": {
      "text/html": [
       "<div>\n",
       "<style scoped>\n",
       "    .dataframe tbody tr th:only-of-type {\n",
       "        vertical-align: middle;\n",
       "    }\n",
       "\n",
       "    .dataframe tbody tr th {\n",
       "        vertical-align: top;\n",
       "    }\n",
       "\n",
       "    .dataframe thead th {\n",
       "        text-align: right;\n",
       "    }\n",
       "</style>\n",
       "<table border=\"1\" class=\"dataframe\">\n",
       "  <thead>\n",
       "    <tr style=\"text-align: right;\">\n",
       "      <th></th>\n",
       "      <th>productId</th>\n",
       "      <th>title</th>\n",
       "      <th>price</th>\n",
       "      <th>userId</th>\n",
       "      <th>profileName</th>\n",
       "      <th>helpfulness</th>\n",
       "      <th>score</th>\n",
       "      <th>time</th>\n",
       "      <th>summary</th>\n",
       "      <th>text</th>\n",
       "      <th>category</th>\n",
       "    </tr>\n",
       "  </thead>\n",
       "  <tbody>\n",
       "    <tr>\n",
       "      <th>196</th>\n",
       "      <td>6301782143</td>\n",
       "      <td>Perfect Gentlemen [VHS]</td>\n",
       "      <td>unknown</td>\n",
       "      <td>A2YMQYKW31VGG2</td>\n",
       "      <td>B. Martin</td>\n",
       "      <td>10/11</td>\n",
       "      <td>1.0</td>\n",
       "      <td>1238025600</td>\n",
       "      <td>Not really what I wanted</td>\n",
       "      <td>For anybody who's looking for the 1978 movie w...</td>\n",
       "      <td>Movies &amp; TV| TV|Music| R&amp;B</td>\n",
       "    </tr>\n",
       "  </tbody>\n",
       "</table>\n",
       "</div>"
      ],
      "text/plain": [
       "      productId                    title    price          userId profileName  \\\n",
       "196  6301782143  Perfect Gentlemen [VHS]  unknown  A2YMQYKW31VGG2   B. Martin   \n",
       "\n",
       "    helpfulness  score        time                   summary  \\\n",
       "196       10/11    1.0  1238025600  Not really what I wanted   \n",
       "\n",
       "                                                  text  \\\n",
       "196  For anybody who's looking for the 1978 movie w...   \n",
       "\n",
       "                       category  \n",
       "196  Movies & TV| TV|Music| R&B  "
      ]
     },
     "execution_count": 23,
     "metadata": {},
     "output_type": "execute_result"
    }
   ],
   "source": [
    "# Check for non specific music-oriented items.\n",
    "reviews[~reviews['category'].str.startswith(\"Music\")].head(1)"
   ]
  },
  {
   "cell_type": "markdown",
   "metadata": {},
   "source": [
    "We decide to exclude these less relevant products."
   ]
  },
  {
   "cell_type": "code",
   "execution_count": 24,
   "metadata": {},
   "outputs": [
    {
     "data": {
      "text/plain": [
       "(162989, 11)"
      ]
     },
     "execution_count": 24,
     "metadata": {},
     "output_type": "execute_result"
    }
   ],
   "source": [
    "# Keep the items that are specifically music-oriented.\n",
    "reviews = reviews[reviews['category'].str.startswith(\"Music\")]\n",
    "\n",
    "reviews.shape"
   ]
  },
  {
   "cell_type": "markdown",
   "metadata": {},
   "source": [
    "Next, we obtain the number of unique products in the dataset, using their _productId_."
   ]
  },
  {
   "cell_type": "code",
   "execution_count": 25,
   "metadata": {},
   "outputs": [
    {
     "name": "stdout",
     "output_type": "stream",
     "text": [
      "Number of product ids in the corpus: 19453\n"
     ]
    }
   ],
   "source": [
    "print(\"Number of product ids in the corpus: \" + str(len(reviews['productId'].unique())))"
   ]
  },
  {
   "cell_type": "markdown",
   "metadata": {},
   "source": [
    "Let’s now get the different product categories."
   ]
  },
  {
   "cell_type": "code",
   "execution_count": 26,
   "metadata": {},
   "outputs": [
    {
     "data": {
      "text/plain": [
       "array(['Music', 'Pop', 'Rock', 'Soundtracks', 'Classical', 'World Music',\n",
       "       'Dance & Electronic', 'New Age', 'Jazz', 'Broadway & Vocalists',\n",
       "       'Country', 'Folk', 'Blues', 'Classic Rock', 'R&B',\n",
       "       'Alternative Rock', 'Latin Music', 'Rap & Hip-Hop',\n",
       "       'Miscellaneous', 'Hard Rock & Metal', \"Children's Music\",\n",
       "       'Christian', 'Gospel', 'Musical Instruments',\n",
       "       'Instrument Accessories', 'General Accessories', 'Patio',\n",
       "       'Lawn & Garden', 'Pest Control', 'Tools & Home Improvement',\n",
       "       'Building Supplies', 'Building Materials', 'Doors', 'Garage Doors',\n",
       "       'Openers & Parts', 'Hardware', 'Keyboard Accessories',\n",
       "       'Player Piano Accessories'], dtype=object)"
      ]
     },
     "execution_count": 26,
     "metadata": {},
     "output_type": "execute_result"
    }
   ],
   "source": [
    "import re\n",
    "\n",
    "# Extract the categories of the music items.\n",
    "cat = ';'.join(reviews['category'])\n",
    "cat = [item.lstrip() for item in re.split(';|\\|', cat)]\n",
    "categories = pd.DataFrame(cat, columns=['category'])\n",
    "\n",
    "categories['category'].unique()"
   ]
  },
  {
   "cell_type": "markdown",
   "metadata": {},
   "source": [
    "Next, we remove _Music_ from the categories and only keep the genres of the products."
   ]
  },
  {
   "cell_type": "code",
   "execution_count": 27,
   "metadata": {},
   "outputs": [],
   "source": [
    "# Keep only the genres of the items.\n",
    "categories = categories[categories['category'] != \"Music\"]"
   ]
  },
  {
   "cell_type": "markdown",
   "metadata": {},
   "source": [
    "We can now plot the number of products per genre category."
   ]
  },
  {
   "cell_type": "code",
   "execution_count": 28,
   "metadata": {},
   "outputs": [
    {
     "data": {
      "text/plain": [
       "(array([0]), [Text(0, 0, 'category')])"
      ]
     },
     "execution_count": 28,
     "metadata": {},
     "output_type": "execute_result"
    },
    {
     "data": {
      "image/png": "[encoded data removed]",
      "text/plain": [
       "<Figure size 720x144 with 1 Axes>"
      ]
     },
     "metadata": {
      "needs_background": "light"
     },
     "output_type": "display_data"
    }
   ],
   "source": [
    "%matplotlib inline\n",
    "import matplotlib.pyplot as plt \n",
    "\n",
    "# Get the genres distribution and keep the top 8.\n",
    "x = categories['category'].value_counts()\n",
    "x = x.sort_values(ascending=False)\n",
    "x = x.iloc[0:8]\n",
    "\n",
    "# Plot the distribution.\n",
    "pd.DataFrame(x).T.plot.barh(stacked=True, colormap='Paired', figsize=(10,2)).legend(bbox_to_anchor=(1.05, 1), fontsize='large')\n",
    "plt.tight_layout()\n",
    "plt.xlabel('#Num of music categories', fontsize=14)\n",
    "plt.xticks(fontsize=14)\n",
    "plt.yticks(fontsize=14)"
   ]
  },
  {
   "cell_type": "markdown",
   "metadata": {},
   "source": [
    "A large quantity of the items is labeled _Pop_, followed by _Rock_ and _Alternative Rock_.\n",
    "\n",
    "Another interesting piece of information is the distribution of the rating reviews."
   ]
  },
  {
   "cell_type": "code",
   "execution_count": 29,
   "metadata": {},
   "outputs": [
    {
     "data": {
      "text/plain": [
       "(array([     0.,  20000.,  40000.,  60000.,  80000., 100000., 120000.]),\n",
       " [Text(0, 0.0, '0'),\n",
       "  Text(0, 20000.0, '20000'),\n",
       "  Text(0, 40000.0, '40000'),\n",
       "  Text(0, 60000.0, '60000'),\n",
       "  Text(0, 80000.0, '80000'),\n",
       "  Text(0, 100000.0, '100000'),\n",
       "  Text(0, 120000.0, '120000')])"
      ]
     },
     "execution_count": 29,
     "metadata": {},
     "output_type": "execute_result"
    },
    {
     "data": {
      "image/png": "[encoded data removed]",
      "text/plain": [
       "<Figure size 576x288 with 1 Axes>"
      ]
     },
     "metadata": {
      "needs_background": "light"
     },
     "output_type": "display_data"
    }
   ],
   "source": [
    "import seaborn as sns\n",
    "\n",
    "# Create the distribution plot including kernel density estimation.\n",
    "sns.displot(data=reviews['score'], kde=True, bins=45, height=4, aspect=2)\n",
    "plt.xlabel('Rating score', fontsize=14)\n",
    "plt.ylabel('#Num of ratings', fontsize=14)\n",
    "plt.xticks(fontsize=14)\n",
    "plt.yticks(fontsize=14)"
   ]
  },
  {
   "cell_type": "markdown",
   "metadata": {},
   "source": [
    "Based on a five scale rating (1.0 – 5.0), the largest proportion of the scores falls on the right-hand side of the x-axis – in this example, above or equal to the value of 3.0. Thus, there is a clear imbalance in the ratings toward positive scores.\n",
    "\n",
    "Next, we extract rating scores for two random products."
   ]
  },
  {
   "cell_type": "code",
   "execution_count": 30,
   "metadata": {},
   "outputs": [
    {
     "data": {
      "text/html": [
       "<div>\n",
       "<style scoped>\n",
       "    .dataframe tbody tr th:only-of-type {\n",
       "        vertical-align: middle;\n",
       "    }\n",
       "\n",
       "    .dataframe tbody tr th {\n",
       "        vertical-align: top;\n",
       "    }\n",
       "\n",
       "    .dataframe thead th {\n",
       "        text-align: right;\n",
       "    }\n",
       "</style>\n",
       "<table border=\"1\" class=\"dataframe\">\n",
       "  <thead>\n",
       "    <tr style=\"text-align: right;\">\n",
       "      <th></th>\n",
       "      <th>rating</th>\n",
       "      <th>variable</th>\n",
       "      <th>value</th>\n",
       "    </tr>\n",
       "  </thead>\n",
       "  <tbody>\n",
       "    <tr>\n",
       "      <th>0</th>\n",
       "      <td>1.0</td>\n",
       "      <td>The Massacre [Vinyl]</td>\n",
       "      <td>415</td>\n",
       "    </tr>\n",
       "    <tr>\n",
       "      <th>1</th>\n",
       "      <td>2.0</td>\n",
       "      <td>The Massacre [Vinyl]</td>\n",
       "      <td>113</td>\n",
       "    </tr>\n",
       "    <tr>\n",
       "      <th>2</th>\n",
       "      <td>3.0</td>\n",
       "      <td>The Massacre [Vinyl]</td>\n",
       "      <td>126</td>\n",
       "    </tr>\n",
       "    <tr>\n",
       "      <th>3</th>\n",
       "      <td>4.0</td>\n",
       "      <td>The Massacre [Vinyl]</td>\n",
       "      <td>157</td>\n",
       "    </tr>\n",
       "    <tr>\n",
       "      <th>4</th>\n",
       "      <td>5.0</td>\n",
       "      <td>The Massacre [Vinyl]</td>\n",
       "      <td>238</td>\n",
       "    </tr>\n",
       "  </tbody>\n",
       "</table>\n",
       "</div>"
      ],
      "text/plain": [
       "   rating              variable  value\n",
       "0     1.0  The Massacre [Vinyl]    415\n",
       "1     2.0  The Massacre [Vinyl]    113\n",
       "2     3.0  The Massacre [Vinyl]    126\n",
       "3     4.0  The Massacre [Vinyl]    157\n",
       "4     5.0  The Massacre [Vinyl]    238"
      ]
     },
     "execution_count": 30,
     "metadata": {},
     "output_type": "execute_result"
    }
   ],
   "source": [
    "# Calculate the count of reviews per each rating for the two items.\n",
    "r_count_1 = reviews[reviews['productId']==\"B0007NFL1I\"].groupby('score')['score'].count()\n",
    "r_count_2 = reviews[reviews['productId']==\"B000I26XF6\"].groupby('score')['score'].count()\n",
    "\n",
    "# Create a dataframe from the data.\n",
    "r_count = pd.concat([r_count_1.rename('The Massacre [Vinyl]'), r_count_2.rename('Sgt. Pepper\\'s Lonely Hearts Club Band')], axis=1)\n",
    "r_count['rating'] = r_count.index\n",
    "r_count = pd.melt(r_count, id_vars=\"rating\")\n",
    "\n",
    "r_count.head(5)"
   ]
  },
  {
   "cell_type": "markdown",
   "metadata": {},
   "source": [
    "The obtained statistics can assist in the visualization of the ratings and comparison of the two products."
   ]
  },
  {
   "cell_type": "code",
   "execution_count": 31,
   "metadata": {},
   "outputs": [
    {
     "data": {
      "image/png": "[encoded data removed]",
      "text/plain": [
       "<Figure size 1066.9x360 with 1 Axes>"
      ]
     },
     "metadata": {},
     "output_type": "display_data"
    }
   ],
   "source": [
    "# Create and show the plot.\n",
    "sns.set(font_scale=1.5)\n",
    "g = sns.catplot(data=r_count, kind=\"bar\", x=\"rating\", y=\"value\", hue=\"variable\", ci=\"sd\", palette=\"dark\", alpha=.6, height=5, aspect=2)\n",
    "g.despine(left=True)\n",
    "g.set_axis_labels(\"Rating score\", \"#Num of reviews\")\n",
    "g.legend.set_title(\"Music title\")"
   ]
  },
  {
   "cell_type": "markdown",
   "metadata": {},
   "source": [
    "Contrasting the two products reveals an asymmetry in their rating scores, as _Sgt. Pepper's Lonely Hearts Club Band_ is perceived more positively than _The Massacre [Vinyl]_."
   ]
  },
  {
   "cell_type": "markdown",
   "metadata": {},
   "source": [
    "Descriptive statistics complement data visualizations and provide simple summaries of the observations and their measures. The analysis that follows focuses on the ratings of the products."
   ]
  },
  {
   "cell_type": "code",
   "execution_count": 32,
   "metadata": {},
   "outputs": [
    {
     "data": {
      "text/plain": [
       "count    19453.000000\n",
       "mean         8.378605\n",
       "std         34.877318\n",
       "min          1.000000\n",
       "25%          1.000000\n",
       "50%          2.000000\n",
       "75%          5.000000\n",
       "max       1836.000000\n",
       "Name: size, dtype: float64"
      ]
     },
     "execution_count": 32,
     "metadata": {},
     "output_type": "execute_result"
    }
   ],
   "source": [
    "import numpy as np\n",
    "\n",
    "# Calculate the number of ratings per product along with their mean value.\n",
    "product_stats = reviews.groupby('productId').agg({'score': [np.size, np.mean]})\n",
    "\n",
    "# Half of the products (50%) have 2 ratings at most.\n",
    "product_stats['score']['size'].describe()"
   ]
  },
  {
   "cell_type": "markdown",
   "metadata": {},
   "source": [
    "The next step is to obtain the most highly rated products."
   ]
  },
  {
   "cell_type": "code",
   "execution_count": 33,
   "metadata": {},
   "outputs": [],
   "source": [
    "# Keep the unique product titles.\n",
    "unique_titles = reviews[['productId', 'title', 'category']].drop_duplicates(subset='title', keep='first')"
   ]
  },
  {
   "cell_type": "markdown",
   "metadata": {},
   "source": [
    "Let’s keep those with more than 100 ratings and sort them in descending order."
   ]
  },
  {
   "cell_type": "code",
   "execution_count": 34,
   "metadata": {},
   "outputs": [
    {
     "name": "stderr",
     "output_type": "stream",
     "text": [
      "c:\\Users\\tsouraki\\AppData\\Local\\Programs\\Python\\Python39\\lib\\site-packages\\pandas\\core\\frame.py:9131: FutureWarning: merging between different levels is deprecated and will be removed in a future version. (1 levels on the left,2 on the right)\n",
      "  return merge(\n"
     ]
    },
    {
     "data": {
      "text/plain": [
       "Text(0, 0.5, 'Music title')"
      ]
     },
     "execution_count": 34,
     "metadata": {},
     "output_type": "execute_result"
    },
    {
     "data": {
      "image/png": "[encoded data removed]",
      "text/plain": [
       "<Figure size 720x432 with 1 Axes>"
      ]
     },
     "metadata": {},
     "output_type": "display_data"
    }
   ],
   "source": [
    "# Focus on products with at least 100 ratings.\n",
    "product_subset = product_stats['score']['size'] >= 100\n",
    "\n",
    "# Filter and sort the products based on their rating size.\n",
    "m = product_stats[product_subset].sort_values([('score', 'size')], ascending=False)\n",
    "product_ext_1 = unique_titles.set_index('productId').join(m).sort_values(('score', 'size'), ascending=False).dropna()\n",
    "\n",
    "# Plot the product titles with the most ratings.\n",
    "sns.barplot(x=product_ext_1[:15][('score', 'size')], y = product_ext_1[:15]['title'], alpha=0.8)\n",
    "plt.gcf().set_size_inches(10, 6)\n",
    "plt.xlabel('#Num of ratings')\n",
    "plt.ylabel('Music title')"
   ]
  },
  {
   "cell_type": "markdown",
   "metadata": {},
   "source": [
    "Next we investigate whether there is any mathematical basis for the most-rated movies having higher rating values. The focus is on two variables; namely, the number of ratings and the mean rating score, defined in the following code."
   ]
  },
  {
   "cell_type": "code",
   "execution_count": 35,
   "metadata": {},
   "outputs": [
    {
     "name": "stderr",
     "output_type": "stream",
     "text": [
      "c:\\Users\\tsouraki\\AppData\\Local\\Programs\\Python\\Python39\\lib\\site-packages\\pandas\\core\\frame.py:9131: FutureWarning: merging between different levels is deprecated and will be removed in a future version. (1 levels on the left,2 on the right)\n",
      "  return merge(\n"
     ]
    },
    {
     "data": {
      "text/html": [
       "<div>\n",
       "<style scoped>\n",
       "    .dataframe tbody tr th:only-of-type {\n",
       "        vertical-align: middle;\n",
       "    }\n",
       "\n",
       "    .dataframe tbody tr th {\n",
       "        vertical-align: top;\n",
       "    }\n",
       "\n",
       "    .dataframe thead th {\n",
       "        text-align: right;\n",
       "    }\n",
       "</style>\n",
       "<table border=\"1\" class=\"dataframe\">\n",
       "  <thead>\n",
       "    <tr style=\"text-align: right;\">\n",
       "      <th></th>\n",
       "      <th>size</th>\n",
       "      <th>mean</th>\n",
       "    </tr>\n",
       "  </thead>\n",
       "  <tbody>\n",
       "    <tr>\n",
       "      <th>size</th>\n",
       "      <td>1.000000</td>\n",
       "      <td>-0.067582</td>\n",
       "    </tr>\n",
       "    <tr>\n",
       "      <th>mean</th>\n",
       "      <td>-0.067582</td>\n",
       "      <td>1.000000</td>\n",
       "    </tr>\n",
       "  </tbody>\n",
       "</table>\n",
       "</div>"
      ],
      "text/plain": [
       "          size      mean\n",
       "size  1.000000 -0.067582\n",
       "mean -0.067582  1.000000"
      ]
     },
     "execution_count": 35,
     "metadata": {},
     "output_type": "execute_result"
    }
   ],
   "source": [
    "# Filter and sort the products based on their mean rating.\n",
    "m_rating = product_stats[product_subset].sort_values([('score', 'mean')], ascending=False)\n",
    "product_ext_2 = unique_titles.set_index('productId').join(m_rating).sort_values(('score', 'mean'), ascending=False).dropna()\n",
    "\n",
    "# Create a new dataframe with the two variables.\n",
    "m = pd.DataFrame()\n",
    "m['size'] = product_ext_1[('score', 'size')]\n",
    "m['mean'] = product_ext_2[('score', 'mean')]\n",
    "\n",
    "# Calculate the correlation between the two variables.\n",
    "m.corr(method='pearson')"
   ]
  },
  {
   "cell_type": "markdown",
   "metadata": {},
   "source": [
    "The calculated value equal to _-0.067582_ signifies that there is no linear correlation between the two variables, which we can also visualize using the following code."
   ]
  },
  {
   "cell_type": "code",
   "execution_count": 37,
   "metadata": {},
   "outputs": [
    {
     "data": {
      "image/png": "[encoded data removed]",
      "text/plain": [
       "<Figure size 864x576 with 3 Axes>"
      ]
     },
     "metadata": {},
     "output_type": "display_data"
    }
   ],
   "source": [
    "# Show the joint plot for rating size and mean.\n",
    "g = sns.jointplot(x='size', y='mean', kind='reg', data=m)\n",
    "g.set_axis_labels('#Num of ratings', 'Mean rating score')\n",
    "plt.gcf().set_size_inches(12, 8)"
   ]
  },
  {
   "cell_type": "markdown",
   "metadata": {},
   "source": [
    "According to the plot, items with around 750 ratings have a mean score in the area of 4.5 points. The regression line shows the relationship between the two variables and its slope indicates how changes in the variable on the x-axis affect the variable on the y-axis."
   ]
  },
  {
   "cell_type": "markdown",
   "metadata": {},
   "source": [
    "## Content based filtering\n",
    "\n",
    "Systems based on content-based filtering exploit the items' properties to recommend new products with similar features. \n",
    "\n",
    "We create a bag of words for each music item containing its review text and genres. We call it `metadata`."
   ]
  },
  {
   "cell_type": "code",
   "execution_count": 38,
   "metadata": {},
   "outputs": [
    {
     "name": "stderr",
     "output_type": "stream",
     "text": [
      "C:\\Users\\tsouraki\\AppData\\Local\\Temp/ipykernel_10176/1802237892.py:11: FutureWarning: The default value of regex will change from True to False in a future version. In addition, single character regular expressions will *not* be treated as literal strings when regex=True.\n",
      "  products['genres'] = products['category'].str.replace('|',' ')\n"
     ]
    },
    {
     "data": {
      "text/html": [
       "<div>\n",
       "<style scoped>\n",
       "    .dataframe tbody tr th:only-of-type {\n",
       "        vertical-align: middle;\n",
       "    }\n",
       "\n",
       "    .dataframe tbody tr th {\n",
       "        vertical-align: top;\n",
       "    }\n",
       "\n",
       "    .dataframe thead th {\n",
       "        text-align: right;\n",
       "    }\n",
       "</style>\n",
       "<table border=\"1\" class=\"dataframe\">\n",
       "  <thead>\n",
       "    <tr style=\"text-align: right;\">\n",
       "      <th></th>\n",
       "      <th>title</th>\n",
       "      <th>metadata</th>\n",
       "    </tr>\n",
       "  </thead>\n",
       "  <tbody>\n",
       "    <tr>\n",
       "      <th>50</th>\n",
       "      <td>Hard Hard Traveling Man</td>\n",
       "      <td>Fantastic!! The Best !!!! Country Singer From ...</td>\n",
       "    </tr>\n",
       "    <tr>\n",
       "      <th>51</th>\n",
       "      <td>Memorial Album 7</td>\n",
       "      <td>A Great Cd filled with REAL Sailor Moon Songs!...</td>\n",
       "    </tr>\n",
       "    <tr>\n",
       "      <th>52</th>\n",
       "      <td>Accesories- Rarities And B-Sides</td>\n",
       "      <td>The Gathering hands out their bag of goodies f...</td>\n",
       "    </tr>\n",
       "    <tr>\n",
       "      <th>53</th>\n",
       "      <td>Sweet Nothing</td>\n",
       "      <td>Australia's best-kept secret is an absolute tr...</td>\n",
       "    </tr>\n",
       "    <tr>\n",
       "      <th>54</th>\n",
       "      <td>The Formula</td>\n",
       "      <td>80's synth-rock for......the thinking man. (An...</td>\n",
       "    </tr>\n",
       "  </tbody>\n",
       "</table>\n",
       "</div>"
      ],
      "text/plain": [
       "                               title  \\\n",
       "50           Hard Hard Traveling Man   \n",
       "51                  Memorial Album 7   \n",
       "52  Accesories- Rarities And B-Sides   \n",
       "53                     Sweet Nothing   \n",
       "54                       The Formula   \n",
       "\n",
       "                                             metadata  \n",
       "50  Fantastic!! The Best !!!! Country Singer From ...  \n",
       "51  A Great Cd filled with REAL Sailor Moon Songs!...  \n",
       "52  The Gathering hands out their bag of goodies f...  \n",
       "53  Australia's best-kept secret is an absolute tr...  \n",
       "54  80's synth-rock for......the thinking man. (An...  "
      ]
     },
     "execution_count": 38,
     "metadata": {},
     "output_type": "execute_result"
    }
   ],
   "source": [
    "# Get the product ids.\n",
    "#product_ids = unique_titles[['product/productId']]\n",
    "\n",
    "# Group all tags per product id.\n",
    "product_tags = pd.DataFrame(reviews.groupby('productId')['summary'].apply(lambda x: \"%s\" % ' '.join(x)))\n",
    "\n",
    "# Include the tags in the product dataframe.\t\t\t\t  \n",
    "products = pd.merge(unique_titles, product_tags, on='productId', how='left')\n",
    "\n",
    "# Create product metadata that consists of tags and genres.\n",
    "products['genres'] = products['category'].str.replace('|',' ')\n",
    "products['metadata'] = products[['summary', 'genres']].apply(lambda x: ' '.join(x), axis = 1)\n",
    "\n",
    "products[['title', 'metadata']][50:55]"
   ]
  },
  {
   "cell_type": "markdown",
   "metadata": {},
   "source": [
    "For representing the text in metadata we will use tf-idf and reduce its dimensionality with `Latent Semantic Analysis` (SVD)."
   ]
  },
  {
   "cell_type": "code",
   "execution_count": 39,
   "metadata": {},
   "outputs": [
    {
     "data": {
      "text/plain": [
       "(19453, 14896)"
      ]
     },
     "execution_count": 39,
     "metadata": {},
     "output_type": "execute_result"
    }
   ],
   "source": [
    "from sklearn.decomposition import TruncatedSVD\n",
    "from sklearn.feature_extraction.text import TfidfVectorizer\n",
    "\n",
    "# Create the tf-idf vectorizer.\n",
    "vectorizer = TfidfVectorizer(max_df=0.95, min_df=2, stop_words='english')\n",
    "\n",
    "# Generate the tf-idf matrix for the data set.\n",
    "tfidf = vectorizer.fit_transform(products['metadata'])\n",
    "\n",
    "# Create a dataframe from the matrix.\n",
    "tfidf_data = pd.DataFrame(tfidf.toarray(), index=products.index.tolist())\n",
    "\n",
    "tfidf_data.shape"
   ]
  },
  {
   "cell_type": "code",
   "execution_count": 40,
   "metadata": {},
   "outputs": [
    {
     "data": {
      "text/plain": [
       "(19453, 200)"
      ]
     },
     "execution_count": 40,
     "metadata": {},
     "output_type": "execute_result"
    }
   ],
   "source": [
    "# Calculate 200 components for the tfidf dataframe.\n",
    "svd = TruncatedSVD(n_components=200, algorithm='randomized', n_iter=5, random_state=123, tol=0.0)\n",
    "\n",
    "# Calculate the latent matrix.\n",
    "latent = svd.fit_transform(tfidf_data)\n",
    "\n",
    "# Create the latent dataframe.\n",
    "latent_data = pd.DataFrame(latent, index=products['title'].tolist())\n",
    "\n",
    "latent_data.shape"
   ]
  },
  {
   "cell_type": "markdown",
   "metadata": {},
   "source": [
    "A vector with `200` components describes now each of the `19453` products, all included in the latent_data. The latter can be used to recommend similar items for a music title based on the Euclidean distance, the Pearson's correlation, or the cosine similarity between two vectors in the dataframe. As an example, we choose the `Led Zeppelin [Vinyl]` title from an famous group and incorporate the cosine similarity method. "
   ]
  },
  {
   "cell_type": "code",
   "execution_count": 41,
   "metadata": {},
   "outputs": [
    {
     "data": {
      "text/html": [
       "<div>\n",
       "<style scoped>\n",
       "    .dataframe tbody tr th:only-of-type {\n",
       "        vertical-align: middle;\n",
       "    }\n",
       "\n",
       "    .dataframe tbody tr th {\n",
       "        vertical-align: top;\n",
       "    }\n",
       "\n",
       "    .dataframe thead th {\n",
       "        text-align: right;\n",
       "    }\n",
       "</style>\n",
       "<table border=\"1\" class=\"dataframe\">\n",
       "  <thead>\n",
       "    <tr style=\"text-align: right;\">\n",
       "      <th></th>\n",
       "      <th>category</th>\n",
       "      <th>measure</th>\n",
       "    </tr>\n",
       "    <tr>\n",
       "      <th>title</th>\n",
       "      <th></th>\n",
       "      <th></th>\n",
       "    </tr>\n",
       "  </thead>\n",
       "  <tbody>\n",
       "    <tr>\n",
       "      <th>Led Zeppelin [Vinyl]</th>\n",
       "      <td>Music| Classic Rock| Hard Rock &amp; Metal| Rock</td>\n",
       "      <td>1.000000</td>\n",
       "    </tr>\n",
       "    <tr>\n",
       "      <th>In the Heat of the Night</th>\n",
       "      <td>Music| Classic Rock| Hard Rock &amp; Metal| Pop| Rock</td>\n",
       "      <td>0.852006</td>\n",
       "    </tr>\n",
       "    <tr>\n",
       "      <th>Definitely Maybe</th>\n",
       "      <td>Music| Alternative Rock| Hard Rock &amp; Metal| Po...</td>\n",
       "      <td>0.851303</td>\n",
       "    </tr>\n",
       "    <tr>\n",
       "      <th>Tuesday Night Music Club</th>\n",
       "      <td>Music| Rock</td>\n",
       "      <td>0.840619</td>\n",
       "    </tr>\n",
       "    <tr>\n",
       "      <th>Garth Brooks</th>\n",
       "      <td>Music| Country| Pop</td>\n",
       "      <td>0.809610</td>\n",
       "    </tr>\n",
       "    <tr>\n",
       "      <th>Innoncence Is Running Out</th>\n",
       "      <td>Music| Rock</td>\n",
       "      <td>0.808551</td>\n",
       "    </tr>\n",
       "    <tr>\n",
       "      <th>Ritchie Blackmore's Rainbow (Limited Edi</th>\n",
       "      <td>Music| Rock</td>\n",
       "      <td>0.806990</td>\n",
       "    </tr>\n",
       "    <tr>\n",
       "      <th>When Dream &amp; Day Unite</th>\n",
       "      <td>Music| Hard Rock &amp; Metal| Pop| Rock</td>\n",
       "      <td>0.798694</td>\n",
       "    </tr>\n",
       "    <tr>\n",
       "      <th>Bon Jovi</th>\n",
       "      <td>Music| Classic Rock| Hard Rock &amp; Metal| Pop| Rock</td>\n",
       "      <td>0.781751</td>\n",
       "    </tr>\n",
       "    <tr>\n",
       "      <th>Legalize It</th>\n",
       "      <td>Music| Pop| World Music</td>\n",
       "      <td>0.775196</td>\n",
       "    </tr>\n",
       "    <tr>\n",
       "      <th>Iron Maiden</th>\n",
       "      <td>Music| Alternative Rock| Hard Rock &amp; Metal| Po...</td>\n",
       "      <td>0.760014</td>\n",
       "    </tr>\n",
       "  </tbody>\n",
       "</table>\n",
       "</div>"
      ],
      "text/plain": [
       "                                                                                   category  \\\n",
       "title                                                                                         \n",
       "Led Zeppelin [Vinyl]                           Music| Classic Rock| Hard Rock & Metal| Rock   \n",
       "In the Heat of the Night                  Music| Classic Rock| Hard Rock & Metal| Pop| Rock   \n",
       "Definitely Maybe                          Music| Alternative Rock| Hard Rock & Metal| Po...   \n",
       "Tuesday Night Music Club                                                        Music| Rock   \n",
       "Garth Brooks                                                            Music| Country| Pop   \n",
       "Innoncence Is Running Out                                                       Music| Rock   \n",
       "Ritchie Blackmore's Rainbow (Limited Edi                                        Music| Rock   \n",
       "When Dream & Day Unite                                  Music| Hard Rock & Metal| Pop| Rock   \n",
       "Bon Jovi                                  Music| Classic Rock| Hard Rock & Metal| Pop| Rock   \n",
       "Legalize It                                                         Music| Pop| World Music   \n",
       "Iron Maiden                               Music| Alternative Rock| Hard Rock & Metal| Po...   \n",
       "\n",
       "                                           measure  \n",
       "title                                               \n",
       "Led Zeppelin [Vinyl]                      1.000000  \n",
       "In the Heat of the Night                  0.852006  \n",
       "Definitely Maybe                          0.851303  \n",
       "Tuesday Night Music Club                  0.840619  \n",
       "Garth Brooks                              0.809610  \n",
       "Innoncence Is Running Out                 0.808551  \n",
       "Ritchie Blackmore's Rainbow (Limited Edi  0.806990  \n",
       "When Dream & Day Unite                    0.798694  \n",
       "Bon Jovi                                  0.781751  \n",
       "Legalize It                               0.775196  \n",
       "Iron Maiden                               0.760014  "
      ]
     },
     "execution_count": 41,
     "metadata": {},
     "output_type": "execute_result"
    }
   ],
   "source": [
    "from sklearn.metrics.pairwise import cosine_similarity\n",
    "\n",
    "# Obtain the latent vector for a product.\n",
    "led_zeppelin = np.array(latent_data.loc['Led Zeppelin [Vinyl]']).reshape(1, -1)\n",
    "\n",
    "# Calculate the similarity of the product with the other ones.\n",
    "similarity = cosine_similarity(latent_data, led_zeppelin).reshape(-1)\n",
    "\n",
    "# Create the dataframe from the array.\n",
    "similarity_data = pd.DataFrame(similarity, index=latent_data.index, columns=['measure'])\n",
    "\n",
    "# Obtain the 10 top recommendations.\n",
    "recommend = similarity_data.sort_values('measure', ascending=False).head(11)\n",
    "\n",
    "# Get the title and genre for the recommendations.\n",
    "tg = products[products['title'].isin(recommend.index.tolist())][['title', 'category']]\n",
    "\n",
    "# Join the information from the two dataframes.\n",
    "recommend = tg.set_index('title').join(recommend, how='left', lsuffix='_left', rsuffix='_right')\n",
    "\n",
    "# Recommend 10 products. \n",
    "recommend = recommend.sort_values('measure', ascending=False)\n",
    "recommend[~recommend.index.duplicated(keep='first')]"
   ]
  },
  {
   "cell_type": "code",
   "execution_count": 42,
   "metadata": {},
   "outputs": [
    {
     "data": {
      "text/html": [
       "<div>\n",
       "<style scoped>\n",
       "    .dataframe tbody tr th:only-of-type {\n",
       "        vertical-align: middle;\n",
       "    }\n",
       "\n",
       "    .dataframe tbody tr th {\n",
       "        vertical-align: top;\n",
       "    }\n",
       "\n",
       "    .dataframe thead th {\n",
       "        text-align: right;\n",
       "    }\n",
       "</style>\n",
       "<table border=\"1\" class=\"dataframe\">\n",
       "  <thead>\n",
       "    <tr style=\"text-align: right;\">\n",
       "      <th></th>\n",
       "      <th>category</th>\n",
       "      <th>measure</th>\n",
       "    </tr>\n",
       "    <tr>\n",
       "      <th>title</th>\n",
       "      <th></th>\n",
       "      <th></th>\n",
       "    </tr>\n",
       "  </thead>\n",
       "  <tbody>\n",
       "    <tr>\n",
       "      <th>Mozart: Fantasias &amp; Sonatas</th>\n",
       "      <td>Music| Classical</td>\n",
       "      <td>1.000000</td>\n",
       "    </tr>\n",
       "    <tr>\n",
       "      <th>Mozart- Harnoncourt: The Late Symphonies Nos. 31-41</th>\n",
       "      <td>Music| Classical</td>\n",
       "      <td>0.987406</td>\n",
       "    </tr>\n",
       "    <tr>\n",
       "      <th>Symphonies 1-15 / Philharmonic Symphony Orchestra of London / Erich Leinsdorf (MCA) (2 CDS)</th>\n",
       "      <td>Music| Classical</td>\n",
       "      <td>0.987111</td>\n",
       "    </tr>\n",
       "    <tr>\n",
       "      <th>Schnabel Plays Mozart</th>\n",
       "      <td>Music| Classical</td>\n",
       "      <td>0.984056</td>\n",
       "    </tr>\n",
       "    <tr>\n",
       "      <th>Romantic Moments Vol. 1: Mozart</th>\n",
       "      <td>Music| Classical</td>\n",
       "      <td>0.981416</td>\n",
       "    </tr>\n",
       "    <tr>\n",
       "      <th>Zukerman Conducts Mozart</th>\n",
       "      <td>Music| Classical</td>\n",
       "      <td>0.979731</td>\n",
       "    </tr>\n",
       "    <tr>\n",
       "      <th>Mozart: Le Nozze di Figaro (The Marriage of Figaro) [New York -- January 29, 1944; Steber, Sayao, Novotna, Brownlee, Pinza, Baccaloni; Bruno Walter]</th>\n",
       "      <td>Music| Classical</td>\n",
       "      <td>0.979172</td>\n",
       "    </tr>\n",
       "    <tr>\n",
       "      <th>Mozart: Symphony No, 40 K 550 &amp; Piano Concerto No, 20 K 466</th>\n",
       "      <td>Music| Classical</td>\n",
       "      <td>0.974895</td>\n",
       "    </tr>\n",
       "    <tr>\n",
       "      <th>Mozart: Bastien und Bastienne</th>\n",
       "      <td>Music| Classical| Pop</td>\n",
       "      <td>0.961341</td>\n",
       "    </tr>\n",
       "    <tr>\n",
       "      <th>Mozart: Flute Concertos Nos. 1 &amp; 2 / Concerto for Flute &amp; Harp in C, K. 299, 313, 314</th>\n",
       "      <td>Music| Classical</td>\n",
       "      <td>0.921402</td>\n",
       "    </tr>\n",
       "    <tr>\n",
       "      <th>Mozart: Violin Con. No. 1 in B flat, Sinfonia Concertante in E flat, Adagio in E</th>\n",
       "      <td>Music| Classical</td>\n",
       "      <td>0.920338</td>\n",
       "    </tr>\n",
       "  </tbody>\n",
       "</table>\n",
       "</div>"
      ],
      "text/plain": [
       "                                                                 category  \\\n",
       "title                                                                       \n",
       "Mozart: Fantasias & Sonatas                              Music| Classical   \n",
       "Mozart- Harnoncourt: The Late Symphonies Nos. 3...       Music| Classical   \n",
       "Symphonies 1-15 / Philharmonic Symphony Orchest...       Music| Classical   \n",
       "Schnabel Plays Mozart                                    Music| Classical   \n",
       "Romantic Moments Vol. 1: Mozart                          Music| Classical   \n",
       "Zukerman Conducts Mozart                                 Music| Classical   \n",
       "Mozart: Le Nozze di Figaro (The Marriage of Fig...       Music| Classical   \n",
       "Mozart: Symphony No, 40 K 550 & Piano Concerto ...       Music| Classical   \n",
       "Mozart: Bastien und Bastienne                       Music| Classical| Pop   \n",
       "Mozart: Flute Concertos Nos. 1 & 2 / Concerto f...       Music| Classical   \n",
       "Mozart: Violin Con. No. 1 in B flat, Sinfonia C...       Music| Classical   \n",
       "\n",
       "                                                     measure  \n",
       "title                                                         \n",
       "Mozart: Fantasias & Sonatas                         1.000000  \n",
       "Mozart- Harnoncourt: The Late Symphonies Nos. 3...  0.987406  \n",
       "Symphonies 1-15 / Philharmonic Symphony Orchest...  0.987111  \n",
       "Schnabel Plays Mozart                               0.984056  \n",
       "Romantic Moments Vol. 1: Mozart                     0.981416  \n",
       "Zukerman Conducts Mozart                            0.979731  \n",
       "Mozart: Le Nozze di Figaro (The Marriage of Fig...  0.979172  \n",
       "Mozart: Symphony No, 40 K 550 & Piano Concerto ...  0.974895  \n",
       "Mozart: Bastien und Bastienne                       0.961341  \n",
       "Mozart: Flute Concertos Nos. 1 & 2 / Concerto f...  0.921402  \n",
       "Mozart: Violin Con. No. 1 in B flat, Sinfonia C...  0.920338  "
      ]
     },
     "execution_count": 42,
     "metadata": {},
     "output_type": "execute_result"
    }
   ],
   "source": [
    "# Obtain the latent vector for a product.\n",
    "mozart = np.array(latent_data.loc['Mozart: Fantasias & Sonatas']).reshape(1, -1)\n",
    "\n",
    "# Calculate the similarity of the product with the other ones.\n",
    "similarity = cosine_similarity(latent_data, mozart).reshape(-1)\n",
    "\n",
    "# Create the dataframe from the array.\n",
    "similarity_data = pd.DataFrame(similarity, index=latent_data.index, columns=['measure'])\n",
    "\n",
    "# Obtain the 10 top recommendations.\n",
    "recommend = similarity_data.sort_values('measure', ascending=False).head(11)\n",
    "\n",
    "# Get the title and genre for the recommendations.\n",
    "tg = products[products['title'].isin(recommend.index.tolist())][['title', 'category']]\n",
    "\n",
    "# Join the information from the two dataframes.\n",
    "recommend = tg.set_index('title').join(recommend, how='left', lsuffix='_left', rsuffix='_right')\n",
    "\n",
    "# Recommend 10 products. \n",
    "recommend = recommend.sort_values('measure', ascending=False)\n",
    "recommend[~recommend.index.duplicated(keep='first')]"
   ]
  },
  {
   "cell_type": "markdown",
   "metadata": {},
   "source": [
    "## Collaborative filtering\n",
    "\n",
    "Collaborative filtering relies on mutual preferences as it identifies items that a user might like based on how other similar users rated them. There are two methods for implementing collaborative filtering systems: __memory-based__ and __model-based__. In the first case, we utilize user rating data to compute the similarity between users or items. In the second case, models are developed incorporating machine learning algorithms to predict users' ratings of unrated items. Let's see both in more detail, starting from the memory-based approach.ems."
   ]
  },
  {
   "cell_type": "markdown",
   "metadata": {},
   "source": [
    "### Memory-based collaborative recommender\n",
    "\n",
    "Before implementing the recommender, we need to sort out the data. A design choice is to utilize instances from reviewers with at least 5 evaluations. "
   ]
  },
  {
   "cell_type": "code",
   "execution_count": 43,
   "metadata": {},
   "outputs": [
    {
     "data": {
      "text/plain": [
       "(29687, 11)"
      ]
     },
     "execution_count": 43,
     "metadata": {},
     "output_type": "execute_result"
    }
   ],
   "source": [
    "# Keep reviewers with more than 5 reviews.\n",
    "v = reviews['userId'].value_counts()\n",
    "reviews = reviews[reviews['userId'].isin(v.index[v.gt(5)])]\n",
    "\n",
    "reviews.shape"
   ]
  },
  {
   "cell_type": "code",
   "execution_count": 44,
   "metadata": {},
   "outputs": [],
   "source": [
    "unique_products = reviews.drop_duplicates(subset=['productId'], keep='first')"
   ]
  },
  {
   "cell_type": "markdown",
   "metadata": {},
   "source": [
    "The pivot table summarizes the rating of each product (row) and each user (column)."
   ]
  },
  {
   "cell_type": "code",
   "execution_count": 45,
   "metadata": {},
   "outputs": [
    {
     "data": {
      "text/html": [
       "<div>\n",
       "<style scoped>\n",
       "    .dataframe tbody tr th:only-of-type {\n",
       "        vertical-align: middle;\n",
       "    }\n",
       "\n",
       "    .dataframe tbody tr th {\n",
       "        vertical-align: top;\n",
       "    }\n",
       "\n",
       "    .dataframe thead th {\n",
       "        text-align: right;\n",
       "    }\n",
       "</style>\n",
       "<table border=\"1\" class=\"dataframe\">\n",
       "  <thead>\n",
       "    <tr style=\"text-align: right;\">\n",
       "      <th>userId</th>\n",
       "      <th>A1020L7BWW9RAX</th>\n",
       "      <th>A103KNDW8GN92L</th>\n",
       "      <th>A103W7ZPKGOCC9</th>\n",
       "      <th>A105S56ODHGJEK</th>\n",
       "      <th>A1075MZNVRMSEO</th>\n",
       "      <th>A10872FHIJAKKD</th>\n",
       "      <th>A10H24TDLK2VDP</th>\n",
       "      <th>A10IDVD9INU6FP</th>\n",
       "      <th>A10W40DOIE1EOP</th>\n",
       "      <th>A10XJR7CWHNKWU</th>\n",
       "      <th>...</th>\n",
       "      <th>AZ0JE672Z45T7</th>\n",
       "      <th>AZ39SOZT3NZQU</th>\n",
       "      <th>AZ4HSDCAGDKFG</th>\n",
       "      <th>AZC562U18BK2S</th>\n",
       "      <th>AZD7NEVKD2GBX</th>\n",
       "      <th>AZDL23124GWH3</th>\n",
       "      <th>AZDVOFC2MTIM5</th>\n",
       "      <th>AZKXH0J59TK11</th>\n",
       "      <th>AZSN1TO0JI87B</th>\n",
       "      <th>AZX0R6GC9106N</th>\n",
       "    </tr>\n",
       "    <tr>\n",
       "      <th>productId</th>\n",
       "      <th></th>\n",
       "      <th></th>\n",
       "      <th></th>\n",
       "      <th></th>\n",
       "      <th></th>\n",
       "      <th></th>\n",
       "      <th></th>\n",
       "      <th></th>\n",
       "      <th></th>\n",
       "      <th></th>\n",
       "      <th></th>\n",
       "      <th></th>\n",
       "      <th></th>\n",
       "      <th></th>\n",
       "      <th></th>\n",
       "      <th></th>\n",
       "      <th></th>\n",
       "      <th></th>\n",
       "      <th></th>\n",
       "      <th></th>\n",
       "      <th></th>\n",
       "    </tr>\n",
       "  </thead>\n",
       "  <tbody>\n",
       "    <tr>\n",
       "      <th>1889212032</th>\n",
       "      <td>0.0</td>\n",
       "      <td>0.0</td>\n",
       "      <td>0.0</td>\n",
       "      <td>0.0</td>\n",
       "      <td>0.0</td>\n",
       "      <td>0.0</td>\n",
       "      <td>0.0</td>\n",
       "      <td>0.0</td>\n",
       "      <td>0.0</td>\n",
       "      <td>0.0</td>\n",
       "      <td>...</td>\n",
       "      <td>0.0</td>\n",
       "      <td>0.0</td>\n",
       "      <td>0.0</td>\n",
       "      <td>0.0</td>\n",
       "      <td>0.0</td>\n",
       "      <td>0.0</td>\n",
       "      <td>0.0</td>\n",
       "      <td>0.0</td>\n",
       "      <td>0.0</td>\n",
       "      <td>0.0</td>\n",
       "    </tr>\n",
       "    <tr>\n",
       "      <th>9051861079</th>\n",
       "      <td>0.0</td>\n",
       "      <td>0.0</td>\n",
       "      <td>0.0</td>\n",
       "      <td>0.0</td>\n",
       "      <td>0.0</td>\n",
       "      <td>0.0</td>\n",
       "      <td>0.0</td>\n",
       "      <td>0.0</td>\n",
       "      <td>0.0</td>\n",
       "      <td>0.0</td>\n",
       "      <td>...</td>\n",
       "      <td>0.0</td>\n",
       "      <td>0.0</td>\n",
       "      <td>0.0</td>\n",
       "      <td>0.0</td>\n",
       "      <td>0.0</td>\n",
       "      <td>0.0</td>\n",
       "      <td>0.0</td>\n",
       "      <td>0.0</td>\n",
       "      <td>0.0</td>\n",
       "      <td>0.0</td>\n",
       "    </tr>\n",
       "    <tr>\n",
       "      <th>B000000305</th>\n",
       "      <td>0.0</td>\n",
       "      <td>0.0</td>\n",
       "      <td>0.0</td>\n",
       "      <td>0.0</td>\n",
       "      <td>0.0</td>\n",
       "      <td>0.0</td>\n",
       "      <td>0.0</td>\n",
       "      <td>0.0</td>\n",
       "      <td>0.0</td>\n",
       "      <td>0.0</td>\n",
       "      <td>...</td>\n",
       "      <td>0.0</td>\n",
       "      <td>0.0</td>\n",
       "      <td>0.0</td>\n",
       "      <td>0.0</td>\n",
       "      <td>0.0</td>\n",
       "      <td>0.0</td>\n",
       "      <td>0.0</td>\n",
       "      <td>0.0</td>\n",
       "      <td>0.0</td>\n",
       "      <td>0.0</td>\n",
       "    </tr>\n",
       "    <tr>\n",
       "      <th>B00000030A</th>\n",
       "      <td>0.0</td>\n",
       "      <td>0.0</td>\n",
       "      <td>0.0</td>\n",
       "      <td>0.0</td>\n",
       "      <td>0.0</td>\n",
       "      <td>0.0</td>\n",
       "      <td>0.0</td>\n",
       "      <td>0.0</td>\n",
       "      <td>0.0</td>\n",
       "      <td>0.0</td>\n",
       "      <td>...</td>\n",
       "      <td>0.0</td>\n",
       "      <td>0.0</td>\n",
       "      <td>0.0</td>\n",
       "      <td>0.0</td>\n",
       "      <td>0.0</td>\n",
       "      <td>0.0</td>\n",
       "      <td>0.0</td>\n",
       "      <td>0.0</td>\n",
       "      <td>0.0</td>\n",
       "      <td>0.0</td>\n",
       "    </tr>\n",
       "    <tr>\n",
       "      <th>B00000030D</th>\n",
       "      <td>0.0</td>\n",
       "      <td>0.0</td>\n",
       "      <td>0.0</td>\n",
       "      <td>0.0</td>\n",
       "      <td>0.0</td>\n",
       "      <td>0.0</td>\n",
       "      <td>0.0</td>\n",
       "      <td>0.0</td>\n",
       "      <td>0.0</td>\n",
       "      <td>0.0</td>\n",
       "      <td>...</td>\n",
       "      <td>0.0</td>\n",
       "      <td>0.0</td>\n",
       "      <td>0.0</td>\n",
       "      <td>0.0</td>\n",
       "      <td>0.0</td>\n",
       "      <td>0.0</td>\n",
       "      <td>0.0</td>\n",
       "      <td>0.0</td>\n",
       "      <td>0.0</td>\n",
       "      <td>0.0</td>\n",
       "    </tr>\n",
       "    <tr>\n",
       "      <th>...</th>\n",
       "      <td>...</td>\n",
       "      <td>...</td>\n",
       "      <td>...</td>\n",
       "      <td>...</td>\n",
       "      <td>...</td>\n",
       "      <td>...</td>\n",
       "      <td>...</td>\n",
       "      <td>...</td>\n",
       "      <td>...</td>\n",
       "      <td>...</td>\n",
       "      <td>...</td>\n",
       "      <td>...</td>\n",
       "      <td>...</td>\n",
       "      <td>...</td>\n",
       "      <td>...</td>\n",
       "      <td>...</td>\n",
       "      <td>...</td>\n",
       "      <td>...</td>\n",
       "      <td>...</td>\n",
       "      <td>...</td>\n",
       "      <td>...</td>\n",
       "    </tr>\n",
       "    <tr>\n",
       "      <th>B000TP5TAC</th>\n",
       "      <td>0.0</td>\n",
       "      <td>0.0</td>\n",
       "      <td>0.0</td>\n",
       "      <td>0.0</td>\n",
       "      <td>0.0</td>\n",
       "      <td>0.0</td>\n",
       "      <td>0.0</td>\n",
       "      <td>0.0</td>\n",
       "      <td>0.0</td>\n",
       "      <td>0.0</td>\n",
       "      <td>...</td>\n",
       "      <td>0.0</td>\n",
       "      <td>0.0</td>\n",
       "      <td>0.0</td>\n",
       "      <td>0.0</td>\n",
       "      <td>0.0</td>\n",
       "      <td>0.0</td>\n",
       "      <td>0.0</td>\n",
       "      <td>0.0</td>\n",
       "      <td>0.0</td>\n",
       "      <td>0.0</td>\n",
       "    </tr>\n",
       "    <tr>\n",
       "      <th>B000UGG5KS</th>\n",
       "      <td>0.0</td>\n",
       "      <td>0.0</td>\n",
       "      <td>0.0</td>\n",
       "      <td>0.0</td>\n",
       "      <td>0.0</td>\n",
       "      <td>0.0</td>\n",
       "      <td>0.0</td>\n",
       "      <td>0.0</td>\n",
       "      <td>0.0</td>\n",
       "      <td>0.0</td>\n",
       "      <td>...</td>\n",
       "      <td>0.0</td>\n",
       "      <td>0.0</td>\n",
       "      <td>0.0</td>\n",
       "      <td>0.0</td>\n",
       "      <td>0.0</td>\n",
       "      <td>0.0</td>\n",
       "      <td>0.0</td>\n",
       "      <td>0.0</td>\n",
       "      <td>0.0</td>\n",
       "      <td>0.0</td>\n",
       "    </tr>\n",
       "    <tr>\n",
       "      <th>B000UPSLDI</th>\n",
       "      <td>0.0</td>\n",
       "      <td>0.0</td>\n",
       "      <td>0.0</td>\n",
       "      <td>0.0</td>\n",
       "      <td>0.0</td>\n",
       "      <td>0.0</td>\n",
       "      <td>0.0</td>\n",
       "      <td>0.0</td>\n",
       "      <td>0.0</td>\n",
       "      <td>0.0</td>\n",
       "      <td>...</td>\n",
       "      <td>0.0</td>\n",
       "      <td>0.0</td>\n",
       "      <td>0.0</td>\n",
       "      <td>0.0</td>\n",
       "      <td>0.0</td>\n",
       "      <td>0.0</td>\n",
       "      <td>0.0</td>\n",
       "      <td>0.0</td>\n",
       "      <td>0.0</td>\n",
       "      <td>0.0</td>\n",
       "    </tr>\n",
       "    <tr>\n",
       "      <th>B000UVDEO8</th>\n",
       "      <td>0.0</td>\n",
       "      <td>0.0</td>\n",
       "      <td>0.0</td>\n",
       "      <td>0.0</td>\n",
       "      <td>0.0</td>\n",
       "      <td>0.0</td>\n",
       "      <td>0.0</td>\n",
       "      <td>0.0</td>\n",
       "      <td>0.0</td>\n",
       "      <td>0.0</td>\n",
       "      <td>...</td>\n",
       "      <td>0.0</td>\n",
       "      <td>0.0</td>\n",
       "      <td>0.0</td>\n",
       "      <td>0.0</td>\n",
       "      <td>0.0</td>\n",
       "      <td>0.0</td>\n",
       "      <td>0.0</td>\n",
       "      <td>0.0</td>\n",
       "      <td>0.0</td>\n",
       "      <td>0.0</td>\n",
       "    </tr>\n",
       "    <tr>\n",
       "      <th>B000UYCN2Y</th>\n",
       "      <td>0.0</td>\n",
       "      <td>0.0</td>\n",
       "      <td>0.0</td>\n",
       "      <td>0.0</td>\n",
       "      <td>0.0</td>\n",
       "      <td>0.0</td>\n",
       "      <td>0.0</td>\n",
       "      <td>0.0</td>\n",
       "      <td>0.0</td>\n",
       "      <td>0.0</td>\n",
       "      <td>...</td>\n",
       "      <td>0.0</td>\n",
       "      <td>0.0</td>\n",
       "      <td>0.0</td>\n",
       "      <td>0.0</td>\n",
       "      <td>0.0</td>\n",
       "      <td>0.0</td>\n",
       "      <td>0.0</td>\n",
       "      <td>0.0</td>\n",
       "      <td>0.0</td>\n",
       "      <td>0.0</td>\n",
       "    </tr>\n",
       "  </tbody>\n",
       "</table>\n",
       "<p>8684 rows × 2191 columns</p>\n",
       "</div>"
      ],
      "text/plain": [
       "userId      A1020L7BWW9RAX  A103KNDW8GN92L  A103W7ZPKGOCC9  A105S56ODHGJEK  \\\n",
       "productId                                                                    \n",
       "1889212032             0.0             0.0             0.0             0.0   \n",
       "9051861079             0.0             0.0             0.0             0.0   \n",
       "B000000305             0.0             0.0             0.0             0.0   \n",
       "B00000030A             0.0             0.0             0.0             0.0   \n",
       "B00000030D             0.0             0.0             0.0             0.0   \n",
       "...                    ...             ...             ...             ...   \n",
       "B000TP5TAC             0.0             0.0             0.0             0.0   \n",
       "B000UGG5KS             0.0             0.0             0.0             0.0   \n",
       "B000UPSLDI             0.0             0.0             0.0             0.0   \n",
       "B000UVDEO8             0.0             0.0             0.0             0.0   \n",
       "B000UYCN2Y             0.0             0.0             0.0             0.0   \n",
       "\n",
       "userId      A1075MZNVRMSEO  A10872FHIJAKKD  A10H24TDLK2VDP  A10IDVD9INU6FP  \\\n",
       "productId                                                                    \n",
       "1889212032             0.0             0.0             0.0             0.0   \n",
       "9051861079             0.0             0.0             0.0             0.0   \n",
       "B000000305             0.0             0.0             0.0             0.0   \n",
       "B00000030A             0.0             0.0             0.0             0.0   \n",
       "B00000030D             0.0             0.0             0.0             0.0   \n",
       "...                    ...             ...             ...             ...   \n",
       "B000TP5TAC             0.0             0.0             0.0             0.0   \n",
       "B000UGG5KS             0.0             0.0             0.0             0.0   \n",
       "B000UPSLDI             0.0             0.0             0.0             0.0   \n",
       "B000UVDEO8             0.0             0.0             0.0             0.0   \n",
       "B000UYCN2Y             0.0             0.0             0.0             0.0   \n",
       "\n",
       "userId      A10W40DOIE1EOP  A10XJR7CWHNKWU  ...  AZ0JE672Z45T7  AZ39SOZT3NZQU  \\\n",
       "productId                                   ...                                 \n",
       "1889212032             0.0             0.0  ...            0.0            0.0   \n",
       "9051861079             0.0             0.0  ...            0.0            0.0   \n",
       "B000000305             0.0             0.0  ...            0.0            0.0   \n",
       "B00000030A             0.0             0.0  ...            0.0            0.0   \n",
       "B00000030D             0.0             0.0  ...            0.0            0.0   \n",
       "...                    ...             ...  ...            ...            ...   \n",
       "B000TP5TAC             0.0             0.0  ...            0.0            0.0   \n",
       "B000UGG5KS             0.0             0.0  ...            0.0            0.0   \n",
       "B000UPSLDI             0.0             0.0  ...            0.0            0.0   \n",
       "B000UVDEO8             0.0             0.0  ...            0.0            0.0   \n",
       "B000UYCN2Y             0.0             0.0  ...            0.0            0.0   \n",
       "\n",
       "userId      AZ4HSDCAGDKFG  AZC562U18BK2S  AZD7NEVKD2GBX  AZDL23124GWH3  \\\n",
       "productId                                                                \n",
       "1889212032            0.0            0.0            0.0            0.0   \n",
       "9051861079            0.0            0.0            0.0            0.0   \n",
       "B000000305            0.0            0.0            0.0            0.0   \n",
       "B00000030A            0.0            0.0            0.0            0.0   \n",
       "B00000030D            0.0            0.0            0.0            0.0   \n",
       "...                   ...            ...            ...            ...   \n",
       "B000TP5TAC            0.0            0.0            0.0            0.0   \n",
       "B000UGG5KS            0.0            0.0            0.0            0.0   \n",
       "B000UPSLDI            0.0            0.0            0.0            0.0   \n",
       "B000UVDEO8            0.0            0.0            0.0            0.0   \n",
       "B000UYCN2Y            0.0            0.0            0.0            0.0   \n",
       "\n",
       "userId      AZDVOFC2MTIM5  AZKXH0J59TK11  AZSN1TO0JI87B  AZX0R6GC9106N  \n",
       "productId                                                               \n",
       "1889212032            0.0            0.0            0.0            0.0  \n",
       "9051861079            0.0            0.0            0.0            0.0  \n",
       "B000000305            0.0            0.0            0.0            0.0  \n",
       "B00000030A            0.0            0.0            0.0            0.0  \n",
       "B00000030D            0.0            0.0            0.0            0.0  \n",
       "...                   ...            ...            ...            ...  \n",
       "B000TP5TAC            0.0            0.0            0.0            0.0  \n",
       "B000UGG5KS            0.0            0.0            0.0            0.0  \n",
       "B000UPSLDI            0.0            0.0            0.0            0.0  \n",
       "B000UVDEO8            0.0            0.0            0.0            0.0  \n",
       "B000UYCN2Y            0.0            0.0            0.0            0.0  \n",
       "\n",
       "[8684 rows x 2191 columns]"
      ]
     },
     "execution_count": 45,
     "metadata": {},
     "output_type": "execute_result"
    }
   ],
   "source": [
    "# Keep the ratings for the products of interest.\n",
    "ratings = reviews[reviews['productId'].isin(unique_products['productId'].tolist())]\n",
    "ratings = ratings[['productId', 'userId', 'score']]\n",
    "\n",
    "# Reshape data based on column values.\n",
    "ratings_pivot = ratings.pivot(index=['productId'], columns='userId', values='score').fillna(0)\n",
    "\n",
    "ratings_pivot\n"
   ]
  },
  {
   "cell_type": "markdown",
   "metadata": {},
   "source": [
    "As a measure of similarity, we will be using this time the Pearson’s correlation from `numpy`. Notice the main diagonal of the correlation table that has only ones, as it relates each product with itself. "
   ]
  },
  {
   "cell_type": "code",
   "execution_count": 46,
   "metadata": {},
   "outputs": [
    {
     "data": {
      "text/html": [
       "<div>\n",
       "<style scoped>\n",
       "    .dataframe tbody tr th:only-of-type {\n",
       "        vertical-align: middle;\n",
       "    }\n",
       "\n",
       "    .dataframe tbody tr th {\n",
       "        vertical-align: top;\n",
       "    }\n",
       "\n",
       "    .dataframe thead th {\n",
       "        text-align: right;\n",
       "    }\n",
       "</style>\n",
       "<table border=\"1\" class=\"dataframe\">\n",
       "  <thead>\n",
       "    <tr style=\"text-align: right;\">\n",
       "      <th>userId</th>\n",
       "      <th>A1020L7BWW9RAX</th>\n",
       "      <th>A103KNDW8GN92L</th>\n",
       "      <th>A103W7ZPKGOCC9</th>\n",
       "      <th>A105S56ODHGJEK</th>\n",
       "      <th>A1075MZNVRMSEO</th>\n",
       "      <th>A10872FHIJAKKD</th>\n",
       "      <th>A10H24TDLK2VDP</th>\n",
       "      <th>A10IDVD9INU6FP</th>\n",
       "      <th>A10W40DOIE1EOP</th>\n",
       "      <th>A10XJR7CWHNKWU</th>\n",
       "      <th>...</th>\n",
       "      <th>AZ0JE672Z45T7</th>\n",
       "      <th>AZ39SOZT3NZQU</th>\n",
       "      <th>AZ4HSDCAGDKFG</th>\n",
       "      <th>AZC562U18BK2S</th>\n",
       "      <th>AZD7NEVKD2GBX</th>\n",
       "      <th>AZDL23124GWH3</th>\n",
       "      <th>AZDVOFC2MTIM5</th>\n",
       "      <th>AZKXH0J59TK11</th>\n",
       "      <th>AZSN1TO0JI87B</th>\n",
       "      <th>AZX0R6GC9106N</th>\n",
       "    </tr>\n",
       "    <tr>\n",
       "      <th>productId</th>\n",
       "      <th></th>\n",
       "      <th></th>\n",
       "      <th></th>\n",
       "      <th></th>\n",
       "      <th></th>\n",
       "      <th></th>\n",
       "      <th></th>\n",
       "      <th></th>\n",
       "      <th></th>\n",
       "      <th></th>\n",
       "      <th></th>\n",
       "      <th></th>\n",
       "      <th></th>\n",
       "      <th></th>\n",
       "      <th></th>\n",
       "      <th></th>\n",
       "      <th></th>\n",
       "      <th></th>\n",
       "      <th></th>\n",
       "      <th></th>\n",
       "      <th></th>\n",
       "    </tr>\n",
       "  </thead>\n",
       "  <tbody>\n",
       "    <tr>\n",
       "      <th>1889212032</th>\n",
       "      <td>0.0</td>\n",
       "      <td>0.0</td>\n",
       "      <td>0.0</td>\n",
       "      <td>0.0</td>\n",
       "      <td>0.0</td>\n",
       "      <td>0.0</td>\n",
       "      <td>0.0</td>\n",
       "      <td>0.0</td>\n",
       "      <td>0.0</td>\n",
       "      <td>0.0</td>\n",
       "      <td>...</td>\n",
       "      <td>0.0</td>\n",
       "      <td>0.0</td>\n",
       "      <td>0.0</td>\n",
       "      <td>0.0</td>\n",
       "      <td>0.0</td>\n",
       "      <td>0.0</td>\n",
       "      <td>0.0</td>\n",
       "      <td>0.0</td>\n",
       "      <td>0.0</td>\n",
       "      <td>0.0</td>\n",
       "    </tr>\n",
       "    <tr>\n",
       "      <th>9051861079</th>\n",
       "      <td>0.0</td>\n",
       "      <td>0.0</td>\n",
       "      <td>0.0</td>\n",
       "      <td>0.0</td>\n",
       "      <td>0.0</td>\n",
       "      <td>0.0</td>\n",
       "      <td>0.0</td>\n",
       "      <td>0.0</td>\n",
       "      <td>0.0</td>\n",
       "      <td>0.0</td>\n",
       "      <td>...</td>\n",
       "      <td>0.0</td>\n",
       "      <td>0.0</td>\n",
       "      <td>0.0</td>\n",
       "      <td>0.0</td>\n",
       "      <td>0.0</td>\n",
       "      <td>0.0</td>\n",
       "      <td>0.0</td>\n",
       "      <td>0.0</td>\n",
       "      <td>0.0</td>\n",
       "      <td>0.0</td>\n",
       "    </tr>\n",
       "    <tr>\n",
       "      <th>B000000305</th>\n",
       "      <td>0.0</td>\n",
       "      <td>0.0</td>\n",
       "      <td>0.0</td>\n",
       "      <td>0.0</td>\n",
       "      <td>0.0</td>\n",
       "      <td>0.0</td>\n",
       "      <td>0.0</td>\n",
       "      <td>0.0</td>\n",
       "      <td>0.0</td>\n",
       "      <td>0.0</td>\n",
       "      <td>...</td>\n",
       "      <td>0.0</td>\n",
       "      <td>0.0</td>\n",
       "      <td>0.0</td>\n",
       "      <td>0.0</td>\n",
       "      <td>0.0</td>\n",
       "      <td>0.0</td>\n",
       "      <td>0.0</td>\n",
       "      <td>0.0</td>\n",
       "      <td>0.0</td>\n",
       "      <td>0.0</td>\n",
       "    </tr>\n",
       "    <tr>\n",
       "      <th>B00000030A</th>\n",
       "      <td>0.0</td>\n",
       "      <td>0.0</td>\n",
       "      <td>0.0</td>\n",
       "      <td>0.0</td>\n",
       "      <td>0.0</td>\n",
       "      <td>0.0</td>\n",
       "      <td>0.0</td>\n",
       "      <td>0.0</td>\n",
       "      <td>0.0</td>\n",
       "      <td>0.0</td>\n",
       "      <td>...</td>\n",
       "      <td>0.0</td>\n",
       "      <td>0.0</td>\n",
       "      <td>0.0</td>\n",
       "      <td>0.0</td>\n",
       "      <td>0.0</td>\n",
       "      <td>0.0</td>\n",
       "      <td>0.0</td>\n",
       "      <td>0.0</td>\n",
       "      <td>0.0</td>\n",
       "      <td>0.0</td>\n",
       "    </tr>\n",
       "    <tr>\n",
       "      <th>B00000030D</th>\n",
       "      <td>0.0</td>\n",
       "      <td>0.0</td>\n",
       "      <td>0.0</td>\n",
       "      <td>0.0</td>\n",
       "      <td>0.0</td>\n",
       "      <td>0.0</td>\n",
       "      <td>0.0</td>\n",
       "      <td>0.0</td>\n",
       "      <td>0.0</td>\n",
       "      <td>0.0</td>\n",
       "      <td>...</td>\n",
       "      <td>0.0</td>\n",
       "      <td>0.0</td>\n",
       "      <td>0.0</td>\n",
       "      <td>0.0</td>\n",
       "      <td>0.0</td>\n",
       "      <td>0.0</td>\n",
       "      <td>0.0</td>\n",
       "      <td>0.0</td>\n",
       "      <td>0.0</td>\n",
       "      <td>0.0</td>\n",
       "    </tr>\n",
       "    <tr>\n",
       "      <th>...</th>\n",
       "      <td>...</td>\n",
       "      <td>...</td>\n",
       "      <td>...</td>\n",
       "      <td>...</td>\n",
       "      <td>...</td>\n",
       "      <td>...</td>\n",
       "      <td>...</td>\n",
       "      <td>...</td>\n",
       "      <td>...</td>\n",
       "      <td>...</td>\n",
       "      <td>...</td>\n",
       "      <td>...</td>\n",
       "      <td>...</td>\n",
       "      <td>...</td>\n",
       "      <td>...</td>\n",
       "      <td>...</td>\n",
       "      <td>...</td>\n",
       "      <td>...</td>\n",
       "      <td>...</td>\n",
       "      <td>...</td>\n",
       "      <td>...</td>\n",
       "    </tr>\n",
       "    <tr>\n",
       "      <th>B000TP5TAC</th>\n",
       "      <td>0.0</td>\n",
       "      <td>0.0</td>\n",
       "      <td>0.0</td>\n",
       "      <td>0.0</td>\n",
       "      <td>0.0</td>\n",
       "      <td>0.0</td>\n",
       "      <td>0.0</td>\n",
       "      <td>0.0</td>\n",
       "      <td>0.0</td>\n",
       "      <td>0.0</td>\n",
       "      <td>...</td>\n",
       "      <td>0.0</td>\n",
       "      <td>0.0</td>\n",
       "      <td>0.0</td>\n",
       "      <td>0.0</td>\n",
       "      <td>0.0</td>\n",
       "      <td>0.0</td>\n",
       "      <td>0.0</td>\n",
       "      <td>0.0</td>\n",
       "      <td>0.0</td>\n",
       "      <td>0.0</td>\n",
       "    </tr>\n",
       "    <tr>\n",
       "      <th>B000UGG5KS</th>\n",
       "      <td>0.0</td>\n",
       "      <td>0.0</td>\n",
       "      <td>0.0</td>\n",
       "      <td>0.0</td>\n",
       "      <td>0.0</td>\n",
       "      <td>0.0</td>\n",
       "      <td>0.0</td>\n",
       "      <td>0.0</td>\n",
       "      <td>0.0</td>\n",
       "      <td>0.0</td>\n",
       "      <td>...</td>\n",
       "      <td>0.0</td>\n",
       "      <td>0.0</td>\n",
       "      <td>0.0</td>\n",
       "      <td>0.0</td>\n",
       "      <td>0.0</td>\n",
       "      <td>0.0</td>\n",
       "      <td>0.0</td>\n",
       "      <td>0.0</td>\n",
       "      <td>0.0</td>\n",
       "      <td>0.0</td>\n",
       "    </tr>\n",
       "    <tr>\n",
       "      <th>B000UPSLDI</th>\n",
       "      <td>0.0</td>\n",
       "      <td>0.0</td>\n",
       "      <td>0.0</td>\n",
       "      <td>0.0</td>\n",
       "      <td>0.0</td>\n",
       "      <td>0.0</td>\n",
       "      <td>0.0</td>\n",
       "      <td>0.0</td>\n",
       "      <td>0.0</td>\n",
       "      <td>0.0</td>\n",
       "      <td>...</td>\n",
       "      <td>0.0</td>\n",
       "      <td>0.0</td>\n",
       "      <td>0.0</td>\n",
       "      <td>0.0</td>\n",
       "      <td>0.0</td>\n",
       "      <td>0.0</td>\n",
       "      <td>0.0</td>\n",
       "      <td>0.0</td>\n",
       "      <td>0.0</td>\n",
       "      <td>0.0</td>\n",
       "    </tr>\n",
       "    <tr>\n",
       "      <th>B000UVDEO8</th>\n",
       "      <td>0.0</td>\n",
       "      <td>0.0</td>\n",
       "      <td>0.0</td>\n",
       "      <td>0.0</td>\n",
       "      <td>0.0</td>\n",
       "      <td>0.0</td>\n",
       "      <td>0.0</td>\n",
       "      <td>0.0</td>\n",
       "      <td>0.0</td>\n",
       "      <td>0.0</td>\n",
       "      <td>...</td>\n",
       "      <td>0.0</td>\n",
       "      <td>0.0</td>\n",
       "      <td>0.0</td>\n",
       "      <td>0.0</td>\n",
       "      <td>0.0</td>\n",
       "      <td>0.0</td>\n",
       "      <td>0.0</td>\n",
       "      <td>0.0</td>\n",
       "      <td>0.0</td>\n",
       "      <td>0.0</td>\n",
       "    </tr>\n",
       "    <tr>\n",
       "      <th>B000UYCN2Y</th>\n",
       "      <td>0.0</td>\n",
       "      <td>0.0</td>\n",
       "      <td>0.0</td>\n",
       "      <td>0.0</td>\n",
       "      <td>0.0</td>\n",
       "      <td>0.0</td>\n",
       "      <td>0.0</td>\n",
       "      <td>0.0</td>\n",
       "      <td>0.0</td>\n",
       "      <td>0.0</td>\n",
       "      <td>...</td>\n",
       "      <td>0.0</td>\n",
       "      <td>0.0</td>\n",
       "      <td>0.0</td>\n",
       "      <td>0.0</td>\n",
       "      <td>0.0</td>\n",
       "      <td>0.0</td>\n",
       "      <td>0.0</td>\n",
       "      <td>0.0</td>\n",
       "      <td>0.0</td>\n",
       "      <td>0.0</td>\n",
       "    </tr>\n",
       "  </tbody>\n",
       "</table>\n",
       "<p>8684 rows × 2191 columns</p>\n",
       "</div>"
      ],
      "text/plain": [
       "userId      A1020L7BWW9RAX  A103KNDW8GN92L  A103W7ZPKGOCC9  A105S56ODHGJEK  \\\n",
       "productId                                                                    \n",
       "1889212032             0.0             0.0             0.0             0.0   \n",
       "9051861079             0.0             0.0             0.0             0.0   \n",
       "B000000305             0.0             0.0             0.0             0.0   \n",
       "B00000030A             0.0             0.0             0.0             0.0   \n",
       "B00000030D             0.0             0.0             0.0             0.0   \n",
       "...                    ...             ...             ...             ...   \n",
       "B000TP5TAC             0.0             0.0             0.0             0.0   \n",
       "B000UGG5KS             0.0             0.0             0.0             0.0   \n",
       "B000UPSLDI             0.0             0.0             0.0             0.0   \n",
       "B000UVDEO8             0.0             0.0             0.0             0.0   \n",
       "B000UYCN2Y             0.0             0.0             0.0             0.0   \n",
       "\n",
       "userId      A1075MZNVRMSEO  A10872FHIJAKKD  A10H24TDLK2VDP  A10IDVD9INU6FP  \\\n",
       "productId                                                                    \n",
       "1889212032             0.0             0.0             0.0             0.0   \n",
       "9051861079             0.0             0.0             0.0             0.0   \n",
       "B000000305             0.0             0.0             0.0             0.0   \n",
       "B00000030A             0.0             0.0             0.0             0.0   \n",
       "B00000030D             0.0             0.0             0.0             0.0   \n",
       "...                    ...             ...             ...             ...   \n",
       "B000TP5TAC             0.0             0.0             0.0             0.0   \n",
       "B000UGG5KS             0.0             0.0             0.0             0.0   \n",
       "B000UPSLDI             0.0             0.0             0.0             0.0   \n",
       "B000UVDEO8             0.0             0.0             0.0             0.0   \n",
       "B000UYCN2Y             0.0             0.0             0.0             0.0   \n",
       "\n",
       "userId      A10W40DOIE1EOP  A10XJR7CWHNKWU  ...  AZ0JE672Z45T7  AZ39SOZT3NZQU  \\\n",
       "productId                                   ...                                 \n",
       "1889212032             0.0             0.0  ...            0.0            0.0   \n",
       "9051861079             0.0             0.0  ...            0.0            0.0   \n",
       "B000000305             0.0             0.0  ...            0.0            0.0   \n",
       "B00000030A             0.0             0.0  ...            0.0            0.0   \n",
       "B00000030D             0.0             0.0  ...            0.0            0.0   \n",
       "...                    ...             ...  ...            ...            ...   \n",
       "B000TP5TAC             0.0             0.0  ...            0.0            0.0   \n",
       "B000UGG5KS             0.0             0.0  ...            0.0            0.0   \n",
       "B000UPSLDI             0.0             0.0  ...            0.0            0.0   \n",
       "B000UVDEO8             0.0             0.0  ...            0.0            0.0   \n",
       "B000UYCN2Y             0.0             0.0  ...            0.0            0.0   \n",
       "\n",
       "userId      AZ4HSDCAGDKFG  AZC562U18BK2S  AZD7NEVKD2GBX  AZDL23124GWH3  \\\n",
       "productId                                                                \n",
       "1889212032            0.0            0.0            0.0            0.0   \n",
       "9051861079            0.0            0.0            0.0            0.0   \n",
       "B000000305            0.0            0.0            0.0            0.0   \n",
       "B00000030A            0.0            0.0            0.0            0.0   \n",
       "B00000030D            0.0            0.0            0.0            0.0   \n",
       "...                   ...            ...            ...            ...   \n",
       "B000TP5TAC            0.0            0.0            0.0            0.0   \n",
       "B000UGG5KS            0.0            0.0            0.0            0.0   \n",
       "B000UPSLDI            0.0            0.0            0.0            0.0   \n",
       "B000UVDEO8            0.0            0.0            0.0            0.0   \n",
       "B000UYCN2Y            0.0            0.0            0.0            0.0   \n",
       "\n",
       "userId      AZDVOFC2MTIM5  AZKXH0J59TK11  AZSN1TO0JI87B  AZX0R6GC9106N  \n",
       "productId                                                               \n",
       "1889212032            0.0            0.0            0.0            0.0  \n",
       "9051861079            0.0            0.0            0.0            0.0  \n",
       "B000000305            0.0            0.0            0.0            0.0  \n",
       "B00000030A            0.0            0.0            0.0            0.0  \n",
       "B00000030D            0.0            0.0            0.0            0.0  \n",
       "...                   ...            ...            ...            ...  \n",
       "B000TP5TAC            0.0            0.0            0.0            0.0  \n",
       "B000UGG5KS            0.0            0.0            0.0            0.0  \n",
       "B000UPSLDI            0.0            0.0            0.0            0.0  \n",
       "B000UVDEO8            0.0            0.0            0.0            0.0  \n",
       "B000UYCN2Y            0.0            0.0            0.0            0.0  \n",
       "\n",
       "[8684 rows x 2191 columns]"
      ]
     },
     "execution_count": 46,
     "metadata": {},
     "output_type": "execute_result"
    }
   ],
   "source": [
    "ratings_pivot"
   ]
  },
  {
   "cell_type": "code",
   "execution_count": 47,
   "metadata": {},
   "outputs": [
    {
     "data": {
      "text/html": [
       "<div>\n",
       "<style scoped>\n",
       "    .dataframe tbody tr th:only-of-type {\n",
       "        vertical-align: middle;\n",
       "    }\n",
       "\n",
       "    .dataframe tbody tr th {\n",
       "        vertical-align: top;\n",
       "    }\n",
       "\n",
       "    .dataframe thead th {\n",
       "        text-align: right;\n",
       "    }\n",
       "</style>\n",
       "<table border=\"1\" class=\"dataframe\">\n",
       "  <thead>\n",
       "    <tr style=\"text-align: right;\">\n",
       "      <th></th>\n",
       "      <th>0</th>\n",
       "      <th>1</th>\n",
       "      <th>2</th>\n",
       "      <th>3</th>\n",
       "      <th>4</th>\n",
       "      <th>5</th>\n",
       "      <th>6</th>\n",
       "      <th>7</th>\n",
       "      <th>8</th>\n",
       "      <th>9</th>\n",
       "      <th>...</th>\n",
       "      <th>8674</th>\n",
       "      <th>8675</th>\n",
       "      <th>8676</th>\n",
       "      <th>8677</th>\n",
       "      <th>8678</th>\n",
       "      <th>8679</th>\n",
       "      <th>8680</th>\n",
       "      <th>8681</th>\n",
       "      <th>8682</th>\n",
       "      <th>8683</th>\n",
       "    </tr>\n",
       "  </thead>\n",
       "  <tbody>\n",
       "    <tr>\n",
       "      <th>0</th>\n",
       "      <td>1.000000</td>\n",
       "      <td>-0.000457</td>\n",
       "      <td>-0.000457</td>\n",
       "      <td>-0.000457</td>\n",
       "      <td>-0.000457</td>\n",
       "      <td>-0.000457</td>\n",
       "      <td>-0.000457</td>\n",
       "      <td>-0.000457</td>\n",
       "      <td>-0.000457</td>\n",
       "      <td>-0.000457</td>\n",
       "      <td>...</td>\n",
       "      <td>-0.000646</td>\n",
       "      <td>-0.000457</td>\n",
       "      <td>-0.000914</td>\n",
       "      <td>-0.000457</td>\n",
       "      <td>-0.000908</td>\n",
       "      <td>-0.000457</td>\n",
       "      <td>-0.000646</td>\n",
       "      <td>-0.000837</td>\n",
       "      <td>-0.000457</td>\n",
       "      <td>-0.000457</td>\n",
       "    </tr>\n",
       "    <tr>\n",
       "      <th>1</th>\n",
       "      <td>-0.000457</td>\n",
       "      <td>1.000000</td>\n",
       "      <td>-0.000457</td>\n",
       "      <td>-0.000457</td>\n",
       "      <td>-0.000457</td>\n",
       "      <td>-0.000457</td>\n",
       "      <td>-0.000457</td>\n",
       "      <td>-0.000457</td>\n",
       "      <td>-0.000457</td>\n",
       "      <td>-0.000457</td>\n",
       "      <td>...</td>\n",
       "      <td>-0.000646</td>\n",
       "      <td>-0.000457</td>\n",
       "      <td>-0.000914</td>\n",
       "      <td>-0.000457</td>\n",
       "      <td>-0.000908</td>\n",
       "      <td>-0.000457</td>\n",
       "      <td>-0.000646</td>\n",
       "      <td>-0.000837</td>\n",
       "      <td>-0.000457</td>\n",
       "      <td>-0.000457</td>\n",
       "    </tr>\n",
       "    <tr>\n",
       "      <th>2</th>\n",
       "      <td>-0.000457</td>\n",
       "      <td>-0.000457</td>\n",
       "      <td>1.000000</td>\n",
       "      <td>-0.000457</td>\n",
       "      <td>-0.000457</td>\n",
       "      <td>-0.000457</td>\n",
       "      <td>-0.000457</td>\n",
       "      <td>1.000000</td>\n",
       "      <td>-0.000457</td>\n",
       "      <td>-0.000457</td>\n",
       "      <td>...</td>\n",
       "      <td>-0.000646</td>\n",
       "      <td>-0.000457</td>\n",
       "      <td>-0.000914</td>\n",
       "      <td>-0.000457</td>\n",
       "      <td>-0.000908</td>\n",
       "      <td>-0.000457</td>\n",
       "      <td>-0.000646</td>\n",
       "      <td>-0.000837</td>\n",
       "      <td>-0.000457</td>\n",
       "      <td>-0.000457</td>\n",
       "    </tr>\n",
       "    <tr>\n",
       "      <th>3</th>\n",
       "      <td>-0.000457</td>\n",
       "      <td>-0.000457</td>\n",
       "      <td>-0.000457</td>\n",
       "      <td>1.000000</td>\n",
       "      <td>-0.000457</td>\n",
       "      <td>1.000000</td>\n",
       "      <td>-0.000457</td>\n",
       "      <td>-0.000457</td>\n",
       "      <td>-0.000457</td>\n",
       "      <td>1.000000</td>\n",
       "      <td>...</td>\n",
       "      <td>-0.000646</td>\n",
       "      <td>-0.000457</td>\n",
       "      <td>-0.000914</td>\n",
       "      <td>-0.000457</td>\n",
       "      <td>-0.000908</td>\n",
       "      <td>-0.000457</td>\n",
       "      <td>-0.000646</td>\n",
       "      <td>-0.000837</td>\n",
       "      <td>-0.000457</td>\n",
       "      <td>-0.000457</td>\n",
       "    </tr>\n",
       "    <tr>\n",
       "      <th>4</th>\n",
       "      <td>-0.000457</td>\n",
       "      <td>-0.000457</td>\n",
       "      <td>-0.000457</td>\n",
       "      <td>-0.000457</td>\n",
       "      <td>1.000000</td>\n",
       "      <td>-0.000457</td>\n",
       "      <td>-0.000457</td>\n",
       "      <td>-0.000457</td>\n",
       "      <td>-0.000457</td>\n",
       "      <td>-0.000457</td>\n",
       "      <td>...</td>\n",
       "      <td>-0.000646</td>\n",
       "      <td>-0.000457</td>\n",
       "      <td>-0.000914</td>\n",
       "      <td>-0.000457</td>\n",
       "      <td>-0.000908</td>\n",
       "      <td>-0.000457</td>\n",
       "      <td>-0.000646</td>\n",
       "      <td>-0.000837</td>\n",
       "      <td>-0.000457</td>\n",
       "      <td>-0.000457</td>\n",
       "    </tr>\n",
       "    <tr>\n",
       "      <th>...</th>\n",
       "      <td>...</td>\n",
       "      <td>...</td>\n",
       "      <td>...</td>\n",
       "      <td>...</td>\n",
       "      <td>...</td>\n",
       "      <td>...</td>\n",
       "      <td>...</td>\n",
       "      <td>...</td>\n",
       "      <td>...</td>\n",
       "      <td>...</td>\n",
       "      <td>...</td>\n",
       "      <td>...</td>\n",
       "      <td>...</td>\n",
       "      <td>...</td>\n",
       "      <td>...</td>\n",
       "      <td>...</td>\n",
       "      <td>...</td>\n",
       "      <td>...</td>\n",
       "      <td>...</td>\n",
       "      <td>...</td>\n",
       "      <td>...</td>\n",
       "    </tr>\n",
       "    <tr>\n",
       "      <th>8679</th>\n",
       "      <td>-0.000457</td>\n",
       "      <td>-0.000457</td>\n",
       "      <td>-0.000457</td>\n",
       "      <td>-0.000457</td>\n",
       "      <td>-0.000457</td>\n",
       "      <td>-0.000457</td>\n",
       "      <td>-0.000457</td>\n",
       "      <td>-0.000457</td>\n",
       "      <td>-0.000457</td>\n",
       "      <td>-0.000457</td>\n",
       "      <td>...</td>\n",
       "      <td>-0.000646</td>\n",
       "      <td>-0.000457</td>\n",
       "      <td>-0.000914</td>\n",
       "      <td>-0.000457</td>\n",
       "      <td>-0.000908</td>\n",
       "      <td>1.000000</td>\n",
       "      <td>-0.000646</td>\n",
       "      <td>-0.000837</td>\n",
       "      <td>-0.000457</td>\n",
       "      <td>-0.000457</td>\n",
       "    </tr>\n",
       "    <tr>\n",
       "      <th>8680</th>\n",
       "      <td>-0.000646</td>\n",
       "      <td>-0.000646</td>\n",
       "      <td>-0.000646</td>\n",
       "      <td>-0.000646</td>\n",
       "      <td>-0.000646</td>\n",
       "      <td>-0.000646</td>\n",
       "      <td>-0.000646</td>\n",
       "      <td>-0.000646</td>\n",
       "      <td>-0.000646</td>\n",
       "      <td>-0.000646</td>\n",
       "      <td>...</td>\n",
       "      <td>-0.000914</td>\n",
       "      <td>-0.000646</td>\n",
       "      <td>-0.001293</td>\n",
       "      <td>-0.000646</td>\n",
       "      <td>-0.001285</td>\n",
       "      <td>-0.000646</td>\n",
       "      <td>1.000000</td>\n",
       "      <td>-0.001184</td>\n",
       "      <td>-0.000646</td>\n",
       "      <td>-0.000646</td>\n",
       "    </tr>\n",
       "    <tr>\n",
       "      <th>8681</th>\n",
       "      <td>-0.000837</td>\n",
       "      <td>-0.000837</td>\n",
       "      <td>-0.000837</td>\n",
       "      <td>-0.000837</td>\n",
       "      <td>-0.000837</td>\n",
       "      <td>-0.000837</td>\n",
       "      <td>-0.000837</td>\n",
       "      <td>-0.000837</td>\n",
       "      <td>-0.000837</td>\n",
       "      <td>-0.000837</td>\n",
       "      <td>...</td>\n",
       "      <td>-0.001184</td>\n",
       "      <td>-0.000837</td>\n",
       "      <td>0.304262</td>\n",
       "      <td>-0.000837</td>\n",
       "      <td>-0.001665</td>\n",
       "      <td>-0.000837</td>\n",
       "      <td>-0.001184</td>\n",
       "      <td>1.000000</td>\n",
       "      <td>-0.000837</td>\n",
       "      <td>-0.000837</td>\n",
       "    </tr>\n",
       "    <tr>\n",
       "      <th>8682</th>\n",
       "      <td>-0.000457</td>\n",
       "      <td>-0.000457</td>\n",
       "      <td>-0.000457</td>\n",
       "      <td>-0.000457</td>\n",
       "      <td>-0.000457</td>\n",
       "      <td>-0.000457</td>\n",
       "      <td>-0.000457</td>\n",
       "      <td>-0.000457</td>\n",
       "      <td>-0.000457</td>\n",
       "      <td>-0.000457</td>\n",
       "      <td>...</td>\n",
       "      <td>-0.000646</td>\n",
       "      <td>-0.000457</td>\n",
       "      <td>-0.000914</td>\n",
       "      <td>-0.000457</td>\n",
       "      <td>-0.000908</td>\n",
       "      <td>-0.000457</td>\n",
       "      <td>-0.000646</td>\n",
       "      <td>-0.000837</td>\n",
       "      <td>1.000000</td>\n",
       "      <td>-0.000457</td>\n",
       "    </tr>\n",
       "    <tr>\n",
       "      <th>8683</th>\n",
       "      <td>-0.000457</td>\n",
       "      <td>-0.000457</td>\n",
       "      <td>-0.000457</td>\n",
       "      <td>-0.000457</td>\n",
       "      <td>-0.000457</td>\n",
       "      <td>-0.000457</td>\n",
       "      <td>-0.000457</td>\n",
       "      <td>-0.000457</td>\n",
       "      <td>-0.000457</td>\n",
       "      <td>-0.000457</td>\n",
       "      <td>...</td>\n",
       "      <td>-0.000646</td>\n",
       "      <td>-0.000457</td>\n",
       "      <td>-0.000914</td>\n",
       "      <td>-0.000457</td>\n",
       "      <td>-0.000908</td>\n",
       "      <td>-0.000457</td>\n",
       "      <td>-0.000646</td>\n",
       "      <td>-0.000837</td>\n",
       "      <td>-0.000457</td>\n",
       "      <td>1.000000</td>\n",
       "    </tr>\n",
       "  </tbody>\n",
       "</table>\n",
       "<p>8684 rows × 8684 columns</p>\n",
       "</div>"
      ],
      "text/plain": [
       "          0         1         2         3         4         5         6     \\\n",
       "0     1.000000 -0.000457 -0.000457 -0.000457 -0.000457 -0.000457 -0.000457   \n",
       "1    -0.000457  1.000000 -0.000457 -0.000457 -0.000457 -0.000457 -0.000457   \n",
       "2    -0.000457 -0.000457  1.000000 -0.000457 -0.000457 -0.000457 -0.000457   \n",
       "3    -0.000457 -0.000457 -0.000457  1.000000 -0.000457  1.000000 -0.000457   \n",
       "4    -0.000457 -0.000457 -0.000457 -0.000457  1.000000 -0.000457 -0.000457   \n",
       "...        ...       ...       ...       ...       ...       ...       ...   \n",
       "8679 -0.000457 -0.000457 -0.000457 -0.000457 -0.000457 -0.000457 -0.000457   \n",
       "8680 -0.000646 -0.000646 -0.000646 -0.000646 -0.000646 -0.000646 -0.000646   \n",
       "8681 -0.000837 -0.000837 -0.000837 -0.000837 -0.000837 -0.000837 -0.000837   \n",
       "8682 -0.000457 -0.000457 -0.000457 -0.000457 -0.000457 -0.000457 -0.000457   \n",
       "8683 -0.000457 -0.000457 -0.000457 -0.000457 -0.000457 -0.000457 -0.000457   \n",
       "\n",
       "          7         8         9     ...      8674      8675      8676  \\\n",
       "0    -0.000457 -0.000457 -0.000457  ... -0.000646 -0.000457 -0.000914   \n",
       "1    -0.000457 -0.000457 -0.000457  ... -0.000646 -0.000457 -0.000914   \n",
       "2     1.000000 -0.000457 -0.000457  ... -0.000646 -0.000457 -0.000914   \n",
       "3    -0.000457 -0.000457  1.000000  ... -0.000646 -0.000457 -0.000914   \n",
       "4    -0.000457 -0.000457 -0.000457  ... -0.000646 -0.000457 -0.000914   \n",
       "...        ...       ...       ...  ...       ...       ...       ...   \n",
       "8679 -0.000457 -0.000457 -0.000457  ... -0.000646 -0.000457 -0.000914   \n",
       "8680 -0.000646 -0.000646 -0.000646  ... -0.000914 -0.000646 -0.001293   \n",
       "8681 -0.000837 -0.000837 -0.000837  ... -0.001184 -0.000837  0.304262   \n",
       "8682 -0.000457 -0.000457 -0.000457  ... -0.000646 -0.000457 -0.000914   \n",
       "8683 -0.000457 -0.000457 -0.000457  ... -0.000646 -0.000457 -0.000914   \n",
       "\n",
       "          8677      8678      8679      8680      8681      8682      8683  \n",
       "0    -0.000457 -0.000908 -0.000457 -0.000646 -0.000837 -0.000457 -0.000457  \n",
       "1    -0.000457 -0.000908 -0.000457 -0.000646 -0.000837 -0.000457 -0.000457  \n",
       "2    -0.000457 -0.000908 -0.000457 -0.000646 -0.000837 -0.000457 -0.000457  \n",
       "3    -0.000457 -0.000908 -0.000457 -0.000646 -0.000837 -0.000457 -0.000457  \n",
       "4    -0.000457 -0.000908 -0.000457 -0.000646 -0.000837 -0.000457 -0.000457  \n",
       "...        ...       ...       ...       ...       ...       ...       ...  \n",
       "8679 -0.000457 -0.000908  1.000000 -0.000646 -0.000837 -0.000457 -0.000457  \n",
       "8680 -0.000646 -0.001285 -0.000646  1.000000 -0.001184 -0.000646 -0.000646  \n",
       "8681 -0.000837 -0.001665 -0.000837 -0.001184  1.000000 -0.000837 -0.000837  \n",
       "8682 -0.000457 -0.000908 -0.000457 -0.000646 -0.000837  1.000000 -0.000457  \n",
       "8683 -0.000457 -0.000908 -0.000457 -0.000646 -0.000837 -0.000457  1.000000  \n",
       "\n",
       "[8684 rows x 8684 columns]"
      ]
     },
     "execution_count": 47,
     "metadata": {},
     "output_type": "execute_result"
    }
   ],
   "source": [
    "# Calculate the correlation coefficients.\n",
    "corr_coef = np.corrcoef(ratings_pivot)\n",
    "pd.DataFrame(corr_coef)"
   ]
  },
  {
   "cell_type": "markdown",
   "metadata": {},
   "source": [
    "We can nowextract the coefficients of the title `Led Zeppelin [Vinyl]`, sort them in descending order, and print ten recommendations (besides the first element that is out input product). The list contains related `Rock` music products but lower `measure` scores."
   ]
  },
  {
   "cell_type": "code",
   "execution_count": 48,
   "metadata": {},
   "outputs": [
    {
     "data": {
      "text/html": [
       "<div>\n",
       "<style scoped>\n",
       "    .dataframe tbody tr th:only-of-type {\n",
       "        vertical-align: middle;\n",
       "    }\n",
       "\n",
       "    .dataframe tbody tr th {\n",
       "        vertical-align: top;\n",
       "    }\n",
       "\n",
       "    .dataframe thead th {\n",
       "        text-align: right;\n",
       "    }\n",
       "</style>\n",
       "<table border=\"1\" class=\"dataframe\">\n",
       "  <thead>\n",
       "    <tr style=\"text-align: right;\">\n",
       "      <th></th>\n",
       "      <th>title</th>\n",
       "      <th>category</th>\n",
       "      <th>measure</th>\n",
       "    </tr>\n",
       "  </thead>\n",
       "  <tbody>\n",
       "    <tr>\n",
       "      <th>5479</th>\n",
       "      <td>Led Zeppelin [Vinyl]</td>\n",
       "      <td>Music| Classic Rock| Hard Rock &amp; Metal| Rock</td>\n",
       "      <td>1.000000</td>\n",
       "    </tr>\n",
       "    <tr>\n",
       "      <th>4615</th>\n",
       "      <td>Symphony 0</td>\n",
       "      <td>Music| Classical</td>\n",
       "      <td>0.615228</td>\n",
       "    </tr>\n",
       "    <tr>\n",
       "      <th>6123</th>\n",
       "      <td>Slaughter of the Soul</td>\n",
       "      <td>Music| Pop| Rock</td>\n",
       "      <td>0.615228</td>\n",
       "    </tr>\n",
       "    <tr>\n",
       "      <th>4635</th>\n",
       "      <td>Native Sons</td>\n",
       "      <td>Music| Alternative Rock| Pop| Rock</td>\n",
       "      <td>0.615228</td>\n",
       "    </tr>\n",
       "    <tr>\n",
       "      <th>7997</th>\n",
       "      <td>Whammy! [Vinyl]</td>\n",
       "      <td>Music| Alternative Rock| Pop| Rock</td>\n",
       "      <td>0.615228</td>\n",
       "    </tr>\n",
       "    <tr>\n",
       "      <th>5739</th>\n",
       "      <td>Living Proof: Mgm Recordings 1963-1975</td>\n",
       "      <td>Music| Classic Rock| Country| Hard Rock &amp; Meta...</td>\n",
       "      <td>0.615228</td>\n",
       "    </tr>\n",
       "    <tr>\n",
       "      <th>1567</th>\n",
       "      <td>Island [Vinyl]</td>\n",
       "      <td>Music| New Age| Pop| Rock| World Music</td>\n",
       "      <td>0.615228</td>\n",
       "    </tr>\n",
       "    <tr>\n",
       "      <th>3386</th>\n",
       "      <td>Structures</td>\n",
       "      <td>Music| Alternative Rock| Dance &amp; Electronic</td>\n",
       "      <td>0.527255</td>\n",
       "    </tr>\n",
       "    <tr>\n",
       "      <th>4378</th>\n",
       "      <td>Raisin Cain</td>\n",
       "      <td>Music| Blues| Classic Rock| Hard Rock &amp; Metal|...</td>\n",
       "      <td>0.492025</td>\n",
       "    </tr>\n",
       "    <tr>\n",
       "      <th>404</th>\n",
       "      <td>La bella dormente nel bosco</td>\n",
       "      <td>Music| Classical</td>\n",
       "      <td>0.480028</td>\n",
       "    </tr>\n",
       "    <tr>\n",
       "      <th>3146</th>\n",
       "      <td>Sacred Arias</td>\n",
       "      <td>Music| Classical| Miscellaneous| Pop| World Music</td>\n",
       "      <td>0.434575</td>\n",
       "    </tr>\n",
       "  </tbody>\n",
       "</table>\n",
       "</div>"
      ],
      "text/plain": [
       "                                       title  \\\n",
       "5479                    Led Zeppelin [Vinyl]   \n",
       "4615                              Symphony 0   \n",
       "6123                   Slaughter of the Soul   \n",
       "4635                             Native Sons   \n",
       "7997                         Whammy! [Vinyl]   \n",
       "5739  Living Proof: Mgm Recordings 1963-1975   \n",
       "1567                          Island [Vinyl]   \n",
       "3386                              Structures   \n",
       "4378                             Raisin Cain   \n",
       "404              La bella dormente nel bosco   \n",
       "3146                            Sacred Arias   \n",
       "\n",
       "                                               category   measure  \n",
       "5479       Music| Classic Rock| Hard Rock & Metal| Rock  1.000000  \n",
       "4615                                   Music| Classical  0.615228  \n",
       "6123                                   Music| Pop| Rock  0.615228  \n",
       "4635                 Music| Alternative Rock| Pop| Rock  0.615228  \n",
       "7997                 Music| Alternative Rock| Pop| Rock  0.615228  \n",
       "5739  Music| Classic Rock| Country| Hard Rock & Meta...  0.615228  \n",
       "1567             Music| New Age| Pop| Rock| World Music  0.615228  \n",
       "3386        Music| Alternative Rock| Dance & Electronic  0.527255  \n",
       "4378  Music| Blues| Classic Rock| Hard Rock & Metal|...  0.492025  \n",
       "404                                    Music| Classical  0.480028  \n",
       "3146  Music| Classical| Miscellaneous| Pop| World Music  0.434575  "
      ]
     },
     "execution_count": 48,
     "metadata": {},
     "output_type": "execute_result"
    }
   ],
   "source": [
    "# Obtain the coefficients for a product.\n",
    "led_zeppelin = corr_coef[list(unique_products['title']).index('Led Zeppelin [Vinyl]')]\n",
    "\n",
    "# Obtain the recommendations.\n",
    "recommend = pd.DataFrame({'title': unique_products['title'].tolist(),\n",
    "            'category': unique_products['category'].tolist(), 'measure': led_zeppelin})\n",
    "\n",
    "recommend = recommend.sort_values(by=['measure'], ascending = False)\n",
    "recommend.set_index('title')\n",
    "\n",
    "# Recommend 10 products.\n",
    "recommend.head(11)"
   ]
  },
  {
   "cell_type": "markdown",
   "metadata": {},
   "source": [
    "To understand the multitude of possibilities while solving an ML problem, let’s try to build another recommender. This time we pass the user rating pivot table through SVD (a suitable method for sparse matrixes) and use the obtained latent vectors to find the most similar products for `Led Zeppelin [Vinyl]`. "
   ]
  },
  {
   "cell_type": "code",
   "execution_count": 49,
   "metadata": {},
   "outputs": [
    {
     "data": {
      "text/plain": [
       "(8684, 200)"
      ]
     },
     "execution_count": 49,
     "metadata": {},
     "output_type": "execute_result"
    }
   ],
   "source": [
    "# Calculate 200 components for the pivot table.\n",
    "svd = TruncatedSVD(n_components=200, algorithm='randomized', n_iter=5, random_state=123, tol=0.0)\n",
    "\n",
    "# Calculate the latent matrix.\n",
    "latent = svd.fit_transform(ratings_pivot)\n",
    "\n",
    "# Create the latent dataframe.\n",
    "latent_data = pd.DataFrame(latent, index=unique_products['title'].tolist())\n",
    "\n",
    "latent_data.shape"
   ]
  },
  {
   "cell_type": "code",
   "execution_count": 50,
   "metadata": {},
   "outputs": [
    {
     "data": {
      "text/html": [
       "<div>\n",
       "<style scoped>\n",
       "    .dataframe tbody tr th:only-of-type {\n",
       "        vertical-align: middle;\n",
       "    }\n",
       "\n",
       "    .dataframe tbody tr th {\n",
       "        vertical-align: top;\n",
       "    }\n",
       "\n",
       "    .dataframe thead th {\n",
       "        text-align: right;\n",
       "    }\n",
       "</style>\n",
       "<table border=\"1\" class=\"dataframe\">\n",
       "  <thead>\n",
       "    <tr style=\"text-align: right;\">\n",
       "      <th></th>\n",
       "      <th>category</th>\n",
       "      <th>measure</th>\n",
       "    </tr>\n",
       "    <tr>\n",
       "      <th>title</th>\n",
       "      <th></th>\n",
       "      <th></th>\n",
       "    </tr>\n",
       "  </thead>\n",
       "  <tbody>\n",
       "    <tr>\n",
       "      <th>Led Zeppelin [Vinyl]</th>\n",
       "      <td>Music| Classic Rock| Hard Rock &amp; Metal| Rock</td>\n",
       "      <td>1.000000</td>\n",
       "    </tr>\n",
       "    <tr>\n",
       "      <th>Symphony 0</th>\n",
       "      <td>Music| Classical</td>\n",
       "      <td>0.907534</td>\n",
       "    </tr>\n",
       "    <tr>\n",
       "      <th>Native Sons</th>\n",
       "      <td>Music| Alternative Rock| Pop| Rock</td>\n",
       "      <td>0.907534</td>\n",
       "    </tr>\n",
       "    <tr>\n",
       "      <th>Slaughter of the Soul</th>\n",
       "      <td>Music| Pop| Rock</td>\n",
       "      <td>0.907534</td>\n",
       "    </tr>\n",
       "    <tr>\n",
       "      <th>Structures</th>\n",
       "      <td>Music| Alternative Rock| Dance &amp; Electronic</td>\n",
       "      <td>0.907495</td>\n",
       "    </tr>\n",
       "    <tr>\n",
       "      <th>Joy of Christmas</th>\n",
       "      <td>Music</td>\n",
       "      <td>0.891911</td>\n",
       "    </tr>\n",
       "    <tr>\n",
       "      <th>La bella dormente nel bosco</th>\n",
       "      <td>Music| Classical</td>\n",
       "      <td>0.885290</td>\n",
       "    </tr>\n",
       "    <tr>\n",
       "      <th>Tao of Mad Phat Fringe Zones</th>\n",
       "      <td>Music| Jazz| Pop| R&amp;B</td>\n",
       "      <td>0.866656</td>\n",
       "    </tr>\n",
       "    <tr>\n",
       "      <th>Lotusland / Sleeping Forest / Violin Sonata</th>\n",
       "      <td>Music| Classical</td>\n",
       "      <td>0.863544</td>\n",
       "    </tr>\n",
       "    <tr>\n",
       "      <th>Genesis</th>\n",
       "      <td>Music| Classic Rock| Pop| Rock</td>\n",
       "      <td>0.844771</td>\n",
       "    </tr>\n",
       "    <tr>\n",
       "      <th>Squirt Pt.1</th>\n",
       "      <td>Music| Dance &amp; Electronic| Pop| Rock</td>\n",
       "      <td>0.843914</td>\n",
       "    </tr>\n",
       "  </tbody>\n",
       "</table>\n",
       "</div>"
      ],
      "text/plain": [
       "                                                                                 category  \\\n",
       "title                                                                                       \n",
       "Led Zeppelin [Vinyl]                         Music| Classic Rock| Hard Rock & Metal| Rock   \n",
       "Symphony 0                                                               Music| Classical   \n",
       "Native Sons                                            Music| Alternative Rock| Pop| Rock   \n",
       "Slaughter of the Soul                                                    Music| Pop| Rock   \n",
       "Structures                                    Music| Alternative Rock| Dance & Electronic   \n",
       "Joy of Christmas                                                                    Music   \n",
       "La bella dormente nel bosco                                              Music| Classical   \n",
       "Tao of Mad Phat Fringe Zones                                        Music| Jazz| Pop| R&B   \n",
       "Lotusland / Sleeping Forest / Violin Sonata                              Music| Classical   \n",
       "Genesis                                                    Music| Classic Rock| Pop| Rock   \n",
       "Squirt Pt.1                                          Music| Dance & Electronic| Pop| Rock   \n",
       "\n",
       "                                              measure  \n",
       "title                                                  \n",
       "Led Zeppelin [Vinyl]                         1.000000  \n",
       "Symphony 0                                   0.907534  \n",
       "Native Sons                                  0.907534  \n",
       "Slaughter of the Soul                        0.907534  \n",
       "Structures                                   0.907495  \n",
       "Joy of Christmas                             0.891911  \n",
       "La bella dormente nel bosco                  0.885290  \n",
       "Tao of Mad Phat Fringe Zones                 0.866656  \n",
       "Lotusland / Sleeping Forest / Violin Sonata  0.863544  \n",
       "Genesis                                      0.844771  \n",
       "Squirt Pt.1                                  0.843914  "
      ]
     },
     "execution_count": 50,
     "metadata": {},
     "output_type": "execute_result"
    }
   ],
   "source": [
    "# Obtain the latent vector for a product.\n",
    "led_zeppelin = np.array(latent_data.loc['Led Zeppelin [Vinyl]']).reshape(1, -1)\n",
    "\n",
    "# Calculate the similarity of the product with the other ones.\n",
    "similarity = cosine_similarity(latent_data, led_zeppelin).reshape(-1)\n",
    "\n",
    "# Create the dataframe from the array.\n",
    "similarity_df = pd.DataFrame(similarity, index=latent_data.index, columns=['measure'])\n",
    "\n",
    "# Obtain the 10 top recommendations.\n",
    "recommend = similarity_df.sort_values('measure', ascending=False).head(11)\n",
    "\n",
    "# Get the title and genre for the recommendations.\n",
    "tg = unique_products[unique_products['title'].isin(recommend.index.tolist())][['title', 'category']]\n",
    "\n",
    "# Join the information from the two dataframes.\n",
    "recommend = tg.set_index('title').join(recommend, how='left', lsuffix='_left', rsuffix='_right')\n",
    "\n",
    "# Recommend 10 products. \n",
    "recommend.sort_values('measure', ascending=False)"
   ]
  },
  {
   "cell_type": "markdown",
   "metadata": {},
   "source": [
    "### Clustering handwritten text\n",
    "\n",
    "The optical recognition of [handwritten digits](https://archive.ics.uci.edu/ml/datasets/Optical+Recognition+of+Handwritten+Digits) dataset contains images of handwritten digits: 10 classes where each class refers to a digit. The digits have been size-normalized, centered in a fixed-size image, and made available through `scikit-learn`. We will use this dataset in the context of another dimensionality reduction technique for classifying digits.\n",
    "\n",
    "First, we load the dataset that consists of 1797 points with 64 features each. "
   ]
  },
  {
   "cell_type": "code",
   "execution_count": 51,
   "metadata": {},
   "outputs": [
    {
     "data": {
      "text/plain": [
       "(1797, 64)"
      ]
     },
     "execution_count": 51,
     "metadata": {},
     "output_type": "execute_result"
    }
   ],
   "source": [
    "from sklearn.datasets import load_digits\n",
    "\n",
    "# Load the digits dataset.\n",
    "digits = load_digits()\n",
    "digits.data.shape"
   ]
  },
  {
   "cell_type": "markdown",
   "metadata": {},
   "source": [
    "We can plot a few sample digits."
   ]
  },
  {
   "cell_type": "code",
   "execution_count": 52,
   "metadata": {},
   "outputs": [
    {
     "data": {
      "text/plain": [
       "<Figure size 432x288 with 0 Axes>"
      ]
     },
     "metadata": {},
     "output_type": "display_data"
    },
    {
     "data": {
      "image/png": "[encoded data removed]",
      "text/plain": [
       "<Figure size 720x720 with 10 Axes>"
      ]
     },
     "metadata": {},
     "output_type": "display_data"
    }
   ],
   "source": [
    "# Create unique ids for the 64 pixels of each image.\n",
    "pixel_ids = [str(i) for i in range(digits.data.shape[1])]\n",
    "\n",
    "# Create a dataframe from the data.\n",
    "df = pd.DataFrame(digits.data, columns=pixel_ids)\n",
    "df['target'] = digits.target\n",
    "df['digit'] = df['target'].apply(lambda i: str(i))\n",
    "\n",
    "# Plot 10 sample digit images.\n",
    "plt.gray()\n",
    "fig = plt.figure(figsize=(10, 10))\n",
    "for i in range(0, 10):\n",
    "    ax = fig.add_subplot(3, 5, i+1, \n",
    "title=\"digit:\"+str(df.loc[i, 'digit']) )\n",
    "    ax.matshow(df.loc[i, pixel_ids].values.reshape((8, 8)).astype(float))"
   ]
  },
  {
   "cell_type": "markdown",
   "metadata": {},
   "source": [
    "We apply PCA on the digits dataset and show the output. We observe that certain digit classes are separated quite well (e.g, 0, 3, and 9), but others are completely mixed (e.g. 2, 5,"
   ]
  },
  {
   "cell_type": "code",
   "execution_count": 53,
   "metadata": {},
   "outputs": [
    {
     "data": {
      "image/png": "[encoded data removed]",
      "text/plain": [
       "<Figure size 1008x576 with 1 Axes>"
      ]
     },
     "metadata": {},
     "output_type": "display_data"
    }
   ],
   "source": [
    "from sklearn.decomposition import PCA\n",
    "\n",
    "# Calculate 3 principal components.\n",
    "pca = PCA(n_components=3)\n",
    "pcaComponents = pca.fit_transform(df[pixel_ids].values)\n",
    "df['PC1'] = pcaComponents[:, 0]\n",
    "df['PC2'] = pcaComponents[:, 1] \n",
    "df['PC3'] = pcaComponents[:, 2]\n",
    "\n",
    "# Keep only 100 examples for demonstration.\n",
    "df_sub = df[:100]\n",
    "\n",
    "# Create the plot.\n",
    "plt.figure(figsize=(14, 8))\n",
    "p = sns.scatterplot(x=\"PC1\", y=\"PC2\", hue=\"target\",\n",
    "    palette=sns.color_palette(\"hls\", 10),\n",
    "    data=df_sub, legend=\"full\")\n",
    "\n",
    "# Include the digit label for each datapoint.\n",
    "for i in range(0, len(df_sub.index)-1):\n",
    "     p.text(df_sub['PC1'].iloc[i]+1.0, df_sub['PC2'].iloc[i], \n",
    "df_sub['digit'].iloc[i], horizontalalignment='left', size='medium', color='black', weight='normal')"
   ]
  },
  {
   "cell_type": "markdown",
   "metadata": {},
   "source": [
    "We introduce another dimensionality reduction technique called `t-distributed Stochastic Neighbor Embedding` (t-SNE), which embeds the data points from a higher dimension to a lower one. We apply t-SNE to the digit classification problem. t-SNE does a better job, and the digit clusters are separated clearly."
   ]
  },
  {
   "cell_type": "code",
   "execution_count": 54,
   "metadata": {},
   "outputs": [
    {
     "data": {
      "text/plain": [
       "<AxesSubplot:xlabel='tsne1', ylabel='tsne2'>"
      ]
     },
     "execution_count": 54,
     "metadata": {},
     "output_type": "execute_result"
    },
    {
     "data": {
      "image/png": "[encoded data removed]",
      "text/plain": [
       "<Figure size 864x576 with 1 Axes>"
      ]
     },
     "metadata": {},
     "output_type": "display_data"
    }
   ],
   "source": [
    "from sklearn.manifold import TSNE\n",
    "\n",
    "# Calculate 2 tsne components.\n",
    "tsne = TSNE(n_components=2, perplexity=40, n_iter=300, random_state=123)\n",
    "tsneEmbedded = tsne.fit_transform(df[pixel_ids].values)\n",
    "df['tsne1'] = tsneEmbedded [:, 0]\n",
    "df['tsne2'] = tsneEmbedded [:, 1]\n",
    "\n",
    "# Create the plot.\n",
    "plt.figure(figsize=(12,8))\n",
    "sns.scatterplot(x=\"tsne1\", y=\"tsne2\", hue=\"target\",\n",
    "    palette=sns.color_palette(\"hls\", 10),\n",
    "    data=df, legend=\"full\", alpha=0.8)"
   ]
  },
  {
   "cell_type": "markdown",
   "metadata": {},
   "source": [
    "We conclude this section by applying t-SNE to the main problem of this exercise."
   ]
  },
  {
   "cell_type": "code",
   "execution_count": 55,
   "metadata": {},
   "outputs": [
    {
     "data": {
      "text/plain": [
       "(8684, 3)"
      ]
     },
     "execution_count": 55,
     "metadata": {},
     "output_type": "execute_result"
    }
   ],
   "source": [
    "# Calculate 3 components for the pivot table.\n",
    "tsne = TSNE(n_components=3, perplexity=5, random_state=123)\n",
    "\n",
    "# Calculate the latent matrix.\n",
    "tsneEmbedded = tsne.fit_transform(ratings_pivot)\n",
    "\n",
    "# Create the latent dataframe.\n",
    "latent_data = pd.DataFrame(tsneEmbedded, index=unique_products['title'].tolist())\n",
    "\t\n",
    "latent_data.shape"
   ]
  },
  {
   "cell_type": "code",
   "execution_count": 56,
   "metadata": {},
   "outputs": [
    {
     "data": {
      "text/html": [
       "<div>\n",
       "<style scoped>\n",
       "    .dataframe tbody tr th:only-of-type {\n",
       "        vertical-align: middle;\n",
       "    }\n",
       "\n",
       "    .dataframe tbody tr th {\n",
       "        vertical-align: top;\n",
       "    }\n",
       "\n",
       "    .dataframe thead th {\n",
       "        text-align: right;\n",
       "    }\n",
       "</style>\n",
       "<table border=\"1\" class=\"dataframe\">\n",
       "  <thead>\n",
       "    <tr style=\"text-align: right;\">\n",
       "      <th></th>\n",
       "      <th>category</th>\n",
       "      <th>measure</th>\n",
       "    </tr>\n",
       "    <tr>\n",
       "      <th>title</th>\n",
       "      <th></th>\n",
       "      <th></th>\n",
       "    </tr>\n",
       "  </thead>\n",
       "  <tbody>\n",
       "    <tr>\n",
       "      <th>Led Zeppelin [Vinyl]</th>\n",
       "      <td>Music| Classic Rock| Hard Rock &amp; Metal| Rock</td>\n",
       "      <td>1.000000</td>\n",
       "    </tr>\n",
       "    <tr>\n",
       "      <th>Island [Vinyl]</th>\n",
       "      <td>Music| New Age| Pop| Rock| World Music</td>\n",
       "      <td>0.999456</td>\n",
       "    </tr>\n",
       "    <tr>\n",
       "      <th>Whammy! [Vinyl]</th>\n",
       "      <td>Music| Alternative Rock| Pop| Rock</td>\n",
       "      <td>0.999456</td>\n",
       "    </tr>\n",
       "    <tr>\n",
       "      <th>Living Proof: Mgm Recordings 1963-1975</th>\n",
       "      <td>Music| Classic Rock| Country| Hard Rock &amp; Meta...</td>\n",
       "      <td>0.999455</td>\n",
       "    </tr>\n",
       "    <tr>\n",
       "      <th>Sacred Arias</th>\n",
       "      <td>Music| Classical| Miscellaneous| Pop| World Music</td>\n",
       "      <td>0.998777</td>\n",
       "    </tr>\n",
       "    <tr>\n",
       "      <th>Shriner's Convention</th>\n",
       "      <td>Music| Country| Miscellaneous</td>\n",
       "      <td>0.998502</td>\n",
       "    </tr>\n",
       "    <tr>\n",
       "      <th>20th Century Masters: Millennium Collection (The Best of the Everly Brothers)</th>\n",
       "      <td>Music| Christian| Classic Rock| Classical| Cou...</td>\n",
       "      <td>0.998453</td>\n",
       "    </tr>\n",
       "    <tr>\n",
       "      <th>Killer In The Crowd (Ep)</th>\n",
       "      <td>Music| Alternative Rock| Pop| Rock</td>\n",
       "      <td>0.998453</td>\n",
       "    </tr>\n",
       "    <tr>\n",
       "      <th>I See Good Spirits &amp; I See Bad Spirits [Vinyl]</th>\n",
       "      <td>Music| Alternative Rock| Dance &amp; Electronic| Rock</td>\n",
       "      <td>0.998453</td>\n",
       "    </tr>\n",
       "    <tr>\n",
       "      <th>Live at the Quick</th>\n",
       "      <td>Music| Country| Jazz| Pop| Rock</td>\n",
       "      <td>0.998378</td>\n",
       "    </tr>\n",
       "    <tr>\n",
       "      <th>Sgt. Pepper's Lonely Hearts Club Band</th>\n",
       "      <td>Music| Pop</td>\n",
       "      <td>0.998377</td>\n",
       "    </tr>\n",
       "  </tbody>\n",
       "</table>\n",
       "</div>"
      ],
      "text/plain": [
       "                                                                                             category  \\\n",
       "title                                                                                                   \n",
       "Led Zeppelin [Vinyl]                                     Music| Classic Rock| Hard Rock & Metal| Rock   \n",
       "Island [Vinyl]                                                 Music| New Age| Pop| Rock| World Music   \n",
       "Whammy! [Vinyl]                                                    Music| Alternative Rock| Pop| Rock   \n",
       "Living Proof: Mgm Recordings 1963-1975              Music| Classic Rock| Country| Hard Rock & Meta...   \n",
       "Sacred Arias                                        Music| Classical| Miscellaneous| Pop| World Music   \n",
       "Shriner's Convention                                                    Music| Country| Miscellaneous   \n",
       "20th Century Masters: Millennium Collection (Th...  Music| Christian| Classic Rock| Classical| Cou...   \n",
       "Killer In The Crowd (Ep)                                           Music| Alternative Rock| Pop| Rock   \n",
       "I See Good Spirits & I See Bad Spirits [Vinyl]      Music| Alternative Rock| Dance & Electronic| Rock   \n",
       "Live at the Quick                                                     Music| Country| Jazz| Pop| Rock   \n",
       "Sgt. Pepper's Lonely Hearts Club Band                                                      Music| Pop   \n",
       "\n",
       "                                                     measure  \n",
       "title                                                         \n",
       "Led Zeppelin [Vinyl]                                1.000000  \n",
       "Island [Vinyl]                                      0.999456  \n",
       "Whammy! [Vinyl]                                     0.999456  \n",
       "Living Proof: Mgm Recordings 1963-1975              0.999455  \n",
       "Sacred Arias                                        0.998777  \n",
       "Shriner's Convention                                0.998502  \n",
       "20th Century Masters: Millennium Collection (Th...  0.998453  \n",
       "Killer In The Crowd (Ep)                            0.998453  \n",
       "I See Good Spirits & I See Bad Spirits [Vinyl]      0.998453  \n",
       "Live at the Quick                                   0.998378  \n",
       "Sgt. Pepper's Lonely Hearts Club Band               0.998377  "
      ]
     },
     "execution_count": 56,
     "metadata": {},
     "output_type": "execute_result"
    }
   ],
   "source": [
    "# Obtain the latent vector for a product.\n",
    "led_zeppelin = np.array(latent_data.loc['Led Zeppelin [Vinyl]']).reshape(1, -1)\n",
    "\n",
    "# Calculate the similarity of the product with the other ones.\n",
    "similarity = cosine_similarity(latent_data, led_zeppelin).reshape(-1)\n",
    "\n",
    "# Create the dataframe from the array.\n",
    "similarity_df = pd.DataFrame(similarity, index=latent_data.index, columns=['measure'])\n",
    "\n",
    "# Obtain the 10 top recommendations.\n",
    "recommend = similarity_df.sort_values('measure', ascending=False).head(11)\n",
    "\n",
    "# Get the title and genre for the recommendations.\n",
    "tg = unique_products[unique_products['title'].isin(recommend.index.tolist())][['title', 'category']]\n",
    "\n",
    "# Join the information from the two dataframes.\n",
    "recommend = tg.set_index('title').join(recommend, how='left', lsuffix='_left', rsuffix='_right')\n",
    "\n",
    "# Recommend 10 products. \n",
    "recommend.sort_values('measure', ascending=False)\t"
   ]
  },
  {
   "cell_type": "markdown",
   "metadata": {},
   "source": [
    "## Matrix factorization\n",
    "\n",
    "We utilize the rating table from the previous sections and a technique known as `Matrix Factorization` that allows us to discover the latent features underlying the interactions between users and items. We have seen that any machine learning algorithm can be tuned by altering the values of its hyperparameters. However, knowing which combination gives the best performance is hard until you test them all. Similarly, there might be different factorizations for a matrix, and we need to experiment to find the right one. \n",
    "\n",
    "### Model-based collaborative filtering"
   ]
  },
  {
   "cell_type": "code",
   "execution_count": 57,
   "metadata": {},
   "outputs": [
    {
     "name": "stdout",
     "output_type": "stream",
     "text": [
      "The best RMSE score: 0.9216964630324304\n"
     ]
    }
   ],
   "source": [
    "from surprise import accuracy, Dataset, Reader, SVD\n",
    "from surprise.model_selection import cross_validate\n",
    "from surprise.model_selection import GridSearchCV, KFold\n",
    "\n",
    "# Define a Reader for our custom dataset and load the data from the ratings.\n",
    "reader = Reader(rating_scale=(1, 5))\n",
    "\n",
    "# For efficiency load part of the dataset.\n",
    "data = Dataset.load_from_df(ratings[['userId', 'productId', 'score']][0:100000], reader)\n",
    "\n",
    "# Create the grid with the hyperparameter values to test.\n",
    "grid = {'n_factors':[180,200], 'n_epochs':[5,10], 'lr_all':[0.002,0.005], 'reg_all':[0.4,0.6], 'random_state':[2]}\n",
    "\n",
    "# Perform the grid search for SVD.\n",
    "grid_search = GridSearchCV(SVD, grid, measures=['rmse', 'mae'], cv=KFold(3, random_state=2))\n",
    "grid_search.fit(data)\n",
    "algo = grid_search.best_estimator['rmse']\n",
    "\n",
    "print(\"The best RMSE score: \" + str(grid_search.best_score['rmse']))"
   ]
  },
  {
   "cell_type": "markdown",
   "metadata": {},
   "source": [
    "The model that provided the lowest error for SVD is the one with 180 latent factors. "
   ]
  },
  {
   "cell_type": "code",
   "execution_count": 58,
   "metadata": {},
   "outputs": [
    {
     "name": "stdout",
     "output_type": "stream",
     "text": [
      "Hyperparameter values for the best RMSE score: {'n_factors': 180, 'n_epochs': 10, 'lr_all': 0.005, 'reg_all': 0.4, 'random_state': 2}\n"
     ]
    }
   ],
   "source": [
    "print(\"Hyperparameter values for the best RMSE score: \" + str(grid_search.best_params['rmse']))"
   ]
  },
  {
   "cell_type": "markdown",
   "metadata": {},
   "source": [
    "The method _cross_validate_ returns the accuracy of this best algorithm using a 5-fold cross-validation."
   ]
  },
  {
   "cell_type": "code",
   "execution_count": 59,
   "metadata": {},
   "outputs": [
    {
     "name": "stdout",
     "output_type": "stream",
     "text": [
      "Evaluating RMSE, MAE of algorithm SVD on 5 split(s).\n",
      "\n",
      "                  Fold 1  Fold 2  Fold 3  Fold 4  Fold 5  Mean    Std     \n",
      "RMSE (testset)    0.9152  0.9041  0.9180  0.9236  0.9087  0.9139  0.0069  \n",
      "MAE (testset)     0.7024  0.6989  0.7039  0.7144  0.7032  0.7046  0.0052  \n",
      "Fit time          1.03    1.04    0.93    0.90    0.99    0.98    0.06    \n",
      "Test time         0.04    0.04    0.04    0.04    0.05    0.04    0.00    \n"
     ]
    },
    {
     "data": {
      "text/plain": [
       "{'test_rmse': array([0.91521321, 0.90408151, 0.91801589, 0.92364062, 0.90865854]),\n",
       " 'test_mae': array([0.70244355, 0.69887496, 0.7039363 , 0.71436234, 0.70320971]),\n",
       " 'fit_time': (1.0329489707946777,\n",
       "  1.0388023853302002,\n",
       "  0.932793140411377,\n",
       "  0.8974428176879883,\n",
       "  0.9937427043914795),\n",
       " 'test_time': (0.03688526153564453,\n",
       "  0.038675546646118164,\n",
       "  0.035326480865478516,\n",
       "  0.03611874580383301,\n",
       "  0.04737401008605957)}"
      ]
     },
     "execution_count": 59,
     "metadata": {},
     "output_type": "execute_result"
    }
   ],
   "source": [
    "# Report accuracy of the best algorithm using cross-validation.\n",
    "cross_validate(algo, data, measures=['RMSE', 'MAE'], cv=KFold(5, random_state=2), verbose=True)"
   ]
  },
  {
   "cell_type": "markdown",
   "metadata": {},
   "source": [
    "After extracting the configuration of the best model, we can use the whole dataset and train a new one."
   ]
  },
  {
   "cell_type": "code",
   "execution_count": 60,
   "metadata": {},
   "outputs": [
    {
     "name": "stdout",
     "output_type": "stream",
     "text": [
      "RMSE: 0.9099\n"
     ]
    },
    {
     "data": {
      "text/plain": [
       "0.9098979396765616"
      ]
     },
     "execution_count": 60,
     "metadata": {},
     "output_type": "execute_result"
    }
   ],
   "source": [
    "from surprise.model_selection import train_test_split\n",
    "\n",
    "# Load the whole dataset.\n",
    "data = Dataset.load_from_df(ratings[['userId', 'productId', 'score']], reader)\n",
    "\n",
    "# Sample random trainset and testset (30% of the data is used for testing).\n",
    "trainset, testset = train_test_split(data, test_size=0.3, random_state=123)\n",
    "\n",
    "# Use the SVD algorithm.\n",
    "algo = SVD(n_factors=180, n_epochs=10, lr_all=0.005, reg_all=0.4, random_state=123)\n",
    "\n",
    "# Train the algorithm on the trainset, and predict ratings for the testset.\n",
    "algo.fit(trainset)\n",
    "predictions = algo.test(testset)\n",
    "\n",
    "# Compute the Root Mean Square Error.\n",
    "accuracy.rmse(predictions)"
   ]
  },
  {
   "cell_type": "markdown",
   "metadata": {},
   "source": [
    "Let us randomly pick user `AJYSM99XWVT4O`, who has performed `33` reviews. Then, we can exploit the best model and iterate over all available products to obtain a prediction on whether it should be recommended to this specific user."
   ]
  },
  {
   "cell_type": "code",
   "execution_count": 61,
   "metadata": {},
   "outputs": [
    {
     "data": {
      "text/plain": [
       "33"
      ]
     },
     "execution_count": 61,
     "metadata": {},
     "output_type": "execute_result"
    }
   ],
   "source": [
    "uid = \"AJYSM99XWVT4O\"\n",
    "\n",
    "# Find the products that the specific user has not rated.\n",
    "rated = ratings[ratings['userId'] == uid]['productId'].tolist()\n",
    "not_rated = unique_products[~unique_products['productId'].isin(rated)]\n",
    "\n",
    "len(rated)"
   ]
  },
  {
   "cell_type": "code",
   "execution_count": 62,
   "metadata": {},
   "outputs": [
    {
     "data": {
      "text/html": [
       "<div>\n",
       "<style scoped>\n",
       "    .dataframe tbody tr th:only-of-type {\n",
       "        vertical-align: middle;\n",
       "    }\n",
       "\n",
       "    .dataframe tbody tr th {\n",
       "        vertical-align: top;\n",
       "    }\n",
       "\n",
       "    .dataframe thead th {\n",
       "        text-align: right;\n",
       "    }\n",
       "</style>\n",
       "<table border=\"1\" class=\"dataframe\">\n",
       "  <thead>\n",
       "    <tr style=\"text-align: right;\">\n",
       "      <th></th>\n",
       "      <th>category</th>\n",
       "      <th>measure</th>\n",
       "    </tr>\n",
       "    <tr>\n",
       "      <th>title</th>\n",
       "      <th></th>\n",
       "      <th></th>\n",
       "    </tr>\n",
       "  </thead>\n",
       "  <tbody>\n",
       "    <tr>\n",
       "      <th>Jackie Wilson - 20 Greatest Hits</th>\n",
       "      <td>Music| Blues| Pop| R&amp;B</td>\n",
       "      <td>4.931706</td>\n",
       "    </tr>\n",
       "    <tr>\n",
       "      <th>Shaft: Music From The Soundtrack (1971 Film)</th>\n",
       "      <td>Music| Blues| Pop| R&amp;B| Soundtracks</td>\n",
       "      <td>4.929420</td>\n",
       "    </tr>\n",
       "    <tr>\n",
       "      <th>Aja</th>\n",
       "      <td>Music| Rock</td>\n",
       "      <td>4.918036</td>\n",
       "    </tr>\n",
       "    <tr>\n",
       "      <th>Velvet Underground</th>\n",
       "      <td>Music| Alternative Rock| Pop| Rock</td>\n",
       "      <td>4.905956</td>\n",
       "    </tr>\n",
       "    <tr>\n",
       "      <th>Me Against the World</th>\n",
       "      <td>Music| Rap &amp; Hip-Hop</td>\n",
       "      <td>4.897946</td>\n",
       "    </tr>\n",
       "    <tr>\n",
       "      <th>A Love Supreme</th>\n",
       "      <td>Music| Jazz| Pop</td>\n",
       "      <td>4.892095</td>\n",
       "    </tr>\n",
       "    <tr>\n",
       "      <th>Made in Japan [Vinyl]</th>\n",
       "      <td>Music| Classic Rock| Hard Rock &amp; Metal| Pop| R...</td>\n",
       "      <td>4.881098</td>\n",
       "    </tr>\n",
       "    <tr>\n",
       "      <th>Fulfillingness</th>\n",
       "      <td>Music| Classic Rock| Pop| R&amp;B| Rock</td>\n",
       "      <td>4.865284</td>\n",
       "    </tr>\n",
       "    <tr>\n",
       "      <th>Kind of Blue</th>\n",
       "      <td>Music| Jazz</td>\n",
       "      <td>4.862929</td>\n",
       "    </tr>\n",
       "    <tr>\n",
       "      <th>Pleasure to Kill</th>\n",
       "      <td>Music| Hard Rock &amp; Metal| Rock</td>\n",
       "      <td>4.859903</td>\n",
       "    </tr>\n",
       "  </tbody>\n",
       "</table>\n",
       "</div>"
      ],
      "text/plain": [
       "                                                                                       category  \\\n",
       "title                                                                                             \n",
       "Jackie Wilson - 20 Greatest Hits                                         Music| Blues| Pop| R&B   \n",
       "Shaft: Music From The Soundtrack (1971 Film)                Music| Blues| Pop| R&B| Soundtracks   \n",
       "Aja                                                                                 Music| Rock   \n",
       "Velvet Underground                                           Music| Alternative Rock| Pop| Rock   \n",
       "Me Against the World                                                       Music| Rap & Hip-Hop   \n",
       "A Love Supreme                                                                 Music| Jazz| Pop   \n",
       "Made in Japan [Vinyl]                         Music| Classic Rock| Hard Rock & Metal| Pop| R...   \n",
       "Fulfillingness                                              Music| Classic Rock| Pop| R&B| Rock   \n",
       "Kind of Blue                                                                        Music| Jazz   \n",
       "Pleasure to Kill                                                 Music| Hard Rock & Metal| Rock   \n",
       "\n",
       "                                               measure  \n",
       "title                                                   \n",
       "Jackie Wilson - 20 Greatest Hits              4.931706  \n",
       "Shaft: Music From The Soundtrack (1971 Film)  4.929420  \n",
       "Aja                                           4.918036  \n",
       "Velvet Underground                            4.905956  \n",
       "Me Against the World                          4.897946  \n",
       "A Love Supreme                                4.892095  \n",
       "Made in Japan [Vinyl]                         4.881098  \n",
       "Fulfillingness                                4.865284  \n",
       "Kind of Blue                                  4.862929  \n",
       "Pleasure to Kill                              4.859903  "
      ]
     },
     "execution_count": 62,
     "metadata": {},
     "output_type": "execute_result"
    }
   ],
   "source": [
    "pred = []\n",
    "\n",
    "# Iterate over all not rated products and predict whether they should be recommended.\n",
    "for index, row in not_rated.iterrows():\n",
    "    p = algo.predict(uid, row['productId'])\n",
    "    pred.append((row['title'], p[3]))\n",
    "\n",
    "# Create a dataframe from the predictions.\n",
    "predictions = pd.DataFrame(pred, columns=['products', 'measure'])\n",
    "predictions.sort_values('measure', ascending=False, inplace=True)  \n",
    "predictions.set_index('products', inplace=True)    \n",
    "\n",
    "# Obtain the 10 top recommendations.\n",
    "recommend = predictions.head(10)\n",
    "\n",
    "# Get the title and genre for the recommendations.\n",
    "tg = unique_products[unique_products['title'].isin(recommend.index.tolist())][['title', 'category']]\n",
    "\n",
    "# Join the information from the two dataframes.\n",
    "recommend = tg.set_index('title').join(recommend, how='left', lsuffix='_left', rsuffix='_right')\n",
    "\n",
    "# Recommend 10 products. \n",
    "recommend.sort_values('measure', ascending=False)"
   ]
  },
  {
   "cell_type": "markdown",
   "metadata": {},
   "source": [
    "## Restricted Boltzmann Machine\n",
    "\n",
    "We continue this discussion and focus on learning techniques that leverage neural networks for music recommenders. Specifically, this section presents a family of feature extractor methods that are designed to identify inherent patterns in the data. These fall under the family of `autoencoders`, which are neural networks that try to encode their own structure so that both their input and output be the same. `Restricted Boltzmann Machine` (RBM) uses a similar idea with autoencoders. In addition, we use a particular probability distribution called `Bernoulli`."
   ]
  },
  {
   "cell_type": "code",
   "execution_count": 63,
   "metadata": {},
   "outputs": [
    {
     "name": "stdout",
     "output_type": "stream",
     "text": [
      "[BernoulliRBM] Iteration 1, pseudo-likelihood = -5290.92, time = 1.29s\n",
      "[BernoulliRBM] Iteration 2, pseudo-likelihood = -5083.76, time = 1.69s\n",
      "[BernoulliRBM] Iteration 3, pseudo-likelihood = -4888.34, time = 1.83s\n",
      "[BernoulliRBM] Iteration 4, pseudo-likelihood = -4703.60, time = 1.62s\n",
      "[BernoulliRBM] Iteration 5, pseudo-likelihood = -4528.88, time = 1.74s\n",
      "[BernoulliRBM] Iteration 6, pseudo-likelihood = -4362.98, time = 1.90s\n",
      "[BernoulliRBM] Iteration 7, pseudo-likelihood = -4205.24, time = 1.79s\n",
      "[BernoulliRBM] Iteration 8, pseudo-likelihood = -4054.72, time = 2.15s\n",
      "[BernoulliRBM] Iteration 9, pseudo-likelihood = -3911.06, time = 1.78s\n",
      "[BernoulliRBM] Iteration 10, pseudo-likelihood = -3773.30, time = 1.70s\n",
      "[BernoulliRBM] Iteration 11, pseudo-likelihood = -3641.69, time = 2.17s\n",
      "[BernoulliRBM] Iteration 12, pseudo-likelihood = -3515.59, time = 1.76s\n",
      "[BernoulliRBM] Iteration 13, pseudo-likelihood = -3395.03, time = 2.05s\n",
      "[BernoulliRBM] Iteration 14, pseudo-likelihood = -3280.47, time = 2.14s\n",
      "[BernoulliRBM] Iteration 15, pseudo-likelihood = -3171.42, time = 2.15s\n",
      "[BernoulliRBM] Iteration 16, pseudo-likelihood = -3068.12, time = 2.19s\n",
      "[BernoulliRBM] Iteration 17, pseudo-likelihood = -2970.80, time = 2.09s\n",
      "[BernoulliRBM] Iteration 18, pseudo-likelihood = -2879.21, time = 2.03s\n",
      "[BernoulliRBM] Iteration 19, pseudo-likelihood = -2793.37, time = 1.89s\n",
      "[BernoulliRBM] Iteration 20, pseudo-likelihood = -2713.01, time = 1.66s\n"
     ]
    }
   ],
   "source": [
    "from sklearn.neural_network import BernoulliRBM\n",
    "\n",
    "# Normalize the ratings and get the transpose dataframe.\n",
    "rp = ratings_pivot.div(5.0)\n",
    "rp = rp.reset_index(drop=True).T\n",
    "\n",
    "# Create the Bernoulli RBM and fit it with data.\n",
    "rbm = BernoulliRBM(n_components=100, learning_rate=0.01, n_iter=20, random_state=123, batch_size=200, verbose=True)\n",
    "rbm.fit(rp)\n",
    "\n",
    "# Perform one Gibbs sampling step.\n",
    "res = rbm.gibbs(np.array(rp))"
   ]
  },
  {
   "cell_type": "code",
   "execution_count": 64,
   "metadata": {},
   "outputs": [
    {
     "data": {
      "text/html": [
       "<div>\n",
       "<style scoped>\n",
       "    .dataframe tbody tr th:only-of-type {\n",
       "        vertical-align: middle;\n",
       "    }\n",
       "\n",
       "    .dataframe tbody tr th {\n",
       "        vertical-align: top;\n",
       "    }\n",
       "\n",
       "    .dataframe thead th {\n",
       "        text-align: right;\n",
       "    }\n",
       "</style>\n",
       "<table border=\"1\" class=\"dataframe\">\n",
       "  <thead>\n",
       "    <tr style=\"text-align: right;\">\n",
       "      <th></th>\n",
       "      <th>title</th>\n",
       "      <th>category</th>\n",
       "      <th>recommend</th>\n",
       "    </tr>\n",
       "  </thead>\n",
       "  <tbody>\n",
       "    <tr>\n",
       "      <th>3</th>\n",
       "      <td>Chrono Cross: Original Soundtrack</td>\n",
       "      <td>Music| Pop| Soundtracks</td>\n",
       "      <td>False</td>\n",
       "    </tr>\n",
       "    <tr>\n",
       "      <th>57</th>\n",
       "      <td>Vagrant Story: Original Soundtrack</td>\n",
       "      <td>Music| Pop| Soundtracks</td>\n",
       "      <td>False</td>\n",
       "    </tr>\n",
       "    <tr>\n",
       "      <th>65</th>\n",
       "      <td>Roy Orbison: Authorized Bootleg Collection</td>\n",
       "      <td>Music| Pop| Rock</td>\n",
       "      <td>False</td>\n",
       "    </tr>\n",
       "    <tr>\n",
       "      <th>86</th>\n",
       "      <td>Bird Lives</td>\n",
       "      <td>Music| Jazz</td>\n",
       "      <td>False</td>\n",
       "    </tr>\n",
       "    <tr>\n",
       "      <th>97</th>\n",
       "      <td>Hardest Pit in the Litter</td>\n",
       "      <td>Music| Pop| Rap &amp; Hip-Hop</td>\n",
       "      <td>True</td>\n",
       "    </tr>\n",
       "  </tbody>\n",
       "</table>\n",
       "</div>"
      ],
      "text/plain": [
       "                                         title                   category  \\\n",
       "3            Chrono Cross: Original Soundtrack    Music| Pop| Soundtracks   \n",
       "57          Vagrant Story: Original Soundtrack    Music| Pop| Soundtracks   \n",
       "65  Roy Orbison: Authorized Bootleg Collection           Music| Pop| Rock   \n",
       "86                                  Bird Lives                Music| Jazz   \n",
       "97                   Hardest Pit in the Litter  Music| Pop| Rap & Hip-Hop   \n",
       "\n",
       "    recommend  \n",
       "3       False  \n",
       "57      False  \n",
       "65      False  \n",
       "86      False  \n",
       "97       True  "
      ]
     },
     "execution_count": 64,
     "metadata": {},
     "output_type": "execute_result"
    }
   ],
   "source": [
    "# Keep track of whether a product should be recommended for a specific user.\n",
    "unique_products['recommend'] = res[rp.index.get_loc(uid)]\n",
    "unique_products[['title', 'category', 'recommend']].head()"
   ]
  },
  {
   "cell_type": "code",
   "execution_count": 65,
   "metadata": {},
   "outputs": [
    {
     "name": "stdout",
     "output_type": "stream",
     "text": [
      "Number of recommendations: 2240\n"
     ]
    }
   ],
   "source": [
    "# Keep the products to recommend.\n",
    "recommend_products = unique_products[unique_products.recommend==True]\n",
    "print(\"Number of recommendations: {:d}\".format(len(recommend_products)))"
   ]
  },
  {
   "cell_type": "code",
   "execution_count": 66,
   "metadata": {},
   "outputs": [
    {
     "name": "stdout",
     "output_type": "stream",
     "text": [
      "27.27%\n"
     ]
    }
   ],
   "source": [
    "# Keep their product id.\n",
    "m_ids = (recommend_products.productId).tolist()\n",
    "\n",
    "# Percentage of recommended products already rated.\n",
    "print(\"{:.2f}\".format(100*len(list(set(rated).intersection(m_ids)))/len(rated)) + \"%\")"
   ]
  },
  {
   "cell_type": "markdown",
   "metadata": {},
   "source": [
    "Almost one-third of the music items are already rated, so we need to exclude those from the possible recommendations."
   ]
  },
  {
   "cell_type": "code",
   "execution_count": 67,
   "metadata": {},
   "outputs": [
    {
     "data": {
      "text/html": [
       "<div>\n",
       "<style scoped>\n",
       "    .dataframe tbody tr th:only-of-type {\n",
       "        vertical-align: middle;\n",
       "    }\n",
       "\n",
       "    .dataframe tbody tr th {\n",
       "        vertical-align: top;\n",
       "    }\n",
       "\n",
       "    .dataframe thead th {\n",
       "        text-align: right;\n",
       "    }\n",
       "</style>\n",
       "<table border=\"1\" class=\"dataframe\">\n",
       "  <thead>\n",
       "    <tr style=\"text-align: right;\">\n",
       "      <th></th>\n",
       "      <th>title</th>\n",
       "      <th>category</th>\n",
       "    </tr>\n",
       "  </thead>\n",
       "  <tbody>\n",
       "    <tr>\n",
       "      <th>97</th>\n",
       "      <td>Hardest Pit in the Litter</td>\n",
       "      <td>Music| Pop| Rap &amp; Hip-Hop</td>\n",
       "    </tr>\n",
       "    <tr>\n",
       "      <th>137</th>\n",
       "      <td>Letters From Home</td>\n",
       "      <td>Music| Country| Pop</td>\n",
       "    </tr>\n",
       "    <tr>\n",
       "      <th>149</th>\n",
       "      <td>Fanfare for the Warriors [Vinyl]</td>\n",
       "      <td>Music| Jazz| Pop</td>\n",
       "    </tr>\n",
       "    <tr>\n",
       "      <th>181</th>\n",
       "      <td>Songs of Courage</td>\n",
       "      <td>Music| Jazz</td>\n",
       "    </tr>\n",
       "    <tr>\n",
       "      <th>194</th>\n",
       "      <td>Hard Hard Traveling Man</td>\n",
       "      <td>Music| Country</td>\n",
       "    </tr>\n",
       "    <tr>\n",
       "      <th>209</th>\n",
       "      <td>Chocolate</td>\n",
       "      <td>Music| Dance &amp; Electronic| Pop| World Music</td>\n",
       "    </tr>\n",
       "    <tr>\n",
       "      <th>262</th>\n",
       "      <td>Ferenc Fricsay: A Life in Music [Box Set]</td>\n",
       "      <td>Music| Classical| Dance &amp; Electronic| Miscella...</td>\n",
       "    </tr>\n",
       "    <tr>\n",
       "      <th>267</th>\n",
       "      <td>Guerrilla Warfare</td>\n",
       "      <td>Music| Pop| Rap &amp; Hip-Hop</td>\n",
       "    </tr>\n",
       "    <tr>\n",
       "      <th>370</th>\n",
       "      <td>Return Journey</td>\n",
       "      <td>Music| Country| Folk</td>\n",
       "    </tr>\n",
       "    <tr>\n",
       "      <th>476</th>\n",
       "      <td>Catch Without Arms</td>\n",
       "      <td>Music| Alternative Rock| Hard Rock &amp; Metal| Po...</td>\n",
       "    </tr>\n",
       "  </tbody>\n",
       "</table>\n",
       "</div>"
      ],
      "text/plain": [
       "                                         title  \\\n",
       "97                   Hardest Pit in the Litter   \n",
       "137                          Letters From Home   \n",
       "149           Fanfare for the Warriors [Vinyl]   \n",
       "181                           Songs of Courage   \n",
       "194                    Hard Hard Traveling Man   \n",
       "209                                  Chocolate   \n",
       "262  Ferenc Fricsay: A Life in Music [Box Set]   \n",
       "267                          Guerrilla Warfare   \n",
       "370                             Return Journey   \n",
       "476                         Catch Without Arms   \n",
       "\n",
       "                                              category  \n",
       "97                           Music| Pop| Rap & Hip-Hop  \n",
       "137                                Music| Country| Pop  \n",
       "149                                   Music| Jazz| Pop  \n",
       "181                                        Music| Jazz  \n",
       "194                                     Music| Country  \n",
       "209        Music| Dance & Electronic| Pop| World Music  \n",
       "262  Music| Classical| Dance & Electronic| Miscella...  \n",
       "267                          Music| Pop| Rap & Hip-Hop  \n",
       "370                               Music| Country| Folk  \n",
       "476  Music| Alternative Rock| Hard Rock & Metal| Po...  "
      ]
     },
     "execution_count": 67,
     "metadata": {},
     "output_type": "execute_result"
    }
   ],
   "source": [
    "# Recommend 10 products.\n",
    "recommend_products[~recommend_products.productId.isin(rated)][['title', 'category']].head(10)"
   ]
  },
  {
   "cell_type": "code",
   "execution_count": 68,
   "metadata": {},
   "outputs": [],
   "source": [
    "# Uncomment the following lines to calculate similarity distance of the item titles.\n",
    "# Do not forget to reload and pre-process the data.\n",
    "# import nltk\n",
    "\n",
    "# # Method for calculating the distance between two strings.\n",
    "# def d_score(s1, s2):\n",
    "#     score = nltk.edit_distance(s1, s2)\n",
    "#     if score == 0.0:\n",
    "#         score = 1.0\n",
    "#     else:\n",
    "#         score = 1 - (score / len(s1))\n",
    "#     return score\n",
    "\n",
    "# # Extract the unique titles.\n",
    "# unique_titles = reviews['title'].unique()\n",
    "\n",
    "# similar_titles = pd.DataFrame(columns=['title1', 'title2', 'distance'])\n",
    "\n",
    "# # Iterate over all titles and calculate their distance from the other ones.\n",
    "# for idx, x in enumerate(unique_titles):\n",
    "#     for y in range(idx, len(unique_titles)):\n",
    "#         distance = d_score(x, unique_titles[y])\n",
    "#         if distance < 1 and distance > 0.8:\n",
    "#             similar_titles = similar_titles.append({'title1':x, 'title2':unique_titles[y], 'distance': distance}, ignore_index = True)\n",
    "\n",
    "# # Save the result in a csv file.\n",
    "# similar_titles.to_csv(\"./data/similar_titles.csv\", sep='\\t')"
   ]
  }
 ],
 "metadata": {
  "interpreter": {
   "hash": "8f1e200aa4e9598f1b1017d8bb6526388dc3fae44f5def43455ba665e800f8e8"
  },
  "kernelspec": {
   "display_name": "Python 3.9.7 64-bit",
   "language": "python",
   "name": "python3"
  },
  "language_info": {
   "codemirror_mode": {
    "name": "ipython",
    "version": 3
   },
   "file_extension": ".py",
   "mimetype": "text/x-python",
   "name": "python",
   "nbconvert_exporter": "python",
   "pygments_lexer": "ipython3",
   "version": "3.9.7"
  },
  "metadata": {
   "interpreter": {
    "hash": "34c3ec88db1a123a786d67d086f3ede88281b71e687e4350202a680e0c5fcbcd"
   }
  },
  "orig_nbformat": 2
 },
 "nbformat": 4,
 "nbformat_minor": 2
}
