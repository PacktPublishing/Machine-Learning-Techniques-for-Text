{
 "cells": [
  {
   "cell_type": "markdown",
   "metadata": {},
   "source": [
    "# <u>Chapter 6</u>: Teaching Machines to Translate"
   ]
  },
  {
   "cell_type": "markdown",
   "metadata": {},
   "source": [
    "A serious impediment to spreading new information, ideas, and knowledge is the language barriers imposed by the different languages spoken worldwide. Despite the cultural richness brought to our global heritage, they can pose significant hurdles to efficient human communication. This exercice focuses on `machine translation` (MT), which aims to alleviate these barriers. MT is the process of automatically converting a piece of text from a source into a target language without human intervention. "
   ]
  },
  {
   "cell_type": "code",
   "execution_count": 1,
   "metadata": {},
   "outputs": [],
   "source": [
    "import sys\n",
    "import subprocess\n",
    "import pkg_resources\n",
    "\n",
    "# Find out which packages are missing.\n",
    "installed_packages = {dist.key for dist in pkg_resources.working_set}\n",
    "required_packages = {'numpy', 'tensorflow', 'pandas', 'keras'}\n",
    "missing_packages = required_packages - installed_packages\n",
    "\n",
    "# If there are missing packages install them.\n",
    "if missing_packages:\n",
    "    print('Installing the following packages: ' + str(missing_packages))\n",
    "    python = sys.executable\n",
    "    subprocess.check_call([python, '-m', 'pip', 'install', *missing_packages], stdout=subprocess.DEVNULL)"
   ]
  },
  {
   "cell_type": "markdown",
   "metadata": {},
   "source": [
    "## Sequence-to-sequence learning\n",
    "\n",
    "Many kinds of problems in machine learning involve transforming an input sequence into an output one. `Sequence-to-sequence` (seq2seq) learning has proven useful in applications that demand this transformation. Seq2seq, pronounced as `seek-to-seek`, learning falls under the category of neural MT, and unlike solutions based on RBMT and SMT, no domain knowledge of the languages involved is necessary. You can treat the translation problem as the association between input and output tokens of words or characters. Moreover, the translation is end-to-end, which means that one model is required instead of many."
   ]
  },
  {
   "cell_type": "markdown",
   "metadata": {},
   "source": [
    "To create the seq2seq model, we will utilize an English-to-French bilingual corpus consisting of ~200K source-target pairs. Due to resource limitations, we will only keep _8000_ of those pairs to build the model. The code that follows shows the specific steps."
   ]
  },
  {
   "cell_type": "code",
   "execution_count": 2,
   "metadata": {},
   "outputs": [
    {
     "data": {
      "text/html": [
       "<div>\n",
       "<style scoped>\n",
       "    .dataframe tbody tr th:only-of-type {\n",
       "        vertical-align: middle;\n",
       "    }\n",
       "\n",
       "    .dataframe tbody tr th {\n",
       "        vertical-align: top;\n",
       "    }\n",
       "\n",
       "    .dataframe thead th {\n",
       "        text-align: right;\n",
       "    }\n",
       "</style>\n",
       "<table border=\"1\" class=\"dataframe\">\n",
       "  <thead>\n",
       "    <tr style=\"text-align: right;\">\n",
       "      <th></th>\n",
       "      <th>source</th>\n",
       "      <th>target</th>\n",
       "    </tr>\n",
       "  </thead>\n",
       "  <tbody>\n",
       "    <tr>\n",
       "      <th>5676</th>\n",
       "      <td>Tom is loyal.</td>\n",
       "      <td>Tom est fidèle.</td>\n",
       "    </tr>\n",
       "    <tr>\n",
       "      <th>617</th>\n",
       "      <td>I'm game.</td>\n",
       "      <td>J'en suis.</td>\n",
       "    </tr>\n",
       "    <tr>\n",
       "      <th>415</th>\n",
       "      <td>Back off!</td>\n",
       "      <td>Cassez-vous.</td>\n",
       "    </tr>\n",
       "    <tr>\n",
       "      <th>7687</th>\n",
       "      <td>Life is crazy.</td>\n",
       "      <td>La vie est dingue.</td>\n",
       "    </tr>\n",
       "    <tr>\n",
       "      <th>6708</th>\n",
       "      <td>I caused this.</td>\n",
       "      <td>J'ai causé ceci.</td>\n",
       "    </tr>\n",
       "  </tbody>\n",
       "</table>\n",
       "</div>"
      ],
      "text/plain": [
       "              source              target\n",
       "5676   Tom is loyal.     Tom est fidèle.\n",
       "617        I'm game.          J'en suis.\n",
       "415        Back off!        Cassez-vous.\n",
       "7687  Life is crazy.  La vie est dingue.\n",
       "6708  I caused this.    J'ai causé ceci."
      ]
     },
     "execution_count": 2,
     "metadata": {},
     "output_type": "execute_result"
    }
   ],
   "source": [
    "from numpy.random import seed\n",
    "seed(1)\n",
    "import tensorflow\n",
    "tensorflow.random.set_seed(2)\n",
    "\n",
    "import pandas as pd\n",
    "import re\n",
    "\n",
    "# Read the first 8K pairs in the dataset.\n",
    "# Reduce the nrows parameter if there is a memory allocation problem.\n",
    "data = pd.read_table('./data/fra.txt',  usecols=range(2), names=['source', 'target'], nrows=8000)\n",
    "\n",
    "# Replace no-break and thin spaces in the target sentences.\n",
    "data.target = data.target.apply(lambda x: re.sub(u'\\xa0|\\u202f|\\u2009', u' ', x))\n",
    "data.sample(5, random_state=123)"
   ]
  },
  {
   "cell_type": "markdown",
   "metadata": {},
   "source": [
    "Next, the _&lt;sos&gt;_ and _&lt;eos&gt;_ tokens are added to the target sentences at the beginning and the end, respectively."
   ]
  },
  {
   "cell_type": "code",
   "execution_count": 3,
   "metadata": {},
   "outputs": [
    {
     "data": {
      "text/plain": [
       "'<sos> Je payai. <eos>'"
      ]
     },
     "execution_count": 3,
     "metadata": {},
     "output_type": "execute_result"
    }
   ],
   "source": [
    "# Add two special tokens in the target sentences (start_of_stream/end_of_stream).\n",
    "data['target'] = '<sos> ' + data['target'] + ' <eos>'\n",
    "data.target[100]"
   ]
  },
  {
   "cell_type": "markdown",
   "metadata": {},
   "source": [
    "Let’s extract the vocabulary size of the sentences in the source and target corpora."
   ]
  },
  {
   "cell_type": "code",
   "execution_count": 4,
   "metadata": {},
   "outputs": [
    {
     "name": "stdout",
     "output_type": "stream",
     "text": [
      "Vocabulary size of the source sentences: 2504\n",
      "Vocabulary size of the target sentences: 4818\n"
     ]
    }
   ],
   "source": [
    "# Extract the vocabulary of the source/target sentences.\n",
    "src_voc = sorted(list(data['source'].str.split(' ', expand=True).stack().unique()))\n",
    "trg_voc = sorted(list(data['target'].str.split(' ', expand=True).stack().unique()))\n",
    "\n",
    "# Get the vocabulary size for the source/target sentences.\n",
    "# Increase by one for the padding token.\n",
    "src_voc_size = len(src_voc) + 1\n",
    "trg_voc_size = len(trg_voc) + 1\n",
    "\n",
    "print(\"Vocabulary size of the source sentences:\", src_voc_size)\n",
    "print(\"Vocabulary size of the target sentences:\", trg_voc_size)"
   ]
  },
  {
   "cell_type": "markdown",
   "metadata": {},
   "source": [
    "Next, we must obtain the maximum length of the sentences in each case."
   ]
  },
  {
   "cell_type": "code",
   "execution_count": 5,
   "metadata": {},
   "outputs": [
    {
     "name": "stdout",
     "output_type": "stream",
     "text": [
      "Maximum length of the source sentences: 5\n",
      "Maximum length of the target sentences: 12\n"
     ]
    }
   ],
   "source": [
    "# Extract the maximum sentence length in the source/target sentences.\n",
    "max_src_len = max([(len(s.split(' '))) for s in data['source']])\n",
    "max_trg_len = max([(len(s.split(' '))) for s in data['target']])\n",
    "\n",
    "print(\"Maximum length of the source sentences:\", max_src_len)\n",
    "print(\"Maximum length of the target sentences:\", max_trg_len)"
   ]
  },
  {
   "cell_type": "markdown",
   "metadata": {},
   "source": [
    "The previous statistics are essential as they let us configure the dimensions of the different units of the model.\n",
    "\n",
    "We need a dictionary to map numerical values to the output words for the decoder."
   ]
  },
  {
   "cell_type": "code",
   "execution_count": 6,
   "metadata": {},
   "outputs": [
    {
     "name": "stdout",
     "output_type": "stream",
     "text": [
      "675\n"
     ]
    }
   ],
   "source": [
    "# Create the word-to-index dictionary for the source/target tokens.\n",
    "# Zero index reserved for the padding token.\n",
    "src_word2idx = dict([(word, idx+1) for idx, word in enumerate(src_voc)])\n",
    "trg_word2idx = dict([(word, idx+1) for idx, word in enumerate(trg_voc)])\n",
    "\n",
    "print(trg_word2idx['Non'])"
   ]
  },
  {
   "cell_type": "markdown",
   "metadata": {},
   "source": [
    "And here is the code for the index-to-word dictionary."
   ]
  },
  {
   "cell_type": "code",
   "execution_count": 7,
   "metadata": {},
   "outputs": [
    {
     "name": "stdout",
     "output_type": "stream",
     "text": [
      "Non\n"
     ]
    }
   ],
   "source": [
    "# Create the index-to-word dictionary for the source/target tokens.\n",
    "src_idx2word = dict([(idx, word) for word, idx in src_word2idx.items()])\n",
    "trg_idx2word = dict([(idx, word) for word, idx in trg_word2idx.items()])\n",
    "\n",
    "print(trg_idx2word[675])"
   ]
  },
  {
   "cell_type": "markdown",
   "metadata": {},
   "source": [
    "Let’s examine the steps for creating the model by specifying the format of the input and output data."
   ]
  },
  {
   "cell_type": "code",
   "execution_count": 8,
   "metadata": {},
   "outputs": [],
   "source": [
    "import numpy as np\n",
    "\n",
    "# The input/output data of the model.\n",
    "enc_input_data = np.zeros((len(data['source']), max_src_len), dtype='float32')\n",
    "dec_input_data = np.zeros((len(data['source']), max_trg_len), dtype='float32')\n",
    "dec_output_data = np.zeros((len(data['source']), max_trg_len, trg_voc_size), dtype='float32')"
   ]
  },
  {
   "cell_type": "markdown",
   "metadata": {},
   "source": [
    "Observe how _max_src_len_ and _max_trg_len_ determine the size of the created arrays. Next, we iterate over the whole dataset, transforming words into numerical values for the encoder’s and the decoder’s input while creating the one-hot array for the decoder’s output."
   ]
  },
  {
   "cell_type": "code",
   "execution_count": 9,
   "metadata": {},
   "outputs": [],
   "source": [
    "# Iterate over the whole dataset.\n",
    "for i, (src_sentence, trg_sentence) in enumerate(zip(data['source'], data['target'])):\n",
    "    \n",
    "    # Create the input for the encoder.\n",
    "    for j, word in enumerate(src_sentence.split()):\n",
    "        enc_input_data[i, j] = src_word2idx[word]\n",
    " \n",
    "    # Create the input/output for the decoder.\n",
    "    for j, word in enumerate(trg_sentence.split()):\n",
    "        # Skip the '<eos>' word in the decoder input.\n",
    "        if j < len(trg_sentence.split())-1:\n",
    "            dec_input_data[i, j] = trg_word2idx[word]\n",
    "        # Skip the '<sos>' word in the decoder output.\n",
    "        if j > 0:\n",
    "            dec_output_data[i, j-1, trg_word2idx[word]] = 1.0"
   ]
  },
  {
   "cell_type": "markdown",
   "metadata": {},
   "source": [
    "Now, we can set up the architecture of the training model, which is a graph of layers."
   ]
  },
  {
   "cell_type": "code",
   "execution_count": 10,
   "metadata": {},
   "outputs": [],
   "source": [
    "from keras.layers import Input, LSTM, Embedding, Dense\n",
    "from keras.models import Model\n",
    "\n",
    "# Create the input layers for the encoder/decoder.\n",
    "enc_input = Input(shape=(None,), dtype='float32',)\n",
    "dec_input = Input(shape=(None,), dtype='float32',)\n",
    "\n",
    "# Create the embedding layers for the encoder/decoder.\n",
    "embed_layer = Embedding(src_voc_size, 256, mask_zero=True)\n",
    "enc_embed = embed_layer(enc_input)\n",
    "embed_layer = Embedding(trg_voc_size, 256, mask_zero=True)\n",
    "dec_embed = embed_layer(dec_input)\n",
    "\n",
    "# Create the LSTM layers for the encoder/decoder.\n",
    "enc_LSTM = LSTM(256, return_state=True)\n",
    "_, state_h, state_c = enc_LSTM(enc_embed)\n",
    "dec_LSTM = LSTM(256, return_state=True, return_sequences=True)\n",
    "# The initial states of the decoder are the output from the encoder.\n",
    "dec_output, _, _ = dec_LSTM(dec_embed, initial_state=[state_h, state_c])\n",
    "\n",
    "# Create the output layer for the decoder.\n",
    "dec_dense = Dense(trg_voc_size, activation='softmax')\n",
    "dec_output = dec_dense(dec_output)"
   ]
  },
  {
   "cell_type": "markdown",
   "metadata": {},
   "source": [
    "Now that all the pieces are in place, we can start constructing and training the complete encoder/decoder model."
   ]
  },
  {
   "cell_type": "markdown",
   "metadata": {},
   "source": [
    "### Training the model\n",
    "\n",
    "The training model takes two inputs (_enc_input and dec_input_) and emits one output (_dec_output_)."
   ]
  },
  {
   "cell_type": "code",
   "execution_count": 11,
   "metadata": {},
   "outputs": [
    {
     "name": "stdout",
     "output_type": "stream",
     "text": [
      "Number of trainable parameters: 4163282\n"
     ]
    }
   ],
   "source": [
    "# Create and compile the model.\n",
    "model = Model([enc_input, dec_input], dec_output)\n",
    "model.compile(optimizer='rmsprop', loss='categorical_crossentropy', metrics=['accuracy'])\n",
    "#model.summary()\n",
    "model_params = np.sum([np.prod(v.get_shape()) for v in model.trainable_weights])\n",
    "print(\"Number of trainable parameters:\", model_params)"
   ]
  },
  {
   "cell_type": "markdown",
   "metadata": {},
   "source": [
    "As a measure of the complexity of the model, we print the number of its trainable parameters. In total, _4163282_ parameters must be estimated. "
   ]
  },
  {
   "cell_type": "code",
   "execution_count": 12,
   "metadata": {},
   "outputs": [
    {
     "name": "stdout",
     "output_type": "stream",
     "text": [
      "Model: \"model\"\n",
      "__________________________________________________________________________________________________\n",
      " Layer (type)                   Output Shape         Param #     Connected to                     \n",
      "==================================================================================================\n",
      " input_1 (InputLayer)           [(None, None)]       0           []                               \n",
      "                                                                                                  \n",
      " input_2 (InputLayer)           [(None, None)]       0           []                               \n",
      "                                                                                                  \n",
      " embedding (Embedding)          (None, None, 256)    641024      ['input_1[0][0]']                \n",
      "                                                                                                  \n",
      " embedding_1 (Embedding)        (None, None, 256)    1233408     ['input_2[0][0]']                \n",
      "                                                                                                  \n",
      " lstm (LSTM)                    [(None, 256),        525312      ['embedding[0][0]']              \n",
      "                                 (None, 256),                                                     \n",
      "                                 (None, 256)]                                                     \n",
      "                                                                                                  \n",
      " lstm_1 (LSTM)                  [(None, None, 256),  525312      ['embedding_1[0][0]',            \n",
      "                                 (None, 256),                     'lstm[0][1]',                   \n",
      "                                 (None, 256)]                     'lstm[0][2]']                   \n",
      "                                                                                                  \n",
      " dense (Dense)                  (None, None, 4818)   1238226     ['lstm_1[0][0]']                 \n",
      "                                                                                                  \n",
      "==================================================================================================\n",
      "Total params: 4,163,282\n",
      "Trainable params: 4,163,282\n",
      "Non-trainable params: 0\n",
      "__________________________________________________________________________________________________\n",
      "None\n"
     ]
    }
   ],
   "source": [
    "print(model.summary())"
   ]
  },
  {
   "cell_type": "markdown",
   "metadata": {},
   "source": [
    "Now, let’s visualize the different layers of the training model that we created."
   ]
  },
  {
   "cell_type": "code",
   "execution_count": 13,
   "metadata": {},
   "outputs": [
    {
     "data": {
      "image/png": "[encoded data removed]",
      "text/plain": [
       "<IPython.core.display.Image object>"
      ]
     },
     "execution_count": 13,
     "metadata": {},
     "output_type": "execute_result"
    }
   ],
   "source": [
    "from keras.utils.vis_utils import plot_model\n",
    "\n",
    "# Plot the model.\n",
    "plot_model(model, to_file='./images/model_plot.png', show_shapes=True, show_layer_names=True, dpi=100)"
   ]
  },
  {
   "cell_type": "markdown",
   "metadata": {},
   "source": [
    "After the whole architecture is in place, we start the training process by fitting the data to the model."
   ]
  },
  {
   "cell_type": "code",
   "execution_count": 14,
   "metadata": {},
   "outputs": [
    {
     "name": "stdout",
     "output_type": "stream",
     "text": [
      "Epoch 1/100\n",
      "50/50 [==============================] - 19s 170ms/step - loss: 2.0813 - accuracy: 0.2364 - val_loss: 2.1181 - val_accuracy: 0.2200\n",
      "Epoch 2/100\n",
      "50/50 [==============================] - 6s 111ms/step - loss: 1.7052 - accuracy: 0.2732 - val_loss: 2.0120 - val_accuracy: 0.2877\n",
      "Epoch 3/100\n",
      "50/50 [==============================] - 6s 110ms/step - loss: 1.5774 - accuracy: 0.2883 - val_loss: 1.9714 - val_accuracy: 0.3064\n",
      "Epoch 4/100\n",
      "50/50 [==============================] - 7s 134ms/step - loss: 1.4770 - accuracy: 0.3019 - val_loss: 1.9326 - val_accuracy: 0.3075\n",
      "Epoch 5/100\n",
      "50/50 [==============================] - 6s 128ms/step - loss: 1.4016 - accuracy: 0.3198 - val_loss: 1.9060 - val_accuracy: 0.3115\n",
      "Epoch 6/100\n",
      "50/50 [==============================] - 6s 129ms/step - loss: 1.3449 - accuracy: 0.3479 - val_loss: 1.9046 - val_accuracy: 0.3006\n",
      "Epoch 7/100\n",
      "50/50 [==============================] - 7s 135ms/step - loss: 1.2949 - accuracy: 0.3722 - val_loss: 1.8852 - val_accuracy: 0.3282\n",
      "Epoch 8/100\n",
      "50/50 [==============================] - 6s 130ms/step - loss: 1.2460 - accuracy: 0.3950 - val_loss: 1.8906 - val_accuracy: 0.3196\n",
      "Epoch 9/100\n",
      "50/50 [==============================] - 7s 136ms/step - loss: 1.2023 - accuracy: 0.4108 - val_loss: 1.8781 - val_accuracy: 0.3234\n",
      "Epoch 10/100\n",
      "50/50 [==============================] - 7s 134ms/step - loss: 1.1593 - accuracy: 0.4238 - val_loss: 1.8990 - val_accuracy: 0.3133\n",
      "Epoch 11/100\n",
      "50/50 [==============================] - 6s 129ms/step - loss: 1.1221 - accuracy: 0.4344 - val_loss: 1.8879 - val_accuracy: 0.3179\n",
      "Epoch 12/100\n",
      "50/50 [==============================] - 6s 130ms/step - loss: 1.0886 - accuracy: 0.4436 - val_loss: 1.9002 - val_accuracy: 0.3138\n",
      "Epoch 13/100\n",
      "50/50 [==============================] - 7s 137ms/step - loss: 1.0556 - accuracy: 0.4577 - val_loss: 1.9113 - val_accuracy: 0.3175\n",
      "Epoch 14/100\n",
      "50/50 [==============================] - 7s 137ms/step - loss: 1.0235 - accuracy: 0.4702 - val_loss: 1.9169 - val_accuracy: 0.3302\n",
      "Epoch 15/100\n",
      "50/50 [==============================] - 7s 140ms/step - loss: 0.9960 - accuracy: 0.4818 - val_loss: 1.9247 - val_accuracy: 0.3318\n",
      "Epoch 16/100\n",
      "50/50 [==============================] - 7s 135ms/step - loss: 0.9674 - accuracy: 0.4889 - val_loss: 1.9288 - val_accuracy: 0.3358\n",
      "Epoch 17/100\n",
      "50/50 [==============================] - 7s 131ms/step - loss: 0.9386 - accuracy: 0.4975 - val_loss: 1.9416 - val_accuracy: 0.3419\n",
      "Epoch 18/100\n",
      "50/50 [==============================] - 6s 129ms/step - loss: 0.9154 - accuracy: 0.5058 - val_loss: 1.9480 - val_accuracy: 0.3469\n",
      "Epoch 19/100\n",
      "50/50 [==============================] - 6s 129ms/step - loss: 0.8896 - accuracy: 0.5156 - val_loss: 1.9295 - val_accuracy: 0.3502\n",
      "Epoch 20/100\n",
      "50/50 [==============================] - 7s 131ms/step - loss: 0.8660 - accuracy: 0.5238 - val_loss: 1.9273 - val_accuracy: 0.3567\n",
      "Epoch 21/100\n",
      "50/50 [==============================] - 6s 129ms/step - loss: 0.8434 - accuracy: 0.5303 - val_loss: 1.9244 - val_accuracy: 0.3570\n",
      "Epoch 22/100\n",
      "50/50 [==============================] - 7s 131ms/step - loss: 0.8201 - accuracy: 0.5386 - val_loss: 1.9335 - val_accuracy: 0.3614\n",
      "Epoch 23/100\n",
      "50/50 [==============================] - 7s 132ms/step - loss: 0.7974 - accuracy: 0.5474 - val_loss: 1.9541 - val_accuracy: 0.3618\n",
      "Epoch 24/100\n",
      "50/50 [==============================] - 6s 130ms/step - loss: 0.7748 - accuracy: 0.5529 - val_loss: 1.9498 - val_accuracy: 0.3663\n",
      "Epoch 25/100\n",
      "50/50 [==============================] - 6s 128ms/step - loss: 0.7514 - accuracy: 0.5613 - val_loss: 1.9396 - val_accuracy: 0.3650\n",
      "Epoch 26/100\n",
      "50/50 [==============================] - 7s 131ms/step - loss: 0.7311 - accuracy: 0.5687 - val_loss: 1.9358 - val_accuracy: 0.3729\n",
      "Epoch 27/100\n",
      "50/50 [==============================] - 6s 128ms/step - loss: 0.7115 - accuracy: 0.5756 - val_loss: 1.9243 - val_accuracy: 0.3683\n",
      "Epoch 28/100\n",
      "50/50 [==============================] - 6s 127ms/step - loss: 0.6903 - accuracy: 0.5867 - val_loss: 1.9264 - val_accuracy: 0.3746\n",
      "Epoch 29/100\n",
      "50/50 [==============================] - 6s 128ms/step - loss: 0.6702 - accuracy: 0.5926 - val_loss: 1.9287 - val_accuracy: 0.3753\n",
      "Epoch 30/100\n",
      "50/50 [==============================] - 6s 128ms/step - loss: 0.6494 - accuracy: 0.6034 - val_loss: 1.9373 - val_accuracy: 0.3756\n",
      "Epoch 31/100\n",
      "50/50 [==============================] - 7s 134ms/step - loss: 0.6300 - accuracy: 0.6103 - val_loss: 1.9268 - val_accuracy: 0.3808\n",
      "Epoch 32/100\n",
      "50/50 [==============================] - 6s 127ms/step - loss: 0.6113 - accuracy: 0.6190 - val_loss: 1.9488 - val_accuracy: 0.3794\n",
      "Epoch 33/100\n",
      "50/50 [==============================] - 7s 134ms/step - loss: 0.5934 - accuracy: 0.6243 - val_loss: 1.9351 - val_accuracy: 0.3841\n",
      "Epoch 34/100\n",
      "50/50 [==============================] - 6s 129ms/step - loss: 0.5726 - accuracy: 0.6360 - val_loss: 1.9329 - val_accuracy: 0.3811\n",
      "Epoch 35/100\n",
      "50/50 [==============================] - 7s 139ms/step - loss: 0.5541 - accuracy: 0.6454 - val_loss: 1.9369 - val_accuracy: 0.3842\n",
      "Epoch 36/100\n",
      "50/50 [==============================] - 7s 132ms/step - loss: 0.5372 - accuracy: 0.6551 - val_loss: 1.9218 - val_accuracy: 0.3888\n",
      "Epoch 37/100\n",
      "50/50 [==============================] - 6s 130ms/step - loss: 0.5201 - accuracy: 0.6622 - val_loss: 1.9471 - val_accuracy: 0.3866\n",
      "Epoch 38/100\n",
      "50/50 [==============================] - 6s 117ms/step - loss: 0.5019 - accuracy: 0.6713 - val_loss: 1.9347 - val_accuracy: 0.3885\n",
      "Epoch 39/100\n",
      "50/50 [==============================] - 6s 116ms/step - loss: 0.4872 - accuracy: 0.6789 - val_loss: 1.9342 - val_accuracy: 0.3899\n",
      "Epoch 40/100\n",
      "50/50 [==============================] - 6s 117ms/step - loss: 0.4692 - accuracy: 0.6907 - val_loss: 1.9633 - val_accuracy: 0.3936\n",
      "Epoch 41/100\n",
      "50/50 [==============================] - 6s 115ms/step - loss: 0.4528 - accuracy: 0.6984 - val_loss: 1.9585 - val_accuracy: 0.3911\n",
      "Epoch 42/100\n",
      "50/50 [==============================] - 6s 115ms/step - loss: 0.4392 - accuracy: 0.7055 - val_loss: 1.9450 - val_accuracy: 0.3936\n",
      "Epoch 43/100\n",
      "50/50 [==============================] - 6s 115ms/step - loss: 0.4238 - accuracy: 0.7139 - val_loss: 1.9431 - val_accuracy: 0.3973\n",
      "Epoch 44/100\n",
      "50/50 [==============================] - 6s 118ms/step - loss: 0.4094 - accuracy: 0.7214 - val_loss: 1.9751 - val_accuracy: 0.3915\n",
      "Epoch 45/100\n",
      "50/50 [==============================] - 6s 111ms/step - loss: 0.3953 - accuracy: 0.7290 - val_loss: 1.9597 - val_accuracy: 0.3988\n",
      "Epoch 46/100\n",
      "50/50 [==============================] - 6s 110ms/step - loss: 0.3795 - accuracy: 0.7381 - val_loss: 1.9779 - val_accuracy: 0.3988\n",
      "Epoch 47/100\n",
      "50/50 [==============================] - 5s 110ms/step - loss: 0.3676 - accuracy: 0.7433 - val_loss: 1.9519 - val_accuracy: 0.3987\n",
      "Epoch 48/100\n",
      "50/50 [==============================] - 5s 110ms/step - loss: 0.3536 - accuracy: 0.7525 - val_loss: 1.9734 - val_accuracy: 0.4018\n",
      "Epoch 49/100\n",
      "50/50 [==============================] - 5s 110ms/step - loss: 0.3416 - accuracy: 0.7587 - val_loss: 1.9911 - val_accuracy: 0.3967\n",
      "Epoch 50/100\n",
      "50/50 [==============================] - 6s 111ms/step - loss: 0.3297 - accuracy: 0.7635 - val_loss: 1.9797 - val_accuracy: 0.3981\n",
      "Epoch 51/100\n",
      "50/50 [==============================] - 6s 111ms/step - loss: 0.3170 - accuracy: 0.7711 - val_loss: 1.9848 - val_accuracy: 0.3970\n",
      "Epoch 52/100\n",
      "50/50 [==============================] - 5s 110ms/step - loss: 0.3049 - accuracy: 0.7792 - val_loss: 1.9882 - val_accuracy: 0.3962\n",
      "Epoch 53/100\n",
      "50/50 [==============================] - 5s 110ms/step - loss: 0.2956 - accuracy: 0.7848 - val_loss: 2.0211 - val_accuracy: 0.3987\n",
      "Epoch 54/100\n",
      "50/50 [==============================] - 6s 111ms/step - loss: 0.2830 - accuracy: 0.7893 - val_loss: 2.0094 - val_accuracy: 0.3971\n",
      "Epoch 55/100\n",
      "50/50 [==============================] - 5s 110ms/step - loss: 0.2737 - accuracy: 0.7965 - val_loss: 2.0220 - val_accuracy: 0.3959\n",
      "Epoch 56/100\n",
      "50/50 [==============================] - 6s 112ms/step - loss: 0.2643 - accuracy: 0.8011 - val_loss: 2.0117 - val_accuracy: 0.3984\n",
      "Epoch 57/100\n",
      "50/50 [==============================] - 6s 111ms/step - loss: 0.2530 - accuracy: 0.8066 - val_loss: 2.0360 - val_accuracy: 0.3954\n",
      "Epoch 58/100\n",
      "50/50 [==============================] - 5s 110ms/step - loss: 0.2447 - accuracy: 0.8108 - val_loss: 2.0327 - val_accuracy: 0.3998\n",
      "Epoch 59/100\n",
      "50/50 [==============================] - 5s 110ms/step - loss: 0.2359 - accuracy: 0.8138 - val_loss: 2.0277 - val_accuracy: 0.3959\n",
      "Epoch 60/100\n",
      "50/50 [==============================] - 5s 109ms/step - loss: 0.2261 - accuracy: 0.8203 - val_loss: 2.0470 - val_accuracy: 0.3970\n",
      "Epoch 61/100\n",
      "50/50 [==============================] - 5s 110ms/step - loss: 0.2199 - accuracy: 0.8235 - val_loss: 2.0596 - val_accuracy: 0.3944\n",
      "Epoch 62/100\n",
      "50/50 [==============================] - 5s 110ms/step - loss: 0.2100 - accuracy: 0.8285 - val_loss: 2.0429 - val_accuracy: 0.3992\n",
      "Epoch 63/100\n",
      "50/50 [==============================] - 6s 113ms/step - loss: 0.2030 - accuracy: 0.8312 - val_loss: 2.0683 - val_accuracy: 0.3941\n",
      "Epoch 64/100\n",
      "50/50 [==============================] - 5s 110ms/step - loss: 0.1953 - accuracy: 0.8368 - val_loss: 2.0829 - val_accuracy: 0.3949\n",
      "Epoch 65/100\n",
      "50/50 [==============================] - 5s 109ms/step - loss: 0.1878 - accuracy: 0.8396 - val_loss: 2.0688 - val_accuracy: 0.3974\n",
      "Epoch 66/100\n",
      "50/50 [==============================] - 6s 112ms/step - loss: 0.1828 - accuracy: 0.8428 - val_loss: 2.0836 - val_accuracy: 0.3936\n",
      "Epoch 67/100\n",
      "50/50 [==============================] - 5s 108ms/step - loss: 0.1777 - accuracy: 0.8457 - val_loss: 2.0987 - val_accuracy: 0.3948\n",
      "Epoch 68/100\n",
      "50/50 [==============================] - 5s 108ms/step - loss: 0.1696 - accuracy: 0.8504 - val_loss: 2.0727 - val_accuracy: 0.3966\n",
      "Epoch 69/100\n",
      "50/50 [==============================] - 5s 108ms/step - loss: 0.1639 - accuracy: 0.8521 - val_loss: 2.0909 - val_accuracy: 0.3955\n",
      "Epoch 70/100\n",
      "50/50 [==============================] - 5s 109ms/step - loss: 0.1601 - accuracy: 0.8528 - val_loss: 2.0921 - val_accuracy: 0.3985\n",
      "Epoch 71/100\n",
      "50/50 [==============================] - 5s 109ms/step - loss: 0.1537 - accuracy: 0.8568 - val_loss: 2.1067 - val_accuracy: 0.3853\n",
      "Epoch 72/100\n",
      "50/50 [==============================] - 5s 109ms/step - loss: 0.1495 - accuracy: 0.8586 - val_loss: 2.1163 - val_accuracy: 0.3996\n",
      "Epoch 73/100\n",
      "50/50 [==============================] - 5s 110ms/step - loss: 0.1456 - accuracy: 0.8592 - val_loss: 2.1097 - val_accuracy: 0.3967\n",
      "Epoch 74/100\n",
      "50/50 [==============================] - 5s 110ms/step - loss: 0.1405 - accuracy: 0.8624 - val_loss: 2.1176 - val_accuracy: 0.3971\n",
      "Epoch 75/100\n",
      "50/50 [==============================] - 5s 109ms/step - loss: 0.1359 - accuracy: 0.8644 - val_loss: 2.1112 - val_accuracy: 0.4022\n",
      "Epoch 76/100\n",
      "50/50 [==============================] - 5s 108ms/step - loss: 0.1324 - accuracy: 0.8658 - val_loss: 2.1183 - val_accuracy: 0.3963\n",
      "Epoch 77/100\n",
      "50/50 [==============================] - 5s 108ms/step - loss: 0.1291 - accuracy: 0.8667 - val_loss: 2.1169 - val_accuracy: 0.3914\n",
      "Epoch 78/100\n",
      "50/50 [==============================] - 5s 109ms/step - loss: 0.1259 - accuracy: 0.8676 - val_loss: 2.1345 - val_accuracy: 0.3927\n",
      "Epoch 79/100\n",
      "50/50 [==============================] - 5s 109ms/step - loss: 0.1224 - accuracy: 0.8701 - val_loss: 2.1174 - val_accuracy: 0.3947\n",
      "Epoch 80/100\n",
      "50/50 [==============================] - 5s 109ms/step - loss: 0.1210 - accuracy: 0.8688 - val_loss: 2.1480 - val_accuracy: 0.4000\n",
      "Epoch 81/100\n",
      "50/50 [==============================] - 5s 108ms/step - loss: 0.1168 - accuracy: 0.8714 - val_loss: 2.1480 - val_accuracy: 0.3926\n",
      "Epoch 82/100\n",
      "50/50 [==============================] - 5s 108ms/step - loss: 0.1143 - accuracy: 0.8713 - val_loss: 2.1367 - val_accuracy: 0.3971\n",
      "Epoch 83/100\n",
      "50/50 [==============================] - 5s 109ms/step - loss: 0.1122 - accuracy: 0.8714 - val_loss: 2.1546 - val_accuracy: 0.3923\n",
      "Epoch 84/100\n",
      "50/50 [==============================] - 5s 108ms/step - loss: 0.1096 - accuracy: 0.8728 - val_loss: 2.1521 - val_accuracy: 0.3901\n",
      "Epoch 85/100\n",
      "50/50 [==============================] - 5s 107ms/step - loss: 0.1075 - accuracy: 0.8724 - val_loss: 2.1441 - val_accuracy: 0.3921\n",
      "Epoch 86/100\n",
      "50/50 [==============================] - 5s 107ms/step - loss: 0.1062 - accuracy: 0.8728 - val_loss: 2.1487 - val_accuracy: 0.3995\n",
      "Epoch 87/100\n",
      "50/50 [==============================] - 5s 107ms/step - loss: 0.1036 - accuracy: 0.8743 - val_loss: 2.1662 - val_accuracy: 0.3911\n",
      "Epoch 88/100\n",
      "50/50 [==============================] - 5s 107ms/step - loss: 0.1022 - accuracy: 0.8740 - val_loss: 2.1601 - val_accuracy: 0.3999\n",
      "Epoch 89/100\n",
      "50/50 [==============================] - 5s 107ms/step - loss: 0.1011 - accuracy: 0.8743 - val_loss: 2.1717 - val_accuracy: 0.3905\n",
      "Epoch 90/100\n",
      "50/50 [==============================] - 5s 109ms/step - loss: 0.0994 - accuracy: 0.8742 - val_loss: 2.1739 - val_accuracy: 0.3910\n",
      "Epoch 91/100\n",
      "50/50 [==============================] - 5s 107ms/step - loss: 0.0977 - accuracy: 0.8750 - val_loss: 2.1813 - val_accuracy: 0.4059\n",
      "Epoch 92/100\n",
      "50/50 [==============================] - 6s 112ms/step - loss: 0.0972 - accuracy: 0.8743 - val_loss: 2.1839 - val_accuracy: 0.3941\n",
      "Epoch 93/100\n",
      "50/50 [==============================] - 6s 113ms/step - loss: 0.0955 - accuracy: 0.8757 - val_loss: 2.1905 - val_accuracy: 0.3949\n",
      "Epoch 94/100\n",
      "50/50 [==============================] - 6s 114ms/step - loss: 0.0951 - accuracy: 0.8744 - val_loss: 2.1957 - val_accuracy: 0.4033\n",
      "Epoch 95/100\n",
      "50/50 [==============================] - 6s 120ms/step - loss: 0.0935 - accuracy: 0.8756 - val_loss: 2.1893 - val_accuracy: 0.4031\n",
      "Epoch 96/100\n",
      "50/50 [==============================] - 6s 114ms/step - loss: 0.0930 - accuracy: 0.8750 - val_loss: 2.2023 - val_accuracy: 0.3952\n",
      "Epoch 97/100\n",
      "50/50 [==============================] - 5s 108ms/step - loss: 0.0914 - accuracy: 0.8757 - val_loss: 2.2048 - val_accuracy: 0.4054\n",
      "Epoch 98/100\n",
      "50/50 [==============================] - 5s 107ms/step - loss: 0.0914 - accuracy: 0.8756 - val_loss: 2.1883 - val_accuracy: 0.3977\n",
      "Epoch 99/100\n",
      "50/50 [==============================] - 5s 107ms/step - loss: 0.0899 - accuracy: 0.8761 - val_loss: 2.2100 - val_accuracy: 0.3976\n",
      "Epoch 100/100\n",
      "50/50 [==============================] - 5s 107ms/step - loss: 0.0902 - accuracy: 0.8754 - val_loss: 2.2000 - val_accuracy: 0.4043\n"
     ]
    },
    {
     "data": {
      "text/plain": [
       "<keras.callbacks.History at 0x1b56e0f8e50>"
      ]
     },
     "execution_count": 14,
     "metadata": {},
     "output_type": "execute_result"
    }
   ],
   "source": [
    "# Fit the data to the model.\n",
    "model.fit([enc_input_data, dec_input_data], dec_output_data,\n",
    "            batch_size=128, epochs=100, validation_split=0.2, shuffle=False)"
   ]
  },
  {
   "cell_type": "markdown",
   "metadata": {},
   "source": [
    "According to the validation_split parameter, 80% of the bilingual pairs are used for training, while the other 20% are used for testing. After _100_ epochs, we achieve an accuracy of around _88%_. "
   ]
  },
  {
   "cell_type": "markdown",
   "metadata": {},
   "source": [
    "### Testing the model"
   ]
  },
  {
   "cell_type": "markdown",
   "metadata": {},
   "source": [
    "Before using the trained model for inference, we must change its architecture so that the output of each decoder timestep becomes an input to the subsequent one. The encoder remains unchanged. "
   ]
  },
  {
   "cell_type": "code",
   "execution_count": 15,
   "metadata": {},
   "outputs": [],
   "source": [
    "# Model to encode the input.\n",
    "enc_model = Model(enc_input, [state_h, state_c])\n",
    "\n",
    "# The hidden and cell states of the decoder at each step.\n",
    "dec_state_in_h = Input(shape=(256,))\n",
    "dec_state_in_c = Input(shape=(256,))\n",
    "\n",
    "# Set the embedding layer.\n",
    "dec_embed_2 = embed_layer(dec_input)\n",
    "\n",
    "# Set the LSTM layer.\n",
    "dec_output_2, dec_state_out_h, dec_state_out_c = dec_LSTM(dec_embed_2, initial_state=[dec_state_in_h, dec_state_in_c])\n",
    "\n",
    "# Set the output layer for the decoder.\n",
    "dec_output_2 = dec_dense(dec_output_2)\n",
    "\n",
    "# Create the decoder model.\n",
    "decoder_model = Model([dec_input] + [dec_state_in_h, dec_state_in_c],\n",
    "                        [dec_output_2] + [dec_state_out_h, dec_state_out_c])"
   ]
  },
  {
   "cell_type": "markdown",
   "metadata": {},
   "source": [
    "Next, we must visualize the architecture of the altered decoder."
   ]
  },
  {
   "cell_type": "code",
   "execution_count": 16,
   "metadata": {},
   "outputs": [
    {
     "data": {
      "image/png": "[encoded data removed]",
      "text/plain": [
       "<IPython.core.display.Image object>"
      ]
     },
     "execution_count": 16,
     "metadata": {},
     "output_type": "execute_result"
    }
   ],
   "source": [
    "# Plot the model.\n",
    "plot_model(decoder_model, to_file='./images/inference_model_plot.png', show_shapes=True, show_layer_names=True, dpi=100)"
   ]
  },
  {
   "cell_type": "markdown",
   "metadata": {},
   "source": [
    "Now, it’s time to extract a translation for a given sentence. Here, we must include the necessary steps in the _getTranslation_ method and present them in detail. First, the method receives the index part of an example in the dataset."
   ]
  },
  {
   "cell_type": "code",
   "execution_count": 17,
   "metadata": {},
   "outputs": [],
   "source": [
    "# Translate an input sentence.\n",
    "def getTranslation(index):\n",
    "\n",
    "    translation = word = ''\n",
    "\n",
    "    # Choose randomly a sequence from the data set.\n",
    "    #i = np.random.choice(len(data['source']))\n",
    "\n",
    "    # Choose a sequence from the data set.\n",
    "    source_seq = enc_input_data[index:index+1]\n",
    "\n",
    "    # Get the initial input states for the decoder.\n",
    "    states_h_c = enc_model.predict(source_seq)\n",
    "\n",
    "    # The first input token to the decoder is start_of_stream.\n",
    "    token = np.zeros((1,1))\n",
    "    token[0, 0] = trg_word2idx['<sos>']\n",
    "\n",
    "    # Start the decoding process.\n",
    "    while (word != '<eos>' and len(translation) <= 100):\n",
    "\n",
    "        # Predict the next token and states.\n",
    "        output, state_h, state_c = decoder_model.predict([token] + states_h_c)\n",
    "        \n",
    "        # Store the emitted token and the states for the next iteration.\n",
    "        idx = np.argmax(output[0, -1, :])\n",
    "        token[0, 0] = idx\n",
    "        states_h_c = [state_h, state_c]\n",
    "\n",
    "        # Extract the emitted word.\n",
    "        word = trg_idx2word[idx]\n",
    "        translation += ' ' + word\n",
    "\n",
    "    return translation"
   ]
  },
  {
   "cell_type": "markdown",
   "metadata": {},
   "source": [
    "It’s now time to call the method."
   ]
  },
  {
   "cell_type": "code",
   "execution_count": 18,
   "metadata": {},
   "outputs": [
    {
     "name": "stdout",
     "output_type": "stream",
     "text": [
      "Input sentence: Seriously?\n",
      "Reference translation:  C'est vrai ? \n",
      "Hypothesis:  Vraiment ?\n"
     ]
    }
   ],
   "source": [
    "print(\"Input sentence:\", data['source'][1308])\n",
    "print(\"Reference translation:\", data['target'][1308].replace(\"<sos>\",\"\").replace(\"<eos>\",\"\"))\n",
    "print(\"Hypothesis:\", getTranslation(1308)[:-6])"
   ]
  },
  {
   "cell_type": "markdown",
   "metadata": {},
   "source": [
    "## Translation performance"
   ]
  },
  {
   "cell_type": "markdown",
   "metadata": {},
   "source": [
    "An appropriate metric for evaluating the quality of MT systems is the `BiLingual Evaluation Understudy` (BLEU) score. Using BLEU, we compare the generated prediction to a reference sentence by counting matching n-grams in both cases."
   ]
  },
  {
   "cell_type": "code",
   "execution_count": 19,
   "metadata": {},
   "outputs": [
    {
     "name": "stdout",
     "output_type": "stream",
     "text": [
      "Input sentence: I relaxed.\n",
      "Reference translation: ['Je', 'me', 'suis', 'détendue.']\n",
      "Hypothesis: ['Je', 'me', 'suis', 'détendu.']\n",
      "BLEU score: 0.25\n"
     ]
    }
   ],
   "source": [
    "from nltk.translate.bleu_score import sentence_bleu\n",
    "\n",
    "hypothesis = getTranslation(1006)[:-6].split()\n",
    "reference = data['target'][1006].replace(\"<sos>\",\"\").replace(\"<eos>\",\"\").split()\n",
    "\n",
    "# Calculate the BLEU score.\n",
    "bleu = sentence_bleu([reference], hypothesis, weights=(1, 1, 1))\n",
    "\n",
    "print(\"Input sentence:\", data['source'][1006])\n",
    "print(\"Reference translation:\", reference)\n",
    "print(\"Hypothesis:\", hypothesis)\n",
    "print(\"BLEU score:\", bleu)"
   ]
  },
  {
   "cell_type": "markdown",
   "metadata": {},
   "source": [
    "## What we have learned …\n",
    "\n",
    "| | |\n",
    "| --- | --- |\n",
    "| **ML algorithms & models**<ul><li>Recurrent Neural Networks</li></ul> |  **Performance metrics**<ul><li>BLEU score</li></ul> |\n",
    "| | |"
   ]
  }
 ],
 "metadata": {
  "interpreter": {
   "hash": "8f1e200aa4e9598f1b1017d8bb6526388dc3fae44f5def43455ba665e800f8e8"
  },
  "kernelspec": {
   "display_name": "Python 3.9.7 64-bit",
   "language": "python",
   "name": "python3"
  },
  "language_info": {
   "codemirror_mode": {
    "name": "ipython",
    "version": 3
   },
   "file_extension": ".py",
   "mimetype": "text/x-python",
   "name": "python",
   "nbconvert_exporter": "python",
   "pygments_lexer": "ipython3",
   "version": "3.9.7"
  },
  "metadata": {
   "interpreter": {
    "hash": "5ec7f24bccdc5982815fc9e679db841794fd8b692b70ffe03fd828d6ea20f1fe"
   }
  },
  "orig_nbformat": 2
 },
 "nbformat": 4,
 "nbformat_minor": 2
}
