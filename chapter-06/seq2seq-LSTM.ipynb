{
 "cells": [
  {
   "cell_type": "markdown",
   "metadata": {},
   "source": [
    "# <u>Chapter 6</u>: Teaching Machines to Translate"
   ]
  },
  {
   "cell_type": "code",
   "execution_count": null,
   "metadata": {},
   "outputs": [],
   "source": [
    "import sys\n",
    "import subprocess\n",
    "import pkg_resources\n",
    "\n",
    "# Find out which packages are missing.\n",
    "installed_packages = {dist.key for dist in pkg_resources.working_set}\n",
    "required_packages = {'numpy', 'tensorflow', 'pandas', 'keras'}\n",
    "missing_packages = required_packages - installed_packages\n",
    "\n",
    "# If there are missing packages install them.\n",
    "if missing_packages:\n",
    "    print('Installing the following packages: ' + str(missing_packages))\n",
    "    python = sys.executable\n",
    "    subprocess.check_call([python, '-m', 'pip', 'install', *missing_packages], stdout=subprocess.DEVNULL)"
   ]
  },
  {
   "cell_type": "code",
   "execution_count": 33,
   "metadata": {},
   "outputs": [
    {
     "data": {
      "text/html": [
       "<div>\n",
       "<style scoped>\n",
       "    .dataframe tbody tr th:only-of-type {\n",
       "        vertical-align: middle;\n",
       "    }\n",
       "\n",
       "    .dataframe tbody tr th {\n",
       "        vertical-align: top;\n",
       "    }\n",
       "\n",
       "    .dataframe thead th {\n",
       "        text-align: right;\n",
       "    }\n",
       "</style>\n",
       "<table border=\"1\" class=\"dataframe\">\n",
       "  <thead>\n",
       "    <tr style=\"text-align: right;\">\n",
       "      <th></th>\n",
       "      <th>source</th>\n",
       "      <th>target</th>\n",
       "    </tr>\n",
       "  </thead>\n",
       "  <tbody>\n",
       "    <tr>\n",
       "      <th>5676</th>\n",
       "      <td>Tom is loyal.</td>\n",
       "      <td>Tom est fidèle.</td>\n",
       "    </tr>\n",
       "    <tr>\n",
       "      <th>617</th>\n",
       "      <td>I'm game.</td>\n",
       "      <td>J'en suis.</td>\n",
       "    </tr>\n",
       "    <tr>\n",
       "      <th>415</th>\n",
       "      <td>Back off!</td>\n",
       "      <td>Cassez-vous.</td>\n",
       "    </tr>\n",
       "    <tr>\n",
       "      <th>7687</th>\n",
       "      <td>Life is crazy.</td>\n",
       "      <td>La vie est dingue.</td>\n",
       "    </tr>\n",
       "    <tr>\n",
       "      <th>6708</th>\n",
       "      <td>I caused this.</td>\n",
       "      <td>J'ai causé ceci.</td>\n",
       "    </tr>\n",
       "  </tbody>\n",
       "</table>\n",
       "</div>"
      ],
      "text/plain": [
       "              source              target\n",
       "5676   Tom is loyal.     Tom est fidèle.\n",
       "617        I'm game.          J'en suis.\n",
       "415        Back off!        Cassez-vous.\n",
       "7687  Life is crazy.  La vie est dingue.\n",
       "6708  I caused this.    J'ai causé ceci."
      ]
     },
     "execution_count": 33,
     "metadata": {},
     "output_type": "execute_result"
    }
   ],
   "source": [
    "from numpy.random import seed\n",
    "seed(1)\n",
    "import tensorflow\n",
    "tensorflow.random.set_seed(2)\n",
    "\n",
    "import pandas as pd\n",
    "import re\n",
    "\n",
    "# Read the first 8K pairs in the dataset.\n",
    "# Reduce the nrows parameter if there is a memory allocation problem.\n",
    "data = pd.read_table('./data/fra.txt',  usecols=range(2), names=['source', 'target'], nrows=8000)\n",
    "\n",
    "# Replace no-break and thin spaces in the target sentences.\n",
    "data.target = data.target.apply(lambda x: re.sub(u'\\xa0|\\u202f|\\u2009', u' ', x))\n",
    "data.sample(5, random_state=123)"
   ]
  },
  {
   "cell_type": "code",
   "execution_count": 34,
   "metadata": {},
   "outputs": [
    {
     "data": {
      "text/plain": [
       "'<sos> Je payai. <eos>'"
      ]
     },
     "execution_count": 34,
     "metadata": {},
     "output_type": "execute_result"
    }
   ],
   "source": [
    "# Add two special tokens in the target sentences (start_of_stream/end_of_stream).\n",
    "data['target'] = '<sos> ' + data['target'] + ' <eos>'\n",
    "data.target[100]"
   ]
  },
  {
   "cell_type": "code",
   "execution_count": 35,
   "metadata": {},
   "outputs": [
    {
     "name": "stdout",
     "output_type": "stream",
     "text": [
      "Vocabulary size of the source sentences: 2504\n",
      "Vocabulary size of the target sentences: 4818\n"
     ]
    }
   ],
   "source": [
    "# Extract the vocabulary of the source/target sentences.\n",
    "src_voc = sorted(list(data['source'].str.split(' ', expand=True).stack().unique()))\n",
    "trg_voc = sorted(list(data['target'].str.split(' ', expand=True).stack().unique()))\n",
    "\n",
    "# Get the vocabulary size for the source/target sentences.\n",
    "# Increase by one for the padding token.\n",
    "src_voc_size = len(src_voc) + 1\n",
    "trg_voc_size = len(trg_voc) + 1\n",
    "\n",
    "print(\"Vocabulary size of the source sentences:\", src_voc_size)\n",
    "print(\"Vocabulary size of the target sentences:\", trg_voc_size)"
   ]
  },
  {
   "cell_type": "code",
   "execution_count": 36,
   "metadata": {},
   "outputs": [
    {
     "name": "stdout",
     "output_type": "stream",
     "text": [
      "Maximum length of the source sentences: 5\n",
      "Maximum length of the target sentences:: 12\n"
     ]
    }
   ],
   "source": [
    "# Extract the maximum sentence length in the source/target sentences.\n",
    "max_src_len = max([(len(s.split(' '))) for s in data['source']])\n",
    "max_trg_len = max([(len(s.split(' '))) for s in data['target']])\n",
    "\n",
    "print(\"Maximum length of the source sentences:\", max_src_len)\n",
    "print(\"Maximum length of the target sentences:\", max_trg_len)"
   ]
  },
  {
   "cell_type": "code",
   "execution_count": 37,
   "metadata": {},
   "outputs": [
    {
     "name": "stdout",
     "output_type": "stream",
     "text": [
      "675\n"
     ]
    }
   ],
   "source": [
    "# Create the word-to-index dictionary for the source/target tokens.\n",
    "# Zero index reserved for the padding token.\n",
    "src_word2idx = dict([(word, idx+1) for idx, word in enumerate(src_voc)])\n",
    "trg_word2idx = dict([(word, idx+1) for idx, word in enumerate(trg_voc)])\n",
    "\n",
    "print(trg_word2idx['Non'])"
   ]
  },
  {
   "cell_type": "code",
   "execution_count": 38,
   "metadata": {},
   "outputs": [
    {
     "name": "stdout",
     "output_type": "stream",
     "text": [
      "Non\n"
     ]
    }
   ],
   "source": [
    "# Create the index-to-word dictionary for the source/target tokens.\n",
    "src_idx2word = dict([(idx, word) for word, idx in src_word2idx.items()])\n",
    "trg_idx2word = dict([(idx, word) for word, idx in trg_word2idx.items()])\n",
    "\n",
    "print(trg_idx2word[675])"
   ]
  },
  {
   "cell_type": "code",
   "execution_count": 39,
   "metadata": {},
   "outputs": [],
   "source": [
    "import numpy as np\n",
    "\n",
    "# The input/output data of the model.\n",
    "enc_input_data = np.zeros((len(data['source']), max_src_len), dtype='float32')\n",
    "dec_input_data = np.zeros((len(data['source']), max_trg_len), dtype='float32')\n",
    "dec_output_data = np.zeros((len(data['source']), max_trg_len, trg_voc_size), dtype='float32')\n",
    "\n",
    "# Iterate over the whole dataset.\n",
    "for i, (src_sentence, trg_sentence) in enumerate(zip(data['source'], data['target'])):\n",
    "    \n",
    "    # Create the input for the encoder.\n",
    "    for j, word in enumerate(src_sentence.split()):\n",
    "        enc_input_data[i, j] = src_word2idx[word]\n",
    " \n",
    "    # Create the input/output for the decoder.\n",
    "    for j, word in enumerate(trg_sentence.split()):\n",
    "        # Skip the '<eos>' word in the decoder input.\n",
    "        if j < len(trg_sentence.split())-1:\n",
    "            dec_input_data[i, j] = trg_word2idx[word]\n",
    "        # Skip the '<sos>' word in the decoder output.\n",
    "        if j > 0:\n",
    "            dec_output_data[i, j-1, trg_word2idx[word]] = 1.0"
   ]
  },
  {
   "cell_type": "code",
   "execution_count": 40,
   "metadata": {},
   "outputs": [],
   "source": [
    "from keras.layers import Input, LSTM, Embedding, Dense\n",
    "from keras.models import Model\n",
    "\n",
    "# Create the input layers for the encoder/decoder.\n",
    "enc_input = Input(shape=(None,), dtype='float32',)\n",
    "dec_input = Input(shape=(None,), dtype='float32',)\n",
    "\n",
    "# Create the embedding layers for the encoder/decoder.\n",
    "embed_layer = Embedding(src_voc_size, 256, mask_zero=True)\n",
    "enc_embed = embed_layer(enc_input)\n",
    "embed_layer = Embedding(trg_voc_size, 256, mask_zero=True)\n",
    "dec_embed = embed_layer(dec_input)\n",
    "\n",
    "# Create the LSTM layers for the encoder/decoder.\n",
    "enc_LSTM = LSTM(256, return_state=True)\n",
    "_, state_h, state_c = enc_LSTM(enc_embed)\n",
    "dec_LSTM = LSTM(256, return_state=True, return_sequences=True)\n",
    "# The initial states of the decoder are the output from the encoder.\n",
    "dec_output, _, _ = dec_LSTM(dec_embed, initial_state=[state_h, state_c])\n",
    "\n",
    "# Create the output layer for the decoder.\n",
    "dec_dense = Dense(trg_voc_size, activation='softmax')\n",
    "dec_output = dec_dense(dec_output)"
   ]
  },
  {
   "cell_type": "code",
   "execution_count": 41,
   "metadata": {},
   "outputs": [
    {
     "name": "stdout",
     "output_type": "stream",
     "text": [
      "Number of trainable parameters: 4163282\n"
     ]
    }
   ],
   "source": [
    "# Create and compile the model.\n",
    "model = Model([enc_input, dec_input], dec_output)\n",
    "model.compile(optimizer='rmsprop', loss='categorical_crossentropy', metrics=['accuracy'])\n",
    "#model.summary()\n",
    "model_params = np.sum([np.prod(v.get_shape()) for v in model.trainable_weights])\n",
    "print(\"Number of trainable parameters:\", model_params)"
   ]
  },
  {
   "cell_type": "code",
   "execution_count": 42,
   "metadata": {},
   "outputs": [
    {
     "name": "stdout",
     "output_type": "stream",
     "text": [
      "Model: \"model_5\"\n",
      "__________________________________________________________________________________________________\n",
      " Layer (type)                   Output Shape         Param #     Connected to                     \n",
      "==================================================================================================\n",
      " input_7 (InputLayer)           [(None, None)]       0           []                               \n",
      "                                                                                                  \n",
      " input_8 (InputLayer)           [(None, None)]       0           []                               \n",
      "                                                                                                  \n",
      " embedding_2 (Embedding)        (None, None, 256)    641024      ['input_7[0][0]']                \n",
      "                                                                                                  \n",
      " embedding_3 (Embedding)        (None, None, 256)    1233408     ['input_8[0][0]']                \n",
      "                                                                                                  \n",
      " lstm_2 (LSTM)                  [(None, 256),        525312      ['embedding_2[0][0]']            \n",
      "                                 (None, 256),                                                     \n",
      "                                 (None, 256)]                                                     \n",
      "                                                                                                  \n",
      " lstm_3 (LSTM)                  [(None, None, 256),  525312      ['embedding_3[0][0]',            \n",
      "                                 (None, 256),                     'lstm_2[0][1]',                 \n",
      "                                 (None, 256)]                     'lstm_2[0][2]']                 \n",
      "                                                                                                  \n",
      " dense_1 (Dense)                (None, None, 4818)   1238226     ['lstm_3[0][0]']                 \n",
      "                                                                                                  \n",
      "==================================================================================================\n",
      "Total params: 4,163,282\n",
      "Trainable params: 4,163,282\n",
      "Non-trainable params: 0\n",
      "__________________________________________________________________________________________________\n",
      "None\n"
     ]
    }
   ],
   "source": [
    "#print(model.summary())"
   ]
  },
  {
   "cell_type": "code",
   "execution_count": 43,
   "metadata": {},
   "outputs": [
    {
     "data": {
      "image/png": "[encoded data removed]",
      "text/plain": [
       "<IPython.core.display.Image object>"
      ]
     },
     "execution_count": 43,
     "metadata": {},
     "output_type": "execute_result"
    }
   ],
   "source": [
    "from keras.utils.vis_utils import plot_model\n",
    "\n",
    "# Plot the model.\n",
    "plot_model(model, to_file='./images/model_plot.png', show_shapes=True, show_layer_names=True, dpi=100)"
   ]
  },
  {
   "cell_type": "code",
   "execution_count": 44,
   "metadata": {},
   "outputs": [
    {
     "name": "stdout",
     "output_type": "stream",
     "text": [
      "Epoch 1/100\n",
      "50/50 [==============================] - 15s 176ms/step - loss: 2.0813 - accuracy: 0.2364 - val_loss: 2.1181 - val_accuracy: 0.2200\n",
      "Epoch 2/100\n",
      "50/50 [==============================] - 5s 105ms/step - loss: 1.7052 - accuracy: 0.2732 - val_loss: 2.0120 - val_accuracy: 0.2877\n",
      "Epoch 3/100\n",
      "50/50 [==============================] - 5s 104ms/step - loss: 1.5774 - accuracy: 0.2883 - val_loss: 1.9714 - val_accuracy: 0.3064\n",
      "Epoch 4/100\n",
      "50/50 [==============================] - 5s 105ms/step - loss: 1.4770 - accuracy: 0.3019 - val_loss: 1.9326 - val_accuracy: 0.3075\n",
      "Epoch 5/100\n",
      "50/50 [==============================] - 5s 103ms/step - loss: 1.4016 - accuracy: 0.3198 - val_loss: 1.9060 - val_accuracy: 0.3115\n",
      "Epoch 6/100\n",
      "50/50 [==============================] - 5s 104ms/step - loss: 1.3449 - accuracy: 0.3479 - val_loss: 1.9046 - val_accuracy: 0.3006\n",
      "Epoch 7/100\n",
      "50/50 [==============================] - 5s 104ms/step - loss: 1.2949 - accuracy: 0.3722 - val_loss: 1.8852 - val_accuracy: 0.3282\n",
      "Epoch 8/100\n",
      "50/50 [==============================] - 5s 103ms/step - loss: 1.2460 - accuracy: 0.3950 - val_loss: 1.8906 - val_accuracy: 0.3196\n",
      "Epoch 9/100\n",
      "50/50 [==============================] - 5s 103ms/step - loss: 1.2023 - accuracy: 0.4108 - val_loss: 1.8781 - val_accuracy: 0.3234\n",
      "Epoch 10/100\n",
      "50/50 [==============================] - 5s 103ms/step - loss: 1.1593 - accuracy: 0.4238 - val_loss: 1.8990 - val_accuracy: 0.3133\n",
      "Epoch 11/100\n",
      "50/50 [==============================] - 5s 107ms/step - loss: 1.1221 - accuracy: 0.4344 - val_loss: 1.8879 - val_accuracy: 0.3179\n",
      "Epoch 12/100\n",
      "50/50 [==============================] - 5s 104ms/step - loss: 1.0886 - accuracy: 0.4437 - val_loss: 1.9003 - val_accuracy: 0.3141\n",
      "Epoch 13/100\n",
      "50/50 [==============================] - 5s 106ms/step - loss: 1.0556 - accuracy: 0.4577 - val_loss: 1.9113 - val_accuracy: 0.3174\n",
      "Epoch 14/100\n",
      "50/50 [==============================] - 5s 107ms/step - loss: 1.0236 - accuracy: 0.4701 - val_loss: 1.9174 - val_accuracy: 0.3303\n",
      "Epoch 15/100\n",
      "50/50 [==============================] - 6s 113ms/step - loss: 0.9960 - accuracy: 0.4813 - val_loss: 1.9251 - val_accuracy: 0.3317\n",
      "Epoch 16/100\n",
      "50/50 [==============================] - 5s 107ms/step - loss: 0.9673 - accuracy: 0.4890 - val_loss: 1.9286 - val_accuracy: 0.3358\n",
      "Epoch 17/100\n",
      "50/50 [==============================] - 5s 107ms/step - loss: 0.9384 - accuracy: 0.4977 - val_loss: 1.9409 - val_accuracy: 0.3419\n",
      "Epoch 18/100\n",
      "50/50 [==============================] - 5s 109ms/step - loss: 0.9154 - accuracy: 0.5057 - val_loss: 1.9491 - val_accuracy: 0.3461\n",
      "Epoch 19/100\n",
      "50/50 [==============================] - 5s 107ms/step - loss: 0.8895 - accuracy: 0.5156 - val_loss: 1.9289 - val_accuracy: 0.3502\n",
      "Epoch 20/100\n",
      "50/50 [==============================] - 5s 108ms/step - loss: 0.8662 - accuracy: 0.5236 - val_loss: 1.9324 - val_accuracy: 0.3562\n",
      "Epoch 21/100\n",
      "50/50 [==============================] - 5s 108ms/step - loss: 0.8440 - accuracy: 0.5296 - val_loss: 1.9255 - val_accuracy: 0.3570\n",
      "Epoch 22/100\n",
      "50/50 [==============================] - 5s 109ms/step - loss: 0.8200 - accuracy: 0.5390 - val_loss: 1.9322 - val_accuracy: 0.3645\n",
      "Epoch 23/100\n",
      "50/50 [==============================] - 6s 114ms/step - loss: 0.7967 - accuracy: 0.5466 - val_loss: 1.9549 - val_accuracy: 0.3599\n",
      "Epoch 24/100\n",
      "50/50 [==============================] - 5s 108ms/step - loss: 0.7740 - accuracy: 0.5534 - val_loss: 1.9372 - val_accuracy: 0.3630\n",
      "Epoch 25/100\n",
      "50/50 [==============================] - 5s 107ms/step - loss: 0.7533 - accuracy: 0.5604 - val_loss: 1.9298 - val_accuracy: 0.3691\n",
      "Epoch 26/100\n",
      "50/50 [==============================] - 5s 109ms/step - loss: 0.7321 - accuracy: 0.5690 - val_loss: 1.9434 - val_accuracy: 0.3685\n",
      "Epoch 27/100\n",
      "50/50 [==============================] - 5s 108ms/step - loss: 0.7105 - accuracy: 0.5766 - val_loss: 1.9367 - val_accuracy: 0.3702\n",
      "Epoch 28/100\n",
      "50/50 [==============================] - 5s 108ms/step - loss: 0.6906 - accuracy: 0.5847 - val_loss: 1.9266 - val_accuracy: 0.3742\n",
      "Epoch 29/100\n",
      "50/50 [==============================] - 5s 109ms/step - loss: 0.6693 - accuracy: 0.5942 - val_loss: 1.9366 - val_accuracy: 0.3731\n",
      "Epoch 30/100\n",
      "50/50 [==============================] - 5s 109ms/step - loss: 0.6494 - accuracy: 0.6028 - val_loss: 1.9249 - val_accuracy: 0.3753\n",
      "Epoch 31/100\n",
      "50/50 [==============================] - 5s 108ms/step - loss: 0.6304 - accuracy: 0.6115 - val_loss: 1.9507 - val_accuracy: 0.3783\n",
      "Epoch 32/100\n",
      "50/50 [==============================] - 5s 108ms/step - loss: 0.6090 - accuracy: 0.6191 - val_loss: 1.9416 - val_accuracy: 0.3830\n",
      "Epoch 33/100\n",
      "50/50 [==============================] - 5s 107ms/step - loss: 0.5926 - accuracy: 0.6261 - val_loss: 1.9286 - val_accuracy: 0.3823\n",
      "Epoch 34/100\n",
      "50/50 [==============================] - 5s 110ms/step - loss: 0.5713 - accuracy: 0.6359 - val_loss: 1.9420 - val_accuracy: 0.3806\n",
      "Epoch 35/100\n",
      "50/50 [==============================] - 6s 117ms/step - loss: 0.5536 - accuracy: 0.6440 - val_loss: 1.9335 - val_accuracy: 0.3856\n",
      "Epoch 36/100\n",
      "50/50 [==============================] - 5s 108ms/step - loss: 0.5369 - accuracy: 0.6537 - val_loss: 1.9377 - val_accuracy: 0.3868\n",
      "Epoch 37/100\n",
      "50/50 [==============================] - 6s 111ms/step - loss: 0.5199 - accuracy: 0.6620 - val_loss: 1.9415 - val_accuracy: 0.3897\n",
      "Epoch 38/100\n",
      "50/50 [==============================] - 5s 108ms/step - loss: 0.5012 - accuracy: 0.6727 - val_loss: 1.9421 - val_accuracy: 0.3885\n",
      "Epoch 39/100\n",
      "50/50 [==============================] - 5s 107ms/step - loss: 0.4837 - accuracy: 0.6813 - val_loss: 1.9429 - val_accuracy: 0.3903- accuracy: 0.67 - ETA: 1s - loss: 0\n",
      "Epoch 40/100\n",
      "50/50 [==============================] - 5s 109ms/step - loss: 0.4695 - accuracy: 0.6879 - val_loss: 1.9324 - val_accuracy: 0.3900\n",
      "Epoch 41/100\n",
      "50/50 [==============================] - 5s 109ms/step - loss: 0.4525 - accuracy: 0.6984 - val_loss: 1.9476 - val_accuracy: 0.3919\n",
      "Epoch 42/100\n",
      "50/50 [==============================] - 5s 107ms/step - loss: 0.4379 - accuracy: 0.7056 - val_loss: 1.9443 - val_accuracy: 0.3992\n",
      "Epoch 43/100\n",
      "50/50 [==============================] - 5s 110ms/step - loss: 0.4218 - accuracy: 0.7161 - val_loss: 1.9469 - val_accuracy: 0.3965\n",
      "Epoch 44/100\n",
      "50/50 [==============================] - 5s 107ms/step - loss: 0.4070 - accuracy: 0.7227 - val_loss: 1.9575 - val_accuracy: 0.3940\n",
      "Epoch 45/100\n",
      "50/50 [==============================] - 5s 108ms/step - loss: 0.3941 - accuracy: 0.7296 - val_loss: 1.9597 - val_accuracy: 0.3956\n",
      "Epoch 46/100\n",
      "50/50 [==============================] - 5s 109ms/step - loss: 0.3792 - accuracy: 0.7386 - val_loss: 1.9396 - val_accuracy: 0.4003\n",
      "Epoch 47/100\n",
      "50/50 [==============================] - 5s 109ms/step - loss: 0.3672 - accuracy: 0.7437 - val_loss: 1.9812 - val_accuracy: 0.3958\n",
      "Epoch 48/100\n",
      "50/50 [==============================] - 5s 108ms/step - loss: 0.3529 - accuracy: 0.7528 - val_loss: 1.9693 - val_accuracy: 0.3989\n",
      "Epoch 49/100\n",
      "50/50 [==============================] - 5s 108ms/step - loss: 0.3413 - accuracy: 0.7580 - val_loss: 1.9784 - val_accuracy: 0.3977\n",
      "Epoch 50/100\n",
      "50/50 [==============================] - 5s 107ms/step - loss: 0.3279 - accuracy: 0.7663 - val_loss: 1.9721 - val_accuracy: 0.3993\n",
      "Epoch 51/100\n",
      "50/50 [==============================] - 5s 109ms/step - loss: 0.3157 - accuracy: 0.7726 - val_loss: 1.9962 - val_accuracy: 0.4022\n",
      "Epoch 52/100\n",
      "50/50 [==============================] - 5s 109ms/step - loss: 0.3058 - accuracy: 0.7790 - val_loss: 2.0229 - val_accuracy: 0.3978\n",
      "Epoch 53/100\n",
      "50/50 [==============================] - 5s 106ms/step - loss: 0.2935 - accuracy: 0.7851 - val_loss: 1.9891 - val_accuracy: 0.3977\n",
      "Epoch 54/100\n",
      "50/50 [==============================] - 5s 107ms/step - loss: 0.2821 - accuracy: 0.7914 - val_loss: 1.9990 - val_accuracy: 0.3943\n",
      "Epoch 55/100\n",
      "50/50 [==============================] - 5s 108ms/step - loss: 0.2727 - accuracy: 0.7968 - val_loss: 2.0242 - val_accuracy: 0.3998\n",
      "Epoch 56/100\n",
      "50/50 [==============================] - 6s 114ms/step - loss: 0.2623 - accuracy: 0.8014 - val_loss: 2.0236 - val_accuracy: 0.3969\n",
      "Epoch 57/100\n",
      "50/50 [==============================] - 5s 108ms/step - loss: 0.2526 - accuracy: 0.8075 - val_loss: 2.0279 - val_accuracy: 0.3944\n",
      "Epoch 58/100\n",
      "50/50 [==============================] - 14s 290ms/step - loss: 0.2425 - accuracy: 0.8112 - val_loss: 2.0271 - val_accuracy: 0.3973\n",
      "Epoch 59/100\n",
      "50/50 [==============================] - 10s 202ms/step - loss: 0.2341 - accuracy: 0.8174 - val_loss: 2.0531 - val_accuracy: 0.3951\n",
      "Epoch 60/100\n",
      "50/50 [==============================] - 7s 150ms/step - loss: 0.2252 - accuracy: 0.8211 - val_loss: 2.0491 - val_accuracy: 0.3969\n",
      "Epoch 61/100\n",
      "50/50 [==============================] - 7s 135ms/step - loss: 0.2172 - accuracy: 0.8255 - val_loss: 2.0689 - val_accuracy: 0.3940\n",
      "Epoch 62/100\n",
      "50/50 [==============================] - 6s 113ms/step - loss: 0.2098 - accuracy: 0.8303 - val_loss: 2.0413 - val_accuracy: 0.3998\n",
      "Epoch 63/100\n",
      "50/50 [==============================] - 6s 114ms/step - loss: 0.2018 - accuracy: 0.8334 - val_loss: 2.0950 - val_accuracy: 0.3941\n",
      "Epoch 64/100\n",
      "50/50 [==============================] - 6s 116ms/step - loss: 0.1944 - accuracy: 0.8385 - val_loss: 2.0639 - val_accuracy: 0.3955\n",
      "Epoch 65/100\n",
      "50/50 [==============================] - 6s 115ms/step - loss: 0.1882 - accuracy: 0.8402 - val_loss: 2.0715 - val_accuracy: 0.3956\n",
      "Epoch 66/100\n",
      "50/50 [==============================] - 5s 110ms/step - loss: 0.1819 - accuracy: 0.8439 - val_loss: 2.0739 - val_accuracy: 0.3971\n",
      "Epoch 67/100\n",
      "50/50 [==============================] - 6s 112ms/step - loss: 0.1758 - accuracy: 0.8455 - val_loss: 2.0952 - val_accuracy: 0.3954\n",
      "Epoch 68/100\n",
      "50/50 [==============================] - 5s 110ms/step - loss: 0.1696 - accuracy: 0.8488 - val_loss: 2.0723 - val_accuracy: 0.3981\n",
      "Epoch 69/100\n",
      "50/50 [==============================] - 7s 140ms/step - loss: 0.1637 - accuracy: 0.8533 - val_loss: 2.0905 - val_accuracy: 0.3930\n",
      "Epoch 70/100\n",
      "50/50 [==============================] - 8s 170ms/step - loss: 0.1589 - accuracy: 0.8552 - val_loss: 2.0994 - val_accuracy: 0.3969\n",
      "Epoch 71/100\n",
      "50/50 [==============================] - 8s 152ms/step - loss: 0.1532 - accuracy: 0.8575 - val_loss: 2.0922 - val_accuracy: 0.3914\n",
      "Epoch 72/100\n",
      "50/50 [==============================] - 6s 118ms/step - loss: 0.1483 - accuracy: 0.8601 - val_loss: 2.0963 - val_accuracy: 0.3936\n",
      "Epoch 73/100\n",
      "50/50 [==============================] - 7s 136ms/step - loss: 0.1440 - accuracy: 0.8610 - val_loss: 2.1063 - val_accuracy: 0.3889\n",
      "Epoch 74/100\n",
      "50/50 [==============================] - 12s 247ms/step - loss: 0.1398 - accuracy: 0.8630 - val_loss: 2.1065 - val_accuracy: 0.4000\n",
      "Epoch 75/100\n",
      "50/50 [==============================] - 10s 200ms/step - loss: 0.1366 - accuracy: 0.8638 - val_loss: 2.1231 - val_accuracy: 0.3871\n",
      "Epoch 76/100\n",
      "50/50 [==============================] - 9s 183ms/step - loss: 0.1325 - accuracy: 0.8658 - val_loss: 2.1150 - val_accuracy: 0.3896\n",
      "Epoch 77/100\n",
      "50/50 [==============================] - 7s 139ms/step - loss: 0.1287 - accuracy: 0.8674 - val_loss: 2.1241 - val_accuracy: 0.3947\n",
      "Epoch 78/100\n",
      "50/50 [==============================] - 6s 113ms/step - loss: 0.1251 - accuracy: 0.8680 - val_loss: 2.1030 - val_accuracy: 0.3888\n",
      "Epoch 79/100\n",
      "50/50 [==============================] - 5s 108ms/step - loss: 0.1219 - accuracy: 0.8694 - val_loss: 2.1320 - val_accuracy: 0.3948\n",
      "Epoch 80/100\n",
      "50/50 [==============================] - 5s 108ms/step - loss: 0.1195 - accuracy: 0.8694 - val_loss: 2.1263 - val_accuracy: 0.3904\n",
      "Epoch 81/100\n",
      "50/50 [==============================] - 5s 108ms/step - loss: 0.1168 - accuracy: 0.8705 - val_loss: 2.1362 - val_accuracy: 0.3960\n",
      "Epoch 82/100\n",
      "50/50 [==============================] - 5s 108ms/step - loss: 0.1141 - accuracy: 0.8716 - val_loss: 2.1206 - val_accuracy: 0.3921\n",
      "Epoch 83/100\n",
      "50/50 [==============================] - 5s 109ms/step - loss: 0.1115 - accuracy: 0.8726 - val_loss: 2.1490 - val_accuracy: 0.4029\n",
      "Epoch 84/100\n",
      "50/50 [==============================] - 5s 109ms/step - loss: 0.1095 - accuracy: 0.8730 - val_loss: 2.1315 - val_accuracy: 0.3916\n",
      "Epoch 85/100\n",
      "50/50 [==============================] - 5s 108ms/step - loss: 0.1073 - accuracy: 0.8739 - val_loss: 2.1354 - val_accuracy: 0.3903\n",
      "Epoch 86/100\n",
      "50/50 [==============================] - 5s 108ms/step - loss: 0.1064 - accuracy: 0.8726 - val_loss: 2.1400 - val_accuracy: 0.3911\n",
      "Epoch 87/100\n",
      "50/50 [==============================] - 5s 108ms/step - loss: 0.1037 - accuracy: 0.8736 - val_loss: 2.1451 - val_accuracy: 0.3926\n",
      "Epoch 88/100\n",
      "50/50 [==============================] - 5s 108ms/step - loss: 0.1026 - accuracy: 0.8737 - val_loss: 2.1550 - val_accuracy: 0.4037\n",
      "Epoch 89/100\n",
      "50/50 [==============================] - 5s 108ms/step - loss: 0.1007 - accuracy: 0.8746 - val_loss: 2.1435 - val_accuracy: 0.3936\n",
      "Epoch 90/100\n",
      "50/50 [==============================] - 5s 109ms/step - loss: 0.0989 - accuracy: 0.8745 - val_loss: 2.1617 - val_accuracy: 0.3995\n",
      "Epoch 91/100\n",
      "50/50 [==============================] - 5s 107ms/step - loss: 0.0980 - accuracy: 0.8757 - val_loss: 2.1458 - val_accuracy: 0.3956\n",
      "Epoch 92/100\n",
      "50/50 [==============================] - 6s 113ms/step - loss: 0.0969 - accuracy: 0.8741 - val_loss: 2.1784 - val_accuracy: 0.4039\n",
      "Epoch 93/100\n",
      "50/50 [==============================] - 7s 133ms/step - loss: 0.0952 - accuracy: 0.8754 - val_loss: 2.1557 - val_accuracy: 0.3993\n",
      "Epoch 94/100\n",
      "50/50 [==============================] - 6s 123ms/step - loss: 0.0943 - accuracy: 0.8754 - val_loss: 2.1807 - val_accuracy: 0.3984\n",
      "Epoch 95/100\n",
      "50/50 [==============================] - 14s 288ms/step - loss: 0.0938 - accuracy: 0.8754 - val_loss: 2.1684 - val_accuracy: 0.3955\n",
      "Epoch 96/100\n",
      "50/50 [==============================] - 8s 170ms/step - loss: 0.0927 - accuracy: 0.8753 - val_loss: 2.1703 - val_accuracy: 0.3943\n",
      "Epoch 97/100\n",
      "50/50 [==============================] - 8s 153ms/step - loss: 0.0921 - accuracy: 0.8761 - val_loss: 2.1851 - val_accuracy: 0.4059\n",
      "Epoch 98/100\n",
      "50/50 [==============================] - 6s 123ms/step - loss: 0.0906 - accuracy: 0.8753 - val_loss: 2.1706 - val_accuracy: 0.3959\n",
      "Epoch 99/100\n",
      "50/50 [==============================] - 6s 116ms/step - loss: 0.0900 - accuracy: 0.8761 - val_loss: 2.2014 - val_accuracy: 0.4035\n",
      "Epoch 100/100\n",
      "50/50 [==============================] - 6s 113ms/step - loss: 0.0896 - accuracy: 0.8751 - val_loss: 2.1871 - val_accuracy: 0.3965\n"
     ]
    },
    {
     "data": {
      "text/plain": [
       "<keras.callbacks.History at 0x2d20a1f8a90>"
      ]
     },
     "execution_count": 44,
     "metadata": {},
     "output_type": "execute_result"
    }
   ],
   "source": [
    "# Fit the data to the model.\n",
    "model.fit([enc_input_data, dec_input_data], dec_output_data,\n",
    "            batch_size=128, epochs=100, validation_split=0.2, shuffle=False)"
   ]
  },
  {
   "cell_type": "markdown",
   "metadata": {},
   "source": [
    "Inference phase"
   ]
  },
  {
   "cell_type": "code",
   "execution_count": 50,
   "metadata": {},
   "outputs": [],
   "source": [
    "# Model to encode the input.\n",
    "enc_model = Model(enc_input, [state_h, state_c])\n",
    "\n",
    "# The hidden and cell states of the decoder at each step.\n",
    "dec_state_in_h = Input(shape=(256,))\n",
    "dec_state_in_c = Input(shape=(256,))\n",
    "\n",
    "# Set the embedding layer.\n",
    "dec_embed_2 = embed_layer(dec_input)\n",
    "\n",
    "# Set the LSTM layer.\n",
    "dec_output_2, dec_state_out_h, dec_state_out_c = dec_LSTM(dec_embed_2, initial_state=[dec_state_in_h, dec_state_in_c])\n",
    "\n",
    "# Set the output layer for the decoder.\n",
    "dec_output_2 = dec_dense(dec_output_2)\n",
    "\n",
    "# Create the decoder model.\n",
    "decoder_model = Model([dec_input] + [dec_state_in_h, dec_state_in_c],\n",
    "                        [dec_output_2] + [dec_state_out_h, dec_state_out_c])"
   ]
  },
  {
   "cell_type": "code",
   "execution_count": 51,
   "metadata": {},
   "outputs": [
    {
     "data": {
      "image/png": "[encoded data removed]",
      "text/plain": [
       "<IPython.core.display.Image object>"
      ]
     },
     "execution_count": 51,
     "metadata": {},
     "output_type": "execute_result"
    }
   ],
   "source": [
    "# Plot the model.\n",
    "plot_model(decoder_model, to_file='./images/inference_model_plot.png', show_shapes=True, show_layer_names=True, dpi=100)"
   ]
  },
  {
   "cell_type": "code",
   "execution_count": 52,
   "metadata": {},
   "outputs": [],
   "source": [
    "# Translate an input sentence.\n",
    "def getTranslation(index):\n",
    "\n",
    "    translation = word = ''\n",
    "\n",
    "    # Choose randomly a sequence from the data set.\n",
    "    #i = np.random.choice(len(data['source']))\n",
    "\n",
    "    # Choose a sequence from the data set.\n",
    "    source_seq = enc_input_data[index:index+1]\n",
    "\n",
    "    # Get the initial input states for the decoder.\n",
    "    states_h_c = enc_model.predict(source_seq)\n",
    "\n",
    "    # The first input token to the decoder is start_of_stream.\n",
    "    token = np.zeros((1,1))\n",
    "    token[0, 0] = trg_word2idx['<sos>']\n",
    "\n",
    "    # Start the decoding process.\n",
    "    while (word != '<eos>' and len(translation) <= 100):\n",
    "\n",
    "        # Predict the next token and states.\n",
    "        output, state_h, state_c = decoder_model.predict([token] + states_h_c)\n",
    "        \n",
    "        # Store the emitted token and the states for the next iteration.\n",
    "        idx = np.argmax(output[0, -1, :])\n",
    "        token[0, 0] = idx\n",
    "        states_h_c = [state_h, state_c]\n",
    "\n",
    "        # Extract the emitted word.\n",
    "        word = trg_idx2word[idx]\n",
    "        translation += ' ' + word\n",
    "\n",
    "    return translation"
   ]
  },
  {
   "cell_type": "code",
   "execution_count": 48,
   "metadata": {},
   "outputs": [
    {
     "name": "stdout",
     "output_type": "stream",
     "text": [
      "Input sentence: Seriously?\n",
      "Reference translation:  C'est vrai ? \n",
      "Hypothesis:  Vraiment ?\n"
     ]
    }
   ],
   "source": [
    "print(\"Input sentence:\", data['source'][1308])\n",
    "print(\"Reference translation:\", data['target'][1308].replace(\"<sos>\",\"\").replace(\"<eos>\",\"\"))\n",
    "print(\"Hypothesis:\", getTranslation(1308)[:-6])"
   ]
  },
  {
   "cell_type": "code",
   "execution_count": 53,
   "metadata": {},
   "outputs": [
    {
     "name": "stdout",
     "output_type": "stream",
     "text": [
      "Input sentence: I relaxed.\n",
      "Reference translation: ['Je', 'me', 'suis', 'détendue.']\n",
      "Hypothesis: ['Je', 'me', 'suis', 'détendu.']\n",
      "BLUE score: 0.25\n"
     ]
    }
   ],
   "source": [
    "from nltk.translate.bleu_score import sentence_bleu\n",
    "\n",
    "hypothesis = getTranslation(1006)[:-6].split()\n",
    "reference = data['target'][1006].replace(\"<sos>\",\"\").replace(\"<eos>\",\"\").split()\n",
    "\n",
    "# Calculate the BLEU score.\n",
    "bleu = sentence_bleu([reference], hypothesis, weights=(1, 1, 1))\n",
    "\n",
    "print(\"Input sentence:\", data['source'][1006])\n",
    "print(\"Reference translation:\", reference)\n",
    "print(\"Hypothesis:\", hypothesis)\n",
    "print(\"BLEU score:\", bleu)"
   ]
  },
  {
   "cell_type": "markdown",
   "metadata": {},
   "source": [
    "### Machine Learning Techniques for Text \n",
    "&copy;2022&ndash;2023, Nikos Tsourakis, <nikos@tsourakis.net>, Packt Publications. All Rights Reserved."
   ]
  }
 ],
 "metadata": {
  "interpreter": {
   "hash": "8f1e200aa4e9598f1b1017d8bb6526388dc3fae44f5def43455ba665e800f8e8"
  },
  "kernelspec": {
   "display_name": "Python 3.9.7 64-bit",
   "language": "python",
   "name": "python3"
  },
  "language_info": {
   "codemirror_mode": {
    "name": "ipython",
    "version": 3
   },
   "file_extension": ".py",
   "mimetype": "text/x-python",
   "name": "python",
   "nbconvert_exporter": "python",
   "pygments_lexer": "ipython3",
   "version": "3.9.7"
  },
  "metadata": {
   "interpreter": {
    "hash": "5ec7f24bccdc5982815fc9e679db841794fd8b692b70ffe03fd828d6ea20f1fe"
   }
  },
  "orig_nbformat": 2
 },
 "nbformat": 4,
 "nbformat_minor": 2
}
