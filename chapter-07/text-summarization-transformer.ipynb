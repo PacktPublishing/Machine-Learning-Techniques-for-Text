{
  "cells": [
    {
      "cell_type": "markdown",
      "metadata": {},
      "source": [
        "# <u>Chapter 7</u>: Summarizing Wikipedia Articles"
      ]
    },
    {
      "cell_type": "markdown",
      "metadata": {},
      "source": [
        "This exercise introduces another challenging topic in natural language processing and demystifies methods for `text summarization`. We delve into a state-of-the-art architecture that provides exceptional performance in many real-world applications. We also discuss the metrics to assess the performance of relevant systems."
      ]
    },
    {
      "cell_type": "code",
      "execution_count": 1,
      "metadata": {},
      "outputs": [],
      "source": [
        "import sys\n",
        "import subprocess\n",
        "import pkg_resources\n",
        "\n",
        "# Find out which packages are missing.\n",
        "installed_packages = {dist.key for dist in pkg_resources.working_set}\n",
        "required_packages = {'wikipedia', 'rouge-score', 'spacy', 'textacy', 'networkx', 'matplotlib', 'tensorflow', 'numpy'}\n",
        "missing_packages = required_packages - installed_packages\n",
        "\n",
        "# If there are missing packages install them.\n",
        "if missing_packages:\n",
        "    print('Installing the following packages: ' + str(missing_packages))\n",
        "    python = sys.executable\n",
        "    subprocess.check_call([python, '-m', 'pip', 'install', *missing_packages], stdout=subprocess.DEVNULL)"
      ]
    },
    {
      "cell_type": "markdown",
      "metadata": {},
      "source": [
        "<ins>Note</ins>: In case you get a _ReactorNotRestartable_ error, you have to restart the kernel. The reactor is only meant to run once."
      ]
    },
    {
      "cell_type": "markdown",
      "metadata": {},
      "source": [
        "## Abstractive summarization"
      ]
    },
    {
      "cell_type": "markdown",
      "metadata": {},
      "source": [
        "`Abstractive summarization` aims to generate novel sentences by rephrasing the reference and introducing new words. As a widely accessible and free encyclopedia, `Wikipedia` contains information on all branches of knowledge, so it's a great resource for data. Thus, we extract data from Wikipedia and use it to train and evaluate a `transformer model`. Instead of implementing a crawler from scratch, we use a Python library that makes it easy to access and parse data from Wikipedia."
      ]
    },
    {
      "cell_type": "markdown",
      "metadata": {},
      "source": [
        "### Putting transformer into action\n",
        "\n",
        "The following code requests the wiki page for _Athens_, the Greek capital, and prints the titles of the different sections."
      ]
    },
    {
      "cell_type": "code",
      "execution_count": 2,
      "metadata": {},
      "outputs": [
        {
          "name": "stdout",
          "output_type": "stream",
          "text": [
            "['Etymology and names', 'History', 'Geography', 'Environment', 'Safety', 'Climate', 'Locations', 'Neighbourhoods of the center of Athens (Municipality of Athens)', 'Parks and zoos', 'Urban and suburban municipalities', 'Administration', 'Athens Urban Area', 'Athens Metropolitan Area', 'Demographics', 'Population in modern times', 'Population of the Athens Metropolitan Area', 'Population in ancient times', 'Government and politics', 'International relations and influence', 'Twin towns – sister cities', 'Partnerships', 'Other locations named after Athens', 'Economy', 'Transport', 'Bus transport', 'Athens Metro', 'Commuter/suburban rail (Proastiakos)', 'Tram', 'Athens International Airport', 'Railways and ferry connections', 'Motorways', 'Education', 'Culture', 'Archaeological hub', 'Architecture', 'Urban sculpture', 'Museums', 'Tourism', 'Entertainment and performing arts', 'Sports', 'Sports clubs', 'Olympic Games', '1896 Summer Olympics', '1906 Summer Olympics', '2004 Summer Olympics', 'See also', 'References', 'External links']\n"
          ]
        }
      ],
      "source": [
        "import wikipedia\n",
        "\n",
        "# Use the English language version.\n",
        "wikipedia.set_lang(\"en\")\n",
        "\n",
        "# Get the wiki content for 'Athens'.\n",
        "wikisearch = wikipedia.page(\"Athens\")\n",
        "\n",
        "# Print page sections.\n",
        "wikisections = wikisearch.sections\n",
        "print(wikisections)"
      ]
    },
    {
      "cell_type": "markdown",
      "metadata": {},
      "source": [
        "Next, for our analysis, we download the wiki pages of forty capitals."
      ]
    },
    {
      "cell_type": "code",
      "execution_count": 3,
      "metadata": {},
      "outputs": [
        {
          "name": "stdout",
          "output_type": "stream",
          "text": [
            "Read data from page: https://en.wikipedia.org/wiki/Amsterdam\n",
            "Read data from page: https://en.wikipedia.org/wiki/Ankara\n",
            "Read data from page: https://en.wikipedia.org/wiki/Athens\n",
            "Read data from page: https://en.wikipedia.org/wiki/Beijing\n",
            "Read data from page: https://en.wikipedia.org/wiki/Canberra\n",
            "Read data from page: https://en.wikipedia.org/wiki/Copenhagen\n",
            "Read data from page: https://en.wikipedia.org/wiki/Dhaka\n",
            "Read data from page: https://en.wikipedia.org/wiki/Dhaka\n",
            "Read data from page: https://en.wikipedia.org/wiki/Dublin\n",
            "Read data from page: https://en.wikipedia.org/wiki/Guatemala_City\n",
            "Read data from page: https://en.wikipedia.org/wiki/Harare\n",
            "Read data from page: https://en.wikipedia.org/wiki/Islamabad\n",
            "Read data from page: https://en.wikipedia.org/wiki/Jakarta\n",
            "Read data from page: https://en.wikipedia.org/wiki/Jerusalem\n",
            "Read data from page: https://en.wikipedia.org/wiki/Khartoum\n",
            "Read data from page: https://en.wikipedia.org/wiki/Kinshasa\n",
            "Read data from page: https://en.wikipedia.org/wiki/Kyiv\n",
            "Read data from page: https://en.wikipedia.org/wiki/Lisbon\n",
            "Read data from page: https://en.wikipedia.org/wiki/London\n",
            "Read data from page: https://en.wikipedia.org/wiki/Madrid\n",
            "Read data from page: https://en.wikipedia.org/wiki/Manila\n",
            "Read data from page: https://en.wikipedia.org/wiki/Mexico_City\n",
            "Read data from page: https://en.wikipedia.org/wiki/Montevideo\n",
            "Read data from page: https://en.wikipedia.org/wiki/Moscow\n",
            "Read data from page: https://en.wikipedia.org/wiki/Nairobi\n",
            "Read data from page: https://en.wikipedia.org/wiki/New_Delhi\n",
            "Read data from page: https://en.wikipedia.org/wiki/Ottawa\n",
            "Read data from page: https://en.wikipedia.org/wiki/Paris\n",
            "Read data from page: https://en.wikipedia.org/wiki/Riyadh\n",
            "Read data from page: https://en.wikipedia.org/wiki/Home\n",
            "Read data from page: https://en.wikipedia.org/wiki/San_Salvador\n",
            "Read data from page: https://en.wikipedia.org/wiki/Soul\n",
            "Read data from page: https://en.wikipedia.org/wiki/Stockholm\n",
            "Read data from page: https://en.wikipedia.org/wiki/Tehran\n",
            "Read data from page: https://en.wikipedia.org/wiki/Tirana\n",
            "Read data from page: https://en.wikipedia.org/wiki/Tokyo\n",
            "Read data from page: https://en.wikipedia.org/wiki/Washington,_D.C.\n",
            "Read data from page: https://en.wikipedia.org/wiki/Wellington\n",
            "Read data from page: https://en.wikipedia.org/wiki/Yerevan\n",
            "Read data from page: https://en.wikipedia.org/wiki/Zagreb\n"
          ]
        }
      ],
      "source": [
        "import pandas as pd\n",
        "\n",
        "# Get the wiki page for the following capitals. \n",
        "capitals = [ 'Amsterdam', 'Ankara', 'Athens', 'Beijing', 'Canberra', 'Copenhagen', 'Dakar', 'Dhaka', 'Dublin',\n",
        "            'Guatemala City', 'Harare', 'Islamabad', 'Jakarta', 'Jerusalem', 'Khartoum', 'Kinshasa', 'Kyiv',\n",
        "            'Lisbon', 'London', 'Madrid', 'Manila', 'Mexico City', 'Montevideo', 'Moscow', 'Nairobi', 'New Delhi',\n",
        "            'Ottawa', 'Paris', 'Riyadh', 'Rome', 'San Salvador', 'Seoul', 'Stockholm', 'Tehran', 'Tirana', \n",
        "            'Tokio', 'Washington D.C.', 'Wellington', 'Yerevan', 'Zagreb']\n",
        "\n",
        "# Store specific information from each page.\n",
        "df = pd.DataFrame(columns=['summary', 'content'])\n",
        "\n",
        "# Iterate in the list of capitals and search for the corresponding wiki page.\n",
        "for capital in capitals:\n",
        "    wikisearch = wikipedia.page(capital)\n",
        "    print(\"Read data from page: \" + wikisearch.url)\n",
        "    # We need to remove the summary from the content.\n",
        "    df = df.append({'summary' : wikisearch.summary.replace(\"\\n\", \" \"), \n",
        "                    'content' : wikisearch.content.replace(wikisearch.summary, \"\").replace(\"\\n\", \" \")}, \n",
        "                    ignore_index=True)"
      ]
    },
    {
      "cell_type": "markdown",
      "metadata": {},
      "source": [
        "Before dealing with the transformer, let's examine the data by creating a method to extract triplets with the subject, verb, and object from the text."
      ]
    },
    {
      "cell_type": "code",
      "execution_count": 4,
      "metadata": {},
      "outputs": [],
      "source": [
        "import spacy\n",
        "import textacy\n",
        "\n",
        "nlp = spacy.load('en_core_web_sm')\n",
        "nlp.add_pipe('sentencizer')\n",
        "\n",
        "# Extract the subject, verb, and object from the text.\n",
        "def extract_SVO(text):\n",
        "    subjects, verbs, objects = [], [], []\n",
        "    doc = nlp(text)\n",
        "\n",
        "    # Get the tuples with the results.\n",
        "    tuples = textacy.extract.subject_verb_object_triples(doc)\n",
        "\n",
        "    # Iterate over all tuples.\n",
        "    for x in tuples:\n",
        "\n",
        "        subjects.append(str(x[0]).replace(\"[\", \"\").replace(\"]\", \"\"))\n",
        "        verbs.append(str(x[1]).replace(\"[\", \"\").replace(\"]\", \"\"))\n",
        "        objects.append(str(x[2]).replace(\"[\", \"\").replace(\"]\", \"\"))\n",
        "\n",
        "    return subjects, verbs, objects"
      ]
    },
    {
      "cell_type": "markdown",
      "metadata": {},
      "source": [
        "Next, we apply the method using _Athens_ as a case study and store the triplets for visualization."
      ]
    },
    {
      "cell_type": "code",
      "execution_count": 5,
      "metadata": {},
      "outputs": [
        {
          "data": {
            "text/html": [
              "<div>\n",
              "<style scoped>\n",
              "    .dataframe tbody tr th:only-of-type {\n",
              "        vertical-align: middle;\n",
              "    }\n",
              "\n",
              "    .dataframe tbody tr th {\n",
              "        vertical-align: top;\n",
              "    }\n",
              "\n",
              "    .dataframe thead th {\n",
              "        text-align: right;\n",
              "    }\n",
              "</style>\n",
              "<table border=\"1\" class=\"dataframe\">\n",
              "  <thead>\n",
              "    <tr style=\"text-align: right;\">\n",
              "      <th></th>\n",
              "      <th>source</th>\n",
              "      <th>edge</th>\n",
              "      <th>target</th>\n",
              "    </tr>\n",
              "  </thead>\n",
              "  <tbody>\n",
              "    <tr>\n",
              "      <th>127</th>\n",
              "      <td>banking, sector</td>\n",
              "      <td>is, represented</td>\n",
              "      <td>National, Bank, Alpha, Bank, Eurobank, Piraeus...</td>\n",
              "    </tr>\n",
              "    <tr>\n",
              "      <th>187</th>\n",
              "      <td>neighbourhoods</td>\n",
              "      <td>include</td>\n",
              "      <td>Kypseli</td>\n",
              "    </tr>\n",
              "    <tr>\n",
              "      <th>24</th>\n",
              "      <td>this</td>\n",
              "      <td>sacked</td>\n",
              "      <td>Persians</td>\n",
              "    </tr>\n",
              "  </tbody>\n",
              "</table>\n",
              "</div>"
            ],
            "text/plain": [
              "              source             edge  \\\n",
              "127  banking, sector  is, represented   \n",
              "187   neighbourhoods          include   \n",
              "24              this           sacked   \n",
              "\n",
              "                                                target  \n",
              "127  National, Bank, Alpha, Bank, Eurobank, Piraeus...  \n",
              "187                                            Kypseli  \n",
              "24                                            Persians  "
            ]
          },
          "execution_count": 5,
          "metadata": {},
          "output_type": "execute_result"
        }
      ],
      "source": [
        "# Obtain the triples for 'Athens'.\n",
        "subjects, verbs, objects = extract_SVO(df['content'][2])\n",
        "\n",
        "# Create the dataframe used for visualization.\n",
        "kg_df = pd.DataFrame({\"source\": subjects, \"edge\": verbs, \"target\": objects})\n",
        "kg_df.sample(3, random_state=123)"
      ]
    },
    {
      "cell_type": "markdown",
      "metadata": {},
      "source": [
        "In the following code, we generate the knowledge graph using only ``15`` relations for clarity."
      ]
    },
    {
      "cell_type": "code",
      "execution_count": 6,
      "metadata": {},
      "outputs": [
        {
          "data": {
            "text/plain": [
              "{('Athens',\n",
              "  'name'): Text(0.35237205318442355, -0.39061864357259923, \"{'edge': 'took'}\"),\n",
              " ('Athens',\n",
              "  'destruction'): Text(0.31644300062629876, 0.3741833992243572, \"{'edge': 'suffered'}\"),\n",
              " ('Athens',\n",
              "  'rebellion'): Text(0.37837608855799204, -0.20900187075524124, \"{'edge': 'helped'}\"),\n",
              " ('Athens',\n",
              "  'Sparta'): Text(-0.2775837389876815, 0.38661933244698643, \"{'edge': 'was, defeated'}\"),\n",
              " ('Athens',\n",
              "  'status'): Text(-0.09794284157821365, -0.429423074669864, \"{'edge': 'was, given'}\"),\n",
              " ('Athens',\n",
              "  'settlement'): Text(-0.41439218596598976, 0.2146025540272936, \"{'edge': 'expanded'}\"),\n",
              " ('Athens',\n",
              "  'Olympic, Games'): Text(0.12099669509981048, 0.4169748417821621, \"{'edge': 'hosted'}\"),\n",
              " ('Athens',\n",
              "  'expansion'): Text(0.47436540636337954, -0.024929444563784067, \"{'edge': 'experienced'}\"),\n",
              " ('Athens',\n",
              "  'Summer, Olympics'): Text(0.43110486670606835, 0.18926299795950569, \"{'edge': 'hosted'}\"),\n",
              " ('Athens',\n",
              "  '89th'): Text(-0.49092685763170685, 0.008505055605424708, \"{'edge': 'ranks'}\"),\n",
              " ('Athens',\n",
              "  'summer, Mediterranean, climate'): Text(-0.293121789690452, -0.420696731021969, \"{'edge': 'has'}\"),\n",
              " ('Athens',\n",
              "  'Organization, record'): Text(-0.07482121187680406, 0.4555113447975064, \"{'edge': 'holds'}\"),\n",
              " ('Athens',\n",
              "  'area, territory'): Text(-0.43024214175176195, -0.22347761512987985, \"{'edge': 'denotes'}\"),\n",
              " ('Athens',\n",
              "  'suburbs, villages'): Text(0.12332350773244813, -0.44672208266934804, \"{'edge': 'has, engulfed'}\")}"
            ]
          },
          "execution_count": 6,
          "metadata": {},
          "output_type": "execute_result"
        },
        {
          "data": {
            "image/png": "[encoded data removed]",
            "text/plain": [
              "<Figure size 720x720 with 1 Axes>"
            ]
          },
          "metadata": {},
          "output_type": "display_data"
        }
      ],
      "source": [
        "import networkx as nx\n",
        "import matplotlib.pyplot as plt\n",
        "%matplotlib inline\n",
        "\n",
        "# Create a directed graph from a dataframe using 15 triples.\n",
        "G = nx.from_pandas_edgelist(kg_df[kg_df['source'] == 'Athens'][0:15], \n",
        "                            \"source\", \"target\", edge_attr=True, \n",
        "                            create_using=nx.MultiDiGraph())\n",
        "\n",
        "# Draw the graph.\n",
        "#pd.set_option('display.max_colwidth', 200)\n",
        "plt.figure(figsize=(10, 10))\n",
        "\n",
        "pos = nx.spring_layout(G)\n",
        "nx.draw(G, with_labels=True, node_color='skyblue', edge_cmap=plt.cm.Blues, font_size=16, edge_color='r', pos=pos)\n",
        "nx.draw_networkx_edge_labels(G, font_size=14, pos=pos)"
      ]
    },
    {
      "cell_type": "markdown",
      "metadata": {},
      "source": [
        "_Athens_ is connected to all the other entities by an edge that represents the relationship between the two nodes."
      ]
    },
    {
      "cell_type": "markdown",
      "metadata": {},
      "source": [
        "### Training the model\n",
        "\n",
        "Our training set consists of pairs of summaries and the full content for each capital city."
      ]
    },
    {
      "cell_type": "code",
      "execution_count": 7,
      "metadata": {},
      "outputs": [
        {
          "data": {
            "text/html": [
              "<div>\n",
              "<style scoped>\n",
              "    .dataframe tbody tr th:only-of-type {\n",
              "        vertical-align: middle;\n",
              "    }\n",
              "\n",
              "    .dataframe tbody tr th {\n",
              "        vertical-align: top;\n",
              "    }\n",
              "\n",
              "    .dataframe thead th {\n",
              "        text-align: right;\n",
              "    }\n",
              "</style>\n",
              "<table border=\"1\" class=\"dataframe\">\n",
              "  <thead>\n",
              "    <tr style=\"text-align: right;\">\n",
              "      <th></th>\n",
              "      <th>sentences</th>\n",
              "    </tr>\n",
              "  </thead>\n",
              "  <tbody>\n",
              "    <tr>\n",
              "      <th>0</th>\n",
              "      <td>Athens ( ATH-inz; Greek: Αθήνα, romanized: Ath...</td>\n",
              "    </tr>\n",
              "    <tr>\n",
              "      <th>1</th>\n",
              "      <td>With a population close to four million, it is...</td>\n",
              "    </tr>\n",
              "    <tr>\n",
              "      <th>2</th>\n",
              "      <td>Athens dominates and is the capital of the Att...</td>\n",
              "    </tr>\n",
              "    <tr>\n",
              "      <th>3</th>\n",
              "      <td>It was a centre for the arts, learning and phi...</td>\n",
              "    </tr>\n",
              "    <tr>\n",
              "      <th>4</th>\n",
              "      <td>It is widely referred to as the cradle of West...</td>\n",
              "    </tr>\n",
              "    <tr>\n",
              "      <th>5</th>\n",
              "      <td>In modern times, Athens is a large cosmopolita...</td>\n",
              "    </tr>\n",
              "    <tr>\n",
              "      <th>6</th>\n",
              "      <td>In 2021, Athens' urban area hosted more than t...</td>\n",
              "    </tr>\n",
              "    <tr>\n",
              "      <th>7</th>\n",
              "      <td>It also has a large financial sector, and its ...</td>\n",
              "    </tr>\n",
              "    <tr>\n",
              "      <th>8</th>\n",
              "      <td>The Athens Urban Area or Greater Athens extend...</td>\n",
              "    </tr>\n",
              "    <tr>\n",
              "      <th>9</th>\n",
              "      <td>Athens is also the southernmost capital on the...</td>\n",
              "    </tr>\n",
              "    <tr>\n",
              "      <th>10</th>\n",
              "      <td>The city also retains Roman, Byzantine  and a ...</td>\n",
              "    </tr>\n",
              "    <tr>\n",
              "      <th>11</th>\n",
              "      <td>Athens is home to two UNESCO World Heritage S...</td>\n",
              "    </tr>\n",
              "    <tr>\n",
              "      <th>12</th>\n",
              "      <td>Landmarks of the modern era, dating back to th...</td>\n",
              "    </tr>\n",
              "    <tr>\n",
              "      <th>13</th>\n",
              "      <td>Athens is also home to several museums and cul...</td>\n",
              "    </tr>\n",
              "    <tr>\n",
              "      <th>14</th>\n",
              "      <td>Athens was the host city of the first modern-d...</td>\n",
              "    </tr>\n",
              "    <tr>\n",
              "      <th>15</th>\n",
              "      <td>Athens joined the UNESCO Global Network of Lea...</td>\n",
              "    </tr>\n",
              "  </tbody>\n",
              "</table>\n",
              "</div>"
            ],
            "text/plain": [
              "                                            sentences\n",
              "0   Athens ( ATH-inz; Greek: Αθήνα, romanized: Ath...\n",
              "1   With a population close to four million, it is...\n",
              "2   Athens dominates and is the capital of the Att...\n",
              "3   It was a centre for the arts, learning and phi...\n",
              "4   It is widely referred to as the cradle of West...\n",
              "5   In modern times, Athens is a large cosmopolita...\n",
              "6   In 2021, Athens' urban area hosted more than t...\n",
              "7   It also has a large financial sector, and its ...\n",
              "8   The Athens Urban Area or Greater Athens extend...\n",
              "9   Athens is also the southernmost capital on the...\n",
              "10  The city also retains Roman, Byzantine  and a ...\n",
              "11   Athens is home to two UNESCO World Heritage S...\n",
              "12  Landmarks of the modern era, dating back to th...\n",
              "13  Athens is also home to several museums and cul...\n",
              "14  Athens was the host city of the first modern-d...\n",
              "15  Athens joined the UNESCO Global Network of Lea..."
            ]
          },
          "execution_count": 7,
          "metadata": {},
          "output_type": "execute_result"
        }
      ],
      "source": [
        "import re\n",
        "\n",
        "# Extract the sentences from one of the summaries.\n",
        "s = re.split('\\. |\\n', df['summary'][2])\n",
        "summary_sentences =  pd.DataFrame(s, columns=['sentences'])\n",
        "summary_sentences"
      ]
    },
    {
      "cell_type": "code",
      "execution_count": 8,
      "metadata": {
        "colab": {},
        "colab_type": "code",
        "id": "__IkQBeLvHkK"
      },
      "outputs": [],
      "source": [
        "# Keep track of each document and its summary.\n",
        "document = df['content']\n",
        "summary = df['summary']"
      ]
    },
    {
      "cell_type": "markdown",
      "metadata": {
        "colab_type": "text",
        "id": "Ou7rtiKHDspz"
      },
      "source": [
        "Add start and end tokens to summary since the target sequence is unknown for the test sequence. "
      ]
    },
    {
      "cell_type": "code",
      "execution_count": 9,
      "metadata": {
        "colab": {
          "base_uri": "https://localhost:8080/",
          "height": 126
        },
        "colab_type": "code",
        "id": "ywxk9JpUvHkN",
        "outputId": "6ddc90d9-cee1-4600-a7ca-16af22de4998"
      },
      "outputs": [
        {
          "data": {
            "text/plain": [
              "0    <go> Amsterdam ( AM-stər-dam, UK also  AM-stər...\n",
              "1    <go> Ankara ( ANG-kə-rə, US also  AHNG-kə-rə; ...\n",
              "2    <go> Athens ( ATH-inz; Greek: Αθήνα, romanized...\n",
              "3    <go> Beijing ( bay-JING; Chinese: 北京; pinyin: ...\n",
              "4    <go> Canberra  ( (listen) KAN-b(ə-)rə) is the ...\n",
              "Name: summary, dtype: object"
            ]
          },
          "execution_count": 9,
          "metadata": {},
          "output_type": "execute_result"
        }
      ],
      "source": [
        "summary = summary.apply(lambda x: '<go> ' + x + ' <stop>')\n",
        "summary.head()\n"
      ]
    },
    {
      "cell_type": "markdown",
      "metadata": {
        "colab_type": "text",
        "id": "wBgD4dMiEGGV"
      },
      "source": [
        "Filter out the punctuation from the summary."
      ]
    },
    {
      "cell_type": "code",
      "execution_count": 10,
      "metadata": {
        "colab": {},
        "colab_type": "code",
        "id": "pYhbxz_OvHkU"
      },
      "outputs": [],
      "source": [
        "filters = '!\"#$%&()*+,-./:;=?@[\\\\]^_`{|}~\\t\\n'\n",
        "oov_token = '<unk>'"
      ]
    },
    {
      "cell_type": "markdown",
      "metadata": {
        "colab_type": "text",
        "id": "6-ni-FuZEYyh"
      },
      "source": [
        "Create different tokenizers for document and summary."
      ]
    },
    {
      "cell_type": "code",
      "execution_count": 11,
      "metadata": {
        "colab": {},
        "colab_type": "code",
        "id": "EbvAfYfLvHkY"
      },
      "outputs": [],
      "source": [
        "import tensorflow as tf\n",
        "\n",
        "document_tokenizer = tf.keras.preprocessing.text.Tokenizer(oov_token=oov_token)\n",
        "summary_tokenizer = tf.keras.preprocessing.text.Tokenizer(filters=filters, oov_token=oov_token)"
      ]
    },
    {
      "cell_type": "markdown",
      "metadata": {
        "colab_type": "text",
        "id": "KJg4EbhLEkxc"
      },
      "source": [
        "Fit text to tokenizer."
      ]
    },
    {
      "cell_type": "code",
      "execution_count": 12,
      "metadata": {
        "colab": {},
        "colab_type": "code",
        "id": "nb0gUGqavHkb"
      },
      "outputs": [],
      "source": [
        "document_tokenizer.fit_on_texts(document)\n",
        "summary_tokenizer.fit_on_texts(summary)"
      ]
    },
    {
      "cell_type": "code",
      "execution_count": 13,
      "metadata": {
        "colab": {},
        "colab_type": "code",
        "id": "Dsxpak9dvHkf"
      },
      "outputs": [],
      "source": [
        "inputs = document_tokenizer.texts_to_sequences(document)\n",
        "targets = summary_tokenizer.texts_to_sequences(summary)"
      ]
    },
    {
      "cell_type": "code",
      "execution_count": 14,
      "metadata": {
        "colab": {
          "base_uri": "https://localhost:8080/",
          "height": 35
        },
        "colab_type": "code",
        "id": "YEJQDtE9vHkp",
        "outputId": "5ca8e242-2de4-4e7f-f6af-a2b2b2e4e30e"
      },
      "outputs": [
        {
          "data": {
            "text/plain": [
              "(30419, 3500)"
            ]
          },
          "execution_count": 14,
          "metadata": {},
          "output_type": "execute_result"
        }
      ],
      "source": [
        "encoder_vocab_size = len(document_tokenizer.word_index) + 1\n",
        "decoder_vocab_size = len(summary_tokenizer.word_index) + 1\n",
        "\n",
        "# vocab_size\n",
        "encoder_vocab_size, decoder_vocab_size"
      ]
    },
    {
      "cell_type": "code",
      "execution_count": 15,
      "metadata": {
        "colab": {},
        "colab_type": "code",
        "id": "y664uBfovHkt"
      },
      "outputs": [],
      "source": [
        "document_lengths = pd.Series([len(x) for x in document])\n",
        "summary_lengths = pd.Series([len(x) for x in summary])"
      ]
    },
    {
      "cell_type": "code",
      "execution_count": 16,
      "metadata": {
        "colab": {},
        "colab_type": "code",
        "id": "Fqa6ym9evHkw"
      },
      "outputs": [],
      "source": [
        "encoder_maxlen = 500\n",
        "decoder_maxlen = 50"
      ]
    },
    {
      "cell_type": "code",
      "execution_count": 17,
      "metadata": {
        "colab": {},
        "colab_type": "code",
        "id": "W1ltH33vvHk0"
      },
      "outputs": [],
      "source": [
        "inputs = tf.keras.preprocessing.sequence.pad_sequences(inputs, maxlen=encoder_maxlen, padding='post', truncating='post')\n",
        "targets = tf.keras.preprocessing.sequence.pad_sequences(targets, maxlen=decoder_maxlen, padding='post', truncating='post')"
      ]
    },
    {
      "cell_type": "code",
      "execution_count": 18,
      "metadata": {
        "colab": {},
        "colab_type": "code",
        "id": "8fFd8TZavHk3"
      },
      "outputs": [],
      "source": [
        "inputs = tf.cast(inputs, dtype=tf.int32)\n",
        "targets = tf.cast(targets, dtype=tf.int32)"
      ]
    },
    {
      "cell_type": "code",
      "execution_count": 19,
      "metadata": {
        "colab": {},
        "colab_type": "code",
        "id": "bYn7vwT1vHk7"
      },
      "outputs": [],
      "source": [
        "# Based on the system capabilities, we can experiment with different values.\n",
        "BUFFER_SIZE = 20000\n",
        "BATCH_SIZE = 8"
      ]
    },
    {
      "cell_type": "code",
      "execution_count": 20,
      "metadata": {
        "colab": {},
        "colab_type": "code",
        "id": "vtwTudiKvHk-"
      },
      "outputs": [],
      "source": [
        "dataset = tf.data.Dataset.from_tensor_slices((inputs, targets)).shuffle(BUFFER_SIZE).batch(BATCH_SIZE)"
      ]
    },
    {
      "cell_type": "code",
      "execution_count": 21,
      "metadata": {
        "colab": {},
        "colab_type": "code",
        "id": "EHEag_7xvHlF"
      },
      "outputs": [],
      "source": [
        "def get_angles(position, i, d_model):\n",
        "    angle_rates = 1 / np.power(10000, (2 * (i // 2)) / np.float32(d_model))\n",
        "    return position * angle_rates"
      ]
    },
    {
      "cell_type": "code",
      "execution_count": 22,
      "metadata": {
        "colab": {},
        "colab_type": "code",
        "id": "4iNlTdlqvHlL"
      },
      "outputs": [],
      "source": [
        "import numpy as np\n",
        "\n",
        "def positional_encoding(position, d_model):\n",
        "    angle_rads = get_angles(\n",
        "        np.arange(position)[:, np.newaxis],\n",
        "        np.arange(d_model)[np.newaxis, :],\n",
        "        d_model\n",
        "    )\n",
        "\n",
        "    # Apply sin to even indices in the array; 2i\n",
        "    angle_rads[:, 0::2] = np.sin(angle_rads[:, 0::2])\n",
        "\n",
        "    # Apply cos to odd indices in the array; 2i+1\n",
        "    angle_rads[:, 1::2] = np.cos(angle_rads[:, 1::2])\n",
        "\n",
        "    pos_encoding = angle_rads[np.newaxis, ...]\n",
        "\n",
        "    return tf.cast(pos_encoding, dtype=tf.float32)"
      ]
    },
    {
      "cell_type": "code",
      "execution_count": 23,
      "metadata": {
        "colab": {},
        "colab_type": "code",
        "id": "qXhMqfh9vHlO"
      },
      "outputs": [],
      "source": [
        "def create_padding_mask(seq):\n",
        "    seq = tf.cast(tf.math.equal(seq, 0), tf.float32)\n",
        "    return seq[:, tf.newaxis, tf.newaxis, :]"
      ]
    },
    {
      "cell_type": "code",
      "execution_count": 24,
      "metadata": {
        "colab": {},
        "colab_type": "code",
        "id": "QQFs492svHlS"
      },
      "outputs": [],
      "source": [
        "def create_look_ahead_mask(size):\n",
        "    mask = 1 - tf.linalg.band_part(tf.ones((size, size)), -1, 0)\n",
        "    return mask"
      ]
    },
    {
      "cell_type": "code",
      "execution_count": 25,
      "metadata": {
        "colab": {},
        "colab_type": "code",
        "id": "CRfeeNh_vHlZ"
      },
      "outputs": [],
      "source": [
        "def scaled_dot_product_attention(q, k, v, mask):\n",
        "    matmul_qk = tf.matmul(q, k, transpose_b=True)\n",
        "\n",
        "    dk = tf.cast(tf.shape(k)[-1], tf.float32)\n",
        "    scaled_attention_logits = matmul_qk / tf.math.sqrt(dk)\n",
        "\n",
        "    if mask is not None:\n",
        "        scaled_attention_logits += (mask * -1e9)  \n",
        "\n",
        "    attention_weights = tf.nn.softmax(scaled_attention_logits, axis=-1)\n",
        "\n",
        "    output = tf.matmul(attention_weights, v)\n",
        "    return output, attention_weights"
      ]
    },
    {
      "cell_type": "code",
      "execution_count": 26,
      "metadata": {
        "colab": {},
        "colab_type": "code",
        "id": "3KWDfS90vHld"
      },
      "outputs": [],
      "source": [
        "class MultiHeadAttention(tf.keras.layers.Layer):\n",
        "    def __init__(self, d_model, num_heads):\n",
        "        super(MultiHeadAttention, self).__init__()\n",
        "        self.num_heads = num_heads\n",
        "        self.d_model = d_model\n",
        "\n",
        "        assert d_model % self.num_heads == 0\n",
        "\n",
        "        self.depth = d_model // self.num_heads\n",
        "\n",
        "        self.wq = tf.keras.layers.Dense(d_model)\n",
        "        self.wk = tf.keras.layers.Dense(d_model)\n",
        "        self.wv = tf.keras.layers.Dense(d_model)\n",
        "\n",
        "        self.dense = tf.keras.layers.Dense(d_model)\n",
        "        \n",
        "    def split_heads(self, x, batch_size):\n",
        "        x = tf.reshape(x, (batch_size, -1, self.num_heads, self.depth))\n",
        "        return tf.transpose(x, perm=[0, 2, 1, 3])\n",
        "    \n",
        "    def call(self, v, k, q, mask):\n",
        "        batch_size = tf.shape(q)[0]\n",
        "\n",
        "        q = self.wq(q)\n",
        "        k = self.wk(k)\n",
        "        v = self.wv(v)\n",
        "\n",
        "        q = self.split_heads(q, batch_size)\n",
        "        k = self.split_heads(k, batch_size)\n",
        "        v = self.split_heads(v, batch_size)\n",
        "\n",
        "        scaled_attention, attention_weights = scaled_dot_product_attention(\n",
        "            q, k, v, mask)\n",
        "\n",
        "        scaled_attention = tf.transpose(scaled_attention, perm=[0, 2, 1, 3])\n",
        "\n",
        "        concat_attention = tf.reshape(scaled_attention, (batch_size, -1, self.d_model))\n",
        "        output = self.dense(concat_attention)\n",
        "            \n",
        "        return output, attention_weights"
      ]
    },
    {
      "cell_type": "code",
      "execution_count": 27,
      "metadata": {
        "colab": {},
        "colab_type": "code",
        "id": "htRz136gvHlh"
      },
      "outputs": [],
      "source": [
        "def point_wise_feed_forward_network(d_model, dff):\n",
        "    return tf.keras.Sequential([\n",
        "        tf.keras.layers.Dense(dff, activation='relu'),\n",
        "        tf.keras.layers.Dense(d_model)\n",
        "    ])"
      ]
    },
    {
      "cell_type": "markdown",
      "metadata": {},
      "source": [
        "Create the encoder layer."
      ]
    },
    {
      "cell_type": "code",
      "execution_count": 28,
      "metadata": {
        "colab": {},
        "colab_type": "code",
        "id": "vjr3EKZ0vHll"
      },
      "outputs": [],
      "source": [
        "class EncoderLayer(tf.keras.layers.Layer):\n",
        "    def __init__(self, d_model, num_heads, dff, rate=0.1):\n",
        "        super(EncoderLayer, self).__init__()\n",
        "\n",
        "        self.mha = MultiHeadAttention(d_model, num_heads)\n",
        "        self.ffn = point_wise_feed_forward_network(d_model, dff)\n",
        "\n",
        "        self.layernorm1 = tf.keras.layers.LayerNormalization(epsilon=1e-6)\n",
        "        self.layernorm2 = tf.keras.layers.LayerNormalization(epsilon=1e-6)\n",
        "\n",
        "        self.dropout1 = tf.keras.layers.Dropout(rate)\n",
        "        self.dropout2 = tf.keras.layers.Dropout(rate)\n",
        "    \n",
        "    def call(self, x, training, mask):\n",
        "        attn_output, _ = self.mha(x, x, x, mask)\n",
        "        attn_output = self.dropout1(attn_output, training=training)\n",
        "        out1 = self.layernorm1(x + attn_output)\n",
        "\n",
        "        ffn_output = self.ffn(out1)\n",
        "        ffn_output = self.dropout2(ffn_output, training=training)\n",
        "        out2 = self.layernorm2(out1 + ffn_output)\n",
        "\n",
        "        return out2"
      ]
    },
    {
      "cell_type": "markdown",
      "metadata": {},
      "source": [
        "Create the decoder layer."
      ]
    },
    {
      "cell_type": "code",
      "execution_count": 29,
      "metadata": {
        "colab": {},
        "colab_type": "code",
        "id": "ZkJ6mkptvHlo"
      },
      "outputs": [],
      "source": [
        "class DecoderLayer(tf.keras.layers.Layer):\n",
        "    def __init__(self, d_model, num_heads, dff, rate=0.1):\n",
        "        super(DecoderLayer, self).__init__()\n",
        "\n",
        "        self.mha1 = MultiHeadAttention(d_model, num_heads)\n",
        "        self.mha2 = MultiHeadAttention(d_model, num_heads)\n",
        "\n",
        "        self.ffn = point_wise_feed_forward_network(d_model, dff)\n",
        "\n",
        "        self.layernorm1 = tf.keras.layers.LayerNormalization(epsilon=1e-6)\n",
        "        self.layernorm2 = tf.keras.layers.LayerNormalization(epsilon=1e-6)\n",
        "        self.layernorm3 = tf.keras.layers.LayerNormalization(epsilon=1e-6)\n",
        "\n",
        "        self.dropout1 = tf.keras.layers.Dropout(rate)\n",
        "        self.dropout2 = tf.keras.layers.Dropout(rate)\n",
        "        self.dropout3 = tf.keras.layers.Dropout(rate)\n",
        "    \n",
        "    \n",
        "    def call(self, x, enc_output, training, look_ahead_mask, padding_mask):\n",
        "        attn1, attn_weights_block1 = self.mha1(x, x, x, look_ahead_mask)\n",
        "        attn1 = self.dropout1(attn1, training=training)\n",
        "        out1 = self.layernorm1(attn1 + x)\n",
        "\n",
        "        attn2, attn_weights_block2 = self.mha2(enc_output, enc_output, out1, padding_mask)\n",
        "        attn2 = self.dropout2(attn2, training=training)\n",
        "        out2 = self.layernorm2(attn2 + out1)\n",
        "\n",
        "        ffn_output = self.ffn(out2)\n",
        "        ffn_output = self.dropout3(ffn_output, training=training)\n",
        "        out3 = self.layernorm3(ffn_output + out2)\n",
        "\n",
        "        return out3, attn_weights_block1, attn_weights_block2"
      ]
    },
    {
      "cell_type": "markdown",
      "metadata": {},
      "source": [
        "Create the class for the encoder."
      ]
    },
    {
      "cell_type": "code",
      "execution_count": 30,
      "metadata": {
        "colab": {},
        "colab_type": "code",
        "id": "H9FlijecvHls"
      },
      "outputs": [],
      "source": [
        "class Encoder(tf.keras.layers.Layer):\n",
        "    def __init__(self, num_layers, d_model, num_heads, dff, input_vocab_size, maximum_position_encoding, rate=0.1):\n",
        "        super(Encoder, self).__init__()\n",
        "\n",
        "        self.d_model = d_model\n",
        "        self.num_layers = num_layers\n",
        "\n",
        "        self.embedding = tf.keras.layers.Embedding(input_vocab_size, d_model)\n",
        "        self.pos_encoding = positional_encoding(maximum_position_encoding, self.d_model)\n",
        "\n",
        "        self.enc_layers = [EncoderLayer(d_model, num_heads, dff, rate) for _ in range(num_layers)]\n",
        "\n",
        "        self.dropout = tf.keras.layers.Dropout(rate)\n",
        "        \n",
        "    def call(self, x, training, mask):\n",
        "        seq_len = tf.shape(x)[1]\n",
        "\n",
        "        x = self.embedding(x)\n",
        "        x *= tf.math.sqrt(tf.cast(self.d_model, tf.float32))\n",
        "        x += self.pos_encoding[:, :seq_len, :]\n",
        "\n",
        "        x = self.dropout(x, training=training)\n",
        "    \n",
        "        for i in range(self.num_layers):\n",
        "            x = self.enc_layers[i](x, training, mask)\n",
        "    \n",
        "        return x"
      ]
    },
    {
      "cell_type": "markdown",
      "metadata": {},
      "source": [
        "Create the class for the decoder."
      ]
    },
    {
      "cell_type": "code",
      "execution_count": 31,
      "metadata": {
        "colab": {},
        "colab_type": "code",
        "id": "SxPufiD0vHlu"
      },
      "outputs": [],
      "source": [
        "class Decoder(tf.keras.layers.Layer):\n",
        "    def __init__(self, num_layers, d_model, num_heads, dff, target_vocab_size, maximum_position_encoding, rate=0.1):\n",
        "        super(Decoder, self).__init__()\n",
        "\n",
        "        self.d_model = d_model\n",
        "        self.num_layers = num_layers\n",
        "\n",
        "        self.embedding = tf.keras.layers.Embedding(target_vocab_size, d_model)\n",
        "        self.pos_encoding = positional_encoding(maximum_position_encoding, d_model)\n",
        "\n",
        "        self.dec_layers = [DecoderLayer(d_model, num_heads, dff, rate) for _ in range(num_layers)]\n",
        "        self.dropout = tf.keras.layers.Dropout(rate)\n",
        "    \n",
        "    def call(self, x, enc_output, training, look_ahead_mask, padding_mask):\n",
        "        seq_len = tf.shape(x)[1]\n",
        "        attention_weights = {}\n",
        "\n",
        "        x = self.embedding(x)\n",
        "        x *= tf.math.sqrt(tf.cast(self.d_model, tf.float32))\n",
        "        x += self.pos_encoding[:, :seq_len, :]\n",
        "\n",
        "        x = self.dropout(x, training=training)\n",
        "\n",
        "        for i in range(self.num_layers):\n",
        "            x, block1, block2 = self.dec_layers[i](x, enc_output, training, look_ahead_mask, padding_mask)\n",
        "\n",
        "            attention_weights['decoder_layer{}_block1'.format(i+1)] = block1\n",
        "            attention_weights['decoder_layer{}_block2'.format(i+1)] = block2\n",
        "    \n",
        "        return x, attention_weights"
      ]
    },
    {
      "cell_type": "markdown",
      "metadata": {},
      "source": [
        "Create the class for the transformer."
      ]
    },
    {
      "cell_type": "code",
      "execution_count": 32,
      "metadata": {
        "colab": {},
        "colab_type": "code",
        "id": "VU2h24VrvHlx"
      },
      "outputs": [],
      "source": [
        "class Transformer(tf.keras.Model):\n",
        "    def __init__(self, num_layers, d_model, num_heads, dff, input_vocab_size, target_vocab_size, pe_input, pe_target, rate=0.1):\n",
        "        super(Transformer, self).__init__()\n",
        "\n",
        "        self.encoder = Encoder(num_layers, d_model, num_heads, dff, input_vocab_size, pe_input, rate)\n",
        "\n",
        "        self.decoder = Decoder(num_layers, d_model, num_heads, dff, target_vocab_size, pe_target, rate)\n",
        "\n",
        "        self.final_layer = tf.keras.layers.Dense(target_vocab_size)\n",
        "    \n",
        "    def call(self, inp, tar, training, enc_padding_mask, look_ahead_mask, dec_padding_mask):\n",
        "        enc_output = self.encoder(inp, training, enc_padding_mask)\n",
        "\n",
        "        dec_output, attention_weights = self.decoder(tar, enc_output, training, look_ahead_mask, dec_padding_mask)\n",
        "\n",
        "        final_output = self.final_layer(dec_output)\n",
        "\n",
        "        return final_output, attention_weights"
      ]
    },
    {
      "cell_type": "markdown",
      "metadata": {},
      "source": [
        "Set the hyperparameter values."
      ]
    },
    {
      "cell_type": "code",
      "execution_count": 33,
      "metadata": {
        "colab": {},
        "colab_type": "code",
        "id": "USScRlf1vHl0"
      },
      "outputs": [],
      "source": [
        "num_layers = 4\n",
        "d_model = 128\n",
        "dff = 512\n",
        "num_heads = 8\n",
        "EPOCHS = 200"
      ]
    },
    {
      "cell_type": "code",
      "execution_count": 34,
      "metadata": {
        "colab": {},
        "colab_type": "code",
        "id": "6zuBEFDevHl3"
      },
      "outputs": [],
      "source": [
        "class CustomSchedule(tf.keras.optimizers.schedules.LearningRateSchedule):\n",
        "    def __init__(self, d_model, warmup_steps=4000):\n",
        "        super(CustomSchedule, self).__init__()\n",
        "\n",
        "        self.d_model = d_model\n",
        "        self.d_model = tf.cast(self.d_model, tf.float32)\n",
        "\n",
        "        self.warmup_steps = warmup_steps\n",
        "    \n",
        "    def __call__(self, step):\n",
        "        arg1 = tf.math.rsqrt(step)\n",
        "        arg2 = step * (self.warmup_steps ** -1.5)\n",
        "\n",
        "        return tf.math.rsqrt(self.d_model) * tf.math.minimum(arg1, arg2)"
      ]
    },
    {
      "cell_type": "markdown",
      "metadata": {},
      "source": [
        "Next, we can create the _learning_rate_ and the _Adam_ optimizer that uses it."
      ]
    },
    {
      "cell_type": "code",
      "execution_count": 35,
      "metadata": {
        "colab": {},
        "colab_type": "code",
        "id": "5MNijHGZvHl6"
      },
      "outputs": [],
      "source": [
        "learning_rate = CustomSchedule(d_model)\n",
        "\n",
        "optimizer = tf.keras.optimizers.Adam(learning_rate, beta_1=0.9, beta_2=0.98, epsilon=1e-9)"
      ]
    },
    {
      "cell_type": "markdown",
      "metadata": {},
      "source": [
        "For calculating loss, we incorporate ``SparseCategoricalCrossentropy`` that computes the cross-entropy loss between the labels and predictions, suitable when the output labels are integer values."
      ]
    },
    {
      "cell_type": "code",
      "execution_count": 36,
      "metadata": {
        "colab": {},
        "colab_type": "code",
        "id": "xxNoFxb0vHl8"
      },
      "outputs": [],
      "source": [
        "loss_object = tf.keras.losses.SparseCategoricalCrossentropy(from_logits=True, reduction='none')"
      ]
    },
    {
      "cell_type": "code",
      "execution_count": 37,
      "metadata": {
        "colab": {},
        "colab_type": "code",
        "id": "eL2h3uoyvHl_"
      },
      "outputs": [],
      "source": [
        "def loss_function(real, pred):\n",
        "    mask = tf.math.logical_not(tf.math.equal(real, 0))\n",
        "    loss_ = loss_object(real, pred)\n",
        "\n",
        "    mask = tf.cast(mask, dtype=loss_.dtype)\n",
        "    loss_ *= mask\n",
        "\n",
        "    return tf.reduce_sum(loss_)/tf.reduce_sum(mask)"
      ]
    },
    {
      "cell_type": "code",
      "execution_count": 38,
      "metadata": {
        "colab": {},
        "colab_type": "code",
        "id": "nbh5pTUxvHmB"
      },
      "outputs": [],
      "source": [
        "train_loss = tf.keras.metrics.Mean(name='train_loss')"
      ]
    },
    {
      "cell_type": "code",
      "execution_count": 39,
      "metadata": {
        "colab": {},
        "colab_type": "code",
        "id": "lizs0hm7vHmE"
      },
      "outputs": [],
      "source": [
        "transformer = Transformer(\n",
        "    num_layers, \n",
        "    d_model, \n",
        "    num_heads, \n",
        "    dff,\n",
        "    encoder_vocab_size, \n",
        "    decoder_vocab_size, \n",
        "    pe_input=encoder_vocab_size, \n",
        "    pe_target=decoder_vocab_size,\n",
        ")"
      ]
    },
    {
      "cell_type": "code",
      "execution_count": 40,
      "metadata": {
        "colab": {},
        "colab_type": "code",
        "id": "MqOeBpJPvHmH"
      },
      "outputs": [],
      "source": [
        "def create_masks(inp, tar):\n",
        "    enc_padding_mask = create_padding_mask(inp)\n",
        "    dec_padding_mask = create_padding_mask(inp)\n",
        "\n",
        "    look_ahead_mask = create_look_ahead_mask(tf.shape(tar)[1])\n",
        "    dec_target_padding_mask = create_padding_mask(tar)\n",
        "    combined_mask = tf.maximum(dec_target_padding_mask, look_ahead_mask)\n",
        "  \n",
        "    return enc_padding_mask, combined_mask, dec_padding_mask"
      ]
    },
    {
      "cell_type": "markdown",
      "metadata": {},
      "source": [
        "The training runs can take several hours or even days to conclude, so we need a way to keep track of the progress and resume the process in case of a failure without the need to start from scratch. \n",
        "\n",
        "A useful feature, in this case, is the ``Checkpoint`` mechanism."
      ]
    },
    {
      "cell_type": "code",
      "execution_count": 41,
      "metadata": {
        "colab": {},
        "colab_type": "code",
        "id": "A3NasQmEvHmK"
      },
      "outputs": [],
      "source": [
        "checkpoint_path = \"checkpoints\"\n",
        "\n",
        "ckpt = tf.train.Checkpoint(transformer=transformer, optimizer=optimizer)\n",
        "\n",
        "ckpt_manager = tf.train.CheckpointManager(ckpt, checkpoint_path, max_to_keep=5)\n",
        "\n",
        "if ckpt_manager.latest_checkpoint:\n",
        "    ckpt.restore(ckpt_manager.latest_checkpoint)\n",
        "    print ('Latest checkpoint restored!!')\n",
        "    "
      ]
    },
    {
      "cell_type": "code",
      "execution_count": 42,
      "metadata": {
        "colab": {},
        "colab_type": "code",
        "id": "hCKS_uQUvHmM"
      },
      "outputs": [],
      "source": [
        "#@tf.function\n",
        "def train_step(inp, tar):\n",
        "    tar_inp = tar[:, :-1]\n",
        "    tar_real = tar[:, 1:]\n",
        "    enc_padding_mask, combined_mask, dec_padding_mask = create_masks(inp, tar_inp)\n",
        "    with tf.GradientTape() as tape:\n",
        "        predictions, _ = transformer(\n",
        "            inp, tar_inp, \n",
        "            True, \n",
        "            enc_padding_mask, \n",
        "            combined_mask, \n",
        "            dec_padding_mask\n",
        "        )\n",
        "         \n",
        "        loss = loss_function(tar_real, predictions)\n",
        "\n",
        "    gradients = tape.gradient(loss, transformer.trainable_variables)    \n",
        "    optimizer.apply_gradients(zip(gradients, transformer.trainable_variables))\n",
        "\n",
        "    train_loss(loss)"
      ]
    },
    {
      "cell_type": "code",
      "execution_count": 43,
      "metadata": {
        "colab": {
          "base_uri": "https://localhost:8080/",
          "height": 1000
        },
        "colab_type": "code",
        "id": "bqM4TzGHvHmP",
        "outputId": "f1f18705-9d5b-420a-a89a-19d5b25393ce"
      },
      "outputs": [
        {
          "name": "stdout",
          "output_type": "stream",
          "text": [
            "Epoch 1 Loss 8.1599\n",
            "Time taken for 1 epoch: 3.6703853607177734 secs\n",
            "\n",
            "Epoch 2 Loss 8.1588\n",
            "Time taken for 1 epoch: 2.026690721511841 secs\n",
            "\n",
            "Epoch 3 Loss 8.1438\n",
            "Time taken for 1 epoch: 1.9850139617919922 secs\n",
            "\n",
            "Epoch 4 Loss 8.1252\n",
            "Time taken for 1 epoch: 1.9886560440063477 secs\n",
            "\n",
            "Epoch 5 Loss 8.1063\n",
            "Time taken for 1 epoch: 2.066765308380127 secs\n",
            "\n",
            "Epoch 6 Loss 8.0734\n",
            "Time taken for 1 epoch: 2.085481643676758 secs\n",
            "\n",
            "Epoch 7 Loss 8.0463\n",
            "Time taken for 1 epoch: 2.0824904441833496 secs\n",
            "\n",
            "Epoch 8 Loss 8.0144\n",
            "Time taken for 1 epoch: 2.096574544906616 secs\n",
            "\n",
            "Epoch 9 Loss 7.9819\n",
            "Time taken for 1 epoch: 2.031087636947632 secs\n",
            "\n",
            "Epoch 10 Loss 7.9493\n",
            "Time taken for 1 epoch: 2.141810178756714 secs\n",
            "\n",
            "Epoch 11 Loss 7.9194\n",
            "Time taken for 1 epoch: 2.175393581390381 secs\n",
            "\n",
            "Epoch 12 Loss 7.8900\n",
            "Time taken for 1 epoch: 2.388427495956421 secs\n",
            "\n",
            "Epoch 13 Loss 7.8577\n",
            "Time taken for 1 epoch: 2.670711040496826 secs\n",
            "\n",
            "Epoch 14 Loss 7.8276\n",
            "Time taken for 1 epoch: 2.6833577156066895 secs\n",
            "\n",
            "Epoch 15 Loss 7.8014\n",
            "Time taken for 1 epoch: 2.9618096351623535 secs\n",
            "\n",
            "Epoch 16 Loss 7.7762\n",
            "Time taken for 1 epoch: 2.800093412399292 secs\n",
            "\n",
            "Epoch 17 Loss 7.7462\n",
            "Time taken for 1 epoch: 2.7663733959198 secs\n",
            "\n",
            "Epoch 18 Loss 7.7267\n",
            "Time taken for 1 epoch: 2.833292007446289 secs\n",
            "\n",
            "Epoch 19 Loss 7.6942\n",
            "Time taken for 1 epoch: 2.7415242195129395 secs\n",
            "\n",
            "Epoch 20 Loss 7.6673\n",
            "Time taken for 1 epoch: 2.7557761669158936 secs\n",
            "\n",
            "Epoch 21 Loss 7.6406\n",
            "Time taken for 1 epoch: 2.717484474182129 secs\n",
            "\n",
            "Epoch 22 Loss 7.6115\n",
            "Time taken for 1 epoch: 2.9360389709472656 secs\n",
            "\n",
            "Epoch 23 Loss 7.5863\n",
            "Time taken for 1 epoch: 2.950791358947754 secs\n",
            "\n",
            "Epoch 24 Loss 7.5552\n",
            "Time taken for 1 epoch: 2.778040647506714 secs\n",
            "\n",
            "Epoch 25 Loss 7.5281\n",
            "Time taken for 1 epoch: 2.911735773086548 secs\n",
            "\n",
            "Epoch 26 Loss 7.4910\n",
            "Time taken for 1 epoch: 2.7705867290496826 secs\n",
            "\n",
            "Epoch 27 Loss 7.4598\n",
            "Time taken for 1 epoch: 3.212209463119507 secs\n",
            "\n",
            "Epoch 28 Loss 7.4242\n",
            "Time taken for 1 epoch: 2.968167304992676 secs\n",
            "\n",
            "Epoch 29 Loss 7.3930\n",
            "Time taken for 1 epoch: 2.9874515533447266 secs\n",
            "\n",
            "Epoch 30 Loss 7.3500\n",
            "Time taken for 1 epoch: 2.8876240253448486 secs\n",
            "\n",
            "Epoch 31 Loss 7.3143\n",
            "Time taken for 1 epoch: 3.015552520751953 secs\n",
            "\n",
            "Epoch 32 Loss 7.2729\n",
            "Time taken for 1 epoch: 3.0676381587982178 secs\n",
            "\n",
            "Epoch 33 Loss 7.2322\n",
            "Time taken for 1 epoch: 3.0289688110351562 secs\n",
            "\n",
            "Epoch 34 Loss 7.1905\n",
            "Time taken for 1 epoch: 3.0197927951812744 secs\n",
            "\n",
            "Epoch 35 Loss 7.1432\n",
            "Time taken for 1 epoch: 2.8688714504241943 secs\n",
            "\n",
            "Epoch 36 Loss 7.1035\n",
            "Time taken for 1 epoch: 3.1287477016448975 secs\n",
            "\n",
            "Epoch 37 Loss 7.0590\n",
            "Time taken for 1 epoch: 2.8976283073425293 secs\n",
            "\n",
            "Epoch 38 Loss 7.0099\n",
            "Time taken for 1 epoch: 3.028367280960083 secs\n",
            "\n",
            "Epoch 39 Loss 6.9652\n",
            "Time taken for 1 epoch: 3.355938196182251 secs\n",
            "\n",
            "Epoch 40 Loss 6.9160\n",
            "Time taken for 1 epoch: 3.7760491371154785 secs\n",
            "\n",
            "Epoch 41 Loss 6.8663\n",
            "Time taken for 1 epoch: 3.6406354904174805 secs\n",
            "\n",
            "Epoch 42 Loss 6.8190\n",
            "Time taken for 1 epoch: 2.9434330463409424 secs\n",
            "\n",
            "Epoch 43 Loss 6.7665\n",
            "Time taken for 1 epoch: 3.001230001449585 secs\n",
            "\n",
            "Epoch 44 Loss 6.7179\n",
            "Time taken for 1 epoch: 2.8879382610321045 secs\n",
            "\n",
            "Epoch 45 Loss 6.6647\n",
            "Time taken for 1 epoch: 2.890530824661255 secs\n",
            "\n",
            "Epoch 46 Loss 6.6121\n",
            "Time taken for 1 epoch: 3.009079933166504 secs\n",
            "\n",
            "Epoch 47 Loss 6.5605\n",
            "Time taken for 1 epoch: 3.0048506259918213 secs\n",
            "\n",
            "Epoch 48 Loss 6.5087\n",
            "Time taken for 1 epoch: 3.2283966541290283 secs\n",
            "\n",
            "Epoch 49 Loss 6.4571\n",
            "Time taken for 1 epoch: 2.9801623821258545 secs\n",
            "\n",
            "Epoch 50 Loss 6.4048\n",
            "Time taken for 1 epoch: 3.0755155086517334 secs\n",
            "\n",
            "Epoch 51 Loss 6.3515\n",
            "Time taken for 1 epoch: 3.0250158309936523 secs\n",
            "\n",
            "Epoch 52 Loss 6.2995\n",
            "Time taken for 1 epoch: 3.1324965953826904 secs\n",
            "\n",
            "Epoch 53 Loss 6.2474\n",
            "Time taken for 1 epoch: 2.9524497985839844 secs\n",
            "\n",
            "Epoch 54 Loss 6.1974\n",
            "Time taken for 1 epoch: 2.8613104820251465 secs\n",
            "\n",
            "Epoch 55 Loss 6.1416\n",
            "Time taken for 1 epoch: 3.0876529216766357 secs\n",
            "\n",
            "Epoch 56 Loss 6.0897\n",
            "Time taken for 1 epoch: 3.04729962348938 secs\n",
            "\n",
            "Epoch 57 Loss 6.0354\n",
            "Time taken for 1 epoch: 3.1889522075653076 secs\n",
            "\n",
            "Epoch 58 Loss 5.9827\n",
            "Time taken for 1 epoch: 3.048685073852539 secs\n",
            "\n",
            "Epoch 59 Loss 5.9278\n",
            "Time taken for 1 epoch: 3.107792615890503 secs\n",
            "\n",
            "Epoch 60 Loss 5.8782\n",
            "Time taken for 1 epoch: 3.379364252090454 secs\n",
            "\n",
            "Epoch 61 Loss 5.8282\n",
            "Time taken for 1 epoch: 3.121265172958374 secs\n",
            "\n",
            "Epoch 62 Loss 5.7762\n",
            "Time taken for 1 epoch: 3.1241414546966553 secs\n",
            "\n",
            "Epoch 63 Loss 5.7241\n",
            "Time taken for 1 epoch: 3.1591267585754395 secs\n",
            "\n",
            "Epoch 64 Loss 5.6738\n",
            "Time taken for 1 epoch: 2.911695957183838 secs\n",
            "\n",
            "Epoch 65 Loss 5.6230\n",
            "Time taken for 1 epoch: 2.957355260848999 secs\n",
            "\n",
            "Epoch 66 Loss 5.5826\n",
            "Time taken for 1 epoch: 2.970301628112793 secs\n",
            "\n",
            "Epoch 67 Loss 5.5336\n",
            "Time taken for 1 epoch: 3.8077707290649414 secs\n",
            "\n",
            "Epoch 68 Loss 5.4879\n",
            "Time taken for 1 epoch: 3.473443031311035 secs\n",
            "\n",
            "Epoch 69 Loss 5.4443\n",
            "Time taken for 1 epoch: 3.163191795349121 secs\n",
            "\n",
            "Epoch 70 Loss 5.3965\n",
            "Time taken for 1 epoch: 2.9884862899780273 secs\n",
            "\n",
            "Epoch 71 Loss 5.3532\n",
            "Time taken for 1 epoch: 2.944603204727173 secs\n",
            "\n",
            "Epoch 72 Loss 5.3110\n",
            "Time taken for 1 epoch: 3.1702754497528076 secs\n",
            "\n",
            "Epoch 73 Loss 5.2622\n",
            "Time taken for 1 epoch: 3.116227626800537 secs\n",
            "\n",
            "Epoch 74 Loss 5.2186\n",
            "Time taken for 1 epoch: 3.07800030708313 secs\n",
            "\n",
            "Epoch 75 Loss 5.1835\n",
            "Time taken for 1 epoch: 3.409550189971924 secs\n",
            "\n",
            "Epoch 76 Loss 5.1380\n",
            "Time taken for 1 epoch: 3.716853618621826 secs\n",
            "\n",
            "Epoch 77 Loss 5.0944\n",
            "Time taken for 1 epoch: 3.7491281032562256 secs\n",
            "\n",
            "Epoch 78 Loss 5.0559\n",
            "Time taken for 1 epoch: 6.284638404846191 secs\n",
            "\n",
            "Epoch 79 Loss 5.0126\n",
            "Time taken for 1 epoch: 4.223935842514038 secs\n",
            "\n",
            "Epoch 80 Loss 4.9739\n",
            "Time taken for 1 epoch: 3.2680907249450684 secs\n",
            "\n",
            "Epoch 81 Loss 4.9336\n",
            "Time taken for 1 epoch: 3.0785634517669678 secs\n",
            "\n",
            "Epoch 82 Loss 4.8881\n",
            "Time taken for 1 epoch: 3.248709201812744 secs\n",
            "\n",
            "Epoch 83 Loss 4.8430\n",
            "Time taken for 1 epoch: 3.23642635345459 secs\n",
            "\n",
            "Epoch 84 Loss 4.8027\n",
            "Time taken for 1 epoch: 3.166435956954956 secs\n",
            "\n",
            "Epoch 85 Loss 4.7637\n",
            "Time taken for 1 epoch: 4.670041084289551 secs\n",
            "\n",
            "Epoch 86 Loss 4.7135\n",
            "Time taken for 1 epoch: 5.4250524044036865 secs\n",
            "\n",
            "Epoch 87 Loss 4.6733\n",
            "Time taken for 1 epoch: 5.188148021697998 secs\n",
            "\n",
            "Epoch 88 Loss 4.6356\n",
            "Time taken for 1 epoch: 3.899090051651001 secs\n",
            "\n",
            "Epoch 89 Loss 4.5902\n",
            "Time taken for 1 epoch: 3.766251564025879 secs\n",
            "\n",
            "Epoch 90 Loss 4.5481\n",
            "Time taken for 1 epoch: 2.9725592136383057 secs\n",
            "\n",
            "Epoch 91 Loss 4.4947\n",
            "Time taken for 1 epoch: 2.8608107566833496 secs\n",
            "\n",
            "Epoch 92 Loss 4.4465\n",
            "Time taken for 1 epoch: 2.976485252380371 secs\n",
            "\n",
            "Epoch 93 Loss 4.4144\n",
            "Time taken for 1 epoch: 3.0245535373687744 secs\n",
            "\n",
            "Epoch 94 Loss 4.3701\n",
            "Time taken for 1 epoch: 2.913780689239502 secs\n",
            "\n",
            "Epoch 95 Loss 4.3294\n",
            "Time taken for 1 epoch: 2.927901029586792 secs\n",
            "\n",
            "Epoch 96 Loss 4.2838\n",
            "Time taken for 1 epoch: 2.9383411407470703 secs\n",
            "\n",
            "Epoch 97 Loss 4.2365\n",
            "Time taken for 1 epoch: 2.959059953689575 secs\n",
            "\n",
            "Epoch 98 Loss 4.1920\n",
            "Time taken for 1 epoch: 2.99092960357666 secs\n",
            "\n",
            "Epoch 99 Loss 4.1453\n",
            "Time taken for 1 epoch: 2.9743871688842773 secs\n",
            "\n",
            "Epoch 100 Loss 4.1008\n",
            "Time taken for 1 epoch: 3.005622386932373 secs\n",
            "\n",
            "Epoch 101 Loss 4.0582\n",
            "Time taken for 1 epoch: 3.012347459793091 secs\n",
            "\n",
            "Epoch 102 Loss 4.0099\n",
            "Time taken for 1 epoch: 3.160860538482666 secs\n",
            "\n",
            "Epoch 103 Loss 3.9746\n",
            "Time taken for 1 epoch: 3.125162363052368 secs\n",
            "\n",
            "Epoch 104 Loss 3.9237\n",
            "Time taken for 1 epoch: 2.949615478515625 secs\n",
            "\n",
            "Epoch 105 Loss 3.8813\n",
            "Time taken for 1 epoch: 3.111987829208374 secs\n",
            "\n",
            "Epoch 106 Loss 3.8449\n",
            "Time taken for 1 epoch: 2.9492104053497314 secs\n",
            "\n",
            "Epoch 107 Loss 3.7908\n",
            "Time taken for 1 epoch: 3.0728254318237305 secs\n",
            "\n",
            "Epoch 108 Loss 3.7453\n",
            "Time taken for 1 epoch: 3.074437379837036 secs\n",
            "\n",
            "Epoch 109 Loss 3.7141\n",
            "Time taken for 1 epoch: 3.154186964035034 secs\n",
            "\n",
            "Epoch 110 Loss 3.6678\n",
            "Time taken for 1 epoch: 3.9528770446777344 secs\n",
            "\n",
            "Epoch 111 Loss 3.6192\n",
            "Time taken for 1 epoch: 4.0943989753723145 secs\n",
            "\n",
            "Epoch 112 Loss 3.5811\n",
            "Time taken for 1 epoch: 3.10552978515625 secs\n",
            "\n",
            "Epoch 113 Loss 3.5339\n",
            "Time taken for 1 epoch: 3.152378797531128 secs\n",
            "\n",
            "Epoch 114 Loss 3.5042\n",
            "Time taken for 1 epoch: 3.1818392276763916 secs\n",
            "\n",
            "Epoch 115 Loss 3.4668\n",
            "Time taken for 1 epoch: 2.9647929668426514 secs\n",
            "\n",
            "Epoch 116 Loss 3.4186\n",
            "Time taken for 1 epoch: 2.975010633468628 secs\n",
            "\n",
            "Epoch 117 Loss 3.3835\n",
            "Time taken for 1 epoch: 3.023160934448242 secs\n",
            "\n",
            "Epoch 118 Loss 3.3361\n",
            "Time taken for 1 epoch: 3.0875191688537598 secs\n",
            "\n",
            "Epoch 119 Loss 3.3006\n",
            "Time taken for 1 epoch: 3.5719451904296875 secs\n",
            "\n",
            "Epoch 120 Loss 3.2586\n",
            "Time taken for 1 epoch: 3.5442287921905518 secs\n",
            "\n",
            "Epoch 121 Loss 3.2183\n",
            "Time taken for 1 epoch: 2.985568046569824 secs\n",
            "\n",
            "Epoch 122 Loss 3.1649\n",
            "Time taken for 1 epoch: 3.383985757827759 secs\n",
            "\n",
            "Epoch 123 Loss 3.1460\n",
            "Time taken for 1 epoch: 4.937990427017212 secs\n",
            "\n",
            "Epoch 124 Loss 3.1037\n",
            "Time taken for 1 epoch: 7.482240915298462 secs\n",
            "\n",
            "Epoch 125 Loss 3.0620\n",
            "Time taken for 1 epoch: 4.48526406288147 secs\n",
            "\n",
            "Epoch 126 Loss 3.0166\n",
            "Time taken for 1 epoch: 3.548555850982666 secs\n",
            "\n",
            "Epoch 127 Loss 2.9868\n",
            "Time taken for 1 epoch: 4.034088373184204 secs\n",
            "\n",
            "Epoch 128 Loss 2.9397\n",
            "Time taken for 1 epoch: 3.563673496246338 secs\n",
            "\n",
            "Epoch 129 Loss 2.9053\n",
            "Time taken for 1 epoch: 3.6812989711761475 secs\n",
            "\n",
            "Epoch 130 Loss 2.8669\n",
            "Time taken for 1 epoch: 3.4098894596099854 secs\n",
            "\n",
            "Epoch 131 Loss 2.8188\n",
            "Time taken for 1 epoch: 3.7226526737213135 secs\n",
            "\n",
            "Epoch 132 Loss 2.7887\n",
            "Time taken for 1 epoch: 3.595116138458252 secs\n",
            "\n",
            "Epoch 133 Loss 2.7543\n",
            "Time taken for 1 epoch: 4.0278050899505615 secs\n",
            "\n",
            "Epoch 134 Loss 2.7136\n",
            "Time taken for 1 epoch: 3.5630581378936768 secs\n",
            "\n",
            "Epoch 135 Loss 2.6682\n",
            "Time taken for 1 epoch: 3.7424333095550537 secs\n",
            "\n",
            "Epoch 136 Loss 2.6330\n",
            "Time taken for 1 epoch: 3.678529739379883 secs\n",
            "\n",
            "Epoch 137 Loss 2.5861\n",
            "Time taken for 1 epoch: 3.512666940689087 secs\n",
            "\n",
            "Epoch 138 Loss 2.5522\n",
            "Time taken for 1 epoch: 3.4622154235839844 secs\n",
            "\n",
            "Epoch 139 Loss 2.5148\n",
            "Time taken for 1 epoch: 3.6292858123779297 secs\n",
            "\n",
            "Epoch 140 Loss 2.4844\n",
            "Time taken for 1 epoch: 3.259401321411133 secs\n",
            "\n",
            "Epoch 141 Loss 2.4433\n",
            "Time taken for 1 epoch: 3.2503576278686523 secs\n",
            "\n",
            "Epoch 142 Loss 2.4029\n",
            "Time taken for 1 epoch: 3.5574049949645996 secs\n",
            "\n",
            "Epoch 143 Loss 2.3584\n",
            "Time taken for 1 epoch: 3.8264949321746826 secs\n",
            "\n",
            "Epoch 144 Loss 2.3188\n",
            "Time taken for 1 epoch: 3.2974023818969727 secs\n",
            "\n",
            "Epoch 145 Loss 2.2936\n",
            "Time taken for 1 epoch: 4.052517414093018 secs\n",
            "\n",
            "Epoch 146 Loss 2.2448\n",
            "Time taken for 1 epoch: 3.9872748851776123 secs\n",
            "\n",
            "Epoch 147 Loss 2.2157\n",
            "Time taken for 1 epoch: 4.293152570724487 secs\n",
            "\n",
            "Epoch 148 Loss 2.1836\n",
            "Time taken for 1 epoch: 4.427799224853516 secs\n",
            "\n",
            "Epoch 149 Loss 2.1361\n",
            "Time taken for 1 epoch: 4.390315532684326 secs\n",
            "\n",
            "Epoch 150 Loss 2.1108\n",
            "Time taken for 1 epoch: 5.251981973648071 secs\n",
            "\n",
            "Epoch 151 Loss 2.0689\n",
            "Time taken for 1 epoch: 3.6223063468933105 secs\n",
            "\n",
            "Epoch 152 Loss 2.0386\n",
            "Time taken for 1 epoch: 4.146338224411011 secs\n",
            "\n",
            "Epoch 153 Loss 2.0025\n",
            "Time taken for 1 epoch: 3.5647661685943604 secs\n",
            "\n",
            "Epoch 154 Loss 1.9666\n",
            "Time taken for 1 epoch: 4.082171440124512 secs\n",
            "\n",
            "Epoch 155 Loss 1.9265\n",
            "Time taken for 1 epoch: 5.539244174957275 secs\n",
            "\n",
            "Epoch 156 Loss 1.8894\n",
            "Time taken for 1 epoch: 6.619638442993164 secs\n",
            "\n",
            "Epoch 157 Loss 1.8604\n",
            "Time taken for 1 epoch: 5.004100799560547 secs\n",
            "\n",
            "Epoch 158 Loss 1.8172\n",
            "Time taken for 1 epoch: 3.625779628753662 secs\n",
            "\n",
            "Epoch 159 Loss 1.7884\n",
            "Time taken for 1 epoch: 4.1860363483428955 secs\n",
            "\n",
            "Epoch 160 Loss 1.7515\n",
            "Time taken for 1 epoch: 4.095953464508057 secs\n",
            "\n",
            "Epoch 161 Loss 1.7203\n",
            "Time taken for 1 epoch: 6.331633567810059 secs\n",
            "\n",
            "Epoch 162 Loss 1.6739\n",
            "Time taken for 1 epoch: 4.370323896408081 secs\n",
            "\n",
            "Epoch 163 Loss 1.6412\n",
            "Time taken for 1 epoch: 3.1805336475372314 secs\n",
            "\n",
            "Epoch 164 Loss 1.6092\n",
            "Time taken for 1 epoch: 5.991272211074829 secs\n",
            "\n",
            "Epoch 165 Loss 1.5809\n",
            "Time taken for 1 epoch: 3.9662623405456543 secs\n",
            "\n",
            "Epoch 166 Loss 1.5433\n",
            "Time taken for 1 epoch: 8.982580661773682 secs\n",
            "\n",
            "Epoch 167 Loss 1.5193\n",
            "Time taken for 1 epoch: 10.214709520339966 secs\n",
            "\n",
            "Epoch 168 Loss 1.4877\n",
            "Time taken for 1 epoch: 5.001542091369629 secs\n",
            "\n",
            "Epoch 169 Loss 1.4602\n",
            "Time taken for 1 epoch: 3.7080600261688232 secs\n",
            "\n",
            "Epoch 170 Loss 1.4197\n",
            "Time taken for 1 epoch: 7.774496078491211 secs\n",
            "\n",
            "Epoch 171 Loss 1.3856\n",
            "Time taken for 1 epoch: 7.881377458572388 secs\n",
            "\n",
            "Epoch 172 Loss 1.3535\n",
            "Time taken for 1 epoch: 7.184162139892578 secs\n",
            "\n",
            "Epoch 173 Loss 1.3059\n",
            "Time taken for 1 epoch: 7.819982528686523 secs\n",
            "\n",
            "Epoch 174 Loss 1.2818\n",
            "Time taken for 1 epoch: 3.6313881874084473 secs\n",
            "\n",
            "Epoch 175 Loss 1.2540\n",
            "Time taken for 1 epoch: 3.4386348724365234 secs\n",
            "\n",
            "Epoch 176 Loss 1.2183\n",
            "Time taken for 1 epoch: 2.95322322845459 secs\n",
            "\n",
            "Epoch 177 Loss 1.1859\n",
            "Time taken for 1 epoch: 3.15822434425354 secs\n",
            "\n",
            "Epoch 178 Loss 1.1532\n",
            "Time taken for 1 epoch: 3.188692569732666 secs\n",
            "\n",
            "Epoch 179 Loss 1.1351\n",
            "Time taken for 1 epoch: 3.6206367015838623 secs\n",
            "\n",
            "Epoch 180 Loss 1.1151\n",
            "Time taken for 1 epoch: 4.886307716369629 secs\n",
            "\n",
            "Epoch 181 Loss 1.0783\n",
            "Time taken for 1 epoch: 4.614988327026367 secs\n",
            "\n",
            "Epoch 182 Loss 1.0533\n",
            "Time taken for 1 epoch: 5.054468870162964 secs\n",
            "\n",
            "Epoch 183 Loss 1.0287\n",
            "Time taken for 1 epoch: 3.57633113861084 secs\n",
            "\n",
            "Epoch 184 Loss 1.0018\n",
            "Time taken for 1 epoch: 4.4633095264434814 secs\n",
            "\n",
            "Epoch 185 Loss 0.9611\n",
            "Time taken for 1 epoch: 3.8988993167877197 secs\n",
            "\n",
            "Epoch 186 Loss 0.9376\n",
            "Time taken for 1 epoch: 3.407050132751465 secs\n",
            "\n",
            "Epoch 187 Loss 0.8972\n",
            "Time taken for 1 epoch: 3.652123212814331 secs\n",
            "\n",
            "Epoch 188 Loss 0.8750\n",
            "Time taken for 1 epoch: 4.691142797470093 secs\n",
            "\n",
            "Epoch 189 Loss 0.8490\n",
            "Time taken for 1 epoch: 3.5118889808654785 secs\n",
            "\n",
            "Epoch 190 Loss 0.8250\n",
            "Time taken for 1 epoch: 3.8274662494659424 secs\n",
            "\n",
            "Epoch 191 Loss 0.7984\n",
            "Time taken for 1 epoch: 4.005793571472168 secs\n",
            "\n",
            "Epoch 192 Loss 0.7732\n",
            "Time taken for 1 epoch: 3.661698341369629 secs\n",
            "\n",
            "Epoch 193 Loss 0.7472\n",
            "Time taken for 1 epoch: 3.648833990097046 secs\n",
            "\n",
            "Epoch 194 Loss 0.7187\n",
            "Time taken for 1 epoch: 5.503887414932251 secs\n",
            "\n",
            "Epoch 195 Loss 0.7058\n",
            "Time taken for 1 epoch: 3.9611148834228516 secs\n",
            "\n",
            "Epoch 196 Loss 0.6877\n",
            "Time taken for 1 epoch: 3.404284954071045 secs\n",
            "\n",
            "Epoch 197 Loss 0.6717\n",
            "Time taken for 1 epoch: 3.3542845249176025 secs\n",
            "\n",
            "Epoch 198 Loss 0.6433\n",
            "Time taken for 1 epoch: 3.323922872543335 secs\n",
            "\n",
            "Epoch 199 Loss 0.6232\n",
            "Time taken for 1 epoch: 3.3854522705078125 secs\n",
            "\n",
            "Epoch 200 Loss 0.6014\n",
            "Time taken for 1 epoch: 3.3117096424102783 secs\n",
            "\n"
          ]
        }
      ],
      "source": [
        "import time\n",
        "\n",
        "for epoch in range(EPOCHS):\n",
        "    start = time.time()\n",
        "\n",
        "    train_loss.reset_states()\n",
        "  \n",
        "    for (batch, (inp, tar)) in enumerate(dataset):\n",
        "        train_step(inp, tar)\n",
        "    \n",
        "        # Uncomment the following lines to show more training results.  \n",
        "        # if batch % 429 == 0:\n",
        "        # print ('Epoch {} Batch {} Loss {:.4f}'.format(epoch + 1, batch, train_loss.result()))\n",
        "\n",
        "    # Uncomment the following lines to save the checkpoints.  \n",
        "    # if (epoch + 1) % 5 == 0:\n",
        "    #     ckpt_save_path = ckpt_manager.save()\n",
        "    #     print ('Saving checkpoint for epoch {} at {}'.format(epoch+1, ckpt_save_path))\n",
        "    \n",
        "    print ('Epoch {} Loss {:.4f}'.format(epoch + 1, train_loss.result()))\n",
        "\n",
        "    print ('Time taken for 1 epoch: {} secs\\n'.format(time.time() - start))"
      ]
    },
    {
      "cell_type": "markdown",
      "metadata": {},
      "source": [
        "Use the model for inference."
      ]
    },
    {
      "cell_type": "code",
      "execution_count": 44,
      "metadata": {
        "colab": {},
        "colab_type": "code",
        "id": "As5wM_LCvHmT"
      },
      "outputs": [],
      "source": [
        "def evaluate(input_document):\n",
        "    input_document = document_tokenizer.texts_to_sequences([input_document])\n",
        "    input_document = tf.keras.preprocessing.sequence.pad_sequences(input_document, maxlen=encoder_maxlen, padding='post', truncating='post')\n",
        "\n",
        "    encoder_input = tf.expand_dims(input_document[0], 0)\n",
        "\n",
        "    decoder_input = [summary_tokenizer.word_index[\"<go>\"]]\n",
        "    output = tf.expand_dims(decoder_input, 0)\n",
        "    \n",
        "    for i in range(decoder_maxlen):\n",
        "        enc_padding_mask, combined_mask, dec_padding_mask = create_masks(encoder_input, output)\n",
        "\n",
        "        predictions, attention_weights = transformer(\n",
        "            encoder_input, \n",
        "            output,\n",
        "            False,\n",
        "            enc_padding_mask,\n",
        "            combined_mask,\n",
        "            dec_padding_mask\n",
        "        )\n",
        "\n",
        "        predictions = predictions[: ,-1:, :]\n",
        "        predicted_id = tf.cast(tf.argmax(predictions, axis=-1), tf.int32)\n",
        "\n",
        "        if predicted_id == summary_tokenizer.word_index[\"<stop>\"]:\n",
        "            return tf.squeeze(output, axis=0), attention_weights\n",
        "\n",
        "        output = tf.concat([output, predicted_id], axis=-1)\n",
        "\n",
        "    return tf.squeeze(output, axis=0), attention_weights"
      ]
    },
    {
      "cell_type": "markdown",
      "metadata": {},
      "source": [
        "## Summarization performance\n",
        "\n",
        "The `Recall-Oriented Understudy for Gisting Evaluation` (ROUGE) score is the subject of the current section, and although its name sounds complicated, it's incredibly easy to understand and implement. It works by comparing an automatically produced summary against a human reference summary using n-grams. "
      ]
    },
    {
      "cell_type": "code",
      "execution_count": 45,
      "metadata": {
        "colab": {},
        "colab_type": "code",
        "id": "NmoEiEE2vHmX"
      },
      "outputs": [],
      "source": [
        "# Summarize an input document.\n",
        "def summarize(input_document):\n",
        "\n",
        "    summarized = evaluate(input_document=input_document)[0].numpy()\n",
        "    # Exclude <go> token.\n",
        "    summarized = np.expand_dims(summarized[1:], 0)\n",
        "\n",
        "    return summary_tokenizer.sequences_to_texts(summarized)[0]"
      ]
    },
    {
      "cell_type": "markdown",
      "metadata": {},
      "source": [
        "Next, we call the method for one sample from the documents."
      ]
    },
    {
      "cell_type": "code",
      "execution_count": 46,
      "metadata": {
        "colab": {},
        "colab_type": "code",
        "id": "L2KDyGs8vHma"
      },
      "outputs": [
        {
          "name": "stdout",
          "output_type": "stream",
          "text": [
            "athens ath inz greek αθήνα romanized athína aˈθina listen ancient greek ἀθῆναι romanized athênai pl atʰɛ̂ːnai̯ is both the capital and largest city of greece with a population close to four million it is also the seventh largest city in the european union athens dominates and is the capital and\n"
          ]
        }
      ],
      "source": [
        "result = summarize(document[2])\n",
        "print(result)"
      ]
    },
    {
      "cell_type": "markdown",
      "metadata": {},
      "source": [
        "The reference in this case is:"
      ]
    },
    {
      "cell_type": "code",
      "execution_count": 47,
      "metadata": {},
      "outputs": [
        {
          "name": "stdout",
          "output_type": "stream",
          "text": [
            "athens ( ath-inz; greek: αθήνα, romanized: athína [aˈθina] (listen); ancient greek: ἀθῆναι, romanized: athênai (pl.) [atʰɛ̂ːnai̯]) is both the capital and largest city of greece. with a population close to four million, it is also the seventh largest city in the european union. athens dominates and is the capital of\n"
          ]
        }
      ],
      "source": [
        "reference = ' '.join(summary[2].split()[1:51]).lower()\n",
        "print(reference)"
      ]
    },
    {
      "cell_type": "markdown",
      "metadata": {},
      "source": [
        "Finally, the scores are calculated as follows:"
      ]
    },
    {
      "cell_type": "code",
      "execution_count": 48,
      "metadata": {},
      "outputs": [
        {
          "name": "stdout",
          "output_type": "stream",
          "text": [
            "{'rouge1': Score(precision=0.9807692307692307, recall=0.9807692307692307, fmeasure=0.9807692307692307), 'rouge2': Score(precision=0.9803921568627451, recall=0.9803921568627451, fmeasure=0.9803921568627451), 'rougeL': Score(precision=0.9807692307692307, recall=0.9807692307692307, fmeasure=0.9807692307692307)}\n"
          ]
        }
      ],
      "source": [
        "from rouge_score import rouge_scorer\n",
        "\n",
        "# Calculate the Rouge scores.\n",
        "scorer = rouge_scorer.RougeScorer(['rouge1', 'rouge2', 'rougeL'], use_stemmer=True)\n",
        "scores = scorer.score(result, reference)\n",
        "print(scores)"
      ]
    },
    {
      "cell_type": "markdown",
      "metadata": {},
      "source": [
        "## What we have learned …\n",
        "\n",
        "| | | |\n",
        "| --- | --- | --- |\n",
        "| **Visualizations**<ul><li>Knowledge graph</li></ul> | **ML concepts**<ul><li>Attention</li></ul> | **ML algorithms & models** <ul><li>Transformer</li></ul> |\n",
        "| **Performance**<ul><li>ROUGE</li></ul>| | |\n",
        "| | | |"
      ]
    }
  ],
  "metadata": {
    "colab": {
      "collapsed_sections": [],
      "name": "newssummary.ipynb",
      "provenance": []
    },
    "kernelspec": {
      "display_name": "Python 3.9.7 64-bit",
      "language": "python",
      "name": "python3"
    },
    "language_info": {
      "codemirror_mode": {
        "name": "ipython",
        "version": 3
      },
      "file_extension": ".py",
      "mimetype": "text/x-python",
      "name": "python",
      "nbconvert_exporter": "python",
      "pygments_lexer": "ipython3",
      "version": "3.9.7"
    },
    "vscode": {
      "interpreter": {
        "hash": "8f1e200aa4e9598f1b1017d8bb6526388dc3fae44f5def43455ba665e800f8e8"
      }
    }
  },
  "nbformat": 4,
  "nbformat_minor": 0
}
