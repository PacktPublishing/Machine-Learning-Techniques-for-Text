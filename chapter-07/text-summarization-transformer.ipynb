{
  "cells": [
    {
      "cell_type": "markdown",
      "metadata": {},
      "source": [
        "# <u>Chapter 7</u>: Summarizing Wikipedia Articles"
      ]
    },
    {
      "cell_type": "markdown",
      "metadata": {},
      "source": [
        "This exercise introduces another challenging topic in natural language processing and demystifies methods for `text summarization`. We delve into a state-of-the-art architecture that provides exceptional performance in many real-world applications. We also discuss the metrics to assess the performance of relevant systems."
      ]
    },
    {
      "cell_type": "code",
      "execution_count": 1,
      "metadata": {},
      "outputs": [],
      "source": [
        "import sys\n",
        "import subprocess\n",
        "import pkg_resources\n",
        "\n",
        "# Find out which packages are missing.\n",
        "installed_packages = {dist.key for dist in pkg_resources.working_set}\n",
        "required_packages = {'wikipedia', 'rouge-score', 'spacy', 'textacy', 'networkx', 'matplotlib', 'tensorflow', 'numpy'}\n",
        "missing_packages = required_packages - installed_packages\n",
        "\n",
        "# If there are missing packages install them.\n",
        "if missing_packages:\n",
        "    print('Installing the following packages: ' + str(missing_packages))\n",
        "    python = sys.executable\n",
        "    subprocess.check_call([python, '-m', 'pip', 'install', *missing_packages], stdout=subprocess.DEVNULL)"
      ]
    },
    {
      "cell_type": "markdown",
      "metadata": {},
      "source": [
        "<ins>Note</ins>: In case you get a _ReactorNotRestartable_ error, you have to restart the kernel. The reactor is only meant to run once."
      ]
    },
    {
      "cell_type": "markdown",
      "metadata": {},
      "source": [
        "## Abstractive summarization"
      ]
    },
    {
      "cell_type": "markdown",
      "metadata": {},
      "source": [
        "`Abstractive summarization` aims to generate novel sentences by rephrasing the reference and introducing new words. As a widely accessible and free encyclopedia, `Wikipedia` contains information on all branches of knowledge, so it's a great resource for data. Thus, we extract data from Wikipedia and use it to train and evaluate a `transformer model`. Instead of implementing a crawler from scratch, we use a Python library that makes it easy to access and parse data from Wikipedia."
      ]
    },
    {
      "cell_type": "markdown",
      "metadata": {},
      "source": [
        "### Putting transformer into action\n",
        "\n",
        "The following code requests the wiki page for _Athens_, the Greek capital, and prints the titles of the different sections."
      ]
    },
    {
      "cell_type": "code",
      "execution_count": 2,
      "metadata": {},
      "outputs": [
        {
          "name": "stdout",
          "output_type": "stream",
          "text": [
            "['Etymology and names', 'History', 'Antiquity', 'Middle Ages', 'Ottoman Athens', 'Modern history', 'Geography', 'Environment', 'Parks and zoos', 'Climate', 'Administration', 'Athens Urban Area', 'Athens metropolitan area', 'Twin towns – sister cities', 'Demographics', 'Metropolitan Area', 'Safety', 'Economy', 'Tourism', 'Transport', 'Bus transport', 'Railways', 'Athens International Airport', 'Ferry', 'Motorways', 'Education', 'Culture', 'Archaeological hub and museums', 'Architecture', 'Urban sculpture', 'Entertainment and performing arts', 'Sports', 'See also', 'References', 'External links']\n"
          ]
        }
      ],
      "source": [
        "import wikipedia\n",
        "\n",
        "# Use the English language version.\n",
        "wikipedia.set_lang(\"en\")\n",
        "\n",
        "# Get the wiki content for 'Athens'.\n",
        "wikisearch = wikipedia.page(\"Athens\")\n",
        "\n",
        "# Print page sections.\n",
        "wikisections = wikisearch.sections\n",
        "print(wikisections)"
      ]
    },
    {
      "cell_type": "markdown",
      "metadata": {},
      "source": [
        "Next, for our analysis, we download the wiki pages of forty capitals."
      ]
    },
    {
      "cell_type": "code",
      "execution_count": 3,
      "metadata": {},
      "outputs": [
        {
          "name": "stdout",
          "output_type": "stream",
          "text": [
            "Read data from page: https://en.wikipedia.org/wiki/Amsterdam\n",
            "Read data from page: https://en.wikipedia.org/wiki/Ankara\n",
            "Read data from page: https://en.wikipedia.org/wiki/Athens\n",
            "Read data from page: https://en.wikipedia.org/wiki/Beijing\n",
            "Read data from page: https://en.wikipedia.org/wiki/Budapest\n",
            "Read data from page: https://en.wikipedia.org/wiki/Canberra\n",
            "Read data from page: https://en.wikipedia.org/wiki/Copenhagen\n",
            "Read data from page: https://en.wikipedia.org/wiki/Dhaka\n",
            "Read data from page: https://en.wikipedia.org/wiki/Dublin\n",
            "Read data from page: https://en.wikipedia.org/wiki/Guatemala_City\n",
            "Read data from page: https://en.wikipedia.org/wiki/Harare\n",
            "Read data from page: https://en.wikipedia.org/wiki/Islamabad\n",
            "Read data from page: https://en.wikipedia.org/wiki/Jakarta\n",
            "Read data from page: https://en.wikipedia.org/wiki/Jerusalem\n",
            "Read data from page: https://en.wikipedia.org/wiki/Khartoum\n",
            "Read data from page: https://en.wikipedia.org/wiki/Kinshasa\n",
            "Read data from page: https://en.wikipedia.org/wiki/Kyiv\n",
            "Read data from page: https://en.wikipedia.org/wiki/Lisbon\n",
            "Read data from page: https://en.wikipedia.org/wiki/London\n",
            "Read data from page: https://en.wikipedia.org/wiki/Madrid\n",
            "Read data from page: https://en.wikipedia.org/wiki/Mexico_City\n",
            "Read data from page: https://en.wikipedia.org/wiki/Montevideo\n",
            "Read data from page: https://en.wikipedia.org/wiki/Moscow\n",
            "Read data from page: https://en.wikipedia.org/wiki/Nairobi\n",
            "Read data from page: https://en.wikipedia.org/wiki/New_Delhi\n",
            "Read data from page: https://en.wikipedia.org/wiki/Ottawa\n",
            "Read data from page: https://en.wikipedia.org/wiki/Paris\n",
            "Read data from page: https://en.wikipedia.org/wiki/Riyadh\n",
            "Read data from page: https://en.wikipedia.org/wiki/Home\n",
            "Read data from page: https://en.wikipedia.org/wiki/San_Salvador\n",
            "Read data from page: https://en.wikipedia.org/wiki/Soul\n",
            "Read data from page: https://en.wikipedia.org/wiki/Stockholm\n",
            "Read data from page: https://en.wikipedia.org/wiki/Taipei\n",
            "Read data from page: https://en.wikipedia.org/wiki/Tehran\n",
            "Read data from page: https://en.wikipedia.org/wiki/Tirana\n",
            "Read data from page: https://en.wikipedia.org/wiki/Tokyo\n",
            "Read data from page: https://en.wikipedia.org/wiki/Washington,_D.C.\n",
            "Read data from page: https://en.wikipedia.org/wiki/Wellington\n",
            "Read data from page: https://en.wikipedia.org/wiki/Yerevan\n",
            "Read data from page: https://en.wikipedia.org/wiki/Zagreb\n"
          ]
        }
      ],
      "source": [
        "import pandas as pd\n",
        "\n",
        "# Get the wiki page for the following capitals. \n",
        "capitals = [ 'Amsterdam', 'Ankara', 'Athens', 'Beijing', 'Budapest', 'Canberra', 'Copenhagen', 'Dhaka', 'Dublin',\n",
        "            'Guatemala City', 'Harare', 'Islamabad', 'Jakarta', 'Jerusalem', 'Khartoum', 'Kinshasa', 'Kyiv',\n",
        "            'Lisbon', 'London', 'Madrid', 'Mexico City', 'Montevideo', 'Moscow', 'Nairobi', 'New Delhi', 'Ottawa',\n",
        "            'Paris', 'Riyadh', 'Rome', 'San Salvador', 'Seoul', 'Stockholm', 'Taipei', 'Tehran', 'Tirana', \n",
        "            'Tokio', 'Washington D.C.', 'Wellington', 'Yerevan', 'Zagreb']\n",
        "\n",
        "# Store specific information from each page.\n",
        "df = pd.DataFrame(columns=['summary', 'content'])\n",
        "\n",
        "# Iterate in the list of capitals and search for the corresponding wiki page.\n",
        "for capital in capitals:\n",
        "    wikisearch = wikipedia.page(capital)\n",
        "    print(\"Read data from page: \" + wikisearch.url)\n",
        "    # We need to remove the summary from the content.\n",
        "    new_data = {'summary': wikisearch.summary.replace(\"\\n\", \" \"),\n",
        "                'content': wikisearch.content.replace(wikisearch.summary, \"\").replace(\"\\n\", \" \")}\n",
        "\n",
        "    new_df = pd.DataFrame(new_data, index=[0])\n",
        "\n",
        "    # Use pandas.concat to concatenate the DataFrames\n",
        "    df = pd.concat([df, new_df], ignore_index=True)"
      ]
    },
    {
      "cell_type": "markdown",
      "metadata": {},
      "source": [
        "Before dealing with the transformer, let's examine the data by creating a method to extract triplets with the subject, verb, and object from the text."
      ]
    },
    {
      "cell_type": "code",
      "execution_count": 4,
      "metadata": {},
      "outputs": [],
      "source": [
        "import spacy\n",
        "import textacy\n",
        "\n",
        "nlp = spacy.load('en_core_web_sm')\n",
        "nlp.add_pipe('sentencizer')\n",
        "\n",
        "# Extract the subject, verb, and object from the text.\n",
        "def extract_SVO(text):\n",
        "    subjects, verbs, objects = [], [], []\n",
        "    doc = nlp(text)\n",
        "\n",
        "    # Get the tuples with the results.\n",
        "    tuples = textacy.extract.subject_verb_object_triples(doc)\n",
        "\n",
        "    # Iterate over all tuples.\n",
        "    for x in tuples:\n",
        "\n",
        "        subjects.append(str(x[0]).replace(\"[\", \"\").replace(\"]\", \"\"))\n",
        "        verbs.append(str(x[1]).replace(\"[\", \"\").replace(\"]\", \"\"))\n",
        "        objects.append(str(x[2]).replace(\"[\", \"\").replace(\"]\", \"\"))\n",
        "\n",
        "    return subjects, verbs, objects"
      ]
    },
    {
      "cell_type": "markdown",
      "metadata": {},
      "source": [
        "Next, we apply the method using _Athens_ as a case study and store the triplets for visualization."
      ]
    },
    {
      "cell_type": "code",
      "execution_count": 5,
      "metadata": {},
      "outputs": [
        {
          "data": {
            "text/html": [
              "<div>\n",
              "<style scoped>\n",
              "    .dataframe tbody tr th:only-of-type {\n",
              "        vertical-align: middle;\n",
              "    }\n",
              "\n",
              "    .dataframe tbody tr th {\n",
              "        vertical-align: top;\n",
              "    }\n",
              "\n",
              "    .dataframe thead th {\n",
              "        text-align: right;\n",
              "    }\n",
              "</style>\n",
              "<table border=\"1\" class=\"dataframe\">\n",
              "  <thead>\n",
              "    <tr style=\"text-align: right;\">\n",
              "      <th></th>\n",
              "      <th>source</th>\n",
              "      <th>edge</th>\n",
              "      <th>target</th>\n",
              "    </tr>\n",
              "  </thead>\n",
              "  <tbody>\n",
              "    <tr>\n",
              "      <th>207</th>\n",
              "      <td>Athens</td>\n",
              "      <td>has</td>\n",
              "      <td>restriction, laws</td>\n",
              "    </tr>\n",
              "    <tr>\n",
              "      <th>213</th>\n",
              "      <td>neighbourhoods</td>\n",
              "      <td>include</td>\n",
              "      <td>Kypseli</td>\n",
              "    </tr>\n",
              "    <tr>\n",
              "      <th>221</th>\n",
              "      <td>suburbs</td>\n",
              "      <td>can, be, found</td>\n",
              "      <td>UNESCO.Restaurants, tavernas, bars</td>\n",
              "    </tr>\n",
              "  </tbody>\n",
              "</table>\n",
              "</div>"
            ],
            "text/plain": [
              "             source            edge                              target\n",
              "207          Athens             has                   restriction, laws\n",
              "213  neighbourhoods         include                             Kypseli\n",
              "221         suburbs  can, be, found  UNESCO.Restaurants, tavernas, bars"
            ]
          },
          "execution_count": 5,
          "metadata": {},
          "output_type": "execute_result"
        }
      ],
      "source": [
        "# Obtain the triples for 'Athens'.\n",
        "subjects, verbs, objects = extract_SVO(df['content'][2])\n",
        "\n",
        "# Create the dataframe used for visualization.\n",
        "kg_df = pd.DataFrame({\"source\": subjects, \"edge\": verbs, \"target\": objects})\n",
        "kg_df.sample(3, random_state=123)"
      ]
    },
    {
      "cell_type": "markdown",
      "metadata": {},
      "source": [
        "In the following code, we generate the knowledge graph using only ``15`` relations for clarity."
      ]
    },
    {
      "cell_type": "code",
      "execution_count": 6,
      "metadata": {},
      "outputs": [
        {
          "data": {
            "text/plain": [
              "{('Athens',\n",
              "  'name'): Text(0.24460026847239058, -0.3714914397654109, \"{'edge': 'took'}\"),\n",
              " ('Athens',\n",
              "  'destruction'): Text(0.372783252691703, -0.20924475172125295, \"{'edge': 'suffered'}\"),\n",
              " ('Athens',\n",
              "  'rebellion'): Text(0.42577503259577776, 0.1139359963707244, \"{'edge': 'helped'}\"),\n",
              " ('Athens',\n",
              "  'Sparta'): Text(-0.2825286635524058, 0.35837503042494007, \"{'edge': 'was, defeated'}\"),\n",
              " ('Athens',\n",
              "  'status'): Text(0.3642363324365533, -0.038160471909625494, \"{'edge': 'was, given'}\"),\n",
              " ('Athens',\n",
              "  'emperors'): Text(0.032978592357552794, -0.44605521503397483, \"{'edge': 'was, ruled'}\"),\n",
              " ('Athens',\n",
              "  'fortunes'): Text(0.34223091688732277, 0.3140999907437909, \"{'edge': 'experienced'}\"),\n",
              " ('Athens',\n",
              "  'blow'): Text(0.2036860798901153, 0.4600342011389067, \"{'edge': 'was, confined'}\"),\n",
              " ('Athens',\n",
              "  'Slavs'): Text(-0.4788575687860183, 0.03138932017144503, \"{'edge': 'was, sacked'}\"),\n",
              " ('Athens',\n",
              "  'Saracen, raids'): Text(-0.1881646968237631, -0.3848653935753923, \"{'edge': 'was, raided'}\"),\n",
              " ('Athens',\n",
              "  'to, have, supported, the, iconophile, position, ,, chiefly, due, to, the, role, played, by, Empress, Irene, of, Athens, in, the, ending, of, the, first, period, of, Iconoclasm, at, the, Second, Council, of, Nicaea, in, 787'): Text(-0.374171894075293, -0.24969385484189893, \"{'edge': 'is, held'}\"),\n",
              " ('Athens',\n",
              "  'existence'): Text(-0.36409951681508623, 0.1522043769967199, \"{'edge': 'continued'}\"),\n",
              " ('Athens',\n",
              "  'Latins'): Text(-0.04475896071106864, 0.47551690044212824, \"{'edge': 'was, ruled'}\")}"
            ]
          },
          "execution_count": 6,
          "metadata": {},
          "output_type": "execute_result"
        },
        {
          "data": {
            "image/png": "[encoded data removed]",
            "text/plain": [
              "<Figure size 720x720 with 1 Axes>"
            ]
          },
          "metadata": {},
          "output_type": "display_data"
        }
      ],
      "source": [
        "import networkx as nx\n",
        "import matplotlib.pyplot as plt\n",
        "%matplotlib inline\n",
        "\n",
        "# Create a directed graph from a dataframe using 15 triples.\n",
        "G = nx.from_pandas_edgelist(kg_df[kg_df['source'] == 'Athens'][0:15], \n",
        "                            \"source\", \"target\", edge_attr=True, \n",
        "                            create_using=nx.MultiDiGraph())\n",
        "\n",
        "# Draw the graph.\n",
        "#pd.set_option('display.max_colwidth', 200)\n",
        "plt.figure(figsize=(10, 10))\n",
        "\n",
        "pos = nx.spring_layout(G)\n",
        "nx.draw(G, with_labels=True, node_color='skyblue', edge_cmap=plt.cm.Blues, font_size=16, edge_color='r', pos=pos)\n",
        "nx.draw_networkx_edge_labels(G, font_size=14, pos=pos)"
      ]
    },
    {
      "cell_type": "markdown",
      "metadata": {},
      "source": [
        "_Athens_ is connected to all the other entities by an edge that represents the relationship between the two nodes."
      ]
    },
    {
      "cell_type": "markdown",
      "metadata": {},
      "source": [
        "### Training the model\n",
        "\n",
        "Our training set consists of pairs of summaries and the full content for each capital city."
      ]
    },
    {
      "cell_type": "code",
      "execution_count": 7,
      "metadata": {},
      "outputs": [
        {
          "data": {
            "text/html": [
              "<div>\n",
              "<style scoped>\n",
              "    .dataframe tbody tr th:only-of-type {\n",
              "        vertical-align: middle;\n",
              "    }\n",
              "\n",
              "    .dataframe tbody tr th {\n",
              "        vertical-align: top;\n",
              "    }\n",
              "\n",
              "    .dataframe thead th {\n",
              "        text-align: right;\n",
              "    }\n",
              "</style>\n",
              "<table border=\"1\" class=\"dataframe\">\n",
              "  <thead>\n",
              "    <tr style=\"text-align: right;\">\n",
              "      <th></th>\n",
              "      <th>sentences</th>\n",
              "    </tr>\n",
              "  </thead>\n",
              "  <tbody>\n",
              "    <tr>\n",
              "      <th>0</th>\n",
              "      <td>Athens ( ATH-inz; Greek: Αθήνα, romanized: Ath...</td>\n",
              "    </tr>\n",
              "    <tr>\n",
              "      <th>1</th>\n",
              "      <td>With its urban area's population numbering ove...</td>\n",
              "    </tr>\n",
              "    <tr>\n",
              "      <th>2</th>\n",
              "      <td>Athens dominates and is the capital of the Att...</td>\n",
              "    </tr>\n",
              "    <tr>\n",
              "      <th>3</th>\n",
              "      <td>The city was named after Athena, the ancient G...</td>\n",
              "    </tr>\n",
              "    <tr>\n",
              "      <th>4</th>\n",
              "      <td>It was a centre for democracy, the arts, educa...</td>\n",
              "    </tr>\n",
              "    <tr>\n",
              "      <th>5</th>\n",
              "      <td>For this reason, it is often regarded as the c...</td>\n",
              "    </tr>\n",
              "    <tr>\n",
              "      <th>6</th>\n",
              "      <td>In modern times, Athens is a huge cosmopolitan...</td>\n",
              "    </tr>\n",
              "    <tr>\n",
              "      <th>7</th>\n",
              "      <td>In 2023, Athens metropolitan area and its surr...</td>\n",
              "    </tr>\n",
              "    <tr>\n",
              "      <th>8</th>\n",
              "      <td>It also has a large financial sector, and its ...</td>\n",
              "    </tr>\n",
              "    <tr>\n",
              "      <th>9</th>\n",
              "      <td>The Municipality of Athens (also City of Athen...</td>\n",
              "    </tr>\n",
              "    <tr>\n",
              "      <th>10</th>\n",
              "      <td>The Athens metropolitan area or Greater Athens...</td>\n",
              "    </tr>\n",
              "    <tr>\n",
              "      <th>11</th>\n",
              "      <td>Athens is also the southernmost capital on the...</td>\n",
              "    </tr>\n",
              "    <tr>\n",
              "      <th>12</th>\n",
              "      <td>The heritage of the Classical Era is still evi...</td>\n",
              "    </tr>\n",
              "    <tr>\n",
              "      <th>13</th>\n",
              "      <td>The city also retains Roman, Byzantine and a s...</td>\n",
              "    </tr>\n",
              "    <tr>\n",
              "      <th>14</th>\n",
              "      <td>Athens is home to two UNESCO World Heritage Si...</td>\n",
              "    </tr>\n",
              "    <tr>\n",
              "      <th>15</th>\n",
              "      <td>Landmarks of the modern era, dating back to th...</td>\n",
              "    </tr>\n",
              "    <tr>\n",
              "      <th>16</th>\n",
              "      <td>Athens is also home to several museums and cul...</td>\n",
              "    </tr>\n",
              "    <tr>\n",
              "      <th>17</th>\n",
              "      <td>Athens was the host city of the first modern-d...</td>\n",
              "    </tr>\n",
              "    <tr>\n",
              "      <th>18</th>\n",
              "      <td>Athens joined the UNESCO Global Network of Lea...</td>\n",
              "    </tr>\n",
              "    <tr>\n",
              "      <th>19</th>\n",
              "      <td></td>\n",
              "    </tr>\n",
              "  </tbody>\n",
              "</table>\n",
              "</div>"
            ],
            "text/plain": [
              "                                            sentences\n",
              "0   Athens ( ATH-inz; Greek: Αθήνα, romanized: Ath...\n",
              "1   With its urban area's population numbering ove...\n",
              "2   Athens dominates and is the capital of the Att...\n",
              "3   The city was named after Athena, the ancient G...\n",
              "4   It was a centre for democracy, the arts, educa...\n",
              "5   For this reason, it is often regarded as the c...\n",
              "6   In modern times, Athens is a huge cosmopolitan...\n",
              "7   In 2023, Athens metropolitan area and its surr...\n",
              "8   It also has a large financial sector, and its ...\n",
              "9   The Municipality of Athens (also City of Athen...\n",
              "10  The Athens metropolitan area or Greater Athens...\n",
              "11  Athens is also the southernmost capital on the...\n",
              "12  The heritage of the Classical Era is still evi...\n",
              "13  The city also retains Roman, Byzantine and a s...\n",
              "14  Athens is home to two UNESCO World Heritage Si...\n",
              "15  Landmarks of the modern era, dating back to th...\n",
              "16  Athens is also home to several museums and cul...\n",
              "17  Athens was the host city of the first modern-d...\n",
              "18  Athens joined the UNESCO Global Network of Lea...\n",
              "19                                                   "
            ]
          },
          "execution_count": 7,
          "metadata": {},
          "output_type": "execute_result"
        }
      ],
      "source": [
        "import re\n",
        "\n",
        "# Extract the sentences from one of the summaries.\n",
        "s = re.split('\\. |\\n', df['summary'][2])\n",
        "summary_sentences =  pd.DataFrame(s, columns=['sentences'])\n",
        "summary_sentences"
      ]
    },
    {
      "cell_type": "code",
      "execution_count": 8,
      "metadata": {
        "colab": {},
        "colab_type": "code",
        "id": "__IkQBeLvHkK"
      },
      "outputs": [],
      "source": [
        "# Keep track of each document and its summary.\n",
        "document = df['content']\n",
        "summary = df['summary']"
      ]
    },
    {
      "cell_type": "markdown",
      "metadata": {
        "colab_type": "text",
        "id": "Ou7rtiKHDspz"
      },
      "source": [
        "Add start and end tokens to summary since the target sequence is unknown for the test sequence. "
      ]
    },
    {
      "cell_type": "code",
      "execution_count": 9,
      "metadata": {
        "colab": {
          "base_uri": "https://localhost:8080/",
          "height": 126
        },
        "colab_type": "code",
        "id": "ywxk9JpUvHkN",
        "outputId": "6ddc90d9-cee1-4600-a7ca-16af22de4998"
      },
      "outputs": [
        {
          "data": {
            "text/plain": [
              "0    <go> Amsterdam ( AM-stər-dam, UK also  AM-stər...\n",
              "1    <go> Ankara ( ANG-kə-rə, US also  AHNG-kə-rə; ...\n",
              "2    <go> Athens ( ATH-inz; Greek: Αθήνα, romanized...\n",
              "3    <go> Beijing ( bay-JING; Chinese: 北京; pinyin: ...\n",
              "4    <go> Budapest (UK: , US: ; Hungarian pronuncia...\n",
              "Name: summary, dtype: object"
            ]
          },
          "execution_count": 9,
          "metadata": {},
          "output_type": "execute_result"
        }
      ],
      "source": [
        "summary = summary.apply(lambda x: '<go> ' + x + ' <stop>')\n",
        "summary.head()\n"
      ]
    },
    {
      "cell_type": "markdown",
      "metadata": {
        "colab_type": "text",
        "id": "wBgD4dMiEGGV"
      },
      "source": [
        "Filter out the punctuation from the summary."
      ]
    },
    {
      "cell_type": "code",
      "execution_count": 10,
      "metadata": {
        "colab": {},
        "colab_type": "code",
        "id": "pYhbxz_OvHkU"
      },
      "outputs": [],
      "source": [
        "filters = '!\"#$%&()*+,-./:;=?@[\\\\]^_`{|}~\\t\\n'\n",
        "oov_token = '<unk>'"
      ]
    },
    {
      "cell_type": "markdown",
      "metadata": {
        "colab_type": "text",
        "id": "6-ni-FuZEYyh"
      },
      "source": [
        "Create different tokenizers for document and summary."
      ]
    },
    {
      "cell_type": "code",
      "execution_count": 11,
      "metadata": {
        "colab": {},
        "colab_type": "code",
        "id": "EbvAfYfLvHkY"
      },
      "outputs": [],
      "source": [
        "import tensorflow as tf\n",
        "\n",
        "document_tokenizer = tf.keras.preprocessing.text.Tokenizer(oov_token=oov_token)\n",
        "summary_tokenizer = tf.keras.preprocessing.text.Tokenizer(filters=filters, oov_token=oov_token)"
      ]
    },
    {
      "cell_type": "markdown",
      "metadata": {
        "colab_type": "text",
        "id": "KJg4EbhLEkxc"
      },
      "source": [
        "Fit text to tokenizer."
      ]
    },
    {
      "cell_type": "code",
      "execution_count": 12,
      "metadata": {
        "colab": {},
        "colab_type": "code",
        "id": "nb0gUGqavHkb"
      },
      "outputs": [],
      "source": [
        "document_tokenizer.fit_on_texts(document)\n",
        "summary_tokenizer.fit_on_texts(summary)"
      ]
    },
    {
      "cell_type": "code",
      "execution_count": 13,
      "metadata": {
        "colab": {},
        "colab_type": "code",
        "id": "Dsxpak9dvHkf"
      },
      "outputs": [],
      "source": [
        "inputs = document_tokenizer.texts_to_sequences(document)\n",
        "targets = summary_tokenizer.texts_to_sequences(summary)"
      ]
    },
    {
      "cell_type": "code",
      "execution_count": 14,
      "metadata": {
        "colab": {
          "base_uri": "https://localhost:8080/",
          "height": 35
        },
        "colab_type": "code",
        "id": "YEJQDtE9vHkp",
        "outputId": "5ca8e242-2de4-4e7f-f6af-a2b2b2e4e30e"
      },
      "outputs": [
        {
          "data": {
            "text/plain": [
              "(30930, 3665)"
            ]
          },
          "execution_count": 14,
          "metadata": {},
          "output_type": "execute_result"
        }
      ],
      "source": [
        "encoder_vocab_size = len(document_tokenizer.word_index) + 1\n",
        "decoder_vocab_size = len(summary_tokenizer.word_index) + 1\n",
        "\n",
        "# vocab_size\n",
        "encoder_vocab_size, decoder_vocab_size"
      ]
    },
    {
      "cell_type": "code",
      "execution_count": 15,
      "metadata": {
        "colab": {},
        "colab_type": "code",
        "id": "y664uBfovHkt"
      },
      "outputs": [],
      "source": [
        "document_lengths = pd.Series([len(x) for x in document])\n",
        "summary_lengths = pd.Series([len(x) for x in summary])"
      ]
    },
    {
      "cell_type": "code",
      "execution_count": 16,
      "metadata": {
        "colab": {},
        "colab_type": "code",
        "id": "Fqa6ym9evHkw"
      },
      "outputs": [],
      "source": [
        "encoder_maxlen = 500\n",
        "decoder_maxlen = 50"
      ]
    },
    {
      "cell_type": "code",
      "execution_count": 17,
      "metadata": {
        "colab": {},
        "colab_type": "code",
        "id": "W1ltH33vvHk0"
      },
      "outputs": [],
      "source": [
        "inputs = tf.keras.preprocessing.sequence.pad_sequences(inputs, maxlen=encoder_maxlen, padding='post', truncating='post')\n",
        "targets = tf.keras.preprocessing.sequence.pad_sequences(targets, maxlen=decoder_maxlen, padding='post', truncating='post')"
      ]
    },
    {
      "cell_type": "code",
      "execution_count": 18,
      "metadata": {
        "colab": {},
        "colab_type": "code",
        "id": "8fFd8TZavHk3"
      },
      "outputs": [],
      "source": [
        "inputs = tf.cast(inputs, dtype=tf.int32)\n",
        "targets = tf.cast(targets, dtype=tf.int32)"
      ]
    },
    {
      "cell_type": "code",
      "execution_count": 19,
      "metadata": {
        "colab": {},
        "colab_type": "code",
        "id": "bYn7vwT1vHk7"
      },
      "outputs": [],
      "source": [
        "# Based on the system capabilities, we can experiment with different values.\n",
        "BUFFER_SIZE = 20000\n",
        "BATCH_SIZE = 8"
      ]
    },
    {
      "cell_type": "code",
      "execution_count": 20,
      "metadata": {
        "colab": {},
        "colab_type": "code",
        "id": "vtwTudiKvHk-"
      },
      "outputs": [],
      "source": [
        "dataset = tf.data.Dataset.from_tensor_slices((inputs, targets)).shuffle(BUFFER_SIZE).batch(BATCH_SIZE)"
      ]
    },
    {
      "cell_type": "code",
      "execution_count": 21,
      "metadata": {
        "colab": {},
        "colab_type": "code",
        "id": "EHEag_7xvHlF"
      },
      "outputs": [],
      "source": [
        "def get_angles(position, i, d_model):\n",
        "    angle_rates = 1 / np.power(10000, (2 * (i // 2)) / np.float32(d_model))\n",
        "    return position * angle_rates"
      ]
    },
    {
      "cell_type": "code",
      "execution_count": 22,
      "metadata": {
        "colab": {},
        "colab_type": "code",
        "id": "4iNlTdlqvHlL"
      },
      "outputs": [],
      "source": [
        "import numpy as np\n",
        "\n",
        "def positional_encoding(position, d_model):\n",
        "    angle_rads = get_angles(\n",
        "        np.arange(position)[:, np.newaxis],\n",
        "        np.arange(d_model)[np.newaxis, :],\n",
        "        d_model\n",
        "    )\n",
        "\n",
        "    # Apply sin to even indices in the array; 2i\n",
        "    angle_rads[:, 0::2] = np.sin(angle_rads[:, 0::2])\n",
        "\n",
        "    # Apply cos to odd indices in the array; 2i+1\n",
        "    angle_rads[:, 1::2] = np.cos(angle_rads[:, 1::2])\n",
        "\n",
        "    pos_encoding = angle_rads[np.newaxis, ...]\n",
        "\n",
        "    return tf.cast(pos_encoding, dtype=tf.float32)"
      ]
    },
    {
      "cell_type": "code",
      "execution_count": 23,
      "metadata": {
        "colab": {},
        "colab_type": "code",
        "id": "qXhMqfh9vHlO"
      },
      "outputs": [],
      "source": [
        "def create_padding_mask(seq):\n",
        "    seq = tf.cast(tf.math.equal(seq, 0), tf.float32)\n",
        "    return seq[:, tf.newaxis, tf.newaxis, :]"
      ]
    },
    {
      "cell_type": "code",
      "execution_count": 24,
      "metadata": {
        "colab": {},
        "colab_type": "code",
        "id": "QQFs492svHlS"
      },
      "outputs": [],
      "source": [
        "def create_look_ahead_mask(size):\n",
        "    mask = 1 - tf.linalg.band_part(tf.ones((size, size)), -1, 0)\n",
        "    return mask"
      ]
    },
    {
      "cell_type": "code",
      "execution_count": 25,
      "metadata": {
        "colab": {},
        "colab_type": "code",
        "id": "CRfeeNh_vHlZ"
      },
      "outputs": [],
      "source": [
        "def scaled_dot_product_attention(q, k, v, mask):\n",
        "    matmul_qk = tf.matmul(q, k, transpose_b=True)\n",
        "\n",
        "    dk = tf.cast(tf.shape(k)[-1], tf.float32)\n",
        "    scaled_attention_logits = matmul_qk / tf.math.sqrt(dk)\n",
        "\n",
        "    if mask is not None:\n",
        "        scaled_attention_logits += (mask * -1e9)  \n",
        "\n",
        "    attention_weights = tf.nn.softmax(scaled_attention_logits, axis=-1)\n",
        "\n",
        "    output = tf.matmul(attention_weights, v)\n",
        "    return output, attention_weights"
      ]
    },
    {
      "cell_type": "code",
      "execution_count": 26,
      "metadata": {
        "colab": {},
        "colab_type": "code",
        "id": "3KWDfS90vHld"
      },
      "outputs": [],
      "source": [
        "class MultiHeadAttention(tf.keras.layers.Layer):\n",
        "    def __init__(self, d_model, num_heads):\n",
        "        super(MultiHeadAttention, self).__init__()\n",
        "        self.num_heads = num_heads\n",
        "        self.d_model = d_model\n",
        "\n",
        "        assert d_model % self.num_heads == 0\n",
        "\n",
        "        self.depth = d_model // self.num_heads\n",
        "\n",
        "        self.wq = tf.keras.layers.Dense(d_model)\n",
        "        self.wk = tf.keras.layers.Dense(d_model)\n",
        "        self.wv = tf.keras.layers.Dense(d_model)\n",
        "\n",
        "        self.dense = tf.keras.layers.Dense(d_model)\n",
        "        \n",
        "    def split_heads(self, x, batch_size):\n",
        "        x = tf.reshape(x, (batch_size, -1, self.num_heads, self.depth))\n",
        "        return tf.transpose(x, perm=[0, 2, 1, 3])\n",
        "    \n",
        "    def call(self, v, k, q, mask):\n",
        "        batch_size = tf.shape(q)[0]\n",
        "\n",
        "        q = self.wq(q)\n",
        "        k = self.wk(k)\n",
        "        v = self.wv(v)\n",
        "\n",
        "        q = self.split_heads(q, batch_size)\n",
        "        k = self.split_heads(k, batch_size)\n",
        "        v = self.split_heads(v, batch_size)\n",
        "\n",
        "        scaled_attention, attention_weights = scaled_dot_product_attention(\n",
        "            q, k, v, mask)\n",
        "\n",
        "        scaled_attention = tf.transpose(scaled_attention, perm=[0, 2, 1, 3])\n",
        "\n",
        "        concat_attention = tf.reshape(scaled_attention, (batch_size, -1, self.d_model))\n",
        "        output = self.dense(concat_attention)\n",
        "            \n",
        "        return output, attention_weights"
      ]
    },
    {
      "cell_type": "code",
      "execution_count": 27,
      "metadata": {
        "colab": {},
        "colab_type": "code",
        "id": "htRz136gvHlh"
      },
      "outputs": [],
      "source": [
        "def point_wise_feed_forward_network(d_model, dff):\n",
        "    return tf.keras.Sequential([\n",
        "        tf.keras.layers.Dense(dff, activation='relu'),\n",
        "        tf.keras.layers.Dense(d_model)\n",
        "    ])"
      ]
    },
    {
      "cell_type": "markdown",
      "metadata": {},
      "source": [
        "Create the encoder layer."
      ]
    },
    {
      "cell_type": "code",
      "execution_count": 28,
      "metadata": {
        "colab": {},
        "colab_type": "code",
        "id": "vjr3EKZ0vHll"
      },
      "outputs": [],
      "source": [
        "class EncoderLayer(tf.keras.layers.Layer):\n",
        "    def __init__(self, d_model, num_heads, dff, rate=0.1):\n",
        "        super(EncoderLayer, self).__init__()\n",
        "\n",
        "        self.mha = MultiHeadAttention(d_model, num_heads)\n",
        "        self.ffn = point_wise_feed_forward_network(d_model, dff)\n",
        "\n",
        "        self.layernorm1 = tf.keras.layers.LayerNormalization(epsilon=1e-6)\n",
        "        self.layernorm2 = tf.keras.layers.LayerNormalization(epsilon=1e-6)\n",
        "\n",
        "        self.dropout1 = tf.keras.layers.Dropout(rate)\n",
        "        self.dropout2 = tf.keras.layers.Dropout(rate)\n",
        "    \n",
        "    def call(self, x, training, mask):\n",
        "        attn_output, _ = self.mha(x, x, x, mask)\n",
        "        attn_output = self.dropout1(attn_output, training=training)\n",
        "        out1 = self.layernorm1(x + attn_output)\n",
        "\n",
        "        ffn_output = self.ffn(out1)\n",
        "        ffn_output = self.dropout2(ffn_output, training=training)\n",
        "        out2 = self.layernorm2(out1 + ffn_output)\n",
        "\n",
        "        return out2"
      ]
    },
    {
      "cell_type": "markdown",
      "metadata": {},
      "source": [
        "Create the decoder layer."
      ]
    },
    {
      "cell_type": "code",
      "execution_count": 29,
      "metadata": {
        "colab": {},
        "colab_type": "code",
        "id": "ZkJ6mkptvHlo"
      },
      "outputs": [],
      "source": [
        "class DecoderLayer(tf.keras.layers.Layer):\n",
        "    def __init__(self, d_model, num_heads, dff, rate=0.1):\n",
        "        super(DecoderLayer, self).__init__()\n",
        "\n",
        "        self.mha1 = MultiHeadAttention(d_model, num_heads)\n",
        "        self.mha2 = MultiHeadAttention(d_model, num_heads)\n",
        "\n",
        "        self.ffn = point_wise_feed_forward_network(d_model, dff)\n",
        "\n",
        "        self.layernorm1 = tf.keras.layers.LayerNormalization(epsilon=1e-6)\n",
        "        self.layernorm2 = tf.keras.layers.LayerNormalization(epsilon=1e-6)\n",
        "        self.layernorm3 = tf.keras.layers.LayerNormalization(epsilon=1e-6)\n",
        "\n",
        "        self.dropout1 = tf.keras.layers.Dropout(rate)\n",
        "        self.dropout2 = tf.keras.layers.Dropout(rate)\n",
        "        self.dropout3 = tf.keras.layers.Dropout(rate)\n",
        "    \n",
        "    \n",
        "    def call(self, x, enc_output, training, look_ahead_mask, padding_mask):\n",
        "        attn1, attn_weights_block1 = self.mha1(x, x, x, look_ahead_mask)\n",
        "        attn1 = self.dropout1(attn1, training=training)\n",
        "        out1 = self.layernorm1(attn1 + x)\n",
        "\n",
        "        attn2, attn_weights_block2 = self.mha2(enc_output, enc_output, out1, padding_mask)\n",
        "        attn2 = self.dropout2(attn2, training=training)\n",
        "        out2 = self.layernorm2(attn2 + out1)\n",
        "\n",
        "        ffn_output = self.ffn(out2)\n",
        "        ffn_output = self.dropout3(ffn_output, training=training)\n",
        "        out3 = self.layernorm3(ffn_output + out2)\n",
        "\n",
        "        return out3, attn_weights_block1, attn_weights_block2"
      ]
    },
    {
      "cell_type": "markdown",
      "metadata": {},
      "source": [
        "Create the class for the encoder."
      ]
    },
    {
      "cell_type": "code",
      "execution_count": 30,
      "metadata": {
        "colab": {},
        "colab_type": "code",
        "id": "H9FlijecvHls"
      },
      "outputs": [],
      "source": [
        "class Encoder(tf.keras.layers.Layer):\n",
        "    def __init__(self, num_layers, d_model, num_heads, dff, input_vocab_size, maximum_position_encoding, rate=0.1):\n",
        "        super(Encoder, self).__init__()\n",
        "\n",
        "        self.d_model = d_model\n",
        "        self.num_layers = num_layers\n",
        "\n",
        "        self.embedding = tf.keras.layers.Embedding(input_vocab_size, d_model)\n",
        "        self.pos_encoding = positional_encoding(maximum_position_encoding, self.d_model)\n",
        "\n",
        "        self.enc_layers = [EncoderLayer(d_model, num_heads, dff, rate) for _ in range(num_layers)]\n",
        "\n",
        "        self.dropout = tf.keras.layers.Dropout(rate)\n",
        "        \n",
        "    def call(self, x, training, mask):\n",
        "        seq_len = tf.shape(x)[1]\n",
        "\n",
        "        x = self.embedding(x)\n",
        "        x *= tf.math.sqrt(tf.cast(self.d_model, tf.float32))\n",
        "        x += self.pos_encoding[:, :seq_len, :]\n",
        "\n",
        "        x = self.dropout(x, training=training)\n",
        "    \n",
        "        for i in range(self.num_layers):\n",
        "            x = self.enc_layers[i](x, training, mask)\n",
        "    \n",
        "        return x"
      ]
    },
    {
      "cell_type": "markdown",
      "metadata": {},
      "source": [
        "Create the class for the decoder."
      ]
    },
    {
      "cell_type": "code",
      "execution_count": 31,
      "metadata": {
        "colab": {},
        "colab_type": "code",
        "id": "SxPufiD0vHlu"
      },
      "outputs": [],
      "source": [
        "class Decoder(tf.keras.layers.Layer):\n",
        "    def __init__(self, num_layers, d_model, num_heads, dff, target_vocab_size, maximum_position_encoding, rate=0.1):\n",
        "        super(Decoder, self).__init__()\n",
        "\n",
        "        self.d_model = d_model\n",
        "        self.num_layers = num_layers\n",
        "\n",
        "        self.embedding = tf.keras.layers.Embedding(target_vocab_size, d_model)\n",
        "        self.pos_encoding = positional_encoding(maximum_position_encoding, d_model)\n",
        "\n",
        "        self.dec_layers = [DecoderLayer(d_model, num_heads, dff, rate) for _ in range(num_layers)]\n",
        "        self.dropout = tf.keras.layers.Dropout(rate)\n",
        "    \n",
        "    def call(self, x, enc_output, training, look_ahead_mask, padding_mask):\n",
        "        seq_len = tf.shape(x)[1]\n",
        "        attention_weights = {}\n",
        "\n",
        "        x = self.embedding(x)\n",
        "        x *= tf.math.sqrt(tf.cast(self.d_model, tf.float32))\n",
        "        x += self.pos_encoding[:, :seq_len, :]\n",
        "\n",
        "        x = self.dropout(x, training=training)\n",
        "\n",
        "        for i in range(self.num_layers):\n",
        "            x, block1, block2 = self.dec_layers[i](x, enc_output, training, look_ahead_mask, padding_mask)\n",
        "\n",
        "            attention_weights['decoder_layer{}_block1'.format(i+1)] = block1\n",
        "            attention_weights['decoder_layer{}_block2'.format(i+1)] = block2\n",
        "    \n",
        "        return x, attention_weights"
      ]
    },
    {
      "cell_type": "markdown",
      "metadata": {},
      "source": [
        "Create the class for the transformer."
      ]
    },
    {
      "cell_type": "code",
      "execution_count": 32,
      "metadata": {
        "colab": {},
        "colab_type": "code",
        "id": "VU2h24VrvHlx"
      },
      "outputs": [],
      "source": [
        "class Transformer(tf.keras.Model):\n",
        "    def __init__(self, num_layers, d_model, num_heads, dff, input_vocab_size, target_vocab_size, pe_input, pe_target, rate=0.1):\n",
        "        super(Transformer, self).__init__()\n",
        "\n",
        "        self.encoder = Encoder(num_layers, d_model, num_heads, dff, input_vocab_size, pe_input, rate)\n",
        "\n",
        "        self.decoder = Decoder(num_layers, d_model, num_heads, dff, target_vocab_size, pe_target, rate)\n",
        "\n",
        "        self.final_layer = tf.keras.layers.Dense(target_vocab_size)\n",
        "    \n",
        "    def call(self, inp, tar, training, enc_padding_mask, look_ahead_mask, dec_padding_mask):\n",
        "        enc_output = self.encoder(inp, training, enc_padding_mask)\n",
        "\n",
        "        dec_output, attention_weights = self.decoder(tar, enc_output, training, look_ahead_mask, dec_padding_mask)\n",
        "\n",
        "        final_output = self.final_layer(dec_output)\n",
        "\n",
        "        return final_output, attention_weights"
      ]
    },
    {
      "cell_type": "markdown",
      "metadata": {},
      "source": [
        "Set the hyperparameter values."
      ]
    },
    {
      "cell_type": "code",
      "execution_count": 33,
      "metadata": {
        "colab": {},
        "colab_type": "code",
        "id": "USScRlf1vHl0"
      },
      "outputs": [],
      "source": [
        "num_layers = 4\n",
        "d_model = 128\n",
        "dff = 512\n",
        "num_heads = 8\n",
        "EPOCHS = 200"
      ]
    },
    {
      "cell_type": "code",
      "execution_count": 34,
      "metadata": {
        "colab": {},
        "colab_type": "code",
        "id": "6zuBEFDevHl3"
      },
      "outputs": [],
      "source": [
        "class CustomSchedule(tf.keras.optimizers.schedules.LearningRateSchedule):\n",
        "    def __init__(self, d_model, warmup_steps=4000):\n",
        "        super(CustomSchedule, self).__init__()\n",
        "\n",
        "        self.d_model = d_model\n",
        "        self.d_model = tf.cast(self.d_model, tf.float32)\n",
        "\n",
        "        self.warmup_steps = warmup_steps\n",
        "    \n",
        "    def __call__(self, step):\n",
        "        step = tf.cast(step, tf.float32)\n",
        "        arg1 = tf.math.rsqrt(step)\n",
        "        arg2 = step * (self.warmup_steps ** -1.5)\n",
        "\n",
        "        return tf.math.rsqrt(self.d_model) * tf.math.minimum(arg1, arg2)"
      ]
    },
    {
      "cell_type": "markdown",
      "metadata": {},
      "source": [
        "Next, we can create the _learning_rate_ and the _Adam_ optimizer that uses it."
      ]
    },
    {
      "cell_type": "code",
      "execution_count": 35,
      "metadata": {
        "colab": {},
        "colab_type": "code",
        "id": "5MNijHGZvHl6"
      },
      "outputs": [],
      "source": [
        "learning_rate = CustomSchedule(d_model)\n",
        "\n",
        "optimizer = tf.keras.optimizers.Adam(learning_rate, beta_1=0.9, beta_2=0.98, epsilon=1e-9)"
      ]
    },
    {
      "cell_type": "markdown",
      "metadata": {},
      "source": [
        "For calculating loss, we incorporate ``SparseCategoricalCrossentropy`` that computes the cross-entropy loss between the labels and predictions, suitable when the output labels are integer values."
      ]
    },
    {
      "cell_type": "code",
      "execution_count": 36,
      "metadata": {
        "colab": {},
        "colab_type": "code",
        "id": "xxNoFxb0vHl8"
      },
      "outputs": [],
      "source": [
        "loss_object = tf.keras.losses.SparseCategoricalCrossentropy(from_logits=True, reduction='none')"
      ]
    },
    {
      "cell_type": "code",
      "execution_count": 37,
      "metadata": {
        "colab": {},
        "colab_type": "code",
        "id": "eL2h3uoyvHl_"
      },
      "outputs": [],
      "source": [
        "def loss_function(real, pred):\n",
        "    mask = tf.math.logical_not(tf.math.equal(real, 0))\n",
        "    loss_ = loss_object(real, pred)\n",
        "\n",
        "    mask = tf.cast(mask, dtype=loss_.dtype)\n",
        "    loss_ *= mask\n",
        "\n",
        "    return tf.reduce_sum(loss_)/tf.reduce_sum(mask)"
      ]
    },
    {
      "cell_type": "code",
      "execution_count": 38,
      "metadata": {
        "colab": {},
        "colab_type": "code",
        "id": "nbh5pTUxvHmB"
      },
      "outputs": [],
      "source": [
        "train_loss = tf.keras.metrics.Mean(name='train_loss')"
      ]
    },
    {
      "cell_type": "code",
      "execution_count": 39,
      "metadata": {
        "colab": {},
        "colab_type": "code",
        "id": "lizs0hm7vHmE"
      },
      "outputs": [],
      "source": [
        "transformer = Transformer(\n",
        "    num_layers, \n",
        "    d_model, \n",
        "    num_heads, \n",
        "    dff,\n",
        "    encoder_vocab_size, \n",
        "    decoder_vocab_size, \n",
        "    pe_input=encoder_vocab_size, \n",
        "    pe_target=decoder_vocab_size,\n",
        ")"
      ]
    },
    {
      "cell_type": "code",
      "execution_count": 40,
      "metadata": {
        "colab": {},
        "colab_type": "code",
        "id": "MqOeBpJPvHmH"
      },
      "outputs": [],
      "source": [
        "def create_masks(inp, tar):\n",
        "    enc_padding_mask = create_padding_mask(inp)\n",
        "    dec_padding_mask = create_padding_mask(inp)\n",
        "\n",
        "    look_ahead_mask = create_look_ahead_mask(tf.shape(tar)[1])\n",
        "    dec_target_padding_mask = create_padding_mask(tar)\n",
        "    combined_mask = tf.maximum(dec_target_padding_mask, look_ahead_mask)\n",
        "  \n",
        "    return enc_padding_mask, combined_mask, dec_padding_mask"
      ]
    },
    {
      "cell_type": "markdown",
      "metadata": {},
      "source": [
        "The training runs can take several hours or even days to conclude, so we need a way to keep track of the progress and resume the process in case of a failure without the need to start from scratch. \n",
        "\n",
        "A useful feature, in this case, is the ``Checkpoint`` mechanism."
      ]
    },
    {
      "cell_type": "code",
      "execution_count": 41,
      "metadata": {
        "colab": {},
        "colab_type": "code",
        "id": "A3NasQmEvHmK"
      },
      "outputs": [],
      "source": [
        "checkpoint_path = \"checkpoints\"\n",
        "\n",
        "ckpt = tf.train.Checkpoint(transformer=transformer, optimizer=optimizer)\n",
        "\n",
        "ckpt_manager = tf.train.CheckpointManager(ckpt, checkpoint_path, max_to_keep=5)\n",
        "\n",
        "if ckpt_manager.latest_checkpoint:\n",
        "    ckpt.restore(ckpt_manager.latest_checkpoint)\n",
        "    print ('Latest checkpoint restored!!')\n",
        "    "
      ]
    },
    {
      "cell_type": "code",
      "execution_count": 42,
      "metadata": {
        "colab": {},
        "colab_type": "code",
        "id": "hCKS_uQUvHmM"
      },
      "outputs": [],
      "source": [
        "#@tf.function\n",
        "def train_step(inp, tar):\n",
        "    tar_inp = tar[:, :-1]\n",
        "    tar_real = tar[:, 1:]\n",
        "    enc_padding_mask, combined_mask, dec_padding_mask = create_masks(inp, tar_inp)\n",
        "    with tf.GradientTape() as tape:\n",
        "        predictions, _ = transformer(\n",
        "            inp, tar_inp, \n",
        "            True, \n",
        "            enc_padding_mask, \n",
        "            combined_mask, \n",
        "            dec_padding_mask\n",
        "        )\n",
        "         \n",
        "        loss = loss_function(tar_real, predictions)\n",
        "\n",
        "    gradients = tape.gradient(loss, transformer.trainable_variables)    \n",
        "    optimizer.apply_gradients(zip(gradients, transformer.trainable_variables))\n",
        "\n",
        "    train_loss(loss)"
      ]
    },
    {
      "cell_type": "markdown",
      "metadata": {},
      "source": [
        "<img src=\"data:image/svg+xml;base64,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\" width=\"40%\" alt=\"Time alert\"/>"
      ]
    },
    {
      "cell_type": "code",
      "execution_count": 43,
      "metadata": {
        "colab": {
          "base_uri": "https://localhost:8080/",
          "height": 1000
        },
        "colab_type": "code",
        "id": "bqM4TzGHvHmP",
        "outputId": "f1f18705-9d5b-420a-a89a-19d5b25393ce"
      },
      "outputs": [
        {
          "name": "stdout",
          "output_type": "stream",
          "text": [
            "Epoch 1 Loss 8.2465\n",
            "Time taken for 1 epoch: 4.576415777206421 secs\n",
            "\n",
            "Epoch 2 Loss 8.2402\n",
            "Time taken for 1 epoch: 2.9589173793792725 secs\n",
            "\n",
            "Epoch 3 Loss 8.2231\n",
            "Time taken for 1 epoch: 2.6339423656463623 secs\n",
            "\n",
            "Epoch 4 Loss 8.2008\n",
            "Time taken for 1 epoch: 2.899724245071411 secs\n",
            "\n",
            "Epoch 5 Loss 8.1730\n",
            "Time taken for 1 epoch: 3.185492992401123 secs\n",
            "\n",
            "Epoch 6 Loss 8.1315\n",
            "Time taken for 1 epoch: 2.836257219314575 secs\n",
            "\n",
            "Epoch 7 Loss 8.0915\n",
            "Time taken for 1 epoch: 3.0165321826934814 secs\n",
            "\n",
            "Epoch 8 Loss 8.0510\n",
            "Time taken for 1 epoch: 2.8199539184570312 secs\n",
            "\n",
            "Epoch 9 Loss 8.0081\n",
            "Time taken for 1 epoch: 3.0704009532928467 secs\n",
            "\n",
            "Epoch 10 Loss 7.9697\n",
            "Time taken for 1 epoch: 2.729107618331909 secs\n",
            "\n",
            "Epoch 11 Loss 7.9296\n",
            "Time taken for 1 epoch: 2.7186989784240723 secs\n",
            "\n",
            "Epoch 12 Loss 7.8931\n",
            "Time taken for 1 epoch: 2.852825403213501 secs\n",
            "\n",
            "Epoch 13 Loss 7.8584\n",
            "Time taken for 1 epoch: 2.815093755722046 secs\n",
            "\n",
            "Epoch 14 Loss 7.8262\n",
            "Time taken for 1 epoch: 2.7091734409332275 secs\n",
            "\n",
            "Epoch 15 Loss 7.7937\n",
            "Time taken for 1 epoch: 2.7946715354919434 secs\n",
            "\n",
            "Epoch 16 Loss 7.7676\n",
            "Time taken for 1 epoch: 2.806692600250244 secs\n",
            "\n",
            "Epoch 17 Loss 7.7363\n",
            "Time taken for 1 epoch: 2.8864002227783203 secs\n",
            "\n",
            "Epoch 18 Loss 7.7098\n",
            "Time taken for 1 epoch: 2.9798154830932617 secs\n",
            "\n",
            "Epoch 19 Loss 7.6759\n",
            "Time taken for 1 epoch: 2.9372336864471436 secs\n",
            "\n",
            "Epoch 20 Loss 7.6508\n",
            "Time taken for 1 epoch: 3.0290651321411133 secs\n",
            "\n",
            "Epoch 21 Loss 7.6180\n",
            "Time taken for 1 epoch: 3.001577615737915 secs\n",
            "\n",
            "Epoch 22 Loss 7.5892\n",
            "Time taken for 1 epoch: 3.854750871658325 secs\n",
            "\n",
            "Epoch 23 Loss 7.5595\n",
            "Time taken for 1 epoch: 3.10203218460083 secs\n",
            "\n",
            "Epoch 24 Loss 7.5302\n",
            "Time taken for 1 epoch: 3.4076061248779297 secs\n",
            "\n",
            "Epoch 25 Loss 7.4965\n",
            "Time taken for 1 epoch: 3.474168062210083 secs\n",
            "\n",
            "Epoch 26 Loss 7.4628\n",
            "Time taken for 1 epoch: 3.2109262943267822 secs\n",
            "\n",
            "Epoch 27 Loss 7.4280\n",
            "Time taken for 1 epoch: 3.1330013275146484 secs\n",
            "\n",
            "Epoch 28 Loss 7.3941\n",
            "Time taken for 1 epoch: 3.818126916885376 secs\n",
            "\n",
            "Epoch 29 Loss 7.3556\n",
            "Time taken for 1 epoch: 6.287004232406616 secs\n",
            "\n",
            "Epoch 30 Loss 7.3192\n",
            "Time taken for 1 epoch: 3.64890456199646 secs\n",
            "\n",
            "Epoch 31 Loss 7.2796\n",
            "Time taken for 1 epoch: 3.366934299468994 secs\n",
            "\n",
            "Epoch 32 Loss 7.2417\n",
            "Time taken for 1 epoch: 3.313965320587158 secs\n",
            "\n",
            "Epoch 33 Loss 7.1990\n",
            "Time taken for 1 epoch: 3.646760940551758 secs\n",
            "\n",
            "Epoch 34 Loss 7.1579\n",
            "Time taken for 1 epoch: 3.178652286529541 secs\n",
            "\n",
            "Epoch 35 Loss 7.1157\n",
            "Time taken for 1 epoch: 2.9093782901763916 secs\n",
            "\n",
            "Epoch 36 Loss 7.0698\n",
            "Time taken for 1 epoch: 2.8376362323760986 secs\n",
            "\n",
            "Epoch 37 Loss 7.0245\n",
            "Time taken for 1 epoch: 2.720702886581421 secs\n",
            "\n",
            "Epoch 38 Loss 6.9815\n",
            "Time taken for 1 epoch: 2.747936725616455 secs\n",
            "\n",
            "Epoch 39 Loss 6.9340\n",
            "Time taken for 1 epoch: 2.679105043411255 secs\n",
            "\n",
            "Epoch 40 Loss 6.8891\n",
            "Time taken for 1 epoch: 2.7677321434020996 secs\n",
            "\n",
            "Epoch 41 Loss 6.8416\n",
            "Time taken for 1 epoch: 2.9835195541381836 secs\n",
            "\n",
            "Epoch 42 Loss 6.7943\n",
            "Time taken for 1 epoch: 2.8106772899627686 secs\n",
            "\n",
            "Epoch 43 Loss 6.7457\n",
            "Time taken for 1 epoch: 2.8010425567626953 secs\n",
            "\n",
            "Epoch 44 Loss 6.6976\n",
            "Time taken for 1 epoch: 2.75412917137146 secs\n",
            "\n",
            "Epoch 45 Loss 6.6461\n",
            "Time taken for 1 epoch: 2.777066707611084 secs\n",
            "\n",
            "Epoch 46 Loss 6.6010\n",
            "Time taken for 1 epoch: 2.8982298374176025 secs\n",
            "\n",
            "Epoch 47 Loss 6.5515\n",
            "Time taken for 1 epoch: 2.7806971073150635 secs\n",
            "\n",
            "Epoch 48 Loss 6.5018\n",
            "Time taken for 1 epoch: 2.8028059005737305 secs\n",
            "\n",
            "Epoch 49 Loss 6.4530\n",
            "Time taken for 1 epoch: 2.791839122772217 secs\n",
            "\n",
            "Epoch 50 Loss 6.4030\n",
            "Time taken for 1 epoch: 2.785062551498413 secs\n",
            "\n",
            "Epoch 51 Loss 6.3558\n",
            "Time taken for 1 epoch: 2.7986199855804443 secs\n",
            "\n",
            "Epoch 52 Loss 6.3063\n",
            "Time taken for 1 epoch: 2.8153650760650635 secs\n",
            "\n",
            "Epoch 53 Loss 6.2588\n",
            "Time taken for 1 epoch: 2.7876100540161133 secs\n",
            "\n",
            "Epoch 54 Loss 6.2082\n",
            "Time taken for 1 epoch: 2.7861711978912354 secs\n",
            "\n",
            "Epoch 55 Loss 6.1585\n",
            "Time taken for 1 epoch: 2.7823092937469482 secs\n",
            "\n",
            "Epoch 56 Loss 6.1100\n",
            "Time taken for 1 epoch: 2.8398258686065674 secs\n",
            "\n",
            "Epoch 57 Loss 6.0647\n",
            "Time taken for 1 epoch: 2.772474527359009 secs\n",
            "\n",
            "Epoch 58 Loss 6.0149\n",
            "Time taken for 1 epoch: 2.941744804382324 secs\n",
            "\n",
            "Epoch 59 Loss 5.9701\n",
            "Time taken for 1 epoch: 3.109778642654419 secs\n",
            "\n",
            "Epoch 60 Loss 5.9219\n",
            "Time taken for 1 epoch: 3.1701712608337402 secs\n",
            "\n",
            "Epoch 61 Loss 5.8745\n",
            "Time taken for 1 epoch: 3.1380107402801514 secs\n",
            "\n",
            "Epoch 62 Loss 5.8269\n",
            "Time taken for 1 epoch: 3.229012966156006 secs\n",
            "\n",
            "Epoch 63 Loss 5.7803\n",
            "Time taken for 1 epoch: 3.1949589252471924 secs\n",
            "\n",
            "Epoch 64 Loss 5.7322\n",
            "Time taken for 1 epoch: 2.768390417098999 secs\n",
            "\n",
            "Epoch 65 Loss 5.6830\n",
            "Time taken for 1 epoch: 2.7643370628356934 secs\n",
            "\n",
            "Epoch 66 Loss 5.6395\n",
            "Time taken for 1 epoch: 2.7022688388824463 secs\n",
            "\n",
            "Epoch 67 Loss 5.5967\n",
            "Time taken for 1 epoch: 2.7908031940460205 secs\n",
            "\n",
            "Epoch 68 Loss 5.5539\n",
            "Time taken for 1 epoch: 3.48433780670166 secs\n",
            "\n",
            "Epoch 69 Loss 5.5120\n",
            "Time taken for 1 epoch: 3.4352641105651855 secs\n",
            "\n",
            "Epoch 70 Loss 5.4663\n",
            "Time taken for 1 epoch: 3.4176032543182373 secs\n",
            "\n",
            "Epoch 71 Loss 5.4283\n",
            "Time taken for 1 epoch: 3.0155465602874756 secs\n",
            "\n",
            "Epoch 72 Loss 5.3839\n",
            "Time taken for 1 epoch: 4.190680027008057 secs\n",
            "\n",
            "Epoch 73 Loss 5.3453\n",
            "Time taken for 1 epoch: 4.029437065124512 secs\n",
            "\n",
            "Epoch 74 Loss 5.2981\n",
            "Time taken for 1 epoch: 3.458491325378418 secs\n",
            "\n",
            "Epoch 75 Loss 5.2635\n",
            "Time taken for 1 epoch: 2.995410203933716 secs\n",
            "\n",
            "Epoch 76 Loss 5.2248\n",
            "Time taken for 1 epoch: 2.9529449939727783 secs\n",
            "\n",
            "Epoch 77 Loss 5.1815\n",
            "Time taken for 1 epoch: 3.1169521808624268 secs\n",
            "\n",
            "Epoch 78 Loss 5.1437\n",
            "Time taken for 1 epoch: 2.873979330062866 secs\n",
            "\n",
            "Epoch 79 Loss 5.0987\n",
            "Time taken for 1 epoch: 2.895235538482666 secs\n",
            "\n",
            "Epoch 80 Loss 5.0607\n",
            "Time taken for 1 epoch: 3.078843832015991 secs\n",
            "\n",
            "Epoch 81 Loss 5.0244\n",
            "Time taken for 1 epoch: 3.0901029109954834 secs\n",
            "\n",
            "Epoch 82 Loss 4.9839\n",
            "Time taken for 1 epoch: 3.1453332901000977 secs\n",
            "\n",
            "Epoch 83 Loss 4.9361\n",
            "Time taken for 1 epoch: 3.6648051738739014 secs\n",
            "\n",
            "Epoch 84 Loss 4.9002\n",
            "Time taken for 1 epoch: 3.2288107872009277 secs\n",
            "\n",
            "Epoch 85 Loss 4.8552\n",
            "Time taken for 1 epoch: 3.991312265396118 secs\n",
            "\n",
            "Epoch 86 Loss 4.8144\n",
            "Time taken for 1 epoch: 3.1610825061798096 secs\n",
            "\n",
            "Epoch 87 Loss 4.7742\n",
            "Time taken for 1 epoch: 4.059001445770264 secs\n",
            "\n",
            "Epoch 88 Loss 4.7379\n",
            "Time taken for 1 epoch: 4.002900838851929 secs\n",
            "\n",
            "Epoch 89 Loss 4.6914\n",
            "Time taken for 1 epoch: 5.396196126937866 secs\n",
            "\n",
            "Epoch 90 Loss 4.6485\n",
            "Time taken for 1 epoch: 4.660334587097168 secs\n",
            "\n",
            "Epoch 91 Loss 4.6028\n",
            "Time taken for 1 epoch: 3.0738019943237305 secs\n",
            "\n",
            "Epoch 92 Loss 4.5547\n",
            "Time taken for 1 epoch: 3.1256279945373535 secs\n",
            "\n",
            "Epoch 93 Loss 4.5094\n",
            "Time taken for 1 epoch: 3.203355550765991 secs\n",
            "\n",
            "Epoch 94 Loss 4.4592\n",
            "Time taken for 1 epoch: 3.113325357437134 secs\n",
            "\n",
            "Epoch 95 Loss 4.4240\n",
            "Time taken for 1 epoch: 3.0321383476257324 secs\n",
            "\n",
            "Epoch 96 Loss 4.3767\n",
            "Time taken for 1 epoch: 3.380331039428711 secs\n",
            "\n",
            "Epoch 97 Loss 4.3370\n",
            "Time taken for 1 epoch: 3.377833843231201 secs\n",
            "\n",
            "Epoch 98 Loss 4.2899\n",
            "Time taken for 1 epoch: 3.706692695617676 secs\n",
            "\n",
            "Epoch 99 Loss 4.2408\n",
            "Time taken for 1 epoch: 3.271404504776001 secs\n",
            "\n",
            "Epoch 100 Loss 4.2038\n",
            "Time taken for 1 epoch: 3.0212182998657227 secs\n",
            "\n",
            "Epoch 101 Loss 4.1669\n",
            "Time taken for 1 epoch: 3.2360241413116455 secs\n",
            "\n",
            "Epoch 102 Loss 4.1062\n",
            "Time taken for 1 epoch: 2.842710018157959 secs\n",
            "\n",
            "Epoch 103 Loss 4.0698\n",
            "Time taken for 1 epoch: 2.974531650543213 secs\n",
            "\n",
            "Epoch 104 Loss 4.0205\n",
            "Time taken for 1 epoch: 2.9410347938537598 secs\n",
            "\n",
            "Epoch 105 Loss 3.9745\n",
            "Time taken for 1 epoch: 3.034437894821167 secs\n",
            "\n",
            "Epoch 106 Loss 3.9329\n",
            "Time taken for 1 epoch: 3.386052131652832 secs\n",
            "\n",
            "Epoch 107 Loss 3.8912\n",
            "Time taken for 1 epoch: 3.3213050365448 secs\n",
            "\n",
            "Epoch 108 Loss 3.8514\n",
            "Time taken for 1 epoch: 2.9477016925811768 secs\n",
            "\n",
            "Epoch 109 Loss 3.8135\n",
            "Time taken for 1 epoch: 3.2146623134613037 secs\n",
            "\n",
            "Epoch 110 Loss 3.7662\n",
            "Time taken for 1 epoch: 2.9820034503936768 secs\n",
            "\n",
            "Epoch 111 Loss 3.7194\n",
            "Time taken for 1 epoch: 2.9398417472839355 secs\n",
            "\n",
            "Epoch 112 Loss 3.6789\n",
            "Time taken for 1 epoch: 2.903665065765381 secs\n",
            "\n",
            "Epoch 113 Loss 3.6344\n",
            "Time taken for 1 epoch: 3.2288784980773926 secs\n",
            "\n",
            "Epoch 114 Loss 3.5937\n",
            "Time taken for 1 epoch: 3.037954568862915 secs\n",
            "\n",
            "Epoch 115 Loss 3.5452\n",
            "Time taken for 1 epoch: 3.141298770904541 secs\n",
            "\n",
            "Epoch 116 Loss 3.5060\n",
            "Time taken for 1 epoch: 3.0464212894439697 secs\n",
            "\n",
            "Epoch 117 Loss 3.4637\n",
            "Time taken for 1 epoch: 3.2910850048065186 secs\n",
            "\n",
            "Epoch 118 Loss 3.4275\n",
            "Time taken for 1 epoch: 3.0863101482391357 secs\n",
            "\n",
            "Epoch 119 Loss 3.3764\n",
            "Time taken for 1 epoch: 3.362973928451538 secs\n",
            "\n",
            "Epoch 120 Loss 3.3349\n",
            "Time taken for 1 epoch: 2.917997121810913 secs\n",
            "\n",
            "Epoch 121 Loss 3.2963\n",
            "Time taken for 1 epoch: 2.9376282691955566 secs\n",
            "\n",
            "Epoch 122 Loss 3.2645\n",
            "Time taken for 1 epoch: 3.1289732456207275 secs\n",
            "\n",
            "Epoch 123 Loss 3.2154\n",
            "Time taken for 1 epoch: 3.324263095855713 secs\n",
            "\n",
            "Epoch 124 Loss 3.1686\n",
            "Time taken for 1 epoch: 2.999612331390381 secs\n",
            "\n",
            "Epoch 125 Loss 3.1335\n",
            "Time taken for 1 epoch: 2.9730842113494873 secs\n",
            "\n",
            "Epoch 126 Loss 3.0992\n",
            "Time taken for 1 epoch: 3.3151350021362305 secs\n",
            "\n",
            "Epoch 127 Loss 3.0524\n",
            "Time taken for 1 epoch: 3.310263156890869 secs\n",
            "\n",
            "Epoch 128 Loss 3.0182\n",
            "Time taken for 1 epoch: 3.0537502765655518 secs\n",
            "\n",
            "Epoch 129 Loss 2.9694\n",
            "Time taken for 1 epoch: 3.3555145263671875 secs\n",
            "\n",
            "Epoch 130 Loss 2.9359\n",
            "Time taken for 1 epoch: 3.1846253871917725 secs\n",
            "\n",
            "Epoch 131 Loss 2.9017\n",
            "Time taken for 1 epoch: 4.128702640533447 secs\n",
            "\n",
            "Epoch 132 Loss 2.8594\n",
            "Time taken for 1 epoch: 6.651099443435669 secs\n",
            "\n",
            "Epoch 133 Loss 2.8175\n",
            "Time taken for 1 epoch: 5.968024730682373 secs\n",
            "\n",
            "Epoch 134 Loss 2.7815\n",
            "Time taken for 1 epoch: 4.694147109985352 secs\n",
            "\n",
            "Epoch 135 Loss 2.7464\n",
            "Time taken for 1 epoch: 4.571410655975342 secs\n",
            "\n",
            "Epoch 136 Loss 2.6875\n",
            "Time taken for 1 epoch: 3.0667738914489746 secs\n",
            "\n",
            "Epoch 137 Loss 2.6482\n",
            "Time taken for 1 epoch: 2.830519437789917 secs\n",
            "\n",
            "Epoch 138 Loss 2.6155\n",
            "Time taken for 1 epoch: 2.961273193359375 secs\n",
            "\n",
            "Epoch 139 Loss 2.5605\n",
            "Time taken for 1 epoch: 3.229243755340576 secs\n",
            "\n",
            "Epoch 140 Loss 2.5431\n",
            "Time taken for 1 epoch: 2.8146286010742188 secs\n",
            "\n",
            "Epoch 141 Loss 2.5043\n",
            "Time taken for 1 epoch: 2.7972147464752197 secs\n",
            "\n",
            "Epoch 142 Loss 2.4572\n",
            "Time taken for 1 epoch: 2.926438331604004 secs\n",
            "\n",
            "Epoch 143 Loss 2.4144\n",
            "Time taken for 1 epoch: 2.8251399993896484 secs\n",
            "\n",
            "Epoch 144 Loss 2.3750\n",
            "Time taken for 1 epoch: 3.0043277740478516 secs\n",
            "\n",
            "Epoch 145 Loss 2.3436\n",
            "Time taken for 1 epoch: 2.812116861343384 secs\n",
            "\n",
            "Epoch 146 Loss 2.3050\n",
            "Time taken for 1 epoch: 3.106203079223633 secs\n",
            "\n",
            "Epoch 147 Loss 2.2683\n",
            "Time taken for 1 epoch: 3.7459027767181396 secs\n",
            "\n",
            "Epoch 148 Loss 2.2364\n",
            "Time taken for 1 epoch: 3.1360249519348145 secs\n",
            "\n",
            "Epoch 149 Loss 2.2091\n",
            "Time taken for 1 epoch: 2.882112979888916 secs\n",
            "\n",
            "Epoch 150 Loss 2.1513\n",
            "Time taken for 1 epoch: 3.324928045272827 secs\n",
            "\n",
            "Epoch 151 Loss 2.1217\n",
            "Time taken for 1 epoch: 3.0200726985931396 secs\n",
            "\n",
            "Epoch 152 Loss 2.0860\n",
            "Time taken for 1 epoch: 2.939948320388794 secs\n",
            "\n",
            "Epoch 153 Loss 2.0460\n",
            "Time taken for 1 epoch: 3.1458780765533447 secs\n",
            "\n",
            "Epoch 154 Loss 2.0169\n",
            "Time taken for 1 epoch: 2.978044271469116 secs\n",
            "\n",
            "Epoch 155 Loss 1.9631\n",
            "Time taken for 1 epoch: 2.8909621238708496 secs\n",
            "\n",
            "Epoch 156 Loss 1.9421\n",
            "Time taken for 1 epoch: 2.7468738555908203 secs\n",
            "\n",
            "Epoch 157 Loss 1.8926\n",
            "Time taken for 1 epoch: 2.846325397491455 secs\n",
            "\n",
            "Epoch 158 Loss 1.8643\n",
            "Time taken for 1 epoch: 2.778323173522949 secs\n",
            "\n",
            "Epoch 159 Loss 1.8379\n",
            "Time taken for 1 epoch: 2.9670941829681396 secs\n",
            "\n",
            "Epoch 160 Loss 1.7855\n",
            "Time taken for 1 epoch: 3.08809494972229 secs\n",
            "\n",
            "Epoch 161 Loss 1.7552\n",
            "Time taken for 1 epoch: 2.893369436264038 secs\n",
            "\n",
            "Epoch 162 Loss 1.7173\n",
            "Time taken for 1 epoch: 2.780816078186035 secs\n",
            "\n",
            "Epoch 163 Loss 1.6698\n",
            "Time taken for 1 epoch: 2.8470635414123535 secs\n",
            "\n",
            "Epoch 164 Loss 1.6371\n",
            "Time taken for 1 epoch: 2.880063772201538 secs\n",
            "\n",
            "Epoch 165 Loss 1.6153\n",
            "Time taken for 1 epoch: 3.0093319416046143 secs\n",
            "\n",
            "Epoch 166 Loss 1.5849\n",
            "Time taken for 1 epoch: 3.084597110748291 secs\n",
            "\n",
            "Epoch 167 Loss 1.5533\n",
            "Time taken for 1 epoch: 3.045628309249878 secs\n",
            "\n",
            "Epoch 168 Loss 1.5175\n",
            "Time taken for 1 epoch: 3.1456139087677 secs\n",
            "\n",
            "Epoch 169 Loss 1.4828\n",
            "Time taken for 1 epoch: 4.702588081359863 secs\n",
            "\n",
            "Epoch 170 Loss 1.4464\n",
            "Time taken for 1 epoch: 4.405319929122925 secs\n",
            "\n",
            "Epoch 171 Loss 1.4154\n",
            "Time taken for 1 epoch: 3.2531871795654297 secs\n",
            "\n",
            "Epoch 172 Loss 1.3802\n",
            "Time taken for 1 epoch: 3.3646531105041504 secs\n",
            "\n",
            "Epoch 173 Loss 1.3539\n",
            "Time taken for 1 epoch: 3.4582409858703613 secs\n",
            "\n",
            "Epoch 174 Loss 1.3054\n",
            "Time taken for 1 epoch: 3.946213722229004 secs\n",
            "\n",
            "Epoch 175 Loss 1.2772\n",
            "Time taken for 1 epoch: 3.736738681793213 secs\n",
            "\n",
            "Epoch 176 Loss 1.2363\n",
            "Time taken for 1 epoch: 3.5271224975585938 secs\n",
            "\n",
            "Epoch 177 Loss 1.2133\n",
            "Time taken for 1 epoch: 3.4932985305786133 secs\n",
            "\n",
            "Epoch 178 Loss 1.1795\n",
            "Time taken for 1 epoch: 3.3548102378845215 secs\n",
            "\n",
            "Epoch 179 Loss 1.1502\n",
            "Time taken for 1 epoch: 3.1167330741882324 secs\n",
            "\n",
            "Epoch 180 Loss 1.1201\n",
            "Time taken for 1 epoch: 3.031484842300415 secs\n",
            "\n",
            "Epoch 181 Loss 1.0832\n",
            "Time taken for 1 epoch: 3.491147518157959 secs\n",
            "\n",
            "Epoch 182 Loss 1.0690\n",
            "Time taken for 1 epoch: 3.42267107963562 secs\n",
            "\n",
            "Epoch 183 Loss 1.0242\n",
            "Time taken for 1 epoch: 3.3530783653259277 secs\n",
            "\n",
            "Epoch 184 Loss 1.0113\n",
            "Time taken for 1 epoch: 3.491433620452881 secs\n",
            "\n",
            "Epoch 185 Loss 0.9781\n",
            "Time taken for 1 epoch: 3.4983723163604736 secs\n",
            "\n",
            "Epoch 186 Loss 0.9535\n",
            "Time taken for 1 epoch: 3.7111704349517822 secs\n",
            "\n",
            "Epoch 187 Loss 0.9218\n",
            "Time taken for 1 epoch: 3.9839916229248047 secs\n",
            "\n",
            "Epoch 188 Loss 0.8923\n",
            "Time taken for 1 epoch: 3.7446224689483643 secs\n",
            "\n",
            "Epoch 189 Loss 0.8670\n",
            "Time taken for 1 epoch: 4.8347532749176025 secs\n",
            "\n",
            "Epoch 190 Loss 0.8356\n",
            "Time taken for 1 epoch: 3.9554574489593506 secs\n",
            "\n",
            "Epoch 191 Loss 0.8047\n",
            "Time taken for 1 epoch: 4.094233512878418 secs\n",
            "\n",
            "Epoch 192 Loss 0.7771\n",
            "Time taken for 1 epoch: 4.145365238189697 secs\n",
            "\n",
            "Epoch 193 Loss 0.7651\n",
            "Time taken for 1 epoch: 7.0445497035980225 secs\n",
            "\n",
            "Epoch 194 Loss 0.7298\n",
            "Time taken for 1 epoch: 4.853042840957642 secs\n",
            "\n",
            "Epoch 195 Loss 0.7098\n",
            "Time taken for 1 epoch: 4.337088346481323 secs\n",
            "\n",
            "Epoch 196 Loss 0.7022\n",
            "Time taken for 1 epoch: 4.2262938022613525 secs\n",
            "\n",
            "Epoch 197 Loss 0.6726\n",
            "Time taken for 1 epoch: 3.3015315532684326 secs\n",
            "\n",
            "Epoch 198 Loss 0.6436\n",
            "Time taken for 1 epoch: 2.843024730682373 secs\n",
            "\n",
            "Epoch 199 Loss 0.6160\n",
            "Time taken for 1 epoch: 2.875105142593384 secs\n",
            "\n",
            "Epoch 200 Loss 0.5999\n",
            "Time taken for 1 epoch: 2.9660558700561523 secs\n",
            "\n"
          ]
        }
      ],
      "source": [
        "import time\n",
        "\n",
        "for epoch in range(EPOCHS):\n",
        "    start = time.time()\n",
        "\n",
        "    train_loss.reset_states()\n",
        "  \n",
        "    for (batch, (inp, tar)) in enumerate(dataset):\n",
        "        train_step(inp, tar)\n",
        "    \n",
        "        # Uncomment the following lines to show more training results.  \n",
        "        # if batch % 429 == 0:\n",
        "        # print ('Epoch {} Batch {} Loss {:.4f}'.format(epoch + 1, batch, train_loss.result()))\n",
        "\n",
        "    # Uncomment the following lines to save the checkpoints.  \n",
        "    # if (epoch + 1) % 5 == 0:\n",
        "    #     ckpt_save_path = ckpt_manager.save()\n",
        "    #     print ('Saving checkpoint for epoch {} at {}'.format(epoch+1, ckpt_save_path))\n",
        "    \n",
        "    print ('Epoch {} Loss {:.4f}'.format(epoch + 1, train_loss.result()))\n",
        "\n",
        "    print ('Time taken for 1 epoch: {} secs\\n'.format(time.time() - start))"
      ]
    },
    {
      "cell_type": "markdown",
      "metadata": {},
      "source": [
        "Use the model for inference."
      ]
    },
    {
      "cell_type": "code",
      "execution_count": 44,
      "metadata": {
        "colab": {},
        "colab_type": "code",
        "id": "As5wM_LCvHmT"
      },
      "outputs": [],
      "source": [
        "def evaluate(input_document):\n",
        "    input_document = document_tokenizer.texts_to_sequences([input_document])\n",
        "    input_document = tf.keras.preprocessing.sequence.pad_sequences(input_document, maxlen=encoder_maxlen, padding='post', truncating='post')\n",
        "\n",
        "    encoder_input = tf.expand_dims(input_document[0], 0)\n",
        "\n",
        "    decoder_input = [summary_tokenizer.word_index[\"<go>\"]]\n",
        "    output = tf.expand_dims(decoder_input, 0)\n",
        "    \n",
        "    for i in range(decoder_maxlen):\n",
        "        enc_padding_mask, combined_mask, dec_padding_mask = create_masks(encoder_input, output)\n",
        "\n",
        "        predictions, attention_weights = transformer(\n",
        "            encoder_input, \n",
        "            output,\n",
        "            False,\n",
        "            enc_padding_mask,\n",
        "            combined_mask,\n",
        "            dec_padding_mask\n",
        "        )\n",
        "\n",
        "        predictions = predictions[: ,-1:, :]\n",
        "        predicted_id = tf.cast(tf.argmax(predictions, axis=-1), tf.int32)\n",
        "\n",
        "        if predicted_id == summary_tokenizer.word_index[\"<stop>\"]:\n",
        "            return tf.squeeze(output, axis=0), attention_weights\n",
        "\n",
        "        output = tf.concat([output, predicted_id], axis=-1)\n",
        "\n",
        "    return tf.squeeze(output, axis=0), attention_weights"
      ]
    },
    {
      "cell_type": "markdown",
      "metadata": {},
      "source": [
        "## Summarization performance\n",
        "\n",
        "The `Recall-Oriented Understudy for Gisting Evaluation` (ROUGE) score is the subject of the current section, and although its name sounds complicated, it's incredibly easy to understand and implement. It works by comparing an automatically produced summary against a human reference summary using n-grams. "
      ]
    },
    {
      "cell_type": "code",
      "execution_count": 45,
      "metadata": {
        "colab": {},
        "colab_type": "code",
        "id": "NmoEiEE2vHmX"
      },
      "outputs": [],
      "source": [
        "# Summarize an input document.\n",
        "def summarize(input_document):\n",
        "\n",
        "    summarized = evaluate(input_document=input_document)[0].numpy()\n",
        "    # Exclude <go> token.\n",
        "    summarized = np.expand_dims(summarized[1:], 0)\n",
        "\n",
        "    return summary_tokenizer.sequences_to_texts(summarized)[0]"
      ]
    },
    {
      "cell_type": "markdown",
      "metadata": {},
      "source": [
        "Next, we call the method for one sample from the documents."
      ]
    },
    {
      "cell_type": "code",
      "execution_count": 46,
      "metadata": {
        "colab": {},
        "colab_type": "code",
        "id": "L2KDyGs8vHma"
      },
      "outputs": [
        {
          "name": "stdout",
          "output_type": "stream",
          "text": [
            "athens ath inz greek αθήνα romanized athína pronounced aˈθina ancient greek ἀθῆναι romanized athênai pronounced atʰɛ̂ːnai̯ is a major coastal urban area in the mediterranean and it is both the capital and the largest city of greece with its urban area's population numbering over three million it is also the\n"
          ]
        }
      ],
      "source": [
        "result = summarize(document[2])\n",
        "print(result)"
      ]
    },
    {
      "cell_type": "markdown",
      "metadata": {},
      "source": [
        "The reference in this case is:"
      ]
    },
    {
      "cell_type": "code",
      "execution_count": 47,
      "metadata": {},
      "outputs": [
        {
          "name": "stdout",
          "output_type": "stream",
          "text": [
            "athens ( ath-inz; greek: αθήνα, romanized: athína, pronounced [aˈθina] ; ancient greek: ἀθῆναι, romanized: athênai, pronounced [atʰɛ̂ːnai̯]) is a major coastal urban area in the mediterranean, and it is both the capital and the largest city of greece. with its urban area's population numbering over three million, it is also\n"
          ]
        }
      ],
      "source": [
        "reference = ' '.join(summary[2].split()[1:51]).lower()\n",
        "print(reference)"
      ]
    },
    {
      "cell_type": "markdown",
      "metadata": {},
      "source": [
        "Finally, the scores are calculated as follows:"
      ]
    },
    {
      "cell_type": "code",
      "execution_count": 48,
      "metadata": {},
      "outputs": [
        {
          "name": "stdout",
          "output_type": "stream",
          "text": [
            "{'rouge1': Score(precision=1.0, recall=0.9811320754716981, fmeasure=0.9904761904761905), 'rouge2': Score(precision=1.0, recall=0.9807692307692307, fmeasure=0.9902912621359222), 'rougeL': Score(precision=1.0, recall=0.9811320754716981, fmeasure=0.9904761904761905)}\n"
          ]
        }
      ],
      "source": [
        "from rouge_score import rouge_scorer\n",
        "\n",
        "# Calculate the Rouge scores.\n",
        "scorer = rouge_scorer.RougeScorer(['rouge1', 'rouge2', 'rougeL'], use_stemmer=True)\n",
        "scores = scorer.score(result, reference)\n",
        "print(scores)"
      ]
    },
    {
      "cell_type": "markdown",
      "metadata": {},
      "source": [
        "## What we have learned …\n",
        "\n",
        "| | | |\n",
        "| --- | --- | --- |\n",
        "| **Visualizations**<ul><li>Knowledge graphs</li></ul> | **ML concepts**<ul><li>Attention</li></ul> | **ML algorithms & models** <ul><li>Transformers</li></ul> |\n",
        "| **Performance metrics**<ul><li>ROUGE score</li></ul>| | |\n",
        "| | | |"
      ]
    },
    {
      "cell_type": "markdown",
      "metadata": {},
      "source": [
        "## Author Information\n",
        "\n",
        "- **Author:** Nikos Tsourakis\n",
        "- **Email:** nikos@tsourakis.net\n",
        "- **Website:** [tsourakis.net](https://tsourakis.net)\n",
        "- **Date:** November 20, 2023"
      ]
    }
  ],
  "metadata": {
    "kernelspec": {
      "display_name": "Python 3.9.7 64-bit",
      "language": "python",
      "name": "python3"
    },
    "language_info": {
      "codemirror_mode": {
        "name": "ipython",
        "version": 3
      },
      "file_extension": ".py",
      "mimetype": "text/x-python",
      "name": "python",
      "nbconvert_exporter": "python",
      "pygments_lexer": "ipython3",
      "version": "3.9.7"
    },
    "vscode": {
      "interpreter": {
        "hash": "8f1e200aa4e9598f1b1017d8bb6526388dc3fae44f5def43455ba665e800f8e8"
      }
    }
  },
  "nbformat": 4,
  "nbformat_minor": 0
}
