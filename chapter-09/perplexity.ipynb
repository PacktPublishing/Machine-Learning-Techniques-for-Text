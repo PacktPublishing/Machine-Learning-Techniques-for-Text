{
 "cells": [
  {
   "cell_type": "markdown",
   "metadata": {},
   "source": [
    "# <u>Chapter 9</u>: Generating Text in Chatbots"
   ]
  },
  {
   "cell_type": "code",
   "execution_count": 1,
   "metadata": {},
   "outputs": [],
   "source": [
    "import sys\n",
    "import subprocess\n",
    "import pkg_resources\n",
    "\n",
    "# Find out which packages are missing.\n",
    "installed_packages = {dist.key for dist in pkg_resources.working_set}\n",
    "required_packages = {'torch', 'transformers'}\n",
    "missing_packages = required_packages - installed_packages\n",
    "\n",
    "# If there are missing packages install them.\n",
    "if missing_packages:\n",
    "    print('Installing the following packages: ' + str(missing_packages))\n",
    "    python = sys.executable\n",
    "    subprocess.check_call([python, '-m', 'pip', 'install', *missing_packages], stdout=subprocess.DEVNULL)"
   ]
  },
  {
   "cell_type": "markdown",
   "metadata": {},
   "source": [
    " <ins>Note</ins>: Windows users should enable their device for development, as described in the link https://learn.microsoft.com/en-us/windows/apps/get-started/enable-your-device-for-development"
   ]
  },
  {
   "cell_type": "markdown",
   "metadata": {},
   "source": [
    "## Perplexity\n",
    "\n",
    "In the code that follows, we measure the perplexity of the _gpt2_ model using three datasets."
   ]
  },
  {
   "cell_type": "code",
   "execution_count": 2,
   "metadata": {},
   "outputs": [],
   "source": [
    "import torch \n",
    "from transformers import GPT2LMHeadModel, GPT2TokenizerFast\n",
    "\n",
    "device = torch.device(\"cuda\" if torch.cuda.is_available() else \"cpu\")\n",
    "\n",
    "# Load the models.\n",
    "model_name = \"gpt2\"\n",
    "\n",
    "model = GPT2LMHeadModel.from_pretrained(model_name).to(device)\n",
    "tokenizer = GPT2TokenizerFast.from_pretrained(model_name)"
   ]
  },
  {
   "cell_type": "markdown",
   "metadata": {},
   "source": [
    "The perplexity calculation consists of various steps."
   ]
  },
  {
   "cell_type": "code",
   "execution_count": 3,
   "metadata": {},
   "outputs": [],
   "source": [
    "from tqdm import tqdm\n",
    "\n",
    "max_len = model.config.n_positions\n",
    "#  Use at least 512 tokens for context.\n",
    "stride = 512\n",
    "\n",
    "# Calculate the perplexity of the model.\n",
    "def calc_perplexity(encodings):\n",
    "\n",
    "    stack = []\n",
    "    \n",
    "    # Read the data using a sliding window for the context.\n",
    "    for i in tqdm(range(0, encodings.input_ids.size(1), stride)):\n",
    "        start_pos = max(stride-max_len+i, 0)\n",
    "        end_pos = min(i+stride, encodings.input_ids.size(1))\n",
    "        trg_len = end_pos - i\n",
    "        inp_ids = encodings.input_ids[:, start_pos:end_pos].to(device)\n",
    "        trg_ids = inp_ids.clone()\n",
    "        trg_ids[:, :-trg_len] = -100\n",
    "\n",
    "        # Calculate the negative log likelihood.\n",
    "        with torch.no_grad():\n",
    "            out = model(inp_ids, labels=trg_ids)\n",
    "            nll = out[0] * trg_len\n",
    "\n",
    "        # Negative log-likelihood stack.\n",
    "        stack.append(nll)\n",
    "    \n",
    "    return torch.exp(torch.stack(stack).sum()/end_pos).item()"
   ]
  },
  {
   "cell_type": "markdown",
   "metadata": {},
   "source": [
    "It's time to evaluate the model on the three diverse datasets.\n",
    "\n",
    "<ins>Warning</ins>: This process will take several minutes to finish."
   ]
  },
  {
   "cell_type": "code",
   "execution_count": 5,
   "metadata": {},
   "outputs": [
    {
     "name": "stderr",
     "output_type": "stream",
     "text": [
      "Reusing dataset wikitext (C:\\Users\\tsouraki\\.cache\\huggingface\\datasets\\wikitext\\wikitext-2-raw-v1\\1.0.0\\a241db52902eaf2c6aa732210bead40c090019a499ceb13bcbfa3f8ab646a126)\n",
      "Token indices sequence length is longer than the specified maximum sequence length for this model (287644 > 1024). Running this sequence through the model will result in indexing errors\n",
      "100%|██████████| 562/562 [46:08<00:00,  4.93s/it] \n"
     ]
    },
    {
     "name": "stdout",
     "output_type": "stream",
     "text": [
      "The perplexity of the wikitext model: 25.17\n"
     ]
    },
    {
     "name": "stderr",
     "output_type": "stream",
     "text": [
      "Using custom data configuration default\n",
      "Reusing dataset tiny_shakespeare (C:\\Users\\tsouraki\\.cache\\huggingface\\datasets\\tiny_shakespeare\\default\\1.0.0\\b5b13969f09fe8707337f6cb296314fbe06960bd9a868dca39e713e163d27b5e)\n",
      "100%|██████████| 36/36 [02:49<00:00,  4.71s/it]\n"
     ]
    },
    {
     "name": "stdout",
     "output_type": "stream",
     "text": [
      "The perplexity of the tiny_shakespeare model: 49.12\n"
     ]
    },
    {
     "name": "stderr",
     "output_type": "stream",
     "text": [
      "Using custom data configuration iamholmes--tiny-imdb-a0d5609bf925a0d5\n",
      "Reusing dataset parquet (C:\\Users\\tsouraki\\.cache\\huggingface\\datasets\\iamholmes___parquet\\iamholmes--tiny-imdb-a0d5609bf925a0d5\\0.0.0\\2a3b91fbd88a2c90d1dbbb32b460cf621d31bd5b05b934492fdef7d8d6f236ec)\n",
      "100%|██████████| 5/5 [00:18<00:00,  3.75s/it]"
     ]
    },
    {
     "name": "stdout",
     "output_type": "stream",
     "text": [
      "The perplexity of the tiny-imdb model is: 42.82\n"
     ]
    },
    {
     "name": "stderr",
     "output_type": "stream",
     "text": [
      "\n"
     ]
    }
   ],
   "source": [
    "from datasets import load_dataset\n",
    "\n",
    "# Load the dataset.\n",
    "testset = load_dataset(\"wikitext\", \"wikitext-2-raw-v1\", split=\"test\")\n",
    "\n",
    "encodings = tokenizer(\"\\n\\n\".join(testset[\"text\"]), return_tensors=\"pt\")\n",
    "print(\"The perplexity of the wikitext model: %.2f\" % calc_perplexity(encodings))\n",
    "\n",
    "# Load the dataset.\n",
    "testset = load_dataset(\"tiny_shakespeare\", \"default\", split=\"test\")\n",
    "\n",
    "encodings = tokenizer(\"\\n\\n\".join(testset[\"text\"]), return_tensors=\"pt\")\n",
    "print(\"The perplexity of the tiny_shakespeare model: %.2f\" % calc_perplexity(encodings))\n",
    "\n",
    "# Load the dataset.\n",
    "testset = load_dataset(\"iamholmes/tiny-imdb\", \"iamholmes--tiny-imdb\", split=\"test\")\n",
    "\n",
    "encodings = tokenizer(\"\\n\\n\".join(testset[\"text\"]), return_tensors=\"pt\")\n",
    "print(\"The perplexity of the tiny-imdb model is: %.2f\" % calc_perplexity(encodings))"
   ]
  },
  {
   "cell_type": "markdown",
   "metadata": {},
   "source": [
    "## What we have learned …\n",
    "\n",
    "| |\n",
    "| --- |\n",
    "| **Performance metrics**<ul><li>perplexity</li></ul> |\n",
    "| |"
   ]
  }
 ],
 "metadata": {
  "kernelspec": {
   "display_name": "Python 3.9.7 64-bit",
   "language": "python",
   "name": "python3"
  },
  "language_info": {
   "codemirror_mode": {
    "name": "ipython",
    "version": 3
   },
   "file_extension": ".py",
   "mimetype": "text/x-python",
   "name": "python",
   "nbconvert_exporter": "python",
   "pygments_lexer": "ipython3",
   "version": "3.9.7"
  },
  "metadata": {
   "interpreter": {
    "hash": "34c3ec88db1a123a786d67d086f3ede88281b71e687e4350202a680e0c5fcbcd"
   }
  },
  "vscode": {
   "interpreter": {
    "hash": "8f1e200aa4e9598f1b1017d8bb6526388dc3fae44f5def43455ba665e800f8e8"
   }
  }
 },
 "nbformat": 4,
 "nbformat_minor": 2
}
