{
 "cells": [
  {
   "cell_type": "markdown",
   "metadata": {},
   "source": [
    "# <u>Chapter 10</u>: Clustering Speech-to-Text Transcriptions\n",
    "\n",
    "`Topic modeling` refers to the task of identifying groups of items, in our case words, that best describes a collection of documents or sentences. The topics emerge during the specific process; hence they are called _latent_. A popular topic modeling technique to extract the hidden topics from a given corpus is the `Latent Dirichlet Allocation` (LDA). "
   ]
  },
  {
   "cell_type": "code",
   "execution_count": null,
   "metadata": {},
   "outputs": [],
   "source": [
    "import sys\n",
    "import subprocess\n",
    "import pkg_resources\n",
    "\n",
    "# Find out which packages are missing.\n",
    "installed_packages = {dist.key for dist in pkg_resources.working_set}\n",
    "required_packages = {'pandas', 'spacy', 'gensim', 'pyLDAvis'}\n",
    "missing_packages = required_packages - installed_packages\n",
    "\n",
    "# If there are missing packages install them.\n",
    "if missing_packages:\n",
    "    print('Installing the following packages: ' + str(missing_packages))\n",
    "    python = sys.executable\n",
    "    subprocess.check_call([python, '-m', 'pip', 'install', *missing_packages], stdout=subprocess.DEVNULL)"
   ]
  },
  {
   "cell_type": "markdown",
   "metadata": {},
   "source": [
    "## Data preparation\n",
    "\n",
    "First, we obtain a copy of the dataset from the CSV file."
   ]
  },
  {
   "cell_type": "code",
   "execution_count": 46,
   "metadata": {},
   "outputs": [
    {
     "data": {
      "text/html": [
       "<div>\n",
       "<style scoped>\n",
       "    .dataframe tbody tr th:only-of-type {\n",
       "        vertical-align: middle;\n",
       "    }\n",
       "\n",
       "    .dataframe tbody tr th {\n",
       "        vertical-align: top;\n",
       "    }\n",
       "\n",
       "    .dataframe thead th {\n",
       "        text-align: right;\n",
       "    }\n",
       "</style>\n",
       "<table border=\"1\" class=\"dataframe\">\n",
       "  <thead>\n",
       "    <tr style=\"text-align: right;\">\n",
       "      <th></th>\n",
       "      <th>hypothesis</th>\n",
       "    </tr>\n",
       "  </thead>\n",
       "  <tbody>\n",
       "    <tr>\n",
       "      <th>0</th>\n",
       "      <td>the cheap paper should not sacrifice toughness...</td>\n",
       "    </tr>\n",
       "    <tr>\n",
       "      <th>1</th>\n",
       "      <td>it is obvious that legibility is the first thi...</td>\n",
       "    </tr>\n",
       "    <tr>\n",
       "      <th>3</th>\n",
       "      <td>America which is the worst conceivable</td>\n",
       "    </tr>\n",
       "    <tr>\n",
       "      <th>4</th>\n",
       "      <td>it must be said that it is in no way like the ...</td>\n",
       "    </tr>\n",
       "    <tr>\n",
       "      <th>5</th>\n",
       "      <td>this experiment was so far successful that abo...</td>\n",
       "    </tr>\n",
       "  </tbody>\n",
       "</table>\n",
       "</div>"
      ],
      "text/plain": [
       "                                          hypothesis\n",
       "0  the cheap paper should not sacrifice toughness...\n",
       "1  it is obvious that legibility is the first thi...\n",
       "3             America which is the worst conceivable\n",
       "4  it must be said that it is in no way like the ...\n",
       "5  this experiment was so far successful that abo..."
      ]
     },
     "execution_count": 46,
     "metadata": {},
     "output_type": "execute_result"
    }
   ],
   "source": [
    "import pandas as pd\n",
    "\n",
    "# Read the hypotheses from the speech-to-text.\n",
    "hypothesis_df = pd.read_csv('data/hypothesis.csv', names=['hypothesis'], skiprows=1)\n",
    "corpus = hypothesis_df[hypothesis_df['hypothesis'] != \"<ERROR>\"]\n",
    "\n",
    "corpus.head()"
   ]
  },
  {
   "cell_type": "markdown",
   "metadata": {},
   "source": [
    "Next, we tokenize the sentences and perform a light preprocessing of the words."
   ]
  },
  {
   "cell_type": "code",
   "execution_count": 47,
   "metadata": {},
   "outputs": [],
   "source": [
    "from spacy.lang.en import English\n",
    "\n",
    "nlp = English()\n",
    "\n",
    "# Tokenize the input text.\n",
    "def tokenize(text):\n",
    "    tokens = []\n",
    "    doc = nlp(text)\n",
    "\n",
    "    for word in doc:\n",
    "        # Checks whether the word consists of whitespace.\n",
    "        if word.orth_.isspace():\n",
    "            continue\n",
    "        # Does the word resemble to a URL?\n",
    "        elif word.like_url:\n",
    "            tokens.append('URL')\n",
    "        # Does the word resemble to an email?\n",
    "        elif word.like_email:\n",
    "            tokens.append('EMAIL')\n",
    "        else:\n",
    "            tokens.append(word.lower_)\n",
    "\n",
    "    return tokens"
   ]
  },
  {
   "cell_type": "markdown",
   "metadata": {},
   "source": [
    "We load a set of stop words to be used later."
   ]
  },
  {
   "cell_type": "code",
   "execution_count": 48,
   "metadata": {},
   "outputs": [],
   "source": [
    "import spacy\n",
    "\n",
    "sp = spacy.load(\"en_core_web_sm\")\n",
    "\n",
    "# Define the list of stopwords.\n",
    "stop_words = sp.Defaults.stop_words"
   ]
  },
  {
   "cell_type": "markdown",
   "metadata": {},
   "source": [
    "Let's define the standard method for lemmatization."
   ]
  },
  {
   "cell_type": "code",
   "execution_count": 49,
   "metadata": {},
   "outputs": [],
   "source": [
    "# Lemmatize the input word.\n",
    "def lemmatize(text):\n",
    "    sentence = sp(text)\n",
    "    lemma = ''\n",
    "    for token in sentence:\n",
    "        lemma += token.lemma_ + ' '\n",
    "\n",
    "    return lemma.strip()"
   ]
  },
  {
   "cell_type": "markdown",
   "metadata": {},
   "source": [
    "An important design decision for this test is to focus solely on nouns and adjectives for the input."
   ]
  },
  {
   "cell_type": "code",
   "execution_count": 50,
   "metadata": {},
   "outputs": [],
   "source": [
    "# Keep only the nouns and adjectives.\n",
    "def filter_nouns_adj(text):\n",
    "    sentence = sp(text.lower())\n",
    "    nouns_adj = ''\n",
    "    for token in sentence:\n",
    "        if token.pos_ == \"NOUN\" or token.pos_ == \"ADJ\":\n",
    "            nouns_adj += token.text + ' '\n",
    "\n",
    "    return nouns_adj.strip()"
   ]
  },
  {
   "cell_type": "markdown",
   "metadata": {},
   "source": [
    "We define a parse sequence for the data:\n",
    "* Keep only nouns and adjectives.\n",
    "* Tokenize the input.\n",
    "* Remove stop words.\n",
    "* Lemmatize the tokens.\n",
    "* Keep tokens with more than 4 characters."
   ]
  },
  {
   "cell_type": "code",
   "execution_count": 51,
   "metadata": {
    "tags": []
   },
   "outputs": [],
   "source": [
    "# Extract the text for LDA.\n",
    "def extract_text_for_lda(text):\n",
    "    filtered_text = filter_nouns_adj(text)\n",
    "    tokens = tokenize(filtered_text)\n",
    "    tokens = [t for t in tokens if t not in stop_words]\n",
    "    tokens = [lemmatize(t) for t in tokens]\n",
    "    tokens = [t for t in tokens if len(t) > 4]\n",
    "\n",
    "    return tokens\n",
    "\n",
    "text_data = []\n",
    "\n",
    "# Parse all data from the corpus.\n",
    "for row, col in corpus.iterrows():\n",
    "    tokens = extract_text_for_lda(col.hypothesis)\n",
    "    text_data.append(tokens)"
   ]
  },
  {
   "cell_type": "markdown",
   "metadata": {},
   "source": [
    "_gensim_ is a library that provides a suite of tools for implementing LDA. Initially, we need to transform the data in the format (bag-of-words) expected by the library. We can also save this data to a file for future reference.\n"
   ]
  },
  {
   "cell_type": "markdown",
   "metadata": {},
   "source": [
    "We are now ready to incorporate LDA using the _gensim_ library that provides a suite of tools for implementing LDA. But first, a necessary transformation is required."
   ]
  },
  {
   "cell_type": "code",
   "execution_count": 52,
   "metadata": {},
   "outputs": [],
   "source": [
    "import gensim\n",
    "import pickle\n",
    "\n",
    "# Transform the data for gensim.\n",
    "dictionary = gensim.corpora.Dictionary(text_data)\n",
    "corpus = [dictionary.doc2bow(text) for text in text_data]\n",
    "\n",
    "# Save the data in a file.\n",
    "pickle.dump(corpus, open('./data/corpus.pkl', 'wb'))\n",
    "dictionary.save('./data/dictionary.gensim')"
   ]
  },
  {
   "cell_type": "markdown",
   "metadata": {},
   "source": [
    "### Identify 3 topics\n",
    "\n",
    "Let's create the LDA model using 3 clusters and obtain the 4 most common words for each topic."
   ]
  },
  {
   "cell_type": "code",
   "execution_count": 58,
   "metadata": {},
   "outputs": [
    {
     "name": "stdout",
     "output_type": "stream",
     "text": [
      "(0, '0.007*\"court\" + 0.006*\"government\" + 0.006*\"public\" + 0.006*\"morning\" + 0.006*\"century\"')\n",
      "(1, '0.011*\"great\" + 0.008*\"paper\" + 0.006*\"modern\" + 0.006*\"service\" + 0.006*\"bread\"')\n",
      "(2, '0.019*\"letter\" + 0.012*\"plant\" + 0.012*\"water\" + 0.009*\"animal\" + 0.008*\"house\"')\n"
     ]
    }
   ],
   "source": [
    "# Create and save the model for 3 topics.\n",
    "ldamodel = gensim.models.ldamodel.LdaModel(corpus, num_topics=3, id2word=dictionary, passes=15, random_state=123)\n",
    "ldamodel.save('./data/model3.gensim')\n",
    "\n",
    "# Get the 4 most common words per topic.\n",
    "topics = ldamodel.print_topics(num_words=4)\n",
    "for t in topics:\n",
    "    print(t)"
   ]
  },
  {
   "cell_type": "markdown",
   "metadata": {},
   "source": [
    "Next we extract the distribution of topics for a random input text."
   ]
  },
  {
   "cell_type": "code",
   "execution_count": 54,
   "metadata": {},
   "outputs": [
    {
     "name": "stdout",
     "output_type": "stream",
     "text": [
      "[(0, 0.6977441), (1, 0.11669667), (2, 0.18555923)]\n"
     ]
    }
   ],
   "source": [
    "# Text to identify a topic.\n",
    "test = 'the assassination of president kennedy took place at dallas, texas'\n",
    "test = extract_text_for_lda(test)\n",
    "test_bow = dictionary.doc2bow(test)\n",
    "\n",
    "print(ldamodel.get_document_topics(test_bow))"
   ]
  },
  {
   "cell_type": "markdown",
   "metadata": {},
   "source": [
    "### Identify 5 topics\n",
    "\n",
    "We repeat the same process for five topics."
   ]
  },
  {
   "cell_type": "code",
   "execution_count": 55,
   "metadata": {},
   "outputs": [
    {
     "name": "stdout",
     "output_type": "stream",
     "text": [
      "(0, '0.013*\"government\" + 0.010*\"tablespoon\" + 0.008*\"business\" + 0.007*\"sugar\" + 0.007*\"butter\"')\n",
      "(1, '0.008*\"house\" + 0.007*\"rifle\" + 0.007*\"president\" + 0.007*\"paper\" + 0.006*\"number\"')\n",
      "(2, '0.029*\"letter\" + 0.009*\"beautiful\" + 0.008*\"great\" + 0.008*\"character\" + 0.008*\"roman\"')\n",
      "(3, '0.015*\"court\" + 0.014*\"great\" + 0.009*\"bread\" + 0.007*\"modern\" + 0.006*\"people\"')\n",
      "(4, '0.019*\"plant\" + 0.012*\"water\" + 0.011*\"flour\" + 0.008*\"animal\" + 0.008*\"service\"')\n"
     ]
    }
   ],
   "source": [
    "# Create and save the model for 5 topics.\n",
    "ldamodel = gensim.models.ldamodel.LdaModel(corpus, num_topics=5, id2word=dictionary, passes=15, random_state=123)\n",
    "ldamodel.save('./data/model5.gensim')\n",
    "\n",
    "# Get the 5 most common words per topic.\n",
    "topics = ldamodel.print_topics(num_words=5)\n",
    "for t in topics:\n",
    "    print(t)"
   ]
  },
  {
   "cell_type": "markdown",
   "metadata": {},
   "source": [
    "## pyLDAvis\n",
    "\n",
    "Next, a handy interactive visualization is created to examine the newly constructed LDA models.\n",
    "\n",
    "_pyLDAvis_ is a python library for interactive topic model visualization. For each topic: \n",
    "* the saliency (in red) quantifies how much a term tell us about the topic\n",
    "* the size of the bubble measures the importance of the topics, relative to the data\n",
    "* the bubbles that are closer reveal similar topics\n",
    "\n"
   ]
  },
  {
   "cell_type": "markdown",
   "metadata": {},
   "source": [
    "### Visualize 3 topics"
   ]
  },
  {
   "cell_type": "code",
   "execution_count": 56,
   "metadata": {},
   "outputs": [
    {
     "name": "stderr",
     "output_type": "stream",
     "text": [
      "c:\\Users\\tsouraki\\AppData\\Local\\Programs\\Python\\Python39\\lib\\site-packages\\pyLDAvis\\_prepare.py:246: FutureWarning: In a future version of pandas all arguments of DataFrame.drop except for the argument 'labels' will be keyword-only\n",
      "  default_term_info = default_term_info.sort_values(\n"
     ]
    },
    {
     "data": {
      "text/html": [
       "\n",
       "<link rel=\"stylesheet\" type=\"text/css\" href=\"https://cdn.jsdelivr.net/gh/bmabey/pyLDAvis@3.3.1/pyLDAvis/js/ldavis.v1.0.0.css\">\n",
       "\n",
       "\n",
       "<div id=\"ldavis_el2507227542816340489782496440\"></div>\n",
       "<script type=\"text/javascript\">\n",
       "\n",
       "var ldavis_el2507227542816340489782496440_data = {\"mdsDat\": {\"x\": [0.006272297974235118, -0.10304742356304407, 0.09677512558880888], \"y\": [-0.11187763024554909, 0.05067116762856137, 0.061206462616987756], \"topics\": [1, 2, 3], \"cluster\": [1, 1, 1], \"Freq\": [33.14917016002997, 35.773196496894435, 31.0776333430756]}, \"tinfo\": {\"Term\": [\"letter\", \"water\", \"plant\", \"possible\", \"house\", \"public\", \"morning\", \"minute\", \"oxygen\", \"cloth\", \"paper\", \"bread\", \"amendment\", \"economic\", \"middle\", \"tablespoon\", \"century\", \"beautiful\", \"rifle\", \"character\", \"court\", \"great\", \"roman\", \"print\", \"brick\", \"sugar\", \"nation\", \"improvement\", \"function\", \"history\", \"public\", \"morning\", \"tablespoon\", \"minute\", \"sugar\", \"nation\", \"function\", \"butter\", \"result\", \"liquid\", \"record\", \"oswald\", \"build\", \"street\", \"program\", \"national\", \"crowd\", \"afternoon\", \"capable\", \"security\", \"police\", \"cyrus\", \"reason\", \"american\", \"contemporary\", \"confidence\", \"special\", \"relief\", \"horse\", \"quarter\", \"century\", \"government\", \"court\", \"business\", \"people\", \"plant\", \"process\", \"large\", \"white\", \"flour\", \"kitchen\", \"early\", \"royal\", \"second\", \"difficulty\", \"substance\", \"bread\", \"rifle\", \"print\", \"section\", \"light\", \"space\", \"justice\", \"present\", \"improvement\", \"series\", \"presidential\", \"unemployment\", \"murder\", \"outer\", \"balance\", \"defense\", \"article\", \"mouth\", \"family\", \"distance\", \"division\", \"clean\", \"condition\", \"president\", \"labor\", \"responsibility\", \"rapid\", \"biological\", \"threat\", \"vertebrate\", \"protection\", \"paper\", \"modern\", \"point\", \"service\", \"great\", \"evidence\", \"essential\", \"white\", \"number\", \"secret\", \"flour\", \"necessary\", \"small\", \"court\", \"sponge\", \"general\", \"printer\", \"animal\", \"letter\", \"water\", \"possible\", \"oxygen\", \"cloth\", \"amendment\", \"economic\", \"character\", \"middle\", \"roman\", \"brick\", \"personal\", \"dough\", \"history\", \"beautiful\", \"position\", \"hydrogen\", \"inform\", \"direction\", \"relation\", \"majority\", \"similar\", \"experience\", \"variety\", \"recapitulation\", \"distinctive\", \"local\", \"stiff\", \"contact\", \"carbon\", \"house\", \"interest\", \"plant\", \"animal\", \"little\", \"change\", \"system\", \"picture\", \"large\", \"place\", \"simple\", \"great\", \"printer\", \"energy\", \"material\", \"strong\"], \"Freq\": [13.0, 8.0, 12.0, 5.0, 7.0, 5.0, 5.0, 5.0, 4.0, 4.0, 9.0, 5.0, 4.0, 4.0, 4.0, 4.0, 5.0, 4.0, 4.0, 3.0, 9.0, 14.0, 3.0, 4.0, 3.0, 3.0, 3.0, 5.0, 3.0, 3.0, 4.680030100590582, 4.675420551648712, 4.084323694409735, 4.619344321975365, 3.440705056700702, 3.4382361871075093, 3.4321986916265965, 3.375528104458592, 2.7950832534819465, 2.794953005193761, 2.7947733157186323, 2.7920150645545463, 2.7820942207916053, 3.275105788225004, 2.150754186674499, 2.150685252546466, 2.1506074579906658, 2.150467994857602, 2.1503178992112173, 2.1503046085695656, 2.1496765814493908, 2.148411843989829, 2.145417373821456, 2.1397158657614948, 2.1360829131681816, 2.135120139086943, 2.130833641341484, 2.125629557696401, 2.118593314797513, 2.1174701669736793, 4.651615771990892, 4.828568438191014, 5.414196284994654, 2.823943261598352, 4.084599076504755, 3.824369730635772, 2.73828915195086, 2.7762474017162533, 2.8051788248804668, 2.5323095471751897, 2.1794190881714597, 2.1821254172288267, 2.1781711855246564, 2.202631991254398, 2.1754570592908538, 2.1750652511749657, 4.770914603352455, 4.124153123671755, 4.085376954088101, 3.471987695596872, 3.4439291593844255, 2.8256329750015428, 2.8251149165331504, 2.810381899750779, 4.444865929332502, 2.1746061663880143, 2.1745392337693588, 2.174266722393405, 2.174064203412959, 2.1740550240824006, 2.1736220656577268, 2.1733749886768616, 2.173140150803408, 2.173119114837545, 2.171988718526482, 2.1699340783698147, 2.1607702379316787, 2.674261415663416, 4.199996194994659, 4.1739758526382955, 2.0586241773656324, 2.053935069338689, 1.5222713031699062, 1.5222625063114543, 1.5222541875431357, 1.5222194781994616, 3.5032628222258433, 6.866329728832424, 5.042427727108317, 2.87228959986963, 4.903292406640662, 9.003559382310895, 3.4878442241923873, 2.853842396460044, 4.122420142556741, 3.5407603875571265, 3.4982057760323486, 4.107712942641565, 2.637499344193129, 3.0235519634213217, 3.437466528199167, 2.8307483481912947, 2.2889110152229453, 2.5064760658704546, 2.4946651359825243, 13.319660878587642, 8.343987554665999, 4.636412282716039, 4.005392388002974, 3.9999847083600786, 3.9760330901076584, 3.9547685320870105, 3.3706151942790425, 3.919663304602472, 3.356830678293471, 3.333091712266639, 2.7404319531660275, 2.739140257030128, 3.222144068525952, 3.741409902386606, 2.1078854480616087, 2.1077503806714497, 2.107452003017421, 2.106809560707772, 2.1059554629798414, 2.0175580925518566, 1.9878520718481005, 1.4754801573257448, 1.4754590582377372, 1.47542998469127, 1.4752319523061908, 1.4752020480869674, 1.4751985592613912, 1.4751510447797362, 1.4750771149044342, 5.706206153482578, 3.3208034040495447, 8.346935446143219, 6.072201234404788, 3.267349612187741, 2.1353843712521274, 2.122315895182405, 2.1060136100727758, 3.391912646940836, 3.1352012060940826, 2.7759123124672684, 4.651196928700082, 2.4194614953793048, 2.1411389398380147, 2.1231701590448866, 2.1175373670850592], \"Total\": [13.0, 8.0, 12.0, 5.0, 7.0, 5.0, 5.0, 5.0, 4.0, 4.0, 9.0, 5.0, 4.0, 4.0, 4.0, 4.0, 5.0, 4.0, 4.0, 3.0, 9.0, 14.0, 3.0, 4.0, 3.0, 3.0, 3.0, 5.0, 3.0, 3.0, 5.160270526240496, 5.161063053342892, 4.515880657090646, 5.159077065874659, 3.870512528710162, 3.870448861677722, 3.8703282811604964, 3.870120711410047, 3.2251079517065926, 3.2250781883546717, 3.225078615243724, 3.2250235020358877, 3.2248031898854777, 3.8671547420183896, 2.5796922045116717, 2.579690502095702, 2.5796881678700507, 2.5796867180685856, 2.57968156364141, 2.5796811376827335, 2.579690811950805, 2.57963712284788, 2.5795704463419886, 2.579440930966161, 2.5793968089391575, 2.5793786438683934, 2.5798562512894527, 2.579910417879601, 2.580006892317374, 2.579969528841995, 5.792416786001764, 7.731866392945868, 9.069296894803594, 3.877307992577181, 7.104977302883955, 12.745189082615328, 5.141835092956808, 6.387607387968228, 7.140739649373202, 8.39993646215119, 3.231884548721589, 3.8455113161218364, 3.8453280628152466, 5.803001691354575, 3.88459107276131, 3.864760069356557, 5.211574854575498, 4.5590766536935305, 4.558709556455048, 3.906583354381303, 3.9055497989083348, 3.2539868213677567, 3.2539977415127685, 3.253792667709162, 5.202390657744382, 2.6013874396474743, 2.601383190843335, 2.601373432748026, 2.601372223283986, 2.6013639652692158, 2.601346014145671, 2.6013391265479515, 2.601330268383263, 2.601326098532803, 2.6012981837641744, 2.601249288910297, 2.6011864364768087, 3.2493726822842706, 5.205380421952247, 5.193116142719277, 2.5978284187617877, 2.5976240052670647, 1.9487396665460968, 1.948739642809672, 1.9487391406799484, 1.948738964887172, 4.5399087462726655, 9.106890968014252, 7.125396923638682, 3.8998121764278446, 7.149459403562134, 14.849834505131614, 5.19725085365875, 3.8873530226076305, 7.140739649373202, 5.843399687773027, 5.843040001573904, 8.39993646215119, 3.880700567455343, 5.167084567421003, 9.069296894803594, 5.811827329290256, 3.2479046653801404, 5.141855442680004, 10.230899361717814, 13.933059803325968, 8.869200068437353, 5.071637165462168, 4.439018833187786, 4.439148420512106, 4.439575914167007, 4.440005080096965, 3.8064740887382778, 4.44084118365981, 3.806915173704777, 3.8076016785630182, 3.173835464414287, 3.1738442368696114, 3.8094197919332426, 4.447140014888462, 2.541240772680438, 2.54124059736928, 2.5412443606611155, 2.541247647571758, 2.541297310621726, 2.543025048348623, 2.544962619699831, 1.9086471791112674, 1.9086474036683398, 1.9086473252240124, 1.9086502594415302, 1.9086492987486214, 1.9086475641194123, 1.9086571088907132, 1.9086476628908005, 7.6324255209915375, 4.4585073333258665, 12.745189082615328, 10.230899361717814, 5.099289451466861, 3.1928663120649436, 3.193156358188472, 3.1867050036750912, 6.387607387968228, 5.757212652813065, 5.12346003538306, 14.849834505131614, 5.141855442680004, 5.1437105036472985, 3.845906163983801, 3.831772493861304], \"Category\": [\"Default\", \"Default\", \"Default\", \"Default\", \"Default\", \"Default\", \"Default\", \"Default\", \"Default\", \"Default\", \"Default\", \"Default\", \"Default\", \"Default\", \"Default\", \"Default\", \"Default\", \"Default\", \"Default\", \"Default\", \"Default\", \"Default\", \"Default\", \"Default\", \"Default\", \"Default\", \"Default\", \"Default\", \"Default\", \"Default\", \"Topic1\", \"Topic1\", \"Topic1\", \"Topic1\", \"Topic1\", \"Topic1\", \"Topic1\", \"Topic1\", \"Topic1\", \"Topic1\", \"Topic1\", \"Topic1\", \"Topic1\", \"Topic1\", \"Topic1\", \"Topic1\", \"Topic1\", \"Topic1\", \"Topic1\", \"Topic1\", \"Topic1\", \"Topic1\", \"Topic1\", \"Topic1\", \"Topic1\", \"Topic1\", \"Topic1\", \"Topic1\", \"Topic1\", \"Topic1\", \"Topic1\", \"Topic1\", \"Topic1\", \"Topic1\", \"Topic1\", \"Topic1\", \"Topic1\", \"Topic1\", \"Topic1\", \"Topic1\", \"Topic1\", \"Topic1\", \"Topic1\", \"Topic1\", \"Topic1\", \"Topic1\", \"Topic2\", \"Topic2\", \"Topic2\", \"Topic2\", \"Topic2\", \"Topic2\", \"Topic2\", \"Topic2\", \"Topic2\", \"Topic2\", \"Topic2\", \"Topic2\", \"Topic2\", \"Topic2\", \"Topic2\", \"Topic2\", \"Topic2\", \"Topic2\", \"Topic2\", \"Topic2\", \"Topic2\", \"Topic2\", \"Topic2\", \"Topic2\", \"Topic2\", \"Topic2\", \"Topic2\", \"Topic2\", \"Topic2\", \"Topic2\", \"Topic2\", \"Topic2\", \"Topic2\", \"Topic2\", \"Topic2\", \"Topic2\", \"Topic2\", \"Topic2\", \"Topic2\", \"Topic2\", \"Topic2\", \"Topic2\", \"Topic2\", \"Topic2\", \"Topic2\", \"Topic2\", \"Topic2\", \"Topic2\", \"Topic2\", \"Topic3\", \"Topic3\", \"Topic3\", \"Topic3\", \"Topic3\", \"Topic3\", \"Topic3\", \"Topic3\", \"Topic3\", \"Topic3\", \"Topic3\", \"Topic3\", \"Topic3\", \"Topic3\", \"Topic3\", \"Topic3\", \"Topic3\", \"Topic3\", \"Topic3\", \"Topic3\", \"Topic3\", \"Topic3\", \"Topic3\", \"Topic3\", \"Topic3\", \"Topic3\", \"Topic3\", \"Topic3\", \"Topic3\", \"Topic3\", \"Topic3\", \"Topic3\", \"Topic3\", \"Topic3\", \"Topic3\", \"Topic3\", \"Topic3\", \"Topic3\", \"Topic3\", \"Topic3\", \"Topic3\", \"Topic3\", \"Topic3\", \"Topic3\", \"Topic3\", \"Topic3\"], \"logprob\": [30.0, 29.0, 28.0, 27.0, 26.0, 25.0, 24.0, 23.0, 22.0, 21.0, 20.0, 19.0, 18.0, 17.0, 16.0, 15.0, 14.0, 13.0, 12.0, 11.0, 10.0, 9.0, 8.0, 7.0, 6.0, 5.0, 4.0, 3.0, 2.0, 1.0, -5.0915, -5.0925, -5.2276, -5.1045, -5.3991, -5.3998, -5.4016, -5.4182, -5.6069, -5.607, -5.607, -5.608, -5.6116, -5.4484, -5.869, -5.869, -5.869, -5.8691, -5.8692, -5.8692, -5.8695, -5.87, -5.8714, -5.8741, -5.8758, -5.8762, -5.8783, -5.8807, -5.884, -5.8845, -5.0976, -5.0602, -4.9457, -5.5966, -5.2275, -5.2934, -5.6274, -5.6137, -5.6033, -5.7056, -5.8557, -5.8545, -5.8563, -5.8451, -5.8575, -5.8577, -5.1484, -5.2941, -5.3035, -5.4662, -5.4743, -5.6722, -5.6724, -5.6776, -5.2192, -5.9341, -5.9341, -5.9343, -5.9344, -5.9344, -5.9346, -5.9347, -5.9348, -5.9348, -5.9353, -5.9363, -5.9405, -5.7273, -5.2759, -5.2821, -5.9889, -5.9912, -6.2907, -6.2908, -6.2908, -6.2908, -5.4573, -4.7843, -5.0931, -5.6558, -5.121, -4.5133, -5.4617, -5.6623, -5.2945, -5.4466, -5.4587, -5.2981, -5.7411, -5.6045, -5.4762, -5.6704, -5.8829, -5.7921, -5.7968, -3.981, -4.4487, -5.0363, -5.1826, -5.184, -5.19, -5.1953, -5.3551, -5.2042, -5.3592, -5.3663, -5.5621, -5.5626, -5.4002, -5.2508, -5.8246, -5.8246, -5.8248, -5.8251, -5.8255, -5.8684, -5.8832, -6.1813, -6.1813, -6.1813, -6.1814, -6.1814, -6.1814, -6.1815, -6.1815, -4.8287, -5.37, -4.4483, -4.7665, -5.3863, -5.8116, -5.8177, -5.8254, -5.3488, -5.4275, -5.5493, -5.0331, -5.6867, -5.8089, -5.8173, -5.82], \"loglift\": [30.0, 29.0, 28.0, 27.0, 26.0, 25.0, 24.0, 23.0, 22.0, 21.0, 20.0, 19.0, 18.0, 17.0, 16.0, 15.0, 14.0, 13.0, 12.0, 11.0, 10.0, 9.0, 8.0, 7.0, 6.0, 5.0, 4.0, 3.0, 2.0, 1.0, 1.0065, 1.0053, 1.0037, 0.9936, 0.9864, 0.9857, 0.984, 0.9674, 0.961, 0.961, 0.9609, 0.96, 0.9565, 0.938, 0.9223, 0.9223, 0.9222, 0.9222, 0.9221, 0.9221, 0.9218, 0.9212, 0.9199, 0.9173, 0.9156, 0.9151, 0.9129, 0.9105, 0.9071, 0.9066, 0.8848, 0.6334, 0.5883, 0.7871, 0.5506, -0.0996, 0.4741, 0.2709, 0.1698, -0.0949, 0.7101, 0.5375, 0.5358, 0.1354, 0.5244, 0.5293, 0.9396, 0.9277, 0.9183, 0.91, 0.9022, 0.8868, 0.8866, 0.8815, 0.8706, 0.8488, 0.8487, 0.8486, 0.8485, 0.8485, 0.8483, 0.8482, 0.8481, 0.8481, 0.8476, 0.8467, 0.8425, 0.8332, 0.8134, 0.8095, 0.7953, 0.7931, 0.781, 0.781, 0.781, 0.781, 0.7688, 0.7456, 0.6822, 0.7222, 0.6508, 0.5276, 0.6291, 0.7189, 0.4786, 0.527, 0.515, 0.3126, 0.6418, 0.4921, 0.0578, 0.3086, 0.678, 0.3094, -0.3833, 1.1237, 1.1076, 1.079, 1.0659, 1.0645, 1.0584, 1.0529, 1.0471, 1.0438, 1.0429, 1.0356, 1.0219, 1.0214, 1.0013, 0.9959, 0.9817, 0.9817, 0.9815, 0.9812, 0.9808, 0.9372, 0.9216, 0.9113, 0.9113, 0.9112, 0.9111, 0.9111, 0.9111, 0.911, 0.911, 0.8778, 0.8741, 0.7454, 0.647, 0.7236, 0.7664, 0.7602, 0.7545, 0.5357, 0.5609, 0.5558, 0.0078, 0.4148, 0.2922, 0.5746, 0.5756]}, \"token.table\": {\"Topic\": [1, 3, 1, 1, 2, 3, 2, 2, 3, 2, 2, 3, 1, 1, 2, 1, 1, 3, 1, 3, 2, 3, 3, 2, 3, 1, 2, 1, 3, 1, 1, 2, 1, 1, 2, 1, 2, 3, 2, 3, 2, 3, 1, 3, 3, 1, 2, 3, 2, 3, 1, 2, 3, 2, 1, 2, 3, 1, 1, 2, 1, 2, 3, 1, 2, 3, 3, 1, 1, 3, 3, 2, 3, 2, 3, 2, 1, 2, 2, 1, 3, 3, 2, 1, 1, 3, 3, 3, 2, 3, 3, 1, 1, 2, 3, 1, 2, 2, 1, 1, 2, 3, 1, 2, 1, 2, 3, 1, 2, 1, 2, 3, 3, 1, 3, 1, 2, 3, 1, 2, 3, 1, 2, 1, 3, 3, 2, 2, 3, 2, 2, 2, 3, 1, 2, 3, 1, 2, 3, 1, 1, 2, 1, 3, 1, 3, 1, 2, 1, 2, 3, 1, 3, 1, 2, 3, 1, 2, 2, 1, 2, 1, 2, 3, 1, 2, 3, 1, 2, 3, 2, 1, 1, 2, 3, 3, 1, 1, 3, 1, 2, 3, 1, 2, 3, 1, 2, 2, 3, 2, 3, 1, 2], \"Freq\": [0.7752879394197921, 0.9009869585145986, 0.7753618142559581, 0.1954862353043605, 0.1954862353043605, 0.5864587059130815, 0.7688373999672897, 0.7688327462491898, 0.8994544778461002, 1.0263043641460599, 0.9594028944264811, 0.7878975410926372, 0.9302893303409747, 0.7737327046866738, 0.2579109015622246, 0.7751696196853184, 0.7752894885122383, 0.5239311683568771, 0.863197553753943, 0.17263951075078862, 0.3131982057066659, 0.6263964114133318, 0.7881309395683821, 0.9232551305537029, 0.9010737243019584, 0.19210891787712145, 0.7684356715084858, 0.7753805377718888, 0.5239285754061855, 0.7753750772540309, 0.5513106537359951, 0.33078639224159706, 0.7752875037029467, 0.7753028448404521, 0.7688347818971435, 0.5148547073652019, 0.25742735368260095, 0.787014993171194, 0.7688613346388767, 0.5239304555946249, 0.7688799126251447, 0.9452259708116377, 0.5200868845750745, 0.26004344228753723, 0.9008998701219153, 0.19441218538464028, 0.38882437076928056, 0.38882437076928056, 0.771733357519355, 0.25724445250645167, 0.19240941570022968, 0.577228247100689, 0.5239313011562644, 0.7688468828690475, 0.3571455586024411, 0.47619407813658815, 0.23809703906829408, 0.7751280465285149, 0.3078908105459919, 0.6157816210919838, 0.6466743921702691, 0.1293348784340538, 0.1293348784340538, 0.06734081781547349, 0.6060673603392615, 0.3367040890773675, 0.7875215029734305, 0.7751917275707706, 0.26203989734316824, 0.7861196920295048, 0.7870171765988714, 0.7688772841473411, 0.7870160111165743, 0.22429031181026238, 0.6728709354307871, 0.9219428648420984, 0.618833986749658, 0.309416993374829, 0.7698737859497539, 0.4696594229712419, 0.4696594229712419, 0.9330326707488016, 0.7681376898173335, 0.930210005708575, 0.39221150692371076, 0.5883172603855662, 0.5239307193079606, 0.7864649234574981, 0.5200334887859797, 0.5200334887859797, 0.9007302523490602, 0.9691655961243739, 0.1403430588803376, 0.701715294401688, 0.1403430588803376, 0.9687926592490341, 0.7688386323913936, 0.7688250001667156, 0.775103898078527, 0.7752868021862428, 0.7730562943090358, 0.25768543143634526, 0.3422665069762186, 0.6845330139524372, 0.9302257791629006, 0.7688274407972049, 0.9011000291538492, 0.2196139173099267, 0.7686487105847434, 0.5629856126882171, 0.28149280634410856, 0.14074640317205428, 0.9452285834085078, 0.3138037561828731, 0.6276075123657462, 0.34739032941970077, 0.17369516470985039, 0.5210854941295512, 0.3138439119319205, 0.07846097798298013, 0.627687823863841, 0.2564226056948162, 0.7692678170844485, 0.7752867090640087, 0.7870171223053569, 0.9858749427206628, 0.9220009712887315, 0.7702504411745114, 0.19256261029362784, 0.7688217587627394, 0.8774412913268569, 0.5834469742378365, 0.388964649491891, 0.5834492833325878, 0.19448309444419595, 0.3889661888883919, 0.7752862905513157, 0.8810749782766143, 0.22026874456915357, 0.9689414488202693, 0.775202954004534, 1.0263043516452641, 0.7753228847989555, 0.5239312610477334, 0.9302098825808889, 0.7869996130089565, 0.775220715471112, 0.7699343692330783, 0.9302014211377095, 0.8773706396797265, 0.7880396234519954, 0.5201116698833123, 0.2600558349416561, 0.3446492188654087, 0.3446492188654087, 0.17232460943270436, 0.3422875762379296, 0.5134313643568944, 0.7679344654544351, 0.7752896165285578, 0.7688205030585636, 0.2797414303805297, 0.6993535759513242, 0.7858661594942769, 0.19518059926181003, 0.39036119852362006, 0.58554179778543, 0.19353273339188262, 0.5805982001756478, 0.19353273339188262, 0.9219459588158387, 0.7752369919837079, 0.34412584660257645, 0.5161887699038646, 0.17206292330128822, 0.5239311954700068, 0.7757641470623453, 0.2609758281844894, 0.5219516563689788, 0.5174965493609489, 0.25874827468047445, 0.25874827468047445, 0.775091148199885, 0.3131697567629653, 0.6263395135259306, 0.8857630003395612, 1.0263046285929094, 0.7688246427146948, 0.5239312395144552, 1.0263047211742882, 0.9019979184446907, 0.4201245455382669, 0.5601660607176893], \"Term\": [\"afternoon\", \"amendment\", \"american\", \"animal\", \"animal\", \"animal\", \"article\", \"balance\", \"beautiful\", \"biological\", \"bread\", \"brick\", \"build\", \"business\", \"business\", \"butter\", \"capable\", \"carbon\", \"century\", \"century\", \"change\", \"change\", \"character\", \"clean\", \"cloth\", \"condition\", \"condition\", \"confidence\", \"contact\", \"contemporary\", \"court\", \"court\", \"crowd\", \"cyrus\", \"defense\", \"difficulty\", \"difficulty\", \"direction\", \"distance\", \"distinctive\", \"division\", \"dough\", \"early\", \"early\", \"economic\", \"energy\", \"energy\", \"energy\", \"essential\", \"essential\", \"evidence\", \"evidence\", \"experience\", \"family\", \"flour\", \"flour\", \"flour\", \"function\", \"general\", \"general\", \"government\", \"government\", \"government\", \"great\", \"great\", \"great\", \"history\", \"horse\", \"house\", \"house\", \"hydrogen\", \"improvement\", \"inform\", \"interest\", \"interest\", \"justice\", \"kitchen\", \"kitchen\", \"labor\", \"large\", \"large\", \"letter\", \"light\", \"liquid\", \"little\", \"little\", \"local\", \"majority\", \"material\", \"material\", \"middle\", \"minute\", \"modern\", \"modern\", \"modern\", \"morning\", \"mouth\", \"murder\", \"nation\", \"national\", \"necessary\", \"necessary\", \"number\", \"number\", \"oswald\", \"outer\", \"oxygen\", \"paper\", \"paper\", \"people\", \"people\", \"people\", \"personal\", \"picture\", \"picture\", \"place\", \"place\", \"place\", \"plant\", \"plant\", \"plant\", \"point\", \"point\", \"police\", \"position\", \"possible\", \"present\", \"president\", \"president\", \"presidential\", \"print\", \"printer\", \"printer\", \"process\", \"process\", \"process\", \"program\", \"protection\", \"protection\", \"public\", \"quarter\", \"rapid\", \"reason\", \"recapitulation\", \"record\", \"relation\", \"relief\", \"responsibility\", \"result\", \"rifle\", \"roman\", \"royal\", \"royal\", \"second\", \"second\", \"second\", \"secret\", \"secret\", \"section\", \"security\", \"series\", \"service\", \"service\", \"similar\", \"simple\", \"simple\", \"simple\", \"small\", \"small\", \"small\", \"space\", \"special\", \"sponge\", \"sponge\", \"sponge\", \"stiff\", \"street\", \"strong\", \"strong\", \"substance\", \"substance\", \"substance\", \"sugar\", \"system\", \"system\", \"tablespoon\", \"threat\", \"unemployment\", \"variety\", \"vertebrate\", \"water\", \"white\", \"white\"]}, \"R\": 30, \"lambda.step\": 0.01, \"plot.opts\": {\"xlab\": \"PC1\", \"ylab\": \"PC2\"}, \"topic.order\": [1, 2, 3]};\n",
       "\n",
       "function LDAvis_load_lib(url, callback){\n",
       "  var s = document.createElement('script');\n",
       "  s.src = url;\n",
       "  s.async = true;\n",
       "  s.onreadystatechange = s.onload = callback;\n",
       "  s.onerror = function(){console.warn(\"failed to load library \" + url);};\n",
       "  document.getElementsByTagName(\"head\")[0].appendChild(s);\n",
       "}\n",
       "\n",
       "if(typeof(LDAvis) !== \"undefined\"){\n",
       "   // already loaded: just create the visualization\n",
       "   !function(LDAvis){\n",
       "       new LDAvis(\"#\" + \"ldavis_el2507227542816340489782496440\", ldavis_el2507227542816340489782496440_data);\n",
       "   }(LDAvis);\n",
       "}else if(typeof define === \"function\" && define.amd){\n",
       "   // require.js is available: use it to load d3/LDAvis\n",
       "   require.config({paths: {d3: \"https://d3js.org/d3.v5\"}});\n",
       "   require([\"d3\"], function(d3){\n",
       "      window.d3 = d3;\n",
       "      LDAvis_load_lib(\"https://cdn.jsdelivr.net/gh/bmabey/pyLDAvis@3.3.1/pyLDAvis/js/ldavis.v3.0.0.js\", function(){\n",
       "        new LDAvis(\"#\" + \"ldavis_el2507227542816340489782496440\", ldavis_el2507227542816340489782496440_data);\n",
       "      });\n",
       "    });\n",
       "}else{\n",
       "    // require.js not available: dynamically load d3 & LDAvis\n",
       "    LDAvis_load_lib(\"https://d3js.org/d3.v5.js\", function(){\n",
       "         LDAvis_load_lib(\"https://cdn.jsdelivr.net/gh/bmabey/pyLDAvis@3.3.1/pyLDAvis/js/ldavis.v3.0.0.js\", function(){\n",
       "                 new LDAvis(\"#\" + \"ldavis_el2507227542816340489782496440\", ldavis_el2507227542816340489782496440_data);\n",
       "            })\n",
       "         });\n",
       "}\n",
       "</script>"
      ],
      "text/plain": [
       "<IPython.core.display.HTML object>"
      ]
     },
     "execution_count": 56,
     "metadata": {},
     "output_type": "execute_result"
    }
   ],
   "source": [
    "import pyLDAvis\n",
    "import pyLDAvis.gensim_models\n",
    "\n",
    "# Load the corpus.\n",
    "dictionary = gensim.corpora.Dictionary.load('./data/dictionary.gensim')\n",
    "corpus = pickle.load(open('./data/corpus.pkl', 'rb'))\n",
    "\n",
    "# Read the LDA model, store and show the visualization in HTML.\n",
    "lda = gensim.models.ldamodel.LdaModel.load('./data/model3.gensim')\n",
    "lda_display = pyLDAvis.gensim_models.prepare(lda, corpus, dictionary, sort_topics=False)\n",
    "pyLDAvis.save_html(lda_display, './data/lda-3-topics.html')\n",
    "pyLDAvis.display(lda_display)"
   ]
  },
  {
   "cell_type": "markdown",
   "metadata": {},
   "source": [
    "### Visualize 5 topics"
   ]
  },
  {
   "cell_type": "code",
   "execution_count": 57,
   "metadata": {},
   "outputs": [
    {
     "name": "stderr",
     "output_type": "stream",
     "text": [
      "c:\\Users\\tsouraki\\AppData\\Local\\Programs\\Python\\Python39\\lib\\site-packages\\pyLDAvis\\_prepare.py:246: FutureWarning: In a future version of pandas all arguments of DataFrame.drop except for the argument 'labels' will be keyword-only\n",
      "  default_term_info = default_term_info.sort_values(\n"
     ]
    },
    {
     "data": {
      "text/html": [
       "\n",
       "<link rel=\"stylesheet\" type=\"text/css\" href=\"https://cdn.jsdelivr.net/gh/bmabey/pyLDAvis@3.3.1/pyLDAvis/js/ldavis.v1.0.0.css\">\n",
       "\n",
       "\n",
       "<div id=\"ldavis_el2507227542113151525379414314\"></div>\n",
       "<script type=\"text/javascript\">\n",
       "\n",
       "var ldavis_el2507227542113151525379414314_data = {\"mdsDat\": {\"x\": [0.024142838383160427, -0.016902586988234738, -0.07488516471785325, 0.13567728689363145, -0.06803237357070388], \"y\": [0.018259000764107202, -0.0801149459505442, -0.07343685127785196, 0.009376017879343645, 0.1259167785849454], \"topics\": [1, 2, 3, 4, 5], \"cluster\": [1, 1, 1, 1, 1], \"Freq\": [16.941686119837478, 21.216466354280954, 17.792962534169362, 22.74549729793748, 21.303387693774724]}, \"tinfo\": {\"Term\": [\"letter\", \"plant\", \"court\", \"government\", \"tablespoon\", \"bread\", \"beautiful\", \"business\", \"flour\", \"character\", \"roman\", \"water\", \"possible\", \"sugar\", \"light\", \"liquid\", \"personal\", \"clean\", \"butter\", \"amendment\", \"rifle\", \"oxygen\", \"great\", \"space\", \"present\", \"ordinary\", \"cloth\", \"teaspoonful\", \"little\", \"yeast\", \"tablespoon\", \"business\", \"liquid\", \"national\", \"importance\", \"sugar\", \"movement\", \"industrial\", \"dollar\", \"happy\", \"jacket\", \"major\", \"founder\", \"fresh\", \"butter\", \"government\", \"result\", \"phosphate\", \"access\", \"architectural\", \"remove\", \"extent\", \"necessity\", \"release\", \"conviction\", \"portland\", \"volition\", \"ticket\", \"conduct\", \"power\", \"street\", \"thing\", \"chance\", \"effort\", \"window\", \"benefit\", \"afternoon\", \"police\", \"tower\", \"flower\", \"public\", \"morning\", \"improvement\", \"white\", \"minute\", \"large\", \"people\", \"early\", \"process\", \"condition\", \"general\", \"substance\", \"function\", \"second\", \"corner\", \"space\", \"present\", \"scientific\", \"mouth\", \"child\", \"balance\", \"rifle\", \"vertebrate\", \"threat\", \"defect\", \"sentence\", \"complete\", \"representative\", \"industry\", \"diameter\", \"wound\", \"night\", \"cavity\", \"reserve\", \"resident\", \"pistol\", \"sister\", \"month\", \"clause\", \"favor\", \"ancestor\", \"close\", \"common\", \"uncertain\", \"important\", \"president\", \"house\", \"legislation\", \"number\", \"paper\", \"persian\", \"section\", \"matter\", \"protection\", \"printer\", \"second\", \"secret\", \"modern\", \"great\", \"sponge\", \"water\", \"white\", \"difficult\", \"print\", \"operation\", \"necessary\", \"point\", \"beautiful\", \"character\", \"roman\", \"letter\", \"personal\", \"clean\", \"direction\", \"rational\", \"recapitulation\", \"distinctive\", \"terrible\", \"carbon\", \"beauty\", \"empire\", \"possible\", \"dough\", \"oswald\", \"system\", \"economic\", \"elide\", \"sound\", \"bayou\", \"sundry\", \"decision\", \"lenus\", \"regent\", \"ferment\", \"reasonable\", \"serpent\", \"revelry\", \"oxygen\", \"simple\", \"strong\", \"press\", \"contemporary\", \"similar\", \"future\", \"hydrogen\", \"height\", \"inform\", \"place\", \"middle\", \"printer\", \"great\", \"paper\", \"animal\", \"government\", \"persian\", \"young\", \"change\", \"modern\", \"early\", \"bread\", \"court\", \"father\", \"justice\", \"education\", \"formal\", \"capable\", \"portion\", \"statement\", \"state\", \"specie\", \"rapid\", \"biological\", \"variety\", \"study\", \"ability\", \"consciousness\", \"revolution\", \"tadpole\", \"judicial\", \"organic\", \"stiff\", \"carbohydrate\", \"reign\", \"rudiment\", \"journey\", \"stomach\", \"proper\", \"desert\", \"transition\", \"great\", \"protoplasm\", \"kitchen\", \"structure\", \"agent\", \"sponge\", \"condition\", \"modern\", \"people\", \"point\", \"animal\", \"evidence\", \"energy\", \"prison\", \"difficulty\", \"large\", \"flour\", \"house\", \"place\", \"plant\", \"light\", \"ordinary\", \"teaspoonful\", \"yeast\", \"atmosphere\", \"french\", \"cyrus\", \"quarter\", \"amendment\", \"employer\", \"research\", \"powerful\", \"protective\", \"catabolic\", \"lukewarm\", \"democracy\", \"connection\", \"leader\", \"ultra\", \"legend\", \"plant\", \"nation\", \"little\", \"nature\", \"water\", \"flour\", \"cloth\", \"interest\", \"curse\", \"burglar\", \"service\", \"small\", \"animal\", \"secret\", \"country\", \"history\", \"essential\", \"potato\", \"paper\", \"minute\", \"energy\", \"century\", \"material\"], \"Freq\": [13.0, 13.0, 9.0, 7.0, 4.0, 5.0, 4.0, 3.0, 8.0, 3.0, 3.0, 9.0, 5.0, 3.0, 3.0, 3.0, 3.0, 3.0, 3.0, 4.0, 4.0, 4.0, 14.0, 3.0, 3.0, 3.0, 4.0, 3.0, 5.0, 3.0, 3.8362719773466103, 3.232242653547954, 2.6122230503028603, 1.9903049874141585, 1.9875111851488199, 2.903810946538161, 1.3683087654436692, 1.368307406942827, 1.368293278534068, 1.3682911049327204, 1.3682781538913582, 1.3682175647537962, 1.3679605363944527, 1.3670802278487093, 2.6153465154392386, 5.04427483584267, 1.9922452888837066, 0.7463124076230955, 0.7463124076230955, 0.7463122717730112, 0.7463120453562042, 0.7463114566725059, 0.7463110038388918, 0.746310460438555, 0.7463095094879654, 0.7463094189212426, 0.7463093736378812, 0.7463092830711584, 0.746309237787797, 0.7463091472210741, 1.9918500557053502, 1.9929308789754019, 1.3707861275794988, 1.3701109526609272, 1.3703782150599486, 1.3693791735405971, 1.3704301097921205, 1.3697043080754963, 1.3672589159928195, 1.9975919859317013, 1.9976456014316066, 1.9946232087578875, 1.98940004471981, 2.447261379835598, 1.9845884158701952, 1.997611004943492, 1.9929808718063946, 1.37299631788303, 1.3729742196026635, 1.3723620791231697, 1.3717250327949024, 1.3715678089640988, 1.3713545243318739, 1.3706664889386628, 1.3704326456603593, 2.7232651747989314, 2.722735735808103, 2.074852350696927, 2.074739385565208, 2.073605651170966, 2.073595443478341, 3.378839489209181, 1.4264374850563977, 1.4264354435178725, 1.4264304530903669, 1.4264295457399114, 1.4264226271926876, 1.4264180904404098, 1.4264167294147263, 1.4264123060812555, 1.426402778901472, 1.4263858794992368, 1.4263836111230979, 1.426380775652924, 1.4263749912937698, 1.426370114285071, 1.4263244065058716, 1.4263220247109256, 1.4263025166761307, 1.4252074580950578, 1.4251203524513225, 1.4237025039456788, 1.4235508630007907, 1.4206127488068296, 2.7249455878426576, 3.377827793451214, 4.021587724417026, 2.074983236000144, 2.7262571629261925, 3.3758570282617035, 2.0687964669188013, 2.0760216985965503, 2.0829949136852632, 2.077099630937774, 2.079240297500091, 2.076563159980915, 2.074185901787307, 2.076708336053807, 2.2646943376280424, 1.756450940023084, 1.8096596720201452, 1.5308731822367354, 1.430749554677714, 1.4315801206009866, 1.4296161605398932, 1.4294418358336156, 1.4289864593237236, 3.8062925519593436, 3.235552353713754, 3.2338033336921055, 11.830859188812912, 2.613384803219697, 2.612216189994443, 1.989926698905011, 1.3688777298474666, 1.3688769689077138, 1.3688726886216047, 1.3688620354650665, 1.368856518651859, 1.3688432973236555, 1.3687568355442516, 3.2337839297284106, 1.9909714691855087, 1.9940391977986374, 1.9709629388573642, 2.6026230225317826, 0.7466219579008275, 0.7466214347547475, 0.746621387196013, 0.7466212445198094, 0.7466210542848712, 0.746619199494224, 0.7466179629671257, 0.7466179629671257, 0.7466173447035767, 0.7466156801478675, 0.7466153472367257, 2.614898502622814, 2.6216448042355753, 1.995609777448271, 1.3694181873068425, 1.3682916160029266, 1.3745410239571554, 1.371459027723663, 1.3701652399090847, 1.3681801383291519, 1.3619487075765813, 2.621173972763574, 1.9967888535951253, 1.998512952839872, 3.2477692414438253, 1.9922403362231849, 1.9901365280418262, 1.4314553225276165, 1.3745383606680208, 1.3714805242716777, 1.371394347844681, 1.3703816321512672, 1.369691935382887, 4.7986690374080965, 8.04875451855123, 2.800546371473025, 2.775771374988838, 2.1347566122589425, 2.1347478575854297, 2.1347271868285254, 2.1347262140870242, 2.1347203776380157, 2.1334531386470847, 1.467616079877497, 1.4676136480237436, 1.4676130400603054, 1.4676125536895546, 1.4676125536895546, 1.467608297945486, 1.467607933167423, 1.4676052581282941, 1.4676017319403516, 1.4675995432719735, 1.4675913965618994, 1.4675854385202034, 1.467578142958943, 1.4675668348389894, 1.4675439754137067, 1.467470168652289, 1.4674537536394532, 1.4663325474664177, 1.461573531263572, 1.454469478486259, 7.216202576861584, 2.1395816532911947, 2.137036475152817, 2.135746133551228, 2.136222047330781, 3.1248873270949367, 2.800974377733635, 3.464251302464261, 3.3672672724784034, 2.13083670719373, 2.8038736337785175, 2.1374430811003964, 2.140462957091451, 2.1431100299020986, 1.8596369845706238, 2.13862447565383, 2.242550232178957, 2.137793511226271, 1.8598609583013181, 2.1279510695298676, 3.391596199996462, 2.7363517098778134, 2.7260099519388956, 2.722068445031441, 2.0873669385882647, 2.0873466673305496, 2.086006714418873, 2.0844360335963477, 3.3949817278018593, 1.4350453816186117, 1.4350446983177898, 1.4350449260847304, 1.4350410540467398, 1.4350380930765116, 1.4350368403583382, 1.4350148608485684, 1.4350152024989793, 1.435008483374231, 1.4350024475503045, 1.4349843400785252, 9.272768423685825, 2.7421490618174515, 3.3944236987973366, 2.088350436237868, 5.736864328751236, 5.187775632181915, 2.7408109310413007, 2.7489759203286988, 0.7827047491676814, 0.7827044644590057, 4.054139026193444, 2.7469460613538805, 4.057592428547147, 2.743597659559804, 2.090802119586718, 2.086691154075441, 2.0882659347028976, 2.0870571755490195, 2.717346836352358, 2.0939457589011754, 2.042011707702312, 2.0872940531672657, 1.441164226594937], \"Total\": [13.0, 13.0, 9.0, 7.0, 4.0, 5.0, 4.0, 3.0, 8.0, 3.0, 3.0, 9.0, 5.0, 3.0, 3.0, 3.0, 3.0, 3.0, 3.0, 4.0, 4.0, 4.0, 14.0, 3.0, 3.0, 3.0, 4.0, 3.0, 5.0, 3.0, 4.3752890241823135, 3.7523365225844865, 3.130337160399193, 2.508356703747571, 2.5083004344426802, 3.7684032392644586, 1.8863593003501717, 1.8863590887760193, 1.8863548495864917, 1.8863542209764839, 1.8863510397029077, 1.88633487165031, 1.886349323930469, 1.886418024112754, 3.752522433571217, 7.510903402303664, 3.1752577389824403, 1.2643570524843497, 1.2643571704775534, 1.2643572168077464, 1.2643570392757442, 1.2643570481016566, 1.2643571711424633, 1.2643563041409824, 1.264356261706442, 1.2643562706357874, 1.2643563061661434, 1.2643562541301585, 1.2643562736007796, 1.2643562683216822, 3.7527743692929576, 3.7827174883531276, 2.5085268324284677, 2.5085342506259107, 2.5345953691560466, 2.534642649872553, 2.538494260783351, 2.5385295066786666, 2.553411789043555, 4.4795335401581085, 5.116859347740494, 5.146902830439058, 5.143216282799663, 7.043612808473615, 5.1325532214023575, 6.402661365498798, 7.145490932982098, 3.7788764135596056, 5.1283642920311845, 5.1769686250022895, 3.182954302532673, 3.808975981048719, 3.8726972961623205, 5.728071436598827, 3.8426616626414734, 3.23604463743095, 3.236036769050667, 2.5876229822162267, 2.587593687604763, 2.5875612816690365, 2.587609512195751, 4.550956637749396, 1.9391999606441939, 1.9391989847756554, 1.93919826279426, 1.9391971423297563, 1.9391953101134347, 1.9391944455849055, 1.9391935856670164, 1.9391935501427668, 1.9391891614266954, 1.9391836630826358, 1.9391835319083084, 1.9391834054730714, 1.9391830552849814, 1.9391978324935328, 1.9391649176263361, 1.93916591590498, 1.9391603436258673, 1.9391979971309519, 1.939169007163054, 1.9392210800258145, 1.9390736454148698, 1.939195132539549, 3.8580392663687606, 5.203601835350244, 7.808651744107315, 3.20960239372875, 5.814386057838341, 9.027773049878519, 3.8317794678701174, 3.8922021933017477, 4.5145775613839465, 4.514422943522304, 5.120699689194665, 5.728071436598827, 5.863874542924039, 7.1674400147354, 14.926460426708278, 5.88726427721494, 9.120373985208115, 7.043612808473615, 2.5913796310457116, 4.502354767834257, 3.258451642397225, 3.835471072138133, 3.9403626621884262, 4.378031376437124, 3.7536348444387815, 3.753768844552091, 13.761278292021105, 3.131392546526878, 3.1314359126360594, 2.5091731219794546, 1.8868778702481102, 1.8868778897453546, 1.8868765076134295, 1.886873672914295, 1.8868717592502864, 1.8868686578264644, 1.8868465909632182, 5.0582987735743945, 3.1613852463375856, 3.1759378002649186, 3.1628236252887594, 4.406566016111316, 1.264614650526748, 1.2646146145535637, 1.2646147254396305, 1.2646147032982247, 1.2646145871786858, 1.264613694411595, 1.2646137102543165, 1.2646137967484805, 1.2646137067024104, 1.264612565570248, 1.2646124967427412, 4.435906295174848, 5.098579268874739, 3.828177275168383, 2.50879791714807, 2.5087864155093125, 2.534943052496779, 2.5350801624634305, 2.5390532568114472, 2.5352094021135065, 2.55377987148088, 5.773019800961442, 4.464638670989645, 5.120699689194665, 14.926460426708278, 9.027773049878519, 10.362224486756347, 7.510903402303664, 3.8317794678701174, 3.206024616627627, 3.1873441126008957, 7.1674400147354, 3.7788764135596056, 5.312008983594288, 9.293845437050868, 3.3108638787277918, 3.310135245672741, 2.6437802423080035, 2.6437777291374784, 2.643771565920042, 2.643770735976622, 2.6437684320217185, 2.643671260927538, 1.9766347692761082, 1.9766341160774636, 1.9766343505699342, 1.9766339407974458, 1.9766344303486385, 1.9766320780845765, 1.9766323026289983, 1.9766320586515373, 1.9766300500699812, 1.9766304632099365, 1.9766269386957518, 1.9766254813774065, 1.976621138154112, 1.976618929937321, 1.9766126464745433, 1.9765893049449084, 1.9765828999327435, 1.9765351701731029, 1.9764531019483869, 1.9757152678859504, 14.926460426708278, 3.296118640422887, 3.292173728504617, 3.292139797841672, 3.2960615703850484, 5.88726427721494, 5.1769686250022895, 7.1674400147354, 7.145490932982098, 3.9403626621884262, 10.362224486756347, 5.184832182870066, 5.2470386624856316, 5.837272108539693, 3.906328642620262, 6.402661365498798, 8.484133334585744, 7.808651744107315, 5.773019800961442, 13.020314752150366, 3.9040194644390604, 3.2516754638677248, 3.251057050667224, 3.2508383158686, 2.5993621615992035, 2.5993551613057804, 2.5992634312294247, 2.5992098937799946, 4.552369963045051, 1.9470256342047936, 1.947025942241683, 1.9470269830410705, 1.9470257835824347, 1.9470240077509473, 1.9470231331797663, 1.9470159216379326, 1.9470171835994978, 1.9470142077138624, 1.9470128634190251, 1.947006767034721, 13.020314752150366, 3.8737175933103347, 5.148388937220003, 3.2476962450146534, 9.120373985208115, 8.484133334585744, 4.496170311028938, 4.522420961237589, 1.2946808560992311, 1.2946808174306574, 7.142190318281726, 5.163015533937287, 10.362224486756347, 5.863874542924039, 3.8437599986697544, 3.8437732005861456, 3.8961336729400182, 3.933564998867065, 9.027773049878519, 5.1325532214023575, 5.2470386624856316, 5.762008750428117, 3.8398726594376207], \"Category\": [\"Default\", \"Default\", \"Default\", \"Default\", \"Default\", \"Default\", \"Default\", \"Default\", \"Default\", \"Default\", \"Default\", \"Default\", \"Default\", \"Default\", \"Default\", \"Default\", \"Default\", \"Default\", \"Default\", \"Default\", \"Default\", \"Default\", \"Default\", \"Default\", \"Default\", \"Default\", \"Default\", \"Default\", \"Default\", \"Default\", \"Topic1\", \"Topic1\", \"Topic1\", \"Topic1\", \"Topic1\", \"Topic1\", \"Topic1\", \"Topic1\", \"Topic1\", \"Topic1\", \"Topic1\", \"Topic1\", \"Topic1\", \"Topic1\", \"Topic1\", \"Topic1\", \"Topic1\", \"Topic1\", \"Topic1\", \"Topic1\", \"Topic1\", \"Topic1\", \"Topic1\", \"Topic1\", \"Topic1\", \"Topic1\", \"Topic1\", \"Topic1\", \"Topic1\", \"Topic1\", \"Topic1\", \"Topic1\", \"Topic1\", \"Topic1\", \"Topic1\", \"Topic1\", \"Topic1\", \"Topic1\", \"Topic1\", \"Topic1\", \"Topic1\", \"Topic1\", \"Topic1\", \"Topic1\", \"Topic1\", \"Topic1\", \"Topic1\", \"Topic1\", \"Topic1\", \"Topic1\", \"Topic1\", \"Topic1\", \"Topic1\", \"Topic1\", \"Topic1\", \"Topic2\", \"Topic2\", \"Topic2\", \"Topic2\", \"Topic2\", \"Topic2\", \"Topic2\", \"Topic2\", \"Topic2\", \"Topic2\", \"Topic2\", \"Topic2\", \"Topic2\", \"Topic2\", \"Topic2\", \"Topic2\", \"Topic2\", \"Topic2\", \"Topic2\", \"Topic2\", \"Topic2\", \"Topic2\", \"Topic2\", \"Topic2\", \"Topic2\", \"Topic2\", \"Topic2\", \"Topic2\", \"Topic2\", \"Topic2\", \"Topic2\", \"Topic2\", \"Topic2\", \"Topic2\", \"Topic2\", \"Topic2\", \"Topic2\", \"Topic2\", \"Topic2\", \"Topic2\", \"Topic2\", \"Topic2\", \"Topic2\", \"Topic2\", \"Topic2\", \"Topic2\", \"Topic2\", \"Topic2\", \"Topic2\", \"Topic2\", \"Topic2\", \"Topic2\", \"Topic3\", \"Topic3\", \"Topic3\", \"Topic3\", \"Topic3\", \"Topic3\", \"Topic3\", \"Topic3\", \"Topic3\", \"Topic3\", \"Topic3\", \"Topic3\", \"Topic3\", \"Topic3\", \"Topic3\", \"Topic3\", \"Topic3\", \"Topic3\", \"Topic3\", \"Topic3\", \"Topic3\", \"Topic3\", \"Topic3\", \"Topic3\", \"Topic3\", \"Topic3\", \"Topic3\", \"Topic3\", \"Topic3\", \"Topic3\", \"Topic3\", \"Topic3\", \"Topic3\", \"Topic3\", \"Topic3\", \"Topic3\", \"Topic3\", \"Topic3\", \"Topic3\", \"Topic3\", \"Topic3\", \"Topic3\", \"Topic3\", \"Topic3\", \"Topic3\", \"Topic3\", \"Topic3\", \"Topic3\", \"Topic3\", \"Topic3\", \"Topic3\", \"Topic3\", \"Topic4\", \"Topic4\", \"Topic4\", \"Topic4\", \"Topic4\", \"Topic4\", \"Topic4\", \"Topic4\", \"Topic4\", \"Topic4\", \"Topic4\", \"Topic4\", \"Topic4\", \"Topic4\", \"Topic4\", \"Topic4\", \"Topic4\", \"Topic4\", \"Topic4\", \"Topic4\", \"Topic4\", \"Topic4\", \"Topic4\", \"Topic4\", \"Topic4\", \"Topic4\", \"Topic4\", \"Topic4\", \"Topic4\", \"Topic4\", \"Topic4\", \"Topic4\", \"Topic4\", \"Topic4\", \"Topic4\", \"Topic4\", \"Topic4\", \"Topic4\", \"Topic4\", \"Topic4\", \"Topic4\", \"Topic4\", \"Topic4\", \"Topic4\", \"Topic4\", \"Topic4\", \"Topic4\", \"Topic4\", \"Topic4\", \"Topic4\", \"Topic5\", \"Topic5\", \"Topic5\", \"Topic5\", \"Topic5\", \"Topic5\", \"Topic5\", \"Topic5\", \"Topic5\", \"Topic5\", \"Topic5\", \"Topic5\", \"Topic5\", \"Topic5\", \"Topic5\", \"Topic5\", \"Topic5\", \"Topic5\", \"Topic5\", \"Topic5\", \"Topic5\", \"Topic5\", \"Topic5\", \"Topic5\", \"Topic5\", \"Topic5\", \"Topic5\", \"Topic5\", \"Topic5\", \"Topic5\", \"Topic5\", \"Topic5\", \"Topic5\", \"Topic5\", \"Topic5\", \"Topic5\", \"Topic5\", \"Topic5\", \"Topic5\", \"Topic5\", \"Topic5\", \"Topic5\", \"Topic5\"], \"logprob\": [30.0, 29.0, 28.0, 27.0, 26.0, 25.0, 24.0, 23.0, 22.0, 21.0, 20.0, 19.0, 18.0, 17.0, 16.0, 15.0, 14.0, 13.0, 12.0, 11.0, 10.0, 9.0, 8.0, 7.0, 6.0, 5.0, 4.0, 3.0, 2.0, 1.0, -4.619, -4.7904, -5.0033, -5.2752, -5.2766, -4.8975, -5.65, -5.65, -5.65, -5.65, -5.65, -5.65, -5.6502, -5.6509, -5.0021, -4.3453, -5.2743, -6.2561, -6.2561, -6.2561, -6.2561, -6.2561, -6.2561, -6.2561, -6.2561, -6.2561, -6.2561, -6.2561, -6.2561, -6.2561, -5.2745, -5.2739, -5.6481, -5.6486, -5.6484, -5.6492, -5.6484, -5.6489, -5.6507, -5.2716, -5.2716, -5.2731, -5.2757, -5.0686, -5.2781, -5.2716, -5.2739, -5.6465, -5.6466, -5.647, -5.6475, -5.6476, -5.6477, -5.6482, -5.6484, -5.1867, -5.1869, -5.4586, -5.4587, -5.4592, -5.4592, -4.971, -5.8334, -5.8334, -5.8334, -5.8334, -5.8334, -5.8334, -5.8334, -5.8334, -5.8334, -5.8334, -5.8334, -5.8334, -5.8334, -5.8334, -5.8334, -5.8334, -5.8334, -5.8342, -5.8343, -5.8353, -5.8354, -5.8374, -5.1861, -4.9713, -4.7969, -5.4586, -5.1856, -4.9719, -5.4616, -5.4581, -5.4547, -5.4576, -5.4565, -5.4578, -5.459, -5.4577, -5.3711, -5.6252, -5.5954, -5.7627, -5.8303, -5.8298, -5.8311, -5.8312, -5.8316, -4.6759, -4.8384, -4.8389, -3.5418, -5.0519, -5.0524, -5.3245, -5.6986, -5.6986, -5.6986, -5.6986, -5.6986, -5.6986, -5.6987, -4.8389, -5.3239, -5.3224, -5.334, -5.056, -6.3048, -6.3048, -6.3048, -6.3048, -6.3048, -6.3048, -6.3048, -6.3048, -6.3048, -6.3048, -6.3048, -5.0513, -5.0488, -5.3216, -5.6982, -5.699, -5.6944, -5.6967, -5.6976, -5.6991, -5.7036, -5.0489, -5.321, -5.3202, -4.8346, -5.3233, -5.3244, -5.6539, -5.6944, -5.6967, -5.6967, -5.6975, -5.698, -4.6898, -4.1726, -5.2283, -5.2372, -5.4998, -5.4998, -5.4998, -5.4998, -5.4998, -5.5004, -5.8745, -5.8745, -5.8745, -5.8745, -5.8745, -5.8745, -5.8745, -5.8745, -5.8745, -5.8745, -5.8745, -5.8745, -5.8745, -5.8745, -5.8745, -5.8746, -5.8746, -5.8754, -5.8786, -5.8835, -4.2818, -5.4975, -5.4987, -5.4993, -5.4991, -5.1187, -5.2282, -5.0156, -5.044, -5.5016, -5.2271, -5.4985, -5.4971, -5.4959, -5.6377, -5.498, -5.4505, -5.4983, -5.6376, -5.503, -4.9713, -5.186, -5.1898, -5.1912, -5.4567, -5.4567, -5.4574, -5.4581, -4.9703, -5.8314, -5.8314, -5.8314, -5.8314, -5.8314, -5.8314, -5.8314, -5.8314, -5.8314, -5.8315, -5.8315, -3.9655, -5.1839, -4.9705, -5.4562, -4.4457, -4.5463, -5.1844, -5.1814, -6.4376, -6.4376, -4.7929, -5.1821, -4.792, -5.1833, -5.4551, -5.457, -5.4563, -5.4569, -5.193, -5.4536, -5.4787, -5.4568, -5.8272], \"loglift\": [30.0, 29.0, 28.0, 27.0, 26.0, 25.0, 24.0, 23.0, 22.0, 21.0, 20.0, 19.0, 18.0, 17.0, 16.0, 15.0, 14.0, 13.0, 12.0, 11.0, 10.0, 9.0, 8.0, 7.0, 6.0, 5.0, 4.0, 3.0, 2.0, 1.0, 1.6439, 1.6262, 1.5945, 1.5441, 1.5427, 1.5148, 1.4543, 1.4543, 1.4543, 1.4543, 1.4543, 1.4543, 1.4541, 1.4534, 1.4144, 1.3773, 1.3093, 1.2482, 1.2482, 1.2482, 1.2482, 1.2482, 1.2482, 1.2482, 1.2482, 1.2482, 1.2482, 1.2482, 1.2482, 1.2482, 1.142, 1.1346, 1.1711, 1.1706, 1.1604, 1.1597, 1.1589, 1.1584, 1.1508, 0.9678, 0.8348, 0.8275, 0.8255, 0.7182, 0.8252, 0.6106, 0.4985, 0.763, 0.4576, 0.4477, 0.9337, 0.754, 0.7372, 0.3453, 0.7444, 1.3779, 1.3777, 1.3295, 1.3295, 1.329, 1.3289, 1.2526, 1.2433, 1.2433, 1.2433, 1.2433, 1.2433, 1.2433, 1.2433, 1.2433, 1.2433, 1.2433, 1.2433, 1.2433, 1.2433, 1.2433, 1.2432, 1.2432, 1.2432, 1.2424, 1.2424, 1.2414, 1.2413, 1.2392, 1.2027, 1.1183, 0.8868, 1.1142, 0.793, 0.5667, 0.934, 0.9219, 0.7769, 0.7741, 0.6491, 0.5357, 0.5112, 0.3116, -0.3353, 0.3409, -0.067, 0.0241, 0.9564, 0.4046, 0.7265, 0.5634, 0.5361, 1.5864, 1.5778, 1.5773, 1.5752, 1.5455, 1.5451, 1.4945, 1.4054, 1.4054, 1.4054, 1.4054, 1.4054, 1.4054, 1.4054, 1.279, 1.264, 1.2609, 1.2534, 1.1998, 1.1994, 1.1994, 1.1994, 1.1994, 1.1994, 1.1994, 1.1994, 1.1994, 1.1994, 1.1994, 1.1994, 1.1979, 1.0612, 1.0749, 1.1209, 1.1201, 1.1143, 1.112, 1.1095, 1.1096, 1.0977, 0.9368, 0.9217, 0.7855, 0.2012, 0.2153, 0.0764, 0.0687, 0.7012, 0.8772, 0.883, 0.0719, 0.7115, 1.3792, 1.337, 1.3134, 1.3047, 1.2669, 1.2669, 1.2669, 1.2669, 1.2669, 1.2664, 1.183, 1.183, 1.183, 1.183, 1.183, 1.183, 1.183, 1.183, 1.183, 1.183, 1.183, 1.183, 1.183, 1.183, 1.183, 1.183, 1.183, 1.1822, 1.179, 1.1745, 0.754, 1.0487, 1.0487, 1.0481, 1.0471, 0.8474, 0.8666, 0.7538, 0.7284, 0.866, 0.1736, 0.5947, 0.5842, 0.4788, 0.7386, 0.3843, 0.1502, 0.1853, 0.3481, -0.3305, 1.4056, 1.3738, 1.3702, 1.3688, 1.3269, 1.3269, 1.3263, 1.3256, 1.253, 1.2412, 1.2412, 1.2412, 1.2412, 1.2412, 1.2412, 1.2412, 1.2412, 1.2412, 1.2412, 1.2412, 1.2069, 1.2008, 1.1298, 1.1047, 1.0827, 1.0544, 1.0513, 1.0485, 1.043, 1.043, 0.98, 0.9153, 0.6087, 0.7868, 0.9374, 0.9354, 0.9227, 0.9125, 0.3457, 0.6498, 0.6026, 0.5309, 0.5663]}, \"token.table\": {\"Topic\": [4, 1, 1, 5, 4, 5, 2, 5, 2, 1, 2, 3, 4, 5, 1, 5, 2, 3, 3, 3, 1, 2, 4, 4, 5, 1, 1, 3, 4, 4, 3, 5, 2, 1, 2, 3, 5, 1, 3, 2, 3, 5, 3, 2, 2, 3, 2, 3, 5, 2, 2, 1, 3, 4, 1, 5, 4, 1, 3, 1, 1, 3, 4, 1, 3, 5, 2, 4, 5, 5, 3, 2, 5, 4, 2, 2, 5, 1, 2, 4, 3, 3, 1, 3, 5, 1, 2, 3, 1, 3, 5, 4, 1, 3, 3, 3, 5, 2, 4, 5, 2, 5, 1, 2, 3, 4, 1, 4, 2, 3, 1, 4, 5, 1, 4, 5, 4, 1, 5, 1, 1, 4, 5, 2, 3, 1, 2, 1, 2, 3, 1, 2, 3, 4, 5, 1, 2, 3, 3, 5, 2, 3, 4, 5, 3, 5, 1, 1, 2, 1, 2, 4, 5, 1, 2, 3, 4, 2, 3, 5, 1, 4, 4, 4, 2, 4, 1, 2, 3, 4, 5, 5, 1, 2, 3, 2, 3, 5, 1, 1, 3, 5, 5, 1, 2, 3, 5, 1, 2, 5, 1, 3, 4, 1, 4, 5, 2, 3, 4, 2, 1, 4, 5, 2, 1, 1, 5, 1, 2, 5, 1, 2, 3, 5, 1, 2, 1, 2, 4, 2, 4, 5, 5, 4, 3, 4, 3, 5, 2, 3, 4, 5, 1, 4, 5, 2, 3, 3, 1, 2, 2, 3, 4, 1, 4, 5, 2, 4, 1, 5, 4, 1, 3, 5, 4, 5, 1, 5, 2, 2, 4, 5, 1, 3, 1, 2, 4, 5, 2, 3, 4, 1, 2, 3, 4, 5, 1, 2, 3, 4, 5, 4, 2, 3, 5, 5, 4, 5, 1, 3, 4, 5, 5, 4, 3, 3, 3, 3, 4, 1, 1, 2, 5, 2, 2, 1, 4, 3, 4, 2, 4, 3, 4, 2, 1, 2, 3, 5, 2, 4, 5, 2, 5, 2, 3, 1, 2, 4, 5, 2, 3, 2, 3, 4, 5, 2, 3, 4, 5, 3, 2, 4, 1, 2, 4, 4, 4, 4, 4, 1, 3, 3, 4, 5, 2, 4, 4, 1, 2, 3, 5, 1, 3, 3, 5, 1, 4, 5, 3, 1, 3, 5, 2, 1, 1, 4, 4, 5, 2, 4, 2, 1, 2, 4, 5, 1, 2, 3, 4, 5, 1, 2, 2, 5, 3, 4, 5], \"Freq\": [0.5059110448966476, 0.7909157501928791, 0.39393431588512284, 0.39393431588512284, 0.6067847815616983, 0.3033923907808492, 0.21966580223438306, 0.6589974067031492, 0.5156848094756681, 0.09650437522156276, 0.09650437522156276, 0.19300875044312552, 0.2895131256646883, 0.38601750088625103, 0.7909157212111333, 0.7694195251228638, 0.7729141474297924, 0.7907546700852784, 0.9136526571116608, 0.5299785948810699, 0.39453293348878277, 0.39453293348878277, 0.5059104632638122, 0.9412634683868376, 0.7723911457841304, 0.799501852230913, 0.7994622425601189, 0.2664874141867063, 0.7564950110596991, 0.5059138449434272, 0.5299777237629183, 0.5136043500332198, 0.515680946927144, 0.17355058683756772, 0.17355058683756772, 0.17355058683756772, 0.34710117367513543, 0.3986403442341953, 0.3986403442341953, 0.3137408339584623, 0.3137408339584623, 0.3137408339584623, 0.7992253174132445, 0.7729285540669221, 0.5156871133875329, 0.9580269511166792, 0.5156709620682796, 0.22241150375176788, 0.6672345112553036, 0.5157101703509809, 0.5156778148053093, 0.193163233628745, 0.193163233628745, 0.579489700886235, 0.7909163112325015, 0.5136061501785392, 0.5059109874254109, 0.3985990970845513, 0.3985990970845513, 0.7909163186729878, 0.2602362861456277, 0.2602362861456277, 0.2602362861456277, 0.26016192487202094, 0.26016192487202094, 0.5203238497440419, 0.10759808808670278, 0.8607847046936222, 0.7723911227149208, 0.769448750738597, 0.7907547565388816, 0.5156770296189644, 0.5136064830732083, 0.5059568572683056, 0.5156782828234852, 0.38589482915572093, 0.38589482915572093, 0.2559948461809978, 0.2559948461809978, 0.5119896923619957, 0.7970753322999992, 0.5299763900631875, 0.5301229512672073, 0.6326340651829663, 0.31631703259148314, 0.2646289241986682, 0.2646289241986682, 0.2646289241986682, 0.22693407890493264, 0.6808022367147979, 0.22693407890493264, 0.7564925283857983, 0.3986391653813327, 0.3986391653813327, 0.7907547169277784, 0.5299847930347686, 0.5136039209922478, 0.1905836919307698, 0.3811673838615396, 0.3811673838615396, 0.25666470504986577, 0.5133294100997315, 0.19287027327593265, 0.19287027327593265, 0.19287027327593265, 0.3857405465518653, 0.7909158267448502, 0.9061079252683617, 0.5156771002649045, 0.7907552507897321, 0.11786707735055028, 0.23573415470110057, 0.5893353867527514, 0.44647505863510256, 0.22323752931755128, 0.22323752931755128, 0.756493247506284, 0.5301245041487661, 0.7694215972377181, 0.5301051979029588, 0.25821796115874013, 0.25821796115874013, 0.25821796115874013, 0.3944648436790509, 0.3944648436790509, 0.3141735334385106, 0.3141735334385106, 0.6656988823030867, 0.13313977646061734, 0.13313977646061734, 0.06699511950004408, 0.13399023900008816, 0.20098535850013224, 0.46896583650030854, 0.06699511950004408, 0.5301231279257527, 0.39444473468989916, 0.39444473468989916, 0.26016103131358215, 0.5203220626271643, 0.5122523235869165, 0.12806308089672913, 0.25612616179345826, 0.12806308089672913, 0.3938475876066514, 0.3938475876066514, 0.7973526506382719, 0.25919902078685003, 0.77759706236055, 0.3888617335982064, 0.1944308667991032, 0.1944308667991032, 0.1944308667991032, 0.5301217599289957, 0.5156782733767316, 0.3915764280106579, 0.3915764280106579, 0.22112050350269552, 0.22112050350269552, 0.6633615105080866, 0.5301240219622619, 0.5059219927469314, 0.5059114582176663, 0.906307379410502, 0.30375067735390243, 0.6075013547078049, 0.31237010452827385, 0.15618505226413693, 0.15618505226413693, 0.31237010452827385, 0.5136069351924125, 0.5136088979921696, 0.31156507172162584, 0.6231301434432517, 0.7907553147803641, 0.0726676678415702, 0.8720120140988423, 0.7684387916931269, 0.9583632197681313, 0.19423551953710286, 0.19423551953710286, 0.5827065586113085, 0.5136045807359554, 0.5301285657329355, 0.26042530278763404, 0.26042530278763404, 0.26042530278763404, 0.22150466713732778, 0.44300933427465555, 0.22150466713732778, 0.22398229144450274, 0.4479645828890055, 0.22398229144450274, 0.38966960764481734, 0.19483480382240867, 0.38966960764481734, 0.27903965654239715, 0.13951982827119858, 0.41855948481359573, 0.5156856315377815, 0.3885832054516152, 0.1942916027258076, 0.1942916027258076, 0.7729188742345882, 0.5301217004705129, 0.2581499492185328, 0.7744498476555984, 0.7973347638363919, 0.30791056938746686, 0.6158211387749337, 0.2607241669124458, 0.2607241669124458, 0.2607241669124458, 0.2607241669124458, 0.7909157497769462, 0.515680912044372, 0.17198720381697147, 0.5159616114509143, 0.17198720381697147, 0.30689422761060386, 0.30689422761060386, 0.30689422761060386, 0.9226012968808492, 0.5059123603060046, 0.6297352548381683, 0.31486762741908414, 0.6762992273446458, 0.2254330757815486, 0.33230786633923737, 0.22153857755949158, 0.11076928877974579, 0.33230786633923737, 0.2798967934825047, 0.419845190223757, 0.13994839674125234, 0.5219507063937826, 0.2609753531968913, 0.9580402186648207, 0.7909158240032659, 0.5156771440457636, 0.17321956869669136, 0.5196587060900741, 0.3464391373933827, 0.07680305883810108, 0.15360611767620216, 0.6912275295429097, 0.25378374675914045, 0.5075674935182809, 0.39392884635340286, 0.39392884635340286, 0.7564952485417349, 0.7909163130872483, 0.5930847769753389, 0.1976949256584463, 0.25422231494535297, 0.5084446298907059, 0.7909163145348336, 0.5136035651843384, 0.9270599236361855, 0.5765237416167672, 0.19217458053892242, 0.19217458053892242, 0.398597269698299, 0.398597269698299, 0.22210599820880497, 0.22210599820880497, 0.22210599820880497, 0.22210599820880497, 0.3905716252449362, 0.3905716252449362, 0.1952858126224681, 0.17131289777240988, 0.17131289777240988, 0.17131289777240988, 0.34262579554481976, 0.17131289777240988, 0.19499394798335032, 0.19499394798335032, 0.19499394798335032, 0.19499394798335032, 0.19499394798335032, 0.505935849303618, 0.443024507234037, 0.2215122536170185, 0.2215122536170185, 0.5136038815880741, 0.6067742754985915, 0.30338713774929577, 0.39086475982248003, 0.19543237991124002, 0.19543237991124002, 0.19543237991124002, 0.7694645995254458, 0.5059105232810878, 0.5299760073334834, 0.7907553070949915, 0.5299760018572034, 0.790755304874006, 0.5059144101345373, 0.7909162921281204, 0.7909158322658807, 0.5156780447039581, 0.5136038397355215, 0.515680980549669, 0.5156810736741099, 0.6298701284768556, 0.3149350642384278, 0.7907560636761831, 0.505911049870456, 0.6592020620709765, 0.21973402069032552, 0.7991967870781259, 0.5059160183881172, 0.7729101239806797, 0.17457882833140306, 0.3491576566628061, 0.17457882833140306, 0.17457882833140306, 0.34107141709118044, 0.17053570854559022, 0.5116071256367707, 0.5138479196794768, 0.2569239598397384, 0.5156773275761934, 0.7907560206386791, 0.14001307098192545, 0.14001307098192545, 0.14001307098192545, 0.5600522839277018, 0.39448617948835385, 0.39448617948835385, 0.19613306908940162, 0.5883992072682048, 0.19613306908940162, 0.19613306908940162, 0.5156858970118255, 0.1936852588234236, 0.1936852588234236, 0.5810557764702707, 0.7907547394215602, 0.9270576695078154, 0.505910356097917, 0.16985818079718773, 0.33971636159437546, 0.5095745423915632, 0.7565237136550387, 0.7564959078017958, 0.5059127333029991, 0.5059236321603443, 0.5329390480720029, 0.26646952403600144, 0.5224418453589064, 0.2612209226794532, 0.2612209226794532, 0.303753807980937, 0.607507615961874, 0.5059104428448209, 0.26253775423510856, 0.26253775423510856, 0.26253775423510856, 0.26253775423510856, 0.7960931486157939, 0.7907546839301436, 0.6323463578584481, 0.31617317892922403, 0.9142253181199954, 0.5059115639593741, 0.9227767932846029, 0.5299771862604294, 0.528720425503078, 0.264360212751539, 0.264360212751539, 0.5156768376277225, 0.7909163234123217, 0.3916328749992085, 0.3916328749992085, 0.5061458076750185, 0.5136072898069938, 0.5156778620264021, 0.5059105681432161, 0.5156765781223532, 0.7909162908612839, 0.2192892531867335, 0.10964462659336675, 0.6578677595602005, 0.28394519323861156, 0.28394519323861156, 0.14197259661930578, 0.14197259661930578, 0.14197259661930578, 0.39454029316441686, 0.39454029316441686, 0.5156794498914601, 0.9228388829293167, 0.31191276411716584, 0.31191276411716584, 0.31191276411716584], \"Term\": [\"ability\", \"access\", \"afternoon\", \"afternoon\", \"agent\", \"agent\", \"amendment\", \"amendment\", \"ancestor\", \"animal\", \"animal\", \"animal\", \"animal\", \"animal\", \"architectural\", \"atmosphere\", \"balance\", \"bayou\", \"beautiful\", \"beauty\", \"benefit\", \"benefit\", \"biological\", \"bread\", \"burglar\", \"business\", \"butter\", \"butter\", \"capable\", \"carbohydrate\", \"carbon\", \"catabolic\", \"cavity\", \"century\", \"century\", \"century\", \"century\", \"chance\", \"chance\", \"change\", \"change\", \"change\", \"character\", \"child\", \"clause\", \"clean\", \"close\", \"cloth\", \"cloth\", \"common\", \"complete\", \"condition\", \"condition\", \"condition\", \"conduct\", \"connection\", \"consciousness\", \"contemporary\", \"contemporary\", \"conviction\", \"corner\", \"corner\", \"corner\", \"country\", \"country\", \"country\", \"court\", \"court\", \"curse\", \"cyrus\", \"decision\", \"defect\", \"democracy\", \"desert\", \"diameter\", \"difficult\", \"difficult\", \"difficulty\", \"difficulty\", \"difficulty\", \"direction\", \"distinctive\", \"dollar\", \"dough\", \"dough\", \"early\", \"early\", \"early\", \"economic\", \"economic\", \"economic\", \"education\", \"effort\", \"effort\", \"elide\", \"empire\", \"employer\", \"energy\", \"energy\", \"energy\", \"essential\", \"essential\", \"evidence\", \"evidence\", \"evidence\", \"evidence\", \"extent\", \"father\", \"favor\", \"ferment\", \"flour\", \"flour\", \"flour\", \"flower\", \"flower\", \"flower\", \"formal\", \"founder\", \"french\", \"fresh\", \"function\", \"function\", \"function\", \"future\", \"future\", \"general\", \"general\", \"government\", \"government\", \"government\", \"great\", \"great\", \"great\", \"great\", \"great\", \"happy\", \"height\", \"height\", \"history\", \"history\", \"house\", \"house\", \"house\", \"house\", \"hydrogen\", \"hydrogen\", \"importance\", \"important\", \"important\", \"improvement\", \"improvement\", \"improvement\", \"improvement\", \"industrial\", \"industry\", \"inform\", \"inform\", \"interest\", \"interest\", \"interest\", \"jacket\", \"journey\", \"judicial\", \"justice\", \"kitchen\", \"kitchen\", \"large\", \"large\", \"large\", \"large\", \"leader\", \"legend\", \"legislation\", \"legislation\", \"lenus\", \"letter\", \"letter\", \"light\", \"liquid\", \"little\", \"little\", \"little\", \"lukewarm\", \"major\", \"material\", \"material\", \"material\", \"matter\", \"matter\", \"matter\", \"middle\", \"middle\", \"middle\", \"minute\", \"minute\", \"minute\", \"modern\", \"modern\", \"modern\", \"month\", \"morning\", \"morning\", \"morning\", \"mouth\", \"movement\", \"nation\", \"nation\", \"national\", \"nature\", \"nature\", \"necessary\", \"necessary\", \"necessary\", \"necessary\", \"necessity\", \"night\", \"number\", \"number\", \"number\", \"operation\", \"operation\", \"operation\", \"ordinary\", \"organic\", \"oswald\", \"oswald\", \"oxygen\", \"oxygen\", \"paper\", \"paper\", \"paper\", \"paper\", \"people\", \"people\", \"people\", \"persian\", \"persian\", \"personal\", \"phosphate\", \"pistol\", \"place\", \"place\", \"place\", \"plant\", \"plant\", \"plant\", \"point\", \"point\", \"police\", \"police\", \"portion\", \"portland\", \"possible\", \"possible\", \"potato\", \"potato\", \"power\", \"powerful\", \"present\", \"president\", \"president\", \"president\", \"press\", \"press\", \"print\", \"print\", \"print\", \"print\", \"printer\", \"printer\", \"printer\", \"prison\", \"prison\", \"prison\", \"prison\", \"prison\", \"process\", \"process\", \"process\", \"process\", \"process\", \"proper\", \"protection\", \"protection\", \"protection\", \"protective\", \"protoplasm\", \"protoplasm\", \"public\", \"public\", \"public\", \"public\", \"quarter\", \"rapid\", \"rational\", \"reasonable\", \"recapitulation\", \"regent\", \"reign\", \"release\", \"remove\", \"representative\", \"research\", \"reserve\", \"resident\", \"result\", \"result\", \"revelry\", \"revolution\", \"rifle\", \"rifle\", \"roman\", \"rudiment\", \"scientific\", \"second\", \"second\", \"second\", \"second\", \"secret\", \"secret\", \"secret\", \"section\", \"section\", \"sentence\", \"serpent\", \"service\", \"service\", \"service\", \"service\", \"similar\", \"similar\", \"simple\", \"simple\", \"simple\", \"simple\", \"sister\", \"small\", \"small\", \"small\", \"sound\", \"space\", \"specie\", \"sponge\", \"sponge\", \"sponge\", \"state\", \"statement\", \"stiff\", \"stomach\", \"street\", \"street\", \"strong\", \"strong\", \"strong\", \"structure\", \"structure\", \"study\", \"substance\", \"substance\", \"substance\", \"substance\", \"sugar\", \"sundry\", \"system\", \"system\", \"tablespoon\", \"tadpole\", \"teaspoonful\", \"terrible\", \"thing\", \"thing\", \"thing\", \"threat\", \"ticket\", \"tower\", \"tower\", \"transition\", \"ultra\", \"uncertain\", \"variety\", \"vertebrate\", \"volition\", \"water\", \"water\", \"water\", \"white\", \"white\", \"white\", \"white\", \"white\", \"window\", \"window\", \"wound\", \"yeast\", \"young\", \"young\", \"young\"]}, \"R\": 30, \"lambda.step\": 0.01, \"plot.opts\": {\"xlab\": \"PC1\", \"ylab\": \"PC2\"}, \"topic.order\": [1, 2, 3, 4, 5]};\n",
       "\n",
       "function LDAvis_load_lib(url, callback){\n",
       "  var s = document.createElement('script');\n",
       "  s.src = url;\n",
       "  s.async = true;\n",
       "  s.onreadystatechange = s.onload = callback;\n",
       "  s.onerror = function(){console.warn(\"failed to load library \" + url);};\n",
       "  document.getElementsByTagName(\"head\")[0].appendChild(s);\n",
       "}\n",
       "\n",
       "if(typeof(LDAvis) !== \"undefined\"){\n",
       "   // already loaded: just create the visualization\n",
       "   !function(LDAvis){\n",
       "       new LDAvis(\"#\" + \"ldavis_el2507227542113151525379414314\", ldavis_el2507227542113151525379414314_data);\n",
       "   }(LDAvis);\n",
       "}else if(typeof define === \"function\" && define.amd){\n",
       "   // require.js is available: use it to load d3/LDAvis\n",
       "   require.config({paths: {d3: \"https://d3js.org/d3.v5\"}});\n",
       "   require([\"d3\"], function(d3){\n",
       "      window.d3 = d3;\n",
       "      LDAvis_load_lib(\"https://cdn.jsdelivr.net/gh/bmabey/pyLDAvis@3.3.1/pyLDAvis/js/ldavis.v3.0.0.js\", function(){\n",
       "        new LDAvis(\"#\" + \"ldavis_el2507227542113151525379414314\", ldavis_el2507227542113151525379414314_data);\n",
       "      });\n",
       "    });\n",
       "}else{\n",
       "    // require.js not available: dynamically load d3 & LDAvis\n",
       "    LDAvis_load_lib(\"https://d3js.org/d3.v5.js\", function(){\n",
       "         LDAvis_load_lib(\"https://cdn.jsdelivr.net/gh/bmabey/pyLDAvis@3.3.1/pyLDAvis/js/ldavis.v3.0.0.js\", function(){\n",
       "                 new LDAvis(\"#\" + \"ldavis_el2507227542113151525379414314\", ldavis_el2507227542113151525379414314_data);\n",
       "            })\n",
       "         });\n",
       "}\n",
       "</script>"
      ],
      "text/plain": [
       "<IPython.core.display.HTML object>"
      ]
     },
     "execution_count": 57,
     "metadata": {},
     "output_type": "execute_result"
    }
   ],
   "source": [
    "# Read the LDA model, store and show the visualization in HTML.\n",
    "lda = gensim.models.ldamodel.LdaModel.load('./data/model5.gensim')\n",
    "lda_display = pyLDAvis.gensim_models.prepare(lda, corpus, dictionary, sort_topics=False)\n",
    "pyLDAvis.save_html(lda_display, './data/lda-5-topics.html')\n",
    "pyLDAvis.display(lda_display)"
   ]
  },
  {
   "cell_type": "markdown",
   "metadata": {},
   "source": [
    "## What we have learned …\n",
    "\n",
    "| | | |\n",
    "| --- | --- | --- |\n",
    "| **Visualizations**<ul><li>pyLDAvis plots</li></ul> | **ML concepts** <ul><li>Clustering</li></ul> | **ML algorithms & models** <ul><li>Latent Dirichlet Allocation</li></ul> |\n",
    "| | | |"
   ]
  }
 ],
 "metadata": {
  "kernelspec": {
   "display_name": "Python 3.9.7 64-bit",
   "language": "python",
   "name": "python3"
  },
  "language_info": {
   "codemirror_mode": {
    "name": "ipython",
    "version": 3
   },
   "file_extension": ".py",
   "mimetype": "text/x-python",
   "name": "python",
   "nbconvert_exporter": "python",
   "pygments_lexer": "ipython3",
   "version": "3.9.7"
  },
  "metadata": {
   "interpreter": {
    "hash": "34c3ec88db1a123a786d67d086f3ede88281b71e687e4350202a680e0c5fcbcd"
   }
  },
  "vscode": {
   "interpreter": {
    "hash": "8f1e200aa4e9598f1b1017d8bb6526388dc3fae44f5def43455ba665e800f8e8"
   }
  }
 },
 "nbformat": 4,
 "nbformat_minor": 2
}
