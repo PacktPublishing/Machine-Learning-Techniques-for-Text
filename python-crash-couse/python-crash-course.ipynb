{
 "cells": [
  {
   "cell_type": "markdown",
   "metadata": {},
   "source": [
    "# <u>Module 0</u> - Python Crash Course\n",
    "\n",
    "[Python](https://www.python.org/) is a versatile and powerful programming language that has gained immense popularity in the world of software development. Known for its simplicity, readability, and versatility, Python has become one of the go-to languages for both beginners and experienced developers alike."
   ]
  },
  {
   "cell_type": "markdown",
   "metadata": {},
   "source": [
    "First, download the example."
   ]
  },
  {
   "cell_type": "code",
   "execution_count": 1,
   "metadata": {},
   "outputs": [
    {
     "name": "stderr",
     "output_type": "stream",
     "text": [
      "'wget' is not recognized as an internal or external command,\n",
      "operable program or batch file.\n",
      "'unzip' is not recognized as an internal or external command,\n",
      "operable program or batch file.\n"
     ]
    }
   ],
   "source": [
    "import os\n",
    "\n",
    "# Check if the data directory already exists.\n",
    "if not os.path.exists(\"read.txt\"):\n",
    "    # URL of the zip data file to download.\n",
    "    url = \"https://github.com/ntsourakis/Machine-Learning-Techniques-for-Text-Seminar/raw/main/module-00/data.zip\"\n",
    "\n",
    "    # If it doesn't exist, download the zip file.\n",
    "    !wget {url}\n",
    "\n",
    "    # Unzip the file into the \"data\" folder.\n",
    "    !unzip -q \"data.zip\""
   ]
  },
  {
   "cell_type": "markdown",
   "metadata": {},
   "source": [
    "## Why Python?\n",
    "\n",
    "One of the key reasons behind Python's widespread adoption is its clear and concise syntax, which emphasizes readability and reduces the cost of program maintenance. This makes Python an excellent choice for individuals entering the world of programming, as it allows them to focus on problem-solving rather than getting bogged down by complex syntax.\n",
    "\n",
    "Moreover, Python has a vast and active community of developers who contribute to its extensive collection of libraries and frameworks. This rich ecosystem enables developers to easily access pre-built modules, saving time and effort in the development process."
   ]
  },
  {
   "cell_type": "markdown",
   "metadata": {},
   "source": [
    "<hr/>"
   ]
  },
  {
   "cell_type": "markdown",
   "metadata": {},
   "source": [
    "## Applications of Python\n",
    "\n",
    "Python finds applications in a wide range of fields, including web development, data science, artificial intelligence, machine learning, automation, and more. The language's versatility makes it suitable for various domains, and its ease of integration with other languages and tools further enhances its appeal.\n",
    "\n",
    "Whether you are a beginner learning to code or an experienced developer looking to build complex applications, Python provides the tools and resources needed to accomplish your goals. Its versatility, coupled with an extensive community and robust ecosystem, positions Python as a top choice for individuals and organizations seeking a reliable and efficient programming language."
   ]
  },
  {
   "cell_type": "markdown",
   "metadata": {},
   "source": [
    "<hr/>"
   ]
  },
  {
   "cell_type": "markdown",
   "metadata": {},
   "source": [
    "## Variables\n",
    "\n",
    "In Python, a variable is a named location in the computer's memory that stores a value. Think of it as a container or a label that you can use to refer to a specific piece of data. Unlike some other programming languages, Python does not require explicit declaration of the variable type. You can simply assign a value to a variable, and Python will determine its type dynamically.\n",
    "\n",
    "In the code below, we assign different types of values to variables (`int`, `str`, `float`, and `bool`). The variable names (`age`, `name`, `pi_value`, and `is_student`) are user-defined, and they can be chosen according to the context of your program."
   ]
  },
  {
   "cell_type": "code",
   "execution_count": 2,
   "metadata": {},
   "outputs": [],
   "source": [
    "# Example of variable assignment.\n",
    "age = 25\n",
    "name = \"John Doe\"\n",
    "pi_value = 3.14\n",
    "is_student = True"
   ]
  },
  {
   "cell_type": "markdown",
   "metadata": {},
   "source": [
    "<hr/>"
   ]
  },
  {
   "cell_type": "markdown",
   "metadata": {},
   "source": [
    "## Built-in Data Types\n",
    "\n",
    "Python comes with several built-in data types that define the nature of a variable. Here are some common ones:\n",
    "\n",
    "`int`: Integer type for whole numbers."
   ]
  },
  {
   "cell_type": "code",
   "execution_count": 3,
   "metadata": {},
   "outputs": [],
   "source": [
    "age = 25"
   ]
  },
  {
   "cell_type": "markdown",
   "metadata": {},
   "source": [
    "`float`: Floating-point type for decimal numbers."
   ]
  },
  {
   "cell_type": "code",
   "execution_count": 4,
   "metadata": {},
   "outputs": [],
   "source": [
    "pi_value = 3.14"
   ]
  },
  {
   "cell_type": "markdown",
   "metadata": {},
   "source": [
    "`str`: String type for text."
   ]
  },
  {
   "cell_type": "code",
   "execution_count": 5,
   "metadata": {},
   "outputs": [],
   "source": [
    "name = \"John Doe\""
   ]
  },
  {
   "cell_type": "markdown",
   "metadata": {},
   "source": [
    "`bool`: Boolean type for representing truth values (True or False)."
   ]
  },
  {
   "cell_type": "code",
   "execution_count": 6,
   "metadata": {},
   "outputs": [],
   "source": [
    "is_student = True"
   ]
  },
  {
   "cell_type": "markdown",
   "metadata": {},
   "source": [
    "`list`: Ordered collection of items."
   ]
  },
  {
   "cell_type": "code",
   "execution_count": 7,
   "metadata": {},
   "outputs": [],
   "source": [
    "numbers = [1, 2, 3, 4, 5]"
   ]
  },
  {
   "cell_type": "markdown",
   "metadata": {},
   "source": [
    "`tuple`: Immutable ordered collection of items."
   ]
  },
  {
   "cell_type": "code",
   "execution_count": 8,
   "metadata": {},
   "outputs": [],
   "source": [
    "coordinates = (4, 7)"
   ]
  },
  {
   "cell_type": "markdown",
   "metadata": {},
   "source": [
    "`dict`: Dictionary type for key-value pairs."
   ]
  },
  {
   "cell_type": "code",
   "execution_count": 9,
   "metadata": {},
   "outputs": [],
   "source": [
    "person_info = {'name': 'John', 'age': 25, 'is_student': True}"
   ]
  },
  {
   "cell_type": "markdown",
   "metadata": {},
   "source": [
    "`set`: A collection of unique elements with no duplicate values."
   ]
  },
  {
   "cell_type": "code",
   "execution_count": 10,
   "metadata": {},
   "outputs": [],
   "source": [
    "number_set = {1, 2, 3, 4, 5}"
   ]
  },
  {
   "cell_type": "markdown",
   "metadata": {},
   "source": [
    "Understanding these built-in data types is essential for effective programming in Python, as they provide the foundation for manipulating and organizing data in your programs. As you become more familiar with Python, you'll discover additional data types and structures that enhance the language's flexibility and expressiveness."
   ]
  },
  {
   "cell_type": "markdown",
   "metadata": {},
   "source": [
    "<hr/>"
   ]
  },
  {
   "cell_type": "markdown",
   "metadata": {},
   "source": [
    "## Printing with Built-in Types\n",
    "\n",
    "In Python, the `print()` function is a versatile tool for displaying information. It allows you to output data of various types to the console. Let's explore different ways to use the `print()` statement with built-in types.\n",
    "\n",
    "### 1. Printing Variables\n",
    "\n",
    "You can directly print the value of a variable using the `print()` function:"
   ]
  },
  {
   "cell_type": "code",
   "execution_count": 11,
   "metadata": {},
   "outputs": [
    {
     "name": "stdout",
     "output_type": "stream",
     "text": [
      "John\n",
      "30\n"
     ]
    }
   ],
   "source": [
    "name = \"John\"\n",
    "age = 30\n",
    "print(name)  # Output: John\n",
    "print(age)   # Output: 30"
   ]
  },
  {
   "cell_type": "markdown",
   "metadata": {},
   "source": [
    "### 2. Concatenation in Print\n",
    "\n",
    "Concatenate multiple values within the `print()` function using the `+` operator:"
   ]
  },
  {
   "cell_type": "code",
   "execution_count": 12,
   "metadata": {},
   "outputs": [
    {
     "name": "stdout",
     "output_type": "stream",
     "text": [
      "Name: John, Age: 30\n"
     ]
    }
   ],
   "source": [
    "name = \"John\"\n",
    "age = 30\n",
    "print(\"Name:\", name + \", Age:\", age)  # Output: Name: John, Age: 30"
   ]
  },
  {
   "cell_type": "markdown",
   "metadata": {},
   "source": [
    "### 3. Formatting Strings\n",
    "\n",
    "Use string formatting to embed variables within a string:"
   ]
  },
  {
   "cell_type": "code",
   "execution_count": 13,
   "metadata": {},
   "outputs": [
    {
     "name": "stdout",
     "output_type": "stream",
     "text": [
      "Name: John, Age: 30\n"
     ]
    }
   ],
   "source": [
    "name = \"John\"\n",
    "age = 30\n",
    "print(\"Name: {}, Age: {}\".format(name, age))  # Output: Name: John, Age: 30"
   ]
  },
  {
   "cell_type": "markdown",
   "metadata": {},
   "source": [
    "Or, using f-strings (formatted string literals):"
   ]
  },
  {
   "cell_type": "code",
   "execution_count": 14,
   "metadata": {},
   "outputs": [
    {
     "name": "stdout",
     "output_type": "stream",
     "text": [
      "Name: John, Age: 30\n"
     ]
    }
   ],
   "source": [
    "name = \"John\"\n",
    "age = 30\n",
    "print(f\"Name: {name}, Age: {age}\")  # Output: Name: John, Age: 30"
   ]
  },
  {
   "cell_type": "markdown",
   "metadata": {},
   "source": [
    "### 4. Printing Multiple Values\n",
    "Print multiple values using commas within the `print()` function:"
   ]
  },
  {
   "cell_type": "code",
   "execution_count": 15,
   "metadata": {},
   "outputs": [
    {
     "name": "stdout",
     "output_type": "stream",
     "text": [
      "Name: John Age: 30\n"
     ]
    }
   ],
   "source": [
    "name = \"John\"\n",
    "age = 30\n",
    "print(\"Name:\", name, \"Age:\", age)  # Output: Name: John Age: 30"
   ]
  },
  {
   "cell_type": "markdown",
   "metadata": {},
   "source": [
    "### 5. Printing with Separator\n",
    "Specify a separator between values using the `sep` parameter:"
   ]
  },
  {
   "cell_type": "code",
   "execution_count": 16,
   "metadata": {},
   "outputs": [
    {
     "name": "stdout",
     "output_type": "stream",
     "text": [
      "John | 30\n"
     ]
    }
   ],
   "source": [
    "name = \"John\"\n",
    "age = 30\n",
    "print(name, age, sep=\" | \")  # Output: John | 30"
   ]
  },
  {
   "cell_type": "markdown",
   "metadata": {},
   "source": [
    "### 6. Printing with End\n",
    "Control the end character with the `end` parameter:"
   ]
  },
  {
   "cell_type": "code",
   "execution_count": 17,
   "metadata": {},
   "outputs": [
    {
     "name": "stdout",
     "output_type": "stream",
     "text": [
      "Name: John | Age: 30\n"
     ]
    }
   ],
   "source": [
    "name = \"John\"\n",
    "age = 30\n",
    "print(\"Name:\", name, end=\" | \")\n",
    "print(\"Age:\", age)  # Output: Name: John | Age: 30"
   ]
  },
  {
   "cell_type": "markdown",
   "metadata": {},
   "source": [
    "Now, try the following and reflect on the output:"
   ]
  },
  {
   "cell_type": "code",
   "execution_count": 18,
   "metadata": {},
   "outputs": [
    {
     "name": "stdout",
     "output_type": "stream",
     "text": [
      "5\n",
      "5\n",
      "10\n",
      "5 + 5\n",
      "55\n",
      "10\n",
      "55\n"
     ]
    }
   ],
   "source": [
    "print(5)\n",
    "print(\"5\")\n",
    "print(5 + 5)\n",
    "print(\"5 + 5\")\n",
    "print(\"5\" + \"5\")\n",
    "print(5*2)\n",
    "print(\"5\"*2)"
   ]
  },
  {
   "cell_type": "markdown",
   "metadata": {},
   "source": [
    "These techniques provide flexibility in formatting and presenting data when using the `print()` statement in Python. Choose the method that best suits your needs for displaying information in your programs."
   ]
  },
  {
   "cell_type": "markdown",
   "metadata": {},
   "source": [
    "<hr/>"
   ]
  },
  {
   "cell_type": "markdown",
   "metadata": {},
   "source": [
    "## Operators in Python\n",
    "\n",
    "Operators in Python are special symbols or keywords that perform operations on operands. Operands can be variables, values, or expressions. Python supports various types of operators, including arithmetic, comparison, logical, assignment, and more. Let's explore some of the commonly used operators in Python.\n",
    "\n",
    "### 1. Arithmetic Operators\n",
    "\n",
    "Arithmetic operators perform basic mathematical operations.\n",
    "\n",
    "* Addition (`+`):"
   ]
  },
  {
   "cell_type": "code",
   "execution_count": 19,
   "metadata": {},
   "outputs": [
    {
     "data": {
      "text/plain": [
       "8"
      ]
     },
     "execution_count": 19,
     "metadata": {},
     "output_type": "execute_result"
    }
   ],
   "source": [
    "result = 5 + 3  # Result: 8\n",
    "result"
   ]
  },
  {
   "cell_type": "markdown",
   "metadata": {},
   "source": [
    "* Subtraction (`-`):"
   ]
  },
  {
   "cell_type": "code",
   "execution_count": 20,
   "metadata": {},
   "outputs": [
    {
     "data": {
      "text/plain": [
       "2"
      ]
     },
     "execution_count": 20,
     "metadata": {},
     "output_type": "execute_result"
    }
   ],
   "source": [
    "result = 5 - 3  # Result: 2\n",
    "result"
   ]
  },
  {
   "cell_type": "markdown",
   "metadata": {},
   "source": [
    "* Multiplication (`*`):"
   ]
  },
  {
   "cell_type": "code",
   "execution_count": 21,
   "metadata": {},
   "outputs": [
    {
     "data": {
      "text/plain": [
       "15"
      ]
     },
     "execution_count": 21,
     "metadata": {},
     "output_type": "execute_result"
    }
   ],
   "source": [
    "result = 5 * 3  # Result: 15\n",
    "result"
   ]
  },
  {
   "cell_type": "markdown",
   "metadata": {},
   "source": [
    "* Division (`/`):"
   ]
  },
  {
   "cell_type": "code",
   "execution_count": 22,
   "metadata": {},
   "outputs": [
    {
     "data": {
      "text/plain": [
       "5.0"
      ]
     },
     "execution_count": 22,
     "metadata": {},
     "output_type": "execute_result"
    }
   ],
   "source": [
    "result = 10 / 2  # Result: 5.0 (float)\n",
    "result"
   ]
  },
  {
   "cell_type": "markdown",
   "metadata": {},
   "source": [
    "* Floor Division (`//`):"
   ]
  },
  {
   "cell_type": "code",
   "execution_count": 23,
   "metadata": {},
   "outputs": [
    {
     "data": {
      "text/plain": [
       "3"
      ]
     },
     "execution_count": 23,
     "metadata": {},
     "output_type": "execute_result"
    }
   ],
   "source": [
    "result = 10 // 3  # Result: 3 (integer, discards the fractional part)\n",
    "result"
   ]
  },
  {
   "cell_type": "markdown",
   "metadata": {},
   "source": [
    "* Modulus (`%`):"
   ]
  },
  {
   "cell_type": "code",
   "execution_count": 24,
   "metadata": {},
   "outputs": [
    {
     "data": {
      "text/plain": [
       "1"
      ]
     },
     "execution_count": 24,
     "metadata": {},
     "output_type": "execute_result"
    }
   ],
   "source": [
    "result = 10 % 3  # Result: 1 (remainder of the division)\n",
    "result"
   ]
  },
  {
   "cell_type": "markdown",
   "metadata": {},
   "source": [
    "* Exponentiation (`**`):"
   ]
  },
  {
   "cell_type": "code",
   "execution_count": 25,
   "metadata": {},
   "outputs": [
    {
     "data": {
      "text/plain": [
       "8"
      ]
     },
     "execution_count": 25,
     "metadata": {},
     "output_type": "execute_result"
    }
   ],
   "source": [
    "result = 2 ** 3  # Result: 8 (2 raised to the power of 3)\n",
    "result"
   ]
  },
  {
   "cell_type": "markdown",
   "metadata": {},
   "source": [
    "### 2. Comparison Operators\n",
    "Comparison operators are used to compare values and return Boolean results.\n",
    "\n",
    "* Equal to (`==`):"
   ]
  },
  {
   "cell_type": "code",
   "execution_count": 26,
   "metadata": {},
   "outputs": [
    {
     "data": {
      "text/plain": [
       "True"
      ]
     },
     "execution_count": 26,
     "metadata": {},
     "output_type": "execute_result"
    }
   ],
   "source": [
    "result = (5 == 5)  # Result: True\n",
    "result"
   ]
  },
  {
   "cell_type": "markdown",
   "metadata": {},
   "source": [
    "* Not equal to (`!=`):"
   ]
  },
  {
   "cell_type": "code",
   "execution_count": 27,
   "metadata": {},
   "outputs": [
    {
     "data": {
      "text/plain": [
       "True"
      ]
     },
     "execution_count": 27,
     "metadata": {},
     "output_type": "execute_result"
    }
   ],
   "source": [
    "result = (5 != 3)  # Result: True\n",
    "result"
   ]
  },
  {
   "cell_type": "markdown",
   "metadata": {},
   "source": [
    "* Greater than (`>`):"
   ]
  },
  {
   "cell_type": "code",
   "execution_count": 28,
   "metadata": {},
   "outputs": [
    {
     "data": {
      "text/plain": [
       "True"
      ]
     },
     "execution_count": 28,
     "metadata": {},
     "output_type": "execute_result"
    }
   ],
   "source": [
    "result = (5 > 3)  # Result: True\n",
    "result"
   ]
  },
  {
   "cell_type": "markdown",
   "metadata": {},
   "source": [
    "* Less than (`<`):"
   ]
  },
  {
   "cell_type": "code",
   "execution_count": 29,
   "metadata": {},
   "outputs": [
    {
     "data": {
      "text/plain": [
       "False"
      ]
     },
     "execution_count": 29,
     "metadata": {},
     "output_type": "execute_result"
    }
   ],
   "source": [
    "result = (5 < 3)  # Result: False\n",
    "result"
   ]
  },
  {
   "cell_type": "markdown",
   "metadata": {},
   "source": [
    "* Greater than or equal to (`>=`):"
   ]
  },
  {
   "cell_type": "code",
   "execution_count": 30,
   "metadata": {},
   "outputs": [
    {
     "data": {
      "text/plain": [
       "True"
      ]
     },
     "execution_count": 30,
     "metadata": {},
     "output_type": "execute_result"
    }
   ],
   "source": [
    "result = (5 >= 5)  # Result: True\n",
    "result"
   ]
  },
  {
   "cell_type": "markdown",
   "metadata": {},
   "source": [
    "* Less than or equal to (`<=`):"
   ]
  },
  {
   "cell_type": "code",
   "execution_count": 31,
   "metadata": {},
   "outputs": [
    {
     "data": {
      "text/plain": [
       "False"
      ]
     },
     "execution_count": 31,
     "metadata": {},
     "output_type": "execute_result"
    }
   ],
   "source": [
    "result = (5 <= 3)  # Result: False\n",
    "result"
   ]
  },
  {
   "cell_type": "markdown",
   "metadata": {},
   "source": [
    "### 3. Logical Operators\n",
    "\n",
    "Logical operators perform logical operations on Boolean values.\n",
    "\n",
    "* Logical AND (`and`):"
   ]
  },
  {
   "cell_type": "code",
   "execution_count": 32,
   "metadata": {},
   "outputs": [
    {
     "data": {
      "text/plain": [
       "False"
      ]
     },
     "execution_count": 32,
     "metadata": {},
     "output_type": "execute_result"
    }
   ],
   "source": [
    "result = (True and False)  # Result: False\n",
    "result"
   ]
  },
  {
   "cell_type": "markdown",
   "metadata": {},
   "source": [
    "* Logical OR (`or`):"
   ]
  },
  {
   "cell_type": "code",
   "execution_count": 33,
   "metadata": {},
   "outputs": [
    {
     "data": {
      "text/plain": [
       "True"
      ]
     },
     "execution_count": 33,
     "metadata": {},
     "output_type": "execute_result"
    }
   ],
   "source": [
    "result = (True or False)  # Result: True\n",
    "result"
   ]
  },
  {
   "cell_type": "markdown",
   "metadata": {},
   "source": [
    "* Logical NOT (`not`):"
   ]
  },
  {
   "cell_type": "code",
   "execution_count": 34,
   "metadata": {},
   "outputs": [
    {
     "data": {
      "text/plain": [
       "False"
      ]
     },
     "execution_count": 34,
     "metadata": {},
     "output_type": "execute_result"
    }
   ],
   "source": [
    "result = not True  # Result: False\n",
    "result"
   ]
  },
  {
   "cell_type": "markdown",
   "metadata": {},
   "source": [
    "These are just a few examples of the many operators available in Python. Understanding and mastering these operators are crucial for effective programming, allowing you to manipulate and compare values in your code efficiently."
   ]
  },
  {
   "cell_type": "markdown",
   "metadata": {},
   "source": [
    "<hr/>"
   ]
  },
  {
   "cell_type": "markdown",
   "metadata": {},
   "source": [
    "## Type Casting\n",
    "\n",
    "`Type casting`, also known as type conversion, refers to the process of converting one data type into another. Python provides built-in functions for type casting, allowing you to change the type of a variable or value as needed. Here are some common type casting functions in Python:\n",
    "\n",
    "### 1. `int()`\n",
    "Converts a value to an integer."
   ]
  },
  {
   "cell_type": "code",
   "execution_count": 35,
   "metadata": {},
   "outputs": [
    {
     "name": "stdout",
     "output_type": "stream",
     "text": [
      "3\n"
     ]
    }
   ],
   "source": [
    "float_number = 3.14\n",
    "integer_number = int(float_number)\n",
    "print(integer_number)  # Output: 3"
   ]
  },
  {
   "cell_type": "markdown",
   "metadata": {},
   "source": [
    "### 2. `float()`\n",
    "Converts a value to a floating-point number."
   ]
  },
  {
   "cell_type": "code",
   "execution_count": 36,
   "metadata": {},
   "outputs": [
    {
     "name": "stdout",
     "output_type": "stream",
     "text": [
      "5.0\n"
     ]
    }
   ],
   "source": [
    "int_number = 5\n",
    "float_number = float(int_number)\n",
    "print(float_number)  # Output: 5.0"
   ]
  },
  {
   "cell_type": "markdown",
   "metadata": {},
   "source": [
    "### 3. `str()`\n",
    "Converts a value to a string."
   ]
  },
  {
   "cell_type": "code",
   "execution_count": 37,
   "metadata": {},
   "outputs": [
    {
     "name": "stdout",
     "output_type": "stream",
     "text": [
      "123\n"
     ]
    }
   ],
   "source": [
    "number = 123\n",
    "str_number = str(number)\n",
    "print(str_number)  # Output: '123'"
   ]
  },
  {
   "cell_type": "markdown",
   "metadata": {},
   "source": [
    "### 4. `bool()`\n",
    "Converts a value to a boolean."
   ]
  },
  {
   "cell_type": "code",
   "execution_count": 38,
   "metadata": {},
   "outputs": [
    {
     "name": "stdout",
     "output_type": "stream",
     "text": [
      "True\n"
     ]
    }
   ],
   "source": [
    "non_zero_number = 42\n",
    "is_true = bool(non_zero_number)\n",
    "print(is_true)  # Output: True"
   ]
  },
  {
   "cell_type": "markdown",
   "metadata": {},
   "source": [
    "### 5. `list()`, `tuple()`, `set()`\n",
    "Converts a sequence (like a string or list) to a list, tuple, or set, respectively."
   ]
  },
  {
   "cell_type": "code",
   "execution_count": 39,
   "metadata": {},
   "outputs": [
    {
     "name": "stdout",
     "output_type": "stream",
     "text": [
      "['P', 'y', 't', 'h', 'o', 'n']\n",
      "('P', 'y', 't', 'h', 'o', 'n')\n",
      "{'o', 'y', 'n', 'h', 'P', 't'}\n"
     ]
    }
   ],
   "source": [
    "text = \"Python\"\n",
    "list_text = list(text)\n",
    "tuple_text = tuple(text)\n",
    "set_text = set(text)\n",
    "\n",
    "print(list_text)  # Output: ['P', 'y', 't', 'h', 'o', 'n']\n",
    "print(tuple_text)  # Output: ('P', 'y', 't', 'h', 'o', 'n')\n",
    "print(set_text)  # Output: {'P', 'y', 't', 'h', 'o', 'n'}"
   ]
  },
  {
   "cell_type": "markdown",
   "metadata": {},
   "source": [
    "### 6. `dict()`\n",
    "Converts a sequence of key-value pairs to a dictionary."
   ]
  },
  {
   "cell_type": "code",
   "execution_count": 40,
   "metadata": {},
   "outputs": [
    {
     "name": "stdout",
     "output_type": "stream",
     "text": [
      "{'a': 1, 'b': 2, 'c': 3}\n"
     ]
    }
   ],
   "source": [
    "pairs = [('a', 1), ('b', 2), ('c', 3)]\n",
    "dictionary = dict(pairs)\n",
    "print(dictionary)  # Output: {'a': 1, 'b': 2, 'c': 3}"
   ]
  },
  {
   "cell_type": "markdown",
   "metadata": {},
   "source": [
    "### 7. `complex()`\n",
    "Converts a real number to a complex number."
   ]
  },
  {
   "cell_type": "code",
   "execution_count": 41,
   "metadata": {},
   "outputs": [
    {
     "name": "stdout",
     "output_type": "stream",
     "text": [
      "(2+0j)\n"
     ]
    }
   ],
   "source": [
    "real_number = 2\n",
    "complex_number = complex(real_number)\n",
    "print(complex_number)  # Output: (2+0j)"
   ]
  },
  {
   "cell_type": "markdown",
   "metadata": {},
   "source": [
    "What is the result of the following?"
   ]
  },
  {
   "cell_type": "code",
   "execution_count": 42,
   "metadata": {},
   "outputs": [],
   "source": [
    "result = int(float(\"3.2\"))"
   ]
  },
  {
   "cell_type": "markdown",
   "metadata": {},
   "source": [
    "Type casting is a valuable tool in Python, allowing you to ensure compatibility between different data types and perform operations that require consistent types. However, it's essential to be aware of potential data loss or unexpected behavior when converting between certain types, especially when precision may be affected, as in the case of converting from a float to an int."
   ]
  },
  {
   "cell_type": "markdown",
   "metadata": {},
   "source": [
    "<hr/>"
   ]
  },
  {
   "cell_type": "markdown",
   "metadata": {},
   "source": [
    "## String Manipulation\n",
    "\n",
    "String manipulation is a fundamental aspect of programming, and Python provides a rich set of tools for working with strings. Here are some common techniques and methods for string manipulation:\n",
    "\n",
    "### 1. Concatenation \n",
    "\n",
    "Concatenation is the process of combining strings. You can use the `+` operator to concatenate two or more strings:"
   ]
  },
  {
   "cell_type": "code",
   "execution_count": 43,
   "metadata": {},
   "outputs": [
    {
     "name": "stdout",
     "output_type": "stream",
     "text": [
      "John Doe\n"
     ]
    }
   ],
   "source": [
    "first_name = \"John\"\n",
    "last_name = \"Doe\"\n",
    "full_name = first_name + \" \" + last_name\n",
    "print(full_name)  # Output: John Doe"
   ]
  },
  {
   "cell_type": "markdown",
   "metadata": {},
   "source": [
    "### 2. String Interpolation \n",
    "\n",
    "String Interpolation allows you to embed variables within a string. There are multiple ways to achieve this, such as using the `%` operator or the `.format()` method:"
   ]
  },
  {
   "cell_type": "code",
   "execution_count": 44,
   "metadata": {},
   "outputs": [
    {
     "name": "stdout",
     "output_type": "stream",
     "text": [
      "Hello, Alice! You are 28 years old.\n"
     ]
    }
   ],
   "source": [
    "name = \"Alice\"\n",
    "age = 28\n",
    "\n",
    "# Using % operator.\n",
    "message = \"Hello, %s! You are %d years old.\" % (name, age)\n",
    "\n",
    "# Using .format() method.\n",
    "message = \"Hello, {}! You are {} years old.\".format(name, age)\n",
    "\n",
    "print(message)\n",
    "# Output: Hello, Alice! You are 28 years old."
   ]
  },
  {
   "cell_type": "markdown",
   "metadata": {},
   "source": [
    "In Python 3.6 and later, you can use f-strings for a more concise and readable syntax:"
   ]
  },
  {
   "cell_type": "code",
   "execution_count": 45,
   "metadata": {},
   "outputs": [],
   "source": [
    "message = f\"Hello, {name}! You are {age} years old.\""
   ]
  },
  {
   "cell_type": "markdown",
   "metadata": {},
   "source": [
    "### 3. String Slicing\n",
    "\n",
    "You can extract substrings from a string using slicing. The syntax is `string[start:stop]`, where `start` is the index of the starting character, and `stop` is the index of the character just after the end of the desired substring:"
   ]
  },
  {
   "cell_type": "code",
   "execution_count": 46,
   "metadata": {},
   "outputs": [
    {
     "name": "stdout",
     "output_type": "stream",
     "text": [
      "Python\n"
     ]
    }
   ],
   "source": [
    "sentence = \"Python is a powerful programming language.\"\n",
    "\n",
    "# Extracting a substring.\n",
    "substring = sentence[0:6]\n",
    "print(substring)  # Output: Python"
   ]
  },
  {
   "cell_type": "markdown",
   "metadata": {},
   "source": [
    "### 4. String Methods\n",
    "\n",
    "Python provides a variety of built-in string methods for manipulation, including:\n",
    "\n",
    "* `len()`: Returns the length of a string.\n",
    "\n",
    "* `lower()`, `upper()`: Converts a string to lowercase or uppercase.\n",
    "\n",
    "* `strip()`: Removes leading and trailing whitespaces.\n",
    "\n",
    "* `replace()`: Replaces a substring with another substring."
   ]
  },
  {
   "cell_type": "code",
   "execution_count": 47,
   "metadata": {},
   "outputs": [
    {
     "name": "stdout",
     "output_type": "stream",
     "text": [
      "24\n",
      "   python programming   \n",
      "Python Programming\n",
      "   Jython Jrogramming   \n"
     ]
    }
   ],
   "source": [
    "text = \"   Python Programming   \"\n",
    "print(len(text))           # Output: 24\n",
    "print(text.lower())        # Output: python programming\n",
    "print(text.strip())        # Output: Python Programming\n",
    "print(text.replace('P', 'J'))  # Output:   Jython Jrogramming   "
   ]
  },
  {
   "cell_type": "markdown",
   "metadata": {},
   "source": [
    "### 5. String Splitting and Joining\n",
    "\n",
    "Use the `split()` method to split a string into a list of substrings based on a delimiter. Conversely, the `join()` method joins a list of strings into a single string:"
   ]
  },
  {
   "cell_type": "code",
   "execution_count": 48,
   "metadata": {},
   "outputs": [
    {
     "name": "stdout",
     "output_type": "stream",
     "text": [
      "['apple', 'orange', 'banana', 'grape']\n",
      "apple-orange-banana-grape\n"
     ]
    }
   ],
   "source": [
    "csv_data = \"apple,orange,banana,grape\"\n",
    "fruits_list = csv_data.split(',')\n",
    "print(fruits_list)  # Output: ['apple', 'orange', 'banana', 'grape']\n",
    "\n",
    "# Joining the list into a string\n",
    "joined_string = '-'.join(fruits_list)\n",
    "print(joined_string)  # Output: apple-orange-banana-grape"
   ]
  },
  {
   "cell_type": "markdown",
   "metadata": {},
   "source": [
    "### 6. Checking and Formatting\n",
    "\n",
    "* `startswith()`, `endswith()`: Check if a string starts or ends with a specific substring.\n",
    "\n",
    "* `in` keyword: Check if a substring is present in a string.\n",
    "\n",
    "* `format()` method: Format strings with placeholders."
   ]
  },
  {
   "cell_type": "code",
   "execution_count": 49,
   "metadata": {},
   "outputs": [
    {
     "name": "stdout",
     "output_type": "stream",
     "text": [
      "True\n",
      "True\n",
      "Name: Alice, Age: 30\n"
     ]
    }
   ],
   "source": [
    "email = \"user@example.com\"\n",
    "print(email.startswith(\"user\"))  # Output: True\n",
    "print(\"@\" in email)              # Output: True\n",
    "\n",
    "# String formatting\n",
    "name = \"Alice\"\n",
    "age = 30\n",
    "formatted_string = \"Name: {}, Age: {}\".format(name, age)\n",
    "print(formatted_string)\n",
    "# Output: Name: Alice, Age: 30"
   ]
  },
  {
   "cell_type": "markdown",
   "metadata": {},
   "source": [
    "Understanding these string manipulation techniques will empower you to effectively work with text data in Python, whether you're processing user inputs, parsing files, or formatting output."
   ]
  },
  {
   "cell_type": "markdown",
   "metadata": {},
   "source": [
    "<hr/>"
   ]
  },
  {
   "cell_type": "markdown",
   "metadata": {},
   "source": [
    "## List Manipulation\n",
    "\n",
    "Lists are a versatile and widely used data structure in Python, providing dynamic arrays to store and manipulate collections of items. Here are some common techniques and methods for list manipulation:\n",
    "\n",
    "### 1. Creating Lists\n",
    "\n",
    "You can create lists by enclosing items in square brackets `[]`:"
   ]
  },
  {
   "cell_type": "code",
   "execution_count": 50,
   "metadata": {},
   "outputs": [],
   "source": [
    "numbers = [1, 2, 3, 4, 5]\n",
    "fruits = [\"apple\", \"orange\", \"banana\", \"grape\"]"
   ]
  },
  {
   "cell_type": "markdown",
   "metadata": {},
   "source": [
    "### 2. Accessing Elements\n",
    "\n",
    "Access elements in a list using indexing. Remember that Python uses 0-based indexing:"
   ]
  },
  {
   "cell_type": "code",
   "execution_count": 51,
   "metadata": {},
   "outputs": [
    {
     "name": "stdout",
     "output_type": "stream",
     "text": [
      "1\n"
     ]
    }
   ],
   "source": [
    "first_number = numbers[0]  # Access the first element\n",
    "print(first_number)        # Output: 1"
   ]
  },
  {
   "cell_type": "markdown",
   "metadata": {},
   "source": [
    "### 3. Slicing Lists\n",
    "\n",
    "Slice a list to extract a subset of elements:"
   ]
  },
  {
   "cell_type": "code",
   "execution_count": 52,
   "metadata": {},
   "outputs": [
    {
     "name": "stdout",
     "output_type": "stream",
     "text": [
      "[2, 3, 4]\n"
     ]
    }
   ],
   "source": [
    "subset = numbers[1:4]  # Elements at index 1, 2, 3\n",
    "print(subset)          # Output: [2, 3, 4]"
   ]
  },
  {
   "cell_type": "markdown",
   "metadata": {},
   "source": [
    "### 4. Modifying Lists\n",
    "\n",
    "Lists are mutable, meaning you can modify them after creation.\n",
    "\n",
    "* Appending Elements:"
   ]
  },
  {
   "cell_type": "code",
   "execution_count": 53,
   "metadata": {},
   "outputs": [
    {
     "name": "stdout",
     "output_type": "stream",
     "text": [
      "['apple', 'orange', 'banana', 'grape', 'kiwi']\n"
     ]
    }
   ],
   "source": [
    "fruits.append(\"kiwi\")  # Append \"kiwi\" to the end\n",
    "print(fruits)          # Output: ['apple', 'orange', 'banana', 'grape', 'kiwi']"
   ]
  },
  {
   "cell_type": "markdown",
   "metadata": {},
   "source": [
    "* Inserting Elements:"
   ]
  },
  {
   "cell_type": "code",
   "execution_count": 54,
   "metadata": {},
   "outputs": [
    {
     "name": "stdout",
     "output_type": "stream",
     "text": [
      "['apple', 'orange', 'pear', 'banana', 'grape', 'kiwi']\n"
     ]
    }
   ],
   "source": [
    "fruits.insert(2, \"pear\")  # Insert \"pear\" at index 2\n",
    "print(fruits)             # Output: ['apple', 'orange', 'pear', 'banana', 'grape', 'kiwi']"
   ]
  },
  {
   "cell_type": "markdown",
   "metadata": {},
   "source": [
    "* Removing Elements:"
   ]
  },
  {
   "cell_type": "code",
   "execution_count": 55,
   "metadata": {},
   "outputs": [
    {
     "name": "stdout",
     "output_type": "stream",
     "text": [
      "['apple', 'pear', 'banana', 'grape', 'kiwi']\n"
     ]
    }
   ],
   "source": [
    "fruits.remove(\"orange\")  # Remove the first occurrence of \"orange\"\n",
    "print(fruits)            # Output: ['apple', 'pear', 'banana', 'grape', 'kiwi']"
   ]
  },
  {
   "cell_type": "markdown",
   "metadata": {},
   "source": [
    "* Pop and Delete:"
   ]
  },
  {
   "cell_type": "code",
   "execution_count": 56,
   "metadata": {},
   "outputs": [
    {
     "name": "stdout",
     "output_type": "stream",
     "text": [
      "pear ['banana', 'grape', 'kiwi']\n"
     ]
    }
   ],
   "source": [
    "popped_item = fruits.pop(1)  # Remove and return the element at index 1\n",
    "del fruits[0]                # Delete the element at index 0\n",
    "print(popped_item, fruits)   # Output: pear ['banana', 'grape', 'kiwi']"
   ]
  },
  {
   "cell_type": "markdown",
   "metadata": {},
   "source": [
    "### 5. List Concatenation and Repetition\n",
    "\n",
    "Combine lists using concatenation (`+`) or repeat a list using repetition (`*`):"
   ]
  },
  {
   "cell_type": "code",
   "execution_count": 57,
   "metadata": {},
   "outputs": [
    {
     "name": "stdout",
     "output_type": "stream",
     "text": [
      "[1, 2, 3, 4, 5, 'banana', 'grape', 'kiwi']\n",
      "[1, 2, 3, 4, 5, 1, 2, 3, 4, 5, 1, 2, 3, 4, 5]\n"
     ]
    }
   ],
   "source": [
    "combined_list = numbers + fruits\n",
    "repeated_list = numbers * 3\n",
    "print(combined_list)\n",
    "# Output: [1, 2, 3, 4, 5, 'apple', 'orange', 'banana', 'grape', 'kiwi']\n",
    "print(repeated_list)\n",
    "# Output: [1, 2, 3, 4, 5, 1, 2, 3, 4, 5, 1, 2, 3, 4, 5]"
   ]
  },
  {
   "cell_type": "markdown",
   "metadata": {},
   "source": [
    "### 6. List Comprehension\n",
    "\n",
    "List comprehensions provide a concise way to create lists:"
   ]
  },
  {
   "cell_type": "code",
   "execution_count": 58,
   "metadata": {},
   "outputs": [
    {
     "name": "stdout",
     "output_type": "stream",
     "text": [
      "[1, 4, 9, 16, 25]\n"
     ]
    }
   ],
   "source": [
    "squared_numbers = [x ** 2 for x in numbers]\n",
    "print(squared_numbers)  # Output: [1, 4, 9, 16, 25]"
   ]
  },
  {
   "cell_type": "markdown",
   "metadata": {},
   "source": [
    "### 7. Sorting and Reversing Lists\n",
    "\n",
    "Sort a list in ascending or descending order, or reverse the order:"
   ]
  },
  {
   "cell_type": "code",
   "execution_count": 59,
   "metadata": {},
   "outputs": [
    {
     "name": "stdout",
     "output_type": "stream",
     "text": [
      "[1, 2, 3, 4, 5]\n",
      "['kiwi', 'grape', 'banana']\n"
     ]
    }
   ],
   "source": [
    "numbers.sort()        # Sort in ascending order\n",
    "fruits.sort(reverse=True)  # Sort in descending order\n",
    "print(numbers)        # Output: [1, 2, 3, 4, 5]\n",
    "print(fruits)         # Output: ['kiwi', 'grape', 'banana', 'apple']"
   ]
  },
  {
   "cell_type": "markdown",
   "metadata": {},
   "source": [
    "### 8. List Membership and Count\n",
    "\n",
    "Check if an item is present in a list using the in keyword, and count occurrences with the `count()` method:"
   ]
  },
  {
   "cell_type": "code",
   "execution_count": 60,
   "metadata": {},
   "outputs": [
    {
     "name": "stdout",
     "output_type": "stream",
     "text": [
      "True\n",
      "1\n"
     ]
    }
   ],
   "source": [
    "print(\"kiwi\" in fruits)      # Output: True\n",
    "print(numbers.count(3))       # Output: 1"
   ]
  },
  {
   "cell_type": "markdown",
   "metadata": {},
   "source": [
    "Understanding these list manipulation techniques will enhance your ability to work with dynamic collections of data in Python, whether you're dealing with numerical data, text data, or a combination of both."
   ]
  },
  {
   "cell_type": "markdown",
   "metadata": {},
   "source": [
    "<hr/>"
   ]
  },
  {
   "cell_type": "markdown",
   "metadata": {},
   "source": [
    "## Conditional Statements\n",
    "\n",
    "Conditional statements allow you to control the flow of your program based on specific conditions. In Python, you can use the `if`, `elif` (else if), and `else` statements for this purpose.\n",
    "### 1. `if` Statement\n",
    "\n",
    "The `if` statement checks a condition, and if it is true, the indented block of code beneath it is executed:"
   ]
  },
  {
   "cell_type": "code",
   "execution_count": 61,
   "metadata": {},
   "outputs": [
    {
     "name": "stdout",
     "output_type": "stream",
     "text": [
      "x is greater than 5\n"
     ]
    }
   ],
   "source": [
    "x = 10\n",
    "\n",
    "if x > 5:\n",
    "    print(\"x is greater than 5\")"
   ]
  },
  {
   "cell_type": "markdown",
   "metadata": {},
   "source": [
    "### 2. `if`-`else` Statement\n",
    "\n",
    "The `if`-`else` statement adds an alternative block of code to execute when the condition is false:"
   ]
  },
  {
   "cell_type": "code",
   "execution_count": 62,
   "metadata": {},
   "outputs": [
    {
     "name": "stdout",
     "output_type": "stream",
     "text": [
      "x is not greater than 5\n"
     ]
    }
   ],
   "source": [
    "x = 3\n",
    "\n",
    "if x > 5:\n",
    "    print(\"x is greater than 5\")\n",
    "else:\n",
    "    print(\"x is not greater than 5\")"
   ]
  },
  {
   "cell_type": "markdown",
   "metadata": {},
   "source": [
    "### 3. `if`-`elif`-`else` Statement\n",
    "\n",
    "The `if`-`elif`-`else` statement allows you to check multiple conditions:"
   ]
  },
  {
   "cell_type": "code",
   "execution_count": 63,
   "metadata": {},
   "outputs": [
    {
     "name": "stdout",
     "output_type": "stream",
     "text": [
      "x is equal to 5\n"
     ]
    }
   ],
   "source": [
    "x = 5\n",
    "\n",
    "if x > 5:\n",
    "    print(\"x is greater than 5\")\n",
    "elif x == 5:\n",
    "    print(\"x is equal to 5\")\n",
    "else:\n",
    "    print(\"x is less than 5\")"
   ]
  },
  {
   "cell_type": "markdown",
   "metadata": {},
   "source": [
    "### 4. Nested `if` Statements\n",
    "\n",
    "You can nest if statements to check conditions within conditions:"
   ]
  },
  {
   "cell_type": "code",
   "execution_count": 64,
   "metadata": {},
   "outputs": [
    {
     "name": "stdout",
     "output_type": "stream",
     "text": [
      "x is greater than 5\n",
      "y is also greater than 2\n"
     ]
    }
   ],
   "source": [
    "x = 10\n",
    "y = 5\n",
    "\n",
    "if x > 5:\n",
    "    print(\"x is greater than 5\")\n",
    "    \n",
    "    if y > 2:\n",
    "        print(\"y is also greater than 2\")\n",
    "    else:\n",
    "        print(\"y is not greater than 2\")"
   ]
  },
  {
   "cell_type": "markdown",
   "metadata": {},
   "source": [
    "### 5. Logical Operators (`and`, `or`, `not`)\n",
    "\n",
    "Combine conditions using logical operators:"
   ]
  },
  {
   "cell_type": "code",
   "execution_count": 65,
   "metadata": {},
   "outputs": [
    {
     "name": "stdout",
     "output_type": "stream",
     "text": [
      "You are between 18 and 30 years old\n",
      "You are not older than 30\n"
     ]
    }
   ],
   "source": [
    "age = 25\n",
    "\n",
    "if age >= 18 and age <= 30:\n",
    "    print(\"You are between 18 and 30 years old\")\n",
    "\n",
    "if age < 18 or age > 65:\n",
    "    print(\"You are either under 18 or over 65\")\n",
    "\n",
    "if not age > 30:\n",
    "    print(\"You are not older than 30\")"
   ]
  },
  {
   "cell_type": "markdown",
   "metadata": {},
   "source": [
    "### 6. Ternary Conditional Expression\n",
    "\n",
    "Use a ternary conditional expression for a concise way to write simple `if`-`else` statements:"
   ]
  },
  {
   "cell_type": "code",
   "execution_count": 66,
   "metadata": {},
   "outputs": [
    {
     "name": "stdout",
     "output_type": "stream",
     "text": [
      "x is greater than 5\n"
     ]
    }
   ],
   "source": [
    "x = 8\n",
    "\n",
    "message = \"x is greater than 5\" if x > 5 else \"x is not greater than 5\"\n",
    "print(message)"
   ]
  },
  {
   "cell_type": "markdown",
   "metadata": {},
   "source": [
    "Conditional statements are essential for creating dynamic and responsive programs. They allow your code to make decisions and respond to different situations, making your programs more flexible and capable of handling various scenarios."
   ]
  },
  {
   "cell_type": "markdown",
   "metadata": {},
   "source": [
    "<hr/>"
   ]
  },
  {
   "cell_type": "markdown",
   "metadata": {},
   "source": [
    "\n",
    "## Loops\n",
    "\n",
    "Loops are essential for repeating a block of code multiple times. In Python, there are two main types of loops: `for` loops and `while` loops.\n",
    "\n",
    "### 1. `for` Loop\n",
    "\n",
    "The `for` loop is used for iterating over a sequence (such as a list, tuple, string, or range). It executes a block of code for each item in the sequence:\n",
    "\n",
    "Example with a List:"
   ]
  },
  {
   "cell_type": "code",
   "execution_count": 67,
   "metadata": {},
   "outputs": [
    {
     "name": "stdout",
     "output_type": "stream",
     "text": [
      "apple\n",
      "banana\n",
      "cherry\n"
     ]
    }
   ],
   "source": [
    "fruits = [\"apple\", \"banana\", \"cherry\"]\n",
    "\n",
    "for fruit in fruits:\n",
    "    print(fruit)"
   ]
  },
  {
   "cell_type": "markdown",
   "metadata": {},
   "source": [
    "Example with a Range:"
   ]
  },
  {
   "cell_type": "code",
   "execution_count": 68,
   "metadata": {},
   "outputs": [
    {
     "name": "stdout",
     "output_type": "stream",
     "text": [
      "0\n",
      "1\n",
      "2\n",
      "3\n",
      "4\n"
     ]
    }
   ],
   "source": [
    "for i in range(5):\n",
    "    print(i)"
   ]
  },
  {
   "cell_type": "markdown",
   "metadata": {},
   "source": [
    "### 2. `while` Loop\n",
    "\n",
    "The `while` loop continues to execute a block of code as long as a specified condition is true:"
   ]
  },
  {
   "cell_type": "code",
   "execution_count": 69,
   "metadata": {},
   "outputs": [
    {
     "name": "stdout",
     "output_type": "stream",
     "text": [
      "0\n",
      "1\n",
      "2\n",
      "3\n",
      "4\n"
     ]
    }
   ],
   "source": [
    "count = 0\n",
    "\n",
    "while count < 5:\n",
    "    print(count)\n",
    "    count += 1"
   ]
  },
  {
   "cell_type": "markdown",
   "metadata": {},
   "source": [
    "### 3. Loop Control Statements\n",
    "\n",
    "a. `break` Statement\n",
    "\n",
    "The `break` statement is used to exit the loop prematurely, regardless of whether the loop condition is true or false:"
   ]
  },
  {
   "cell_type": "code",
   "execution_count": 70,
   "metadata": {},
   "outputs": [
    {
     "name": "stdout",
     "output_type": "stream",
     "text": [
      "0\n",
      "1\n",
      "2\n",
      "3\n",
      "4\n"
     ]
    }
   ],
   "source": [
    "for number in range(10):\n",
    "    if number == 5:\n",
    "        break\n",
    "    print(number)"
   ]
  },
  {
   "cell_type": "markdown",
   "metadata": {},
   "source": [
    "b. `continue` Statement\n",
    "\n",
    "The `continue` statement is used to skip the rest of the code inside the loop for the current iteration and move to the next iteration:"
   ]
  },
  {
   "cell_type": "code",
   "execution_count": 71,
   "metadata": {},
   "outputs": [
    {
     "name": "stdout",
     "output_type": "stream",
     "text": [
      "1\n",
      "3\n",
      "5\n",
      "7\n",
      "9\n"
     ]
    }
   ],
   "source": [
    "for number in range(10):\n",
    "    if number % 2 == 0:\n",
    "        continue\n",
    "    print(number)"
   ]
  },
  {
   "cell_type": "markdown",
   "metadata": {},
   "source": [
    "c. `else` Clause in Loops\n",
    "\n",
    "Python allows an `else` clause to be associated with a loop. The `else` block is executed when the loop condition becomes false:"
   ]
  },
  {
   "cell_type": "code",
   "execution_count": 72,
   "metadata": {},
   "outputs": [
    {
     "name": "stdout",
     "output_type": "stream",
     "text": [
      "0\n",
      "1\n",
      "2\n",
      "3\n",
      "4\n",
      "Loop completed without a break\n"
     ]
    }
   ],
   "source": [
    "for i in range(5):\n",
    "    print(i)\n",
    "else:\n",
    "    print(\"Loop completed without a break\")"
   ]
  },
  {
   "cell_type": "markdown",
   "metadata": {},
   "source": [
    "### 4. Nested Loops\n",
    "\n",
    "You can have loops inside loops, known as nested loops:"
   ]
  },
  {
   "cell_type": "code",
   "execution_count": 73,
   "metadata": {},
   "outputs": [
    {
     "name": "stdout",
     "output_type": "stream",
     "text": [
      "(0, 0)\n",
      "(0, 1)\n",
      "(1, 0)\n",
      "(1, 1)\n",
      "(2, 0)\n",
      "(2, 1)\n"
     ]
    }
   ],
   "source": [
    "for i in range(3):\n",
    "    for j in range(2):\n",
    "        print(f\"({i}, {j})\")"
   ]
  },
  {
   "cell_type": "markdown",
   "metadata": {},
   "source": [
    "### 5. Iterating Over Dictionaries\n",
    "\n",
    "You can use the `items()` method to iterate over key-value pairs in a dictionary:"
   ]
  },
  {
   "cell_type": "code",
   "execution_count": 74,
   "metadata": {},
   "outputs": [
    {
     "name": "stdout",
     "output_type": "stream",
     "text": [
      "name: Alice\n",
      "age: 30\n",
      "city: Wonderland\n"
     ]
    }
   ],
   "source": [
    "person = {\"name\": \"Alice\", \"age\": 30, \"city\": \"Wonderland\"}\n",
    "\n",
    "for key, value in person.items():\n",
    "    print(f\"{key}: {value}\")"
   ]
  },
  {
   "cell_type": "markdown",
   "metadata": {},
   "source": [
    "### 6. `enumerate()` Function\n",
    "\n",
    "The `enumerate()` function is used to iterate over a sequence and keep track of the index:"
   ]
  },
  {
   "cell_type": "code",
   "execution_count": 75,
   "metadata": {},
   "outputs": [
    {
     "name": "stdout",
     "output_type": "stream",
     "text": [
      "Index 0: apple\n",
      "Index 1: banana\n",
      "Index 2: cherry\n"
     ]
    }
   ],
   "source": [
    "fruits = [\"apple\", \"banana\", \"cherry\"]\n",
    "\n",
    "for index, fruit in enumerate(fruits):\n",
    "    print(f\"Index {index}: {fruit}\")"
   ]
  },
  {
   "cell_type": "markdown",
   "metadata": {},
   "source": [
    "Loops are fundamental to programming and are used for a variety of tasks, from iterating over data to implementing control flow in your programs. Understanding how to effectively use loops is key to writing efficient and readable code."
   ]
  },
  {
   "cell_type": "markdown",
   "metadata": {},
   "source": [
    "<hr/>"
   ]
  },
  {
   "cell_type": "markdown",
   "metadata": {},
   "source": [
    "## Tuples\n",
    "\n",
    "Tuples are a versatile and immutable data type in Python. They are similar to lists but with a key difference: once a tuple is created, its elements cannot be changed or modified. Tuples are created using parentheses `()`.\n",
    "\n",
    "### 1. Creating Tuples"
   ]
  },
  {
   "cell_type": "code",
   "execution_count": 76,
   "metadata": {},
   "outputs": [],
   "source": [
    "# Creating an empty tuple.\n",
    "empty_tuple = ()\n",
    "\n",
    "# Creating a tuple with elements.\n",
    "fruits = (\"apple\", \"banana\", \"cherry\")"
   ]
  },
  {
   "cell_type": "markdown",
   "metadata": {},
   "source": [
    "### 2. Accessing Elements\n",
    "\n",
    "Tuples support indexing and slicing, similar to lists:"
   ]
  },
  {
   "cell_type": "code",
   "execution_count": 77,
   "metadata": {},
   "outputs": [
    {
     "name": "stdout",
     "output_type": "stream",
     "text": [
      "apple\n",
      "('banana', 'cherry')\n"
     ]
    }
   ],
   "source": [
    "print(fruits[0])   # Output: apple\n",
    "print(fruits[1:3])  # Output: ('banana', 'cherry')"
   ]
  },
  {
   "cell_type": "markdown",
   "metadata": {},
   "source": [
    "### 3. Immutable Nature\n",
    "\n",
    "Once a tuple is created, you cannot modify its elements. However, you can create a new tuple with modifications:"
   ]
  },
  {
   "cell_type": "code",
   "execution_count": 78,
   "metadata": {},
   "outputs": [
    {
     "name": "stdout",
     "output_type": "stream",
     "text": [
      "('apple', 'banana', 'cherry', 'orange', 'grape')\n"
     ]
    }
   ],
   "source": [
    "# Trying to modify a tuple (will raise an error).\n",
    "# fruits[0] = \"orange\"\n",
    "\n",
    "# Creating a new tuple with modifications.\n",
    "modified_fruits = fruits + (\"orange\", \"grape\")\n",
    "print(modified_fruits)  # Output: ('apple', 'banana', 'cherry', 'orange', 'grape')"
   ]
  },
  {
   "cell_type": "markdown",
   "metadata": {},
   "source": [
    "### 4. Tuple Packing and Unpacking\n",
    "\n",
    "Tuple packing is the process of creating a tuple by placing values inside parentheses. Tuple unpacking is the reverse, where values in a tuple are assigned to variables:"
   ]
  },
  {
   "cell_type": "code",
   "execution_count": 79,
   "metadata": {},
   "outputs": [
    {
     "name": "stdout",
     "output_type": "stream",
     "text": [
      "3 5\n"
     ]
    }
   ],
   "source": [
    "# Tuple packing.\n",
    "coordinates = (3, 5)\n",
    "\n",
    "# Tuple unpacking.\n",
    "x, y = coordinates\n",
    "print(x, y)  # Output: 3 5"
   ]
  },
  {
   "cell_type": "markdown",
   "metadata": {},
   "source": [
    "### 5. Tuple Methods\n",
    "\n",
    "Tuples have a few built-in methods:\n",
    "\n",
    "`count()`: Returns the number of occurrences of a value.\n",
    "`index()`: Returns the index of the first occurrence of a value."
   ]
  },
  {
   "cell_type": "code",
   "execution_count": 80,
   "metadata": {},
   "outputs": [
    {
     "name": "stdout",
     "output_type": "stream",
     "text": [
      "2\n",
      "3\n"
     ]
    }
   ],
   "source": [
    "numbers = (1, 2, 3, 4, 2, 5)\n",
    "\n",
    "print(numbers.count(2))  # Output: 2 (number of occurrences of 2)\n",
    "print(numbers.index(4))  # Output: 3 (index of the first occurrence of 4)"
   ]
  },
  {
   "cell_type": "markdown",
   "metadata": {},
   "source": [
    "### 6. Iterating Over Tuples\n",
    "\n",
    "You can use a for loop to iterate over the elements of a tuple:"
   ]
  },
  {
   "cell_type": "code",
   "execution_count": 81,
   "metadata": {},
   "outputs": [
    {
     "name": "stdout",
     "output_type": "stream",
     "text": [
      "apple\n",
      "banana\n",
      "cherry\n"
     ]
    }
   ],
   "source": [
    "fruits = (\"apple\", \"banana\", \"cherry\")\n",
    "\n",
    "for fruit in fruits:\n",
    "    print(fruit)"
   ]
  },
  {
   "cell_type": "markdown",
   "metadata": {},
   "source": [
    "### 7. Advantages of Tuples\n",
    "\n",
    "__Immutable__: Tuples provide data integrity and are suitable for situations where the data should not be changed.\n",
    "\n",
    "__Performance__: Tuples can be faster than lists for certain operations because of their immutability.\n",
    "\n",
    "__Valid Dictionary Key__: Tuples can be used as keys in dictionaries, unlike lists."
   ]
  },
  {
   "cell_type": "markdown",
   "metadata": {},
   "source": [
    "### 8. When to Use Tuples\n",
    "\n",
    "Use tuples when you have a collection of items that should remain constant throughout the program's execution. For example, representing coordinates, RGB values, or dates."
   ]
  },
  {
   "cell_type": "code",
   "execution_count": 82,
   "metadata": {},
   "outputs": [],
   "source": [
    "rgb_values = ((255, 0, 0), (0, 255, 0), (0, 0, 255))"
   ]
  },
  {
   "cell_type": "markdown",
   "metadata": {},
   "source": [
    "Understanding the characteristics and use cases of tuples will allow you to choose the appropriate data structure for your specific programming needs."
   ]
  },
  {
   "cell_type": "markdown",
   "metadata": {},
   "source": [
    "<hr/>"
   ]
  },
  {
   "cell_type": "markdown",
   "metadata": {},
   "source": [
    "## Dictionaries\n",
    "\n",
    "Dictionaries are a powerful and flexible data structure in Python, allowing you to store and retrieve data in key-value pairs. Each key in a dictionary must be unique, and the values can be of any data type. Dictionaries are created using curly braces `{}`.\n",
    "\n",
    "### 1. Creating Dictionaries"
   ]
  },
  {
   "cell_type": "code",
   "execution_count": 83,
   "metadata": {},
   "outputs": [],
   "source": [
    "# Creating an empty dictionary.\n",
    "empty_dict = {}\n",
    "\n",
    "# Creating a dictionary with key-value pairs.\n",
    "person = {\"name\": \"John\", \"age\": 30, \"city\": \"New York\"}"
   ]
  },
  {
   "cell_type": "markdown",
   "metadata": {},
   "source": [
    "### 2. Accessing Values\n",
    "Access values in a dictionary using their corresponding keys:"
   ]
  },
  {
   "cell_type": "code",
   "execution_count": 84,
   "metadata": {},
   "outputs": [
    {
     "name": "stdout",
     "output_type": "stream",
     "text": [
      "John\n",
      "30\n"
     ]
    }
   ],
   "source": [
    "print(person[\"name\"])  # Output: John\n",
    "print(person[\"age\"])   # Output: 30"
   ]
  },
  {
   "cell_type": "markdown",
   "metadata": {},
   "source": [
    "### 3. Modifying and Adding Items\n",
    "Dictionaries are mutable, so you can modify values or add new key-value pairs:"
   ]
  },
  {
   "cell_type": "code",
   "execution_count": 85,
   "metadata": {},
   "outputs": [
    {
     "name": "stdout",
     "output_type": "stream",
     "text": [
      "{'name': 'John', 'age': 31, 'city': 'New York', 'gender': 'Male'}\n"
     ]
    }
   ],
   "source": [
    "# Modifying a value.\n",
    "person[\"age\"] = 31\n",
    "\n",
    "# Adding a new key-value pair.\n",
    "person[\"gender\"] = \"Male\"\n",
    "\n",
    "print(person)\n",
    "# Output: {'name': 'John', 'age': 31, 'city': 'New York', 'gender': 'Male'}"
   ]
  },
  {
   "cell_type": "markdown",
   "metadata": {},
   "source": [
    "### 4. Dictionary Methods\n",
    "Dictionaries have various built-in methods for manipulation:\n",
    "\n",
    "* `keys()`: Returns a view of all keys.\n",
    "* `values()`: Returns a view of all values.\n",
    "* `items()`: Returns a view of all key-value pairs.\n",
    "* `get()`: Returns the value for a given key, with a default value if the key is not present."
   ]
  },
  {
   "cell_type": "code",
   "execution_count": 86,
   "metadata": {},
   "outputs": [
    {
     "name": "stdout",
     "output_type": "stream",
     "text": [
      "dict_keys(['name', 'age', 'city', 'gender'])\n",
      "dict_values(['John', 31, 'New York', 'Male'])\n",
      "dict_items([('name', 'John'), ('age', 31), ('city', 'New York'), ('gender', 'Male')])\n",
      "USA\n"
     ]
    }
   ],
   "source": [
    "print(person.keys())    # Output: dict_keys(['name', 'age', 'city', 'gender'])\n",
    "print(person.values())  # Output: dict_values(['John', 31, 'New York', 'Male'])\n",
    "print(person.items())   # Output: dict_items([('name', 'John'), ('age', 31), ('city', 'New York'), ('gender', 'Male')])\n",
    "\n",
    "# Using get() to avoid KeyError.\n",
    "print(person.get(\"country\", \"USA\"))  # Output: USA (default value when key 'country' is not present)"
   ]
  },
  {
   "cell_type": "markdown",
   "metadata": {},
   "source": [
    "### 5. Checking if a Key Exists\n",
    "You can use the in keyword to check if a key exists in a dictionary:"
   ]
  },
  {
   "cell_type": "code",
   "execution_count": 87,
   "metadata": {},
   "outputs": [
    {
     "name": "stdout",
     "output_type": "stream",
     "text": [
      "True\n",
      "False\n"
     ]
    }
   ],
   "source": [
    "print(\"age\" in person)     # Output: True\n",
    "print(\"country\" in person) # Output: False"
   ]
  },
  {
   "cell_type": "markdown",
   "metadata": {},
   "source": [
    "### 6. Nested Dictionaries\n",
    "Dictionaries can contain other dictionaries, creating a nested structure:"
   ]
  },
  {
   "cell_type": "code",
   "execution_count": 88,
   "metadata": {},
   "outputs": [],
   "source": [
    "contacts = {\n",
    "    \"John\": {\"phone\": \"123-456-7890\", \"email\": \"john@example.com\"},\n",
    "    \"Alice\": {\"phone\": \"987-654-3210\", \"email\": \"alice@example.com\"}\n",
    "}"
   ]
  },
  {
   "cell_type": "markdown",
   "metadata": {},
   "source": [
    "### 7. Dictionary Comprehensions\n",
    "Similar to list comprehensions, you can use dictionary comprehensions to create dictionaries in a concise manner:"
   ]
  },
  {
   "cell_type": "code",
   "execution_count": 89,
   "metadata": {},
   "outputs": [
    {
     "name": "stdout",
     "output_type": "stream",
     "text": [
      "{1: 1, 2: 4, 3: 9, 4: 16, 5: 25}\n"
     ]
    }
   ],
   "source": [
    "squares = {x: x**2 for x in range(1, 6)}\n",
    "print(squares)\n",
    "# Output: {1: 1, 2: 4, 3: 9, 4: 16, 5: 25}"
   ]
  },
  {
   "cell_type": "markdown",
   "metadata": {},
   "source": [
    "### 8. When to Use Dictionaries\n",
    "Dictionaries are suitable when you have a set of unique keys mapped to corresponding values. They are efficient for quick data retrieval and are commonly used for representing structured data like JSON.\n",
    "\n",
    "Understanding how to create, access, and manipulate dictionaries is crucial for working with complex data structures and building efficient programs in Python."
   ]
  },
  {
   "cell_type": "markdown",
   "metadata": {},
   "source": [
    "<hr/>"
   ]
  },
  {
   "cell_type": "markdown",
   "metadata": {},
   "source": [
    "## Sets\n",
    "A set is a built-in data type in Python that represents an unordered collection of unique elements. Sets are defined by enclosing elements in curly braces `{}`. They are widely used for tasks that involve mathematical set operations.\n",
    "\n",
    "### 1. Creating Sets\n",
    "You can create a set using curly braces or the set() constructor:"
   ]
  },
  {
   "cell_type": "code",
   "execution_count": 90,
   "metadata": {},
   "outputs": [],
   "source": [
    "# Creating a set using curly braces\n",
    "my_set = {1, 2, 3, 4, 5}\n",
    "\n",
    "# Creating a set using the set() constructor\n",
    "another_set = set([3, 4, 5, 6, 7])"
   ]
  },
  {
   "cell_type": "markdown",
   "metadata": {},
   "source": [
    "### 2. Adding and Removing Elements\n",
    "Sets are mutable, allowing you to add and remove elements:"
   ]
  },
  {
   "cell_type": "code",
   "execution_count": 91,
   "metadata": {},
   "outputs": [],
   "source": [
    "# Adding an element\n",
    "my_set.add(6)\n",
    "\n",
    "# Removing an element\n",
    "my_set.remove(3)"
   ]
  },
  {
   "cell_type": "markdown",
   "metadata": {},
   "source": [
    "### 3. Set Operations\n",
    "Sets support various operations for combining and manipulating sets:\n",
    "\n",
    "* __Union__ (`|`): Combines elements from two sets, excluding duplicates.\n",
    "* __Intersection__ (`&`): Returns elements common to both sets.\n",
    "* __Difference__ (`-`): Returns elements present in the first set but not in the second.\n",
    "* __Symmetric Difference__ (`^`): Returns elements present in either of the sets, but not in both."
   ]
  },
  {
   "cell_type": "code",
   "execution_count": 92,
   "metadata": {},
   "outputs": [],
   "source": [
    "set1 = {1, 2, 3, 4}\n",
    "set2 = {3, 4, 5, 6}\n",
    "\n",
    "union_set = set1 | set2        # {1, 2, 3, 4, 5, 6}\n",
    "intersection_set = set1 & set2  # {3, 4}\n",
    "difference_set = set1 - set2    # {1, 2}\n",
    "symmetric_difference_set = set1 ^ set2  # {1, 2, 5, 6}"
   ]
  },
  {
   "cell_type": "markdown",
   "metadata": {},
   "source": [
    "### 4. Membership Testing\n",
    "You can use the `in` keyword to check if an element is present in a set:"
   ]
  },
  {
   "cell_type": "code",
   "execution_count": 93,
   "metadata": {},
   "outputs": [
    {
     "name": "stdout",
     "output_type": "stream",
     "text": [
      "False\n",
      "True\n"
     ]
    }
   ],
   "source": [
    "print(3 in my_set)  # Output: False (3 was removed earlier)\n",
    "print(4 in my_set)  # Output: True"
   ]
  },
  {
   "cell_type": "markdown",
   "metadata": {},
   "source": [
    "### 5. Set Methods\n",
    "Sets have several built-in methods for common set operations:\n",
    "\n",
    "* `add()`: Adds an element to the set.\n",
    "* `remove()`: Removes a specified element from the set (raises an error if the element is not present).\n",
    "* `discard()`: Removes a specified element from the set (does not raise an error if the element is not present).\n",
    "* `clear()`: Removes all elements from the set.\n",
    "* `copy()`: Returns a shallow copy of the set."
   ]
  },
  {
   "cell_type": "code",
   "execution_count": 94,
   "metadata": {},
   "outputs": [],
   "source": [
    "my_set.add(7)\n",
    "my_set.remove(2)\n",
    "my_set.discard(10)  # No error even if 10 is not present\n",
    "my_set.clear()"
   ]
  },
  {
   "cell_type": "markdown",
   "metadata": {},
   "source": [
    "### 6. Frozen Sets\n",
    "Python also supports an immutable version of sets called frozen sets, created using the `frozenset()` constructor. Frozen sets cannot be modified after creation."
   ]
  },
  {
   "cell_type": "code",
   "execution_count": 95,
   "metadata": {},
   "outputs": [],
   "source": [
    "frozen_set = frozenset([1, 2, 3, 4])"
   ]
  },
  {
   "cell_type": "markdown",
   "metadata": {},
   "source": [
    "Sets are a valuable tool for dealing with collections of unique elements, and they provide efficient methods for performing set operations. Understanding how to use sets can simplify tasks that involve checking for uniqueness, combining datasets, and performing set arithmetic."
   ]
  },
  {
   "cell_type": "markdown",
   "metadata": {},
   "source": [
    "<hr/>"
   ]
  },
  {
   "cell_type": "markdown",
   "metadata": {},
   "source": [
    "## Functions\n",
    "Functions are blocks of reusable code that perform a specific task. They are fundamental to organizing and structuring code in a modular way. In Python, functions are defined using the `def` keyword.\n",
    "\n",
    "### 1. Defining a Function"
   ]
  },
  {
   "cell_type": "code",
   "execution_count": 96,
   "metadata": {},
   "outputs": [
    {
     "name": "stdout",
     "output_type": "stream",
     "text": [
      "Hello, John!\n"
     ]
    }
   ],
   "source": [
    "def greet(name):\n",
    "    \"\"\"This function greets the person passed in as a parameter.\"\"\"\n",
    "    print(f\"Hello, {name}!\")\n",
    "\n",
    "# Calling the function.\n",
    "greet(\"John\")"
   ]
  },
  {
   "cell_type": "markdown",
   "metadata": {},
   "source": [
    "### 2. Function Parameters and Arguments\n",
    "Functions can take parameters (input values) to perform operations. Parameters are specified in the function definition. Arguments are the actual values passed to the function when it is called."
   ]
  },
  {
   "cell_type": "code",
   "execution_count": 97,
   "metadata": {},
   "outputs": [
    {
     "name": "stdout",
     "output_type": "stream",
     "text": [
      "8\n"
     ]
    }
   ],
   "source": [
    "def add_numbers(a, b):\n",
    "    \"\"\"This function adds two numbers.\"\"\"\n",
    "    result = a + b\n",
    "    return result\n",
    "\n",
    "# Calling the function with arguments.\n",
    "sum_result = add_numbers(3, 5)\n",
    "print(sum_result)  # Output: 8"
   ]
  },
  {
   "cell_type": "markdown",
   "metadata": {},
   "source": [
    "### 3. Default Parameter Values\n",
    "You can provide default values for parameters, making them optional when calling the function:"
   ]
  },
  {
   "cell_type": "code",
   "execution_count": 98,
   "metadata": {},
   "outputs": [
    {
     "name": "stdout",
     "output_type": "stream",
     "text": [
      "Hello, John!\n",
      "Hi, Alice!\n"
     ]
    }
   ],
   "source": [
    "def greet(name, greeting=\"Hello\"):\n",
    "    \"\"\"This function greets a person with a specified greeting.\"\"\"\n",
    "    print(f\"{greeting}, {name}!\")\n",
    "\n",
    "# Calling the function with and without the second argument.\n",
    "greet(\"John\")           # Output: Hello, John!\n",
    "greet(\"Alice\", \"Hi\")    # Output: Hi, Alice!"
   ]
  },
  {
   "cell_type": "markdown",
   "metadata": {},
   "source": [
    "### 4. Return Statement\n",
    "Functions can return values using the `return` statement. The function exits when a `return`` statement is encountered:"
   ]
  },
  {
   "cell_type": "code",
   "execution_count": 99,
   "metadata": {},
   "outputs": [
    {
     "name": "stdout",
     "output_type": "stream",
     "text": [
      "16\n"
     ]
    }
   ],
   "source": [
    "def square(x):\n",
    "    \"\"\"This function returns the square of a number.\"\"\"\n",
    "    return x ** 2\n",
    "\n",
    "result = square(4)\n",
    "print(result)  # Output: 16"
   ]
  },
  {
   "cell_type": "markdown",
   "metadata": {},
   "source": [
    "### 5. Multiple Return Values\n",
    "Functions can return multiple values as a tuple:"
   ]
  },
  {
   "cell_type": "code",
   "execution_count": 100,
   "metadata": {},
   "outputs": [
    {
     "name": "stdout",
     "output_type": "stream",
     "text": [
      "(3, 5)\n"
     ]
    }
   ],
   "source": [
    "def get_coordinates():\n",
    "    \"\"\"This function returns a tuple of coordinates.\"\"\"\n",
    "    x = 3\n",
    "    y = 5\n",
    "    return x, y\n",
    "\n",
    "coordinates = get_coordinates()\n",
    "print(coordinates)  # Output: (3, 5)\n"
   ]
  },
  {
   "cell_type": "markdown",
   "metadata": {},
   "source": [
    "### 6. Variable Scope\n",
    "Variables defined inside a function have local scope and are not accessible outside the function. However, variables defined outside functions have global scope:"
   ]
  },
  {
   "cell_type": "code",
   "execution_count": 101,
   "metadata": {},
   "outputs": [
    {
     "name": "stdout",
     "output_type": "stream",
     "text": [
      "10\n"
     ]
    }
   ],
   "source": [
    "global_variable = 10\n",
    "\n",
    "def print_global_variable():\n",
    "    \"\"\"This function prints the global variable.\"\"\"\n",
    "    print(global_variable)\n",
    "\n",
    "print_global_variable()  # Output: 10"
   ]
  },
  {
   "cell_type": "markdown",
   "metadata": {},
   "source": [
    "### 7. Lambda Functions (Anonymous Functions)\n",
    "Lambda functions are small, anonymous functions defined using the `lambda` keyword. They are often used for short-term operations:"
   ]
  },
  {
   "cell_type": "code",
   "execution_count": 102,
   "metadata": {},
   "outputs": [
    {
     "name": "stdout",
     "output_type": "stream",
     "text": [
      "12\n"
     ]
    }
   ],
   "source": [
    "multiply = lambda x, y: x * y\n",
    "result = multiply(3, 4)\n",
    "print(result)  # Output: 12"
   ]
  },
  {
   "cell_type": "markdown",
   "metadata": {},
   "source": [
    "### 8. Docstrings\n",
    "Docstrings are used to document functions. They are placed in triple-quotes immediately after the function definition:"
   ]
  },
  {
   "cell_type": "code",
   "execution_count": 103,
   "metadata": {},
   "outputs": [],
   "source": [
    "def calculate_area(radius):\n",
    "    \"\"\"This function calculates the area of a circle.\"\"\"\n",
    "    area = 3.14 * radius ** 2\n",
    "    return area"
   ]
  },
  {
   "cell_type": "markdown",
   "metadata": {},
   "source": [
    "### 9. Recursion\n",
    "A function can call itself, a concept known as recursion:"
   ]
  },
  {
   "cell_type": "code",
   "execution_count": 104,
   "metadata": {},
   "outputs": [],
   "source": [
    "def factorial(n):\n",
    "    \"\"\"This function calculates the factorial of a number.\"\"\"\n",
    "    if n == 0 or n == 1:\n",
    "        return 1\n",
    "    else:\n",
    "        return n * factorial(n - 1)"
   ]
  },
  {
   "cell_type": "markdown",
   "metadata": {},
   "source": [
    "Functions are crucial for building modular and reusable code. They enhance code readability, simplify maintenance, and promote code organization. Understanding how to define, call, and work with functions is essential for effective Python programming."
   ]
  },
  {
   "cell_type": "markdown",
   "metadata": {},
   "source": [
    "<hr/>"
   ]
  },
  {
   "cell_type": "markdown",
   "metadata": {},
   "source": [
    "### Exception Handling in Python\n",
    "Exception handling allows you to gracefully manage errors that might occur during the execution of your program. In Python, exceptions are raised when an error occurs, and you can use `try`, `except`, `else`, and `finally` blocks to handle them.\n",
    "\n",
    "### 1. `try`-`except` Blocks\n",
    "Use the `try` block to enclose the code that might raise an exception. The `except` block specifies how to handle the exception:"
   ]
  },
  {
   "cell_type": "code",
   "execution_count": 105,
   "metadata": {},
   "outputs": [
    {
     "name": "stdout",
     "output_type": "stream",
     "text": [
      "Cannot divide by zero!\n"
     ]
    }
   ],
   "source": [
    "try:\n",
    "    # Code that might raise an exception.\n",
    "    result = 10 / 0\n",
    "except ZeroDivisionError:\n",
    "    print(\"Cannot divide by zero!\")"
   ]
  },
  {
   "cell_type": "markdown",
   "metadata": {},
   "source": [
    "### 2. Handling Multiple Exceptions\n",
    "You can handle multiple exceptions by providing multiple `except` blocks or a tuple of exception types:"
   ]
  },
  {
   "cell_type": "code",
   "execution_count": 106,
   "metadata": {},
   "outputs": [
    {
     "name": "stdout",
     "output_type": "stream",
     "text": [
      "Invalid conversion to integer.\n"
     ]
    }
   ],
   "source": [
    "try:\n",
    "    # Code that might raise an exception.\n",
    "    result = int(\"abc\")\n",
    "except ValueError:\n",
    "    print(\"Invalid conversion to integer.\")\n",
    "except ZeroDivisionError:\n",
    "    print(\"Cannot divide by zero!\")"
   ]
  },
  {
   "cell_type": "markdown",
   "metadata": {},
   "source": [
    "### 3. `else` Block\n",
    "The `else` block contains code that will be executed if no exceptions are raised in the `try` block:"
   ]
  },
  {
   "cell_type": "code",
   "execution_count": 107,
   "metadata": {},
   "outputs": [
    {
     "name": "stdout",
     "output_type": "stream",
     "text": [
      "Division successful. Result: 5.0\n"
     ]
    }
   ],
   "source": [
    "try:\n",
    "    result = 10 / 2\n",
    "except ZeroDivisionError:\n",
    "    print(\"Cannot divide by zero!\")\n",
    "else:\n",
    "    print(\"Division successful. Result:\", result)"
   ]
  },
  {
   "cell_type": "markdown",
   "metadata": {},
   "source": [
    "### 4. `finally` Block\n",
    "The `finally` block contains code that will be executed regardless of whether an exception was raised or not. It is often used for cleanup operations:"
   ]
  },
  {
   "cell_type": "code",
   "execution_count": 108,
   "metadata": {},
   "outputs": [
    {
     "name": "stdout",
     "output_type": "stream",
     "text": [
      "Cannot divide by zero!\n",
      "This code always executes.\n"
     ]
    }
   ],
   "source": [
    "try:\n",
    "    # Code that might raise an exception.\n",
    "    result = 10 / 0\n",
    "except ZeroDivisionError:\n",
    "    print(\"Cannot divide by zero!\")\n",
    "finally:\n",
    "    print(\"This code always executes.\")"
   ]
  },
  {
   "cell_type": "markdown",
   "metadata": {},
   "source": [
    "### 5. Raising Exceptions\n",
    "You can manually raise exceptions using the `raise` statement. This is useful when you want to indicate an error condition in your code:"
   ]
  },
  {
   "cell_type": "code",
   "execution_count": 109,
   "metadata": {},
   "outputs": [],
   "source": [
    "age = 10\n",
    "# TODO: Uncomment the line below.\n",
    "#age = -5\n",
    "\n",
    "if age < 0:\n",
    "    raise ValueError(\"Age cannot be negative.\")"
   ]
  },
  {
   "cell_type": "markdown",
   "metadata": {},
   "source": [
    "### 6. Custom Exceptions\n",
    "You can create your own exception classes by inheriting from the `Exception` class. This allows you to define specific types of exceptions for your application:"
   ]
  },
  {
   "cell_type": "code",
   "execution_count": 110,
   "metadata": {},
   "outputs": [
    {
     "name": "stdout",
     "output_type": "stream",
     "text": [
      "Caught an exception: This is a custom exception.\n"
     ]
    }
   ],
   "source": [
    "class CustomError(Exception):\n",
    "    pass\n",
    "\n",
    "try:\n",
    "    raise CustomError(\"This is a custom exception.\")\n",
    "except CustomError as e:\n",
    "    print(f\"Caught an exception: {e}\")"
   ]
  },
  {
   "cell_type": "markdown",
   "metadata": {},
   "source": [
    "### 7. Handling Multiple Exceptions in One Block\n",
    "You can handle multiple exceptions in a single `except` block by using parentheses:"
   ]
  },
  {
   "cell_type": "code",
   "execution_count": 111,
   "metadata": {},
   "outputs": [
    {
     "name": "stdout",
     "output_type": "stream",
     "text": [
      "An error occurred: invalid literal for int() with base 10: 'abc'\n"
     ]
    }
   ],
   "source": [
    "try:\n",
    "    # Code that might raise an exception.\n",
    "    result = int(\"abc\") / 0\n",
    "except (ValueError, ZeroDivisionError) as e:\n",
    "    print(f\"An error occurred: {e}\")"
   ]
  },
  {
   "cell_type": "markdown",
   "metadata": {},
   "source": [
    "Exception handling is crucial for writing robust and error-tolerant code. It allows your program to respond gracefully to unexpected situations and provides a mechanism to communicate errors to the user or log them for later analysis."
   ]
  },
  {
   "cell_type": "markdown",
   "metadata": {},
   "source": [
    "<hr/>"
   ]
  },
  {
   "cell_type": "markdown",
   "metadata": {},
   "source": [
    "## Regular Expressions\n",
    "Regular expressions, often referred to as regex or regexp, are powerful tools for pattern matching and text manipulation. Python provides the `re` module, which allows you to work with regular expressions.\n",
    "\n",
    "### 1. Importing the `re` Module"
   ]
  },
  {
   "cell_type": "code",
   "execution_count": 112,
   "metadata": {},
   "outputs": [],
   "source": [
    "import re"
   ]
  },
  {
   "cell_type": "markdown",
   "metadata": {},
   "source": [
    "### 2. Basic Patterns\n",
    "* __Literal Characters__: Match literal characters in a string."
   ]
  },
  {
   "cell_type": "code",
   "execution_count": 113,
   "metadata": {},
   "outputs": [],
   "source": [
    "pattern = re.compile(r\"hello\")"
   ]
  },
  {
   "cell_type": "markdown",
   "metadata": {},
   "source": [
    "* __Character Classes (`[...]`)__: Match any character within the brackets."
   ]
  },
  {
   "cell_type": "code",
   "execution_count": 114,
   "metadata": {},
   "outputs": [],
   "source": [
    "pattern = re.compile(r\"[aeiou]\")"
   ]
  },
  {
   "cell_type": "markdown",
   "metadata": {},
   "source": [
    "* Dot (`.`): Match any character except a newline."
   ]
  },
  {
   "cell_type": "code",
   "execution_count": 115,
   "metadata": {},
   "outputs": [],
   "source": [
    "pattern = re.compile(r\"gr.y\")"
   ]
  },
  {
   "cell_type": "markdown",
   "metadata": {},
   "source": [
    "### 3. Quantifiers\n",
    "`*`: Match zero or more occurrences."
   ]
  },
  {
   "cell_type": "code",
   "execution_count": 116,
   "metadata": {},
   "outputs": [],
   "source": [
    "pattern = re.compile(r\"ab*c\")"
   ]
  },
  {
   "cell_type": "markdown",
   "metadata": {},
   "source": [
    "`+`: Match one or more occurrences."
   ]
  },
  {
   "cell_type": "code",
   "execution_count": 117,
   "metadata": {},
   "outputs": [],
   "source": [
    "pattern = re.compile(r\"ab+c\")"
   ]
  },
  {
   "cell_type": "markdown",
   "metadata": {},
   "source": [
    "`?`: Match zero or one occurrence."
   ]
  },
  {
   "cell_type": "code",
   "execution_count": 118,
   "metadata": {},
   "outputs": [],
   "source": [
    "pattern = re.compile(r\"ab?c\")"
   ]
  },
  {
   "cell_type": "markdown",
   "metadata": {},
   "source": [
    "`{n}`: Match exactly n occurrences."
   ]
  },
  {
   "cell_type": "code",
   "execution_count": 119,
   "metadata": {},
   "outputs": [],
   "source": [
    "pattern = re.compile(r\"ab{2}c\")"
   ]
  },
  {
   "cell_type": "markdown",
   "metadata": {},
   "source": [
    "`{n,}`: Match n or more occurrences."
   ]
  },
  {
   "cell_type": "code",
   "execution_count": 120,
   "metadata": {},
   "outputs": [],
   "source": [
    "pattern = re.compile(r\"ab{2,}c\")"
   ]
  },
  {
   "cell_type": "markdown",
   "metadata": {},
   "source": [
    "`{n,m}`: Match between n and m occurrences."
   ]
  },
  {
   "cell_type": "code",
   "execution_count": 121,
   "metadata": {},
   "outputs": [],
   "source": [
    "pattern = re.compile(r\"ab{2,4}c\")"
   ]
  },
  {
   "cell_type": "markdown",
   "metadata": {},
   "source": [
    "### 4. Anchors and Boundaries\n",
    "`^`: Anchors the regex at the start of the string."
   ]
  },
  {
   "cell_type": "code",
   "execution_count": 122,
   "metadata": {},
   "outputs": [],
   "source": [
    "pattern = re.compile(r\"^start\")"
   ]
  },
  {
   "cell_type": "markdown",
   "metadata": {},
   "source": [
    "`$`: Anchors the regex at the end of the string."
   ]
  },
  {
   "cell_type": "code",
   "execution_count": 123,
   "metadata": {},
   "outputs": [],
   "source": [
    "pattern = re.compile(r\"end$\")"
   ]
  },
  {
   "cell_type": "markdown",
   "metadata": {},
   "source": [
    "`\\b`: Matches a word boundary."
   ]
  },
  {
   "cell_type": "code",
   "execution_count": 124,
   "metadata": {},
   "outputs": [],
   "source": [
    "pattern = re.compile(r\"\\bword\\b\")"
   ]
  },
  {
   "cell_type": "markdown",
   "metadata": {},
   "source": [
    "### 5. Character Classes and Escape Sequences\n",
    "`\\d`: Matches any digit (`[0-9]`)."
   ]
  },
  {
   "cell_type": "code",
   "execution_count": 125,
   "metadata": {},
   "outputs": [],
   "source": [
    "pattern = re.compile(r\"\\d+\")"
   ]
  },
  {
   "cell_type": "markdown",
   "metadata": {},
   "source": [
    "`\\D`: Matches any non-digit.\n",
    "\n",
    "`\\w`: Matches any word character (alphanumeric + underscore).\n",
    "\n",
    "`\\W`: Matches any non-word character.\n",
    "\n",
    "`\\s`: Matches any whitespace character.\n",
    "\n",
    "`\\S`: Matches any non-whitespace character."
   ]
  },
  {
   "cell_type": "markdown",
   "metadata": {},
   "source": [
    "## 6. Groups and Capturing\n",
    "__Groups (`(...)`)__: Create a group."
   ]
  },
  {
   "cell_type": "code",
   "execution_count": 126,
   "metadata": {},
   "outputs": [],
   "source": [
    "pattern = re.compile(r\"(\\d+)-(\\w+)\")"
   ]
  },
  {
   "cell_type": "markdown",
   "metadata": {},
   "source": [
    "__Capturing Groups__: Extract matched groups using `group()`` or `groups()`."
   ]
  },
  {
   "cell_type": "code",
   "execution_count": 127,
   "metadata": {},
   "outputs": [
    {
     "name": "stdout",
     "output_type": "stream",
     "text": [
      "123\n",
      "abc\n"
     ]
    }
   ],
   "source": [
    "match = pattern.match(\"123-abc\")\n",
    "print(match.group(1))  # Output: 123\n",
    "print(match.group(2))  # Output: abc"
   ]
  },
  {
   "cell_type": "markdown",
   "metadata": {},
   "source": [
    "### 7. Flags\n",
    "The `re` module supports flags to modify the behavior of regular expressions. Common flags include:\n",
    "\n",
    "`re.IGNORECASE` or `re.I`: Perform case-insensitive matching.\n",
    "\n",
    "`re.MULTILINE` or `re.M`: Allow `^` and `$` to match the start/end of each line.\n",
    "\n",
    "`re.DOTALL` or `re.S`: Allow `.` to match any character, including newline."
   ]
  },
  {
   "cell_type": "markdown",
   "metadata": {},
   "source": [
    "### 8. Using re Functions\n",
    "`re.match(pattern, string, flags=0)`: Matches the pattern at the beginning of the string.\n",
    "\n",
    "`re.search(pattern, string, flags=0)`: Searches the entire string for a match.\n",
    "\n",
    "`re.findall(pattern, string, flags=0)`: Returns a list of all non-overlapping matches.\n",
    "\n",
    "`re.finditer(pattern, string, flags=0)`: Returns an iterator of match objects.\n",
    "\n",
    "`re.sub(pattern, replacement, string, count=0, flags=0)`: Replaces occurrences of the pattern with the replacement string."
   ]
  },
  {
   "cell_type": "markdown",
   "metadata": {},
   "source": [
    "### 9. Example"
   ]
  },
  {
   "cell_type": "code",
   "execution_count": 128,
   "metadata": {},
   "outputs": [
    {
     "name": "stdout",
     "output_type": "stream",
     "text": [
      "Email found: info@example.com\n"
     ]
    }
   ],
   "source": [
    "import re\n",
    "\n",
    "# Matching an email address.\n",
    "email_pattern = re.compile(r\"\\b[A-Za-z0-9._%+-]+@[A-Za-z0-9.-]+\\.[A-Z|a-z]{2,}\\b\")\n",
    "\n",
    "text = \"Contact us at info@example.com for more information.\"\n",
    "\n",
    "match = email_pattern.search(text)\n",
    "if match:\n",
    "    print(\"Email found:\", match.group())\n",
    "else:\n",
    "    print(\"No email found.\")"
   ]
  },
  {
   "cell_type": "markdown",
   "metadata": {},
   "source": [
    "Regular expressions are a powerful tool for string manipulation and pattern matching. Understanding their syntax and capabilities is valuable for tasks such as data validation, text parsing, and data extraction."
   ]
  },
  {
   "cell_type": "markdown",
   "metadata": {},
   "source": [
    "<hr/>"
   ]
  },
  {
   "cell_type": "markdown",
   "metadata": {},
   "source": [
    "## File Handling\n",
    "File handling in Python allows you to work with files, read from them, and write to them. Python provides built-in functions and methods to perform various operations on files.\n",
    "\n",
    "### 1. Opening and Closing Files\n",
    "Use the `open()` function to open a file. The function takes two arguments: the file path and the mode (read, write, append, etc.). It returns a file object."
   ]
  },
  {
   "cell_type": "code",
   "execution_count": 129,
   "metadata": {},
   "outputs": [],
   "source": [
    "# Opening a file for reading.\n",
    "file_path = \"read.txt\"\n",
    "file = open(file_path, \"r\")\n",
    "\n",
    "# Closing the file.\n",
    "file.close()"
   ]
  },
  {
   "cell_type": "markdown",
   "metadata": {},
   "source": [
    "### 2. Reading from a File\n",
    "There are different methods to read from a file:\n",
    "\n",
    "`read()`: Reads the entire content of the file."
   ]
  },
  {
   "cell_type": "code",
   "execution_count": 130,
   "metadata": {},
   "outputs": [
    {
     "name": "stdout",
     "output_type": "stream",
     "text": [
      "With the ever-increasing demand for machine learning and programming professionals, it's prime time to invest in the field. \n",
      "This book will help you in this endeavor, focusing specifically on text data and human language by steering a middle path among the various textbooks that present complicated theoretical concepts or focus disproportionately on Python code.\n",
      "A good metaphor this work builds upon is the relationship between an experienced craftsperson and their trainee.\n",
      "Based on the current problem, the former picks a tool from the toolbox, explains its utility, and puts it into action. \n",
      "This approach will help you to identify at least one practical use for each method or technique presented. \n",
      "The content unfolds in ten chapters, each discussing one specific case study. \n",
      "For this reason, the book is solution-oriented.\n",
      "It's accompanied by Python code in the form of Jupyter notebooks to help you obtain hands-on experience.\n",
      "A recurring pattern in the chapters of this book is helping you get some intuition on the data and then implement and contrast various solutions.\n",
      "By the end of this book, you'll be able to understand and apply various techniques with Python for text preprocessing, text representation, dimensionality reduction, machine learning, language modeling, visualization, and evaluation.\n"
     ]
    }
   ],
   "source": [
    "file = open(\"read.txt\", \"r\")\n",
    "content = file.read()\n",
    "print(content)\n",
    "file.close()"
   ]
  },
  {
   "cell_type": "markdown",
   "metadata": {},
   "source": [
    "`readline()`: Reads a single line from the file."
   ]
  },
  {
   "cell_type": "code",
   "execution_count": 131,
   "metadata": {},
   "outputs": [
    {
     "name": "stdout",
     "output_type": "stream",
     "text": [
      "With the ever-increasing demand for machine learning and programming professionals, it's prime time to invest in the field. \n",
      "\n"
     ]
    }
   ],
   "source": [
    "file = open(\"read.txt\", \"r\")\n",
    "line = file.readline()\n",
    "print(line)\n",
    "file.close()"
   ]
  },
  {
   "cell_type": "markdown",
   "metadata": {},
   "source": [
    "`readlines()`: Reads all lines from the file and returns them as a list."
   ]
  },
  {
   "cell_type": "code",
   "execution_count": 132,
   "metadata": {},
   "outputs": [
    {
     "name": "stdout",
     "output_type": "stream",
     "text": [
      "[\"With the ever-increasing demand for machine learning and programming professionals, it's prime time to invest in the field. \\n\", 'This book will help you in this endeavor, focusing specifically on text data and human language by steering a middle path among the various textbooks that present complicated theoretical concepts or focus disproportionately on Python code.\\n', 'A good metaphor this work builds upon is the relationship between an experienced craftsperson and their trainee.\\n', 'Based on the current problem, the former picks a tool from the toolbox, explains its utility, and puts it into action. \\n', 'This approach will help you to identify at least one practical use for each method or technique presented. \\n', 'The content unfolds in ten chapters, each discussing one specific case study. \\n', 'For this reason, the book is solution-oriented.\\n', \"It's accompanied by Python code in the form of Jupyter notebooks to help you obtain hands-on experience.\\n\", 'A recurring pattern in the chapters of this book is helping you get some intuition on the data and then implement and contrast various solutions.\\n', \"By the end of this book, you'll be able to understand and apply various techniques with Python for text preprocessing, text representation, dimensionality reduction, machine learning, language modeling, visualization, and evaluation.\"]\n"
     ]
    }
   ],
   "source": [
    "file = open(\"read.txt\", \"r\")\n",
    "lines = file.readlines()\n",
    "print(lines)\n",
    "file.close()"
   ]
  },
  {
   "cell_type": "markdown",
   "metadata": {},
   "source": [
    "### 3. Writing to a File\n",
    "Use the `write()` method to write to a file. If the file does not exist, it will be created. If it already exists, the content will be overwritten."
   ]
  },
  {
   "cell_type": "code",
   "execution_count": 133,
   "metadata": {},
   "outputs": [],
   "source": [
    "file = open(\"write.txt\", \"w\")\n",
    "file.write(\"Hello, this is a sample file.\")\n",
    "file.close()"
   ]
  },
  {
   "cell_type": "markdown",
   "metadata": {},
   "source": [
    "### 4. Appending to a File\n",
    "To add content to an existing file without overwriting the existing content, open the file in append mode (`\"a\"`)."
   ]
  },
  {
   "cell_type": "code",
   "execution_count": 134,
   "metadata": {},
   "outputs": [],
   "source": [
    "file = open(\"write.txt\", \"a\")\n",
    "file.write(\"\\nThis is additional content.\")\n",
    "file.close()"
   ]
  },
  {
   "cell_type": "markdown",
   "metadata": {},
   "source": [
    "### 5. Using with Statement (Context Manager)\n",
    "The `with` statement ensures that the file is properly closed after the operations are performed. It is recommended for file handling."
   ]
  },
  {
   "cell_type": "code",
   "execution_count": 135,
   "metadata": {},
   "outputs": [
    {
     "name": "stdout",
     "output_type": "stream",
     "text": [
      "With the ever-increasing demand for machine learning and programming professionals, it's prime time to invest in the field. \n",
      "This book will help you in this endeavor, focusing specifically on text data and human language by steering a middle path among the various textbooks that present complicated theoretical concepts or focus disproportionately on Python code.\n",
      "A good metaphor this work builds upon is the relationship between an experienced craftsperson and their trainee.\n",
      "Based on the current problem, the former picks a tool from the toolbox, explains its utility, and puts it into action. \n",
      "This approach will help you to identify at least one practical use for each method or technique presented. \n",
      "The content unfolds in ten chapters, each discussing one specific case study. \n",
      "For this reason, the book is solution-oriented.\n",
      "It's accompanied by Python code in the form of Jupyter notebooks to help you obtain hands-on experience.\n",
      "A recurring pattern in the chapters of this book is helping you get some intuition on the data and then implement and contrast various solutions.\n",
      "By the end of this book, you'll be able to understand and apply various techniques with Python for text preprocessing, text representation, dimensionality reduction, machine learning, language modeling, visualization, and evaluation.\n"
     ]
    }
   ],
   "source": [
    "with open(\"read.txt\", \"r\") as file:\n",
    "    content = file.read()\n",
    "    print(content)\n",
    "# File is automatically closed after exiting the 'with' block."
   ]
  },
  {
   "cell_type": "markdown",
   "metadata": {},
   "source": [
    "### 6. File Modes\n",
    "`\"r\"`: Read (default mode).\n",
    "\n",
    "`\"w\"`: Write (creates a new file or truncates an existing file).\n",
    "\n",
    "`\"a\"`: Append (opens a file for writing, but content is appended to the end).\n",
    "\n",
    "`\"b\"`: Binary mode (e.g., `\"rb\"`, `\"wb\"`, `\"ab\"`).\n",
    "\n",
    "`\"x\"`: Exclusive creation (creates a new file but fails if the file already exists)."
   ]
  },
  {
   "cell_type": "markdown",
   "metadata": {},
   "source": [
    "### 7. Working with Binary Files\n",
    "To work with binary files, use modes like `\"rb\"` (read binary) or `\"wb\"` (write binary)."
   ]
  },
  {
   "cell_type": "code",
   "execution_count": 136,
   "metadata": {},
   "outputs": [],
   "source": [
    "with open(\"binary_file.bin\", \"wb\") as bin_file:\n",
    "    bin_file.write(b\"Binary data\")"
   ]
  },
  {
   "cell_type": "markdown",
   "metadata": {},
   "source": [
    "### 8. Exception Handling for File Operations\n",
    "It's good practice to handle exceptions, especially when working with files."
   ]
  },
  {
   "cell_type": "code",
   "execution_count": 137,
   "metadata": {},
   "outputs": [
    {
     "name": "stdout",
     "output_type": "stream",
     "text": [
      "With the ever-increasing demand for machine learning and programming professionals, it's prime time to invest in the field. \n",
      "This book will help you in this endeavor, focusing specifically on text data and human language by steering a middle path among the various textbooks that present complicated theoretical concepts or focus disproportionately on Python code.\n",
      "A good metaphor this work builds upon is the relationship between an experienced craftsperson and their trainee.\n",
      "Based on the current problem, the former picks a tool from the toolbox, explains its utility, and puts it into action. \n",
      "This approach will help you to identify at least one practical use for each method or technique presented. \n",
      "The content unfolds in ten chapters, each discussing one specific case study. \n",
      "For this reason, the book is solution-oriented.\n",
      "It's accompanied by Python code in the form of Jupyter notebooks to help you obtain hands-on experience.\n",
      "A recurring pattern in the chapters of this book is helping you get some intuition on the data and then implement and contrast various solutions.\n",
      "By the end of this book, you'll be able to understand and apply various techniques with Python for text preprocessing, text representation, dimensionality reduction, machine learning, language modeling, visualization, and evaluation.\n"
     ]
    }
   ],
   "source": [
    "try:\n",
    "    with open(\"read.txt\", \"r\") as file:\n",
    "        content = file.read()\n",
    "        print(content)\n",
    "except FileNotFoundError:\n",
    "    print(\"File not found.\")\n",
    "except Exception as e:\n",
    "    print(f\"An error occurred: {e}\")"
   ]
  },
  {
   "cell_type": "markdown",
   "metadata": {},
   "source": [
    "File handling is a fundamental aspect of programming, enabling you to interact with external data. Understanding how to read, write, and manipulate files is essential for various applications, including data processing and file-based storage."
   ]
  },
  {
   "cell_type": "markdown",
   "metadata": {},
   "source": [
    "<hr/>"
   ]
  },
  {
   "cell_type": "markdown",
   "metadata": {},
   "source": [
    "## User Input\n",
    "User input is a crucial aspect of interactive programming, allowing users to provide data to a program during its execution. In Python, you can use the `input()` function to receive user input.\n",
    "\n",
    "### 1. Basic User Input\n",
    "Use the `input()` function to get input from the user. The input is always returned as a string."
   ]
  },
  {
   "cell_type": "code",
   "execution_count": 138,
   "metadata": {},
   "outputs": [
    {
     "name": "stdout",
     "output_type": "stream",
     "text": [
      "Hello, Nikos!\n"
     ]
    }
   ],
   "source": [
    "# Basic input.\n",
    "user_name = input(\"Enter your name: \")\n",
    "print(\"Hello, \" + user_name + \"!\")"
   ]
  },
  {
   "cell_type": "markdown",
   "metadata": {},
   "source": [
    "### 2. Converting Input to Other Data Types\n",
    "If you need the user input as a different data type, you can use type conversion functions like `int()`, `float()`, or `bool()`."
   ]
  },
  {
   "cell_type": "code",
   "execution_count": 139,
   "metadata": {},
   "outputs": [],
   "source": [
    "# Converting input to integer.\n",
    "user_age = int(input(\"Enter your age: \"))\n",
    "\n",
    "# Converting input to float.\n",
    "user_height = float(input(\"Enter your height (in meters): \"))\n",
    "\n",
    "# Converting input to boolean.\n",
    "is_student = bool(input(\"Are you a student? (True/False): \"))"
   ]
  },
  {
   "cell_type": "markdown",
   "metadata": {},
   "source": [
    "### 3. Handling User Input Errors\n",
    "It's important to handle potential errors when working with user input, especially when converting to other data types."
   ]
  },
  {
   "cell_type": "code",
   "execution_count": 140,
   "metadata": {},
   "outputs": [],
   "source": [
    "# Handling ValueError for invalid integer input.\n",
    "try:\n",
    "    user_age = int(input(\"Enter your age: \"))\n",
    "except ValueError:\n",
    "    print(\"Invalid input. Please enter a valid integer.\")"
   ]
  },
  {
   "cell_type": "markdown",
   "metadata": {},
   "source": [
    "### 4. Using `eval()` Function\n",
    "The `eval()` function can be used to evaluate the user's input as a Python expression, but it should be used cautiously due to security risks."
   ]
  },
  {
   "cell_type": "code",
   "execution_count": 141,
   "metadata": {},
   "outputs": [
    {
     "name": "stdout",
     "output_type": "stream",
     "text": [
      "Result: 1\n"
     ]
    }
   ],
   "source": [
    "user_input = eval(input(\"Enter an expression: \"))\n",
    "print(\"Result:\", user_input)"
   ]
  },
  {
   "cell_type": "markdown",
   "metadata": {},
   "source": [
    "### 5. Prompting for Multiple Inputs\n",
    "You can prompt for multiple inputs in a single line by using the `split()` method."
   ]
  },
  {
   "cell_type": "code",
   "execution_count": 142,
   "metadata": {},
   "outputs": [
    {
     "name": "stdout",
     "output_type": "stream",
     "text": [
      "Sum: 3.0\n"
     ]
    }
   ],
   "source": [
    "# Prompting for multiple inputs.\n",
    "user_inputs = input(\"Enter two numbers separated by a space: \").split()\n",
    "num1, num2 = map(float, user_inputs)\n",
    "print(\"Sum:\", num1 + num2)"
   ]
  },
  {
   "cell_type": "markdown",
   "metadata": {},
   "source": [
    "### 6. Using `strip()` to Remove Whitespace\n",
    "When taking user input, it's a good practice to use `strip()` to remove leading and trailing whitespace."
   ]
  },
  {
   "cell_type": "code",
   "execution_count": 143,
   "metadata": {},
   "outputs": [
    {
     "name": "stdout",
     "output_type": "stream",
     "text": [
      "You entered: Hi\n"
     ]
    }
   ],
   "source": [
    "user_input = input(\"Enter something: \").strip()\n",
    "print(\"You entered:\", user_input)"
   ]
  },
  {
   "cell_type": "markdown",
   "metadata": {},
   "source": [
    "### 7. Interactive User Input Loop\n",
    "You can create an interactive loop to continuously receive input until a specific condition is met."
   ]
  },
  {
   "cell_type": "code",
   "execution_count": 144,
   "metadata": {},
   "outputs": [
    {
     "name": "stdout",
     "output_type": "stream",
     "text": [
      "You entered: Hello!\n",
      "You entered: How are you?\n",
      "You entered: Bye....\n"
     ]
    }
   ],
   "source": [
    "while True:\n",
    "    user_input = input(\"Enter something (type 'exit' to quit): \")\n",
    "    \n",
    "    if user_input.lower() == 'exit':\n",
    "        break\n",
    "    \n",
    "    print(\"You entered:\", user_input)"
   ]
  },
  {
   "cell_type": "markdown",
   "metadata": {},
   "source": [
    "User input is a dynamic way to interact with your programs. It enables customization, parameterization, and real-time interaction, making your applications more versatile and user-friendly. However, when processing user input, always consider input validation and error handling to ensure robustness."
   ]
  },
  {
   "cell_type": "markdown",
   "metadata": {},
   "source": [
    "<hr/>"
   ]
  },
  {
   "cell_type": "markdown",
   "metadata": {},
   "source": [
    "## What we have learned …\n",
    "\n",
    "| | | | | |\n",
    "| --- | --- | --- | --- | --- |\n",
    "| **Variables** | **Built-in Data Types** | **Printing with Built-in Types** | **Operators** | **Type Casting** |\n",
    "| **String Manipulation** | **List Manipulation** | **Conditional Statements** | **Conditional Statements** | **Loops in Python** |\n",
    "| **Tuples** | **Dictionaries** | **Sets** | **Functions** | **Exception Handling** |\n",
    "| **Regular Expressions** | **File Handling** | **User Input** | | |\n",
    "| | | | | |"
   ]
  },
  {
   "cell_type": "markdown",
   "metadata": {},
   "source": [
    "## Author Information\n",
    "\n",
    "- **Author:** Nikos Tsourakis\n",
    "- **Email:** nikos@tsourakis.net\n",
    "- **Website:** [tsourakis.net](https://tsourakis.net)\n",
    "- **Date:** November 20, 2023"
   ]
  }
 ],
 "metadata": {
  "kernelspec": {
   "display_name": "Python 3.9.7 64-bit",
   "language": "python",
   "name": "python3"
  },
  "language_info": {
   "codemirror_mode": {
    "name": "ipython",
    "version": 3
   },
   "file_extension": ".py",
   "mimetype": "text/x-python",
   "name": "python",
   "nbconvert_exporter": "python",
   "pygments_lexer": "ipython3",
   "version": "3.9.7"
  },
  "orig_nbformat": 2,
  "vscode": {
   "interpreter": {
    "hash": "8f1e200aa4e9598f1b1017d8bb6526388dc3fae44f5def43455ba665e800f8e8"
   }
  }
 },
 "nbformat": 4,
 "nbformat_minor": 2
}
